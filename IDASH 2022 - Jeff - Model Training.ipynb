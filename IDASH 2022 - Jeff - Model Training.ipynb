{
 "cells": [
  {
   "cell_type": "markdown",
   "id": "f2611520",
   "metadata": {},
   "source": [
    "# IDASH 2022 - Model Training - Unencrypted Data"
   ]
  },
  {
   "cell_type": "markdown",
   "id": "333094fc",
   "metadata": {},
   "source": [
    "## Import packages and define local functions"
   ]
  },
  {
   "cell_type": "code",
   "execution_count": 1,
   "id": "4474961e",
   "metadata": {},
   "outputs": [],
   "source": [
    "import numpy as np\n",
    "import os\n",
    "import pandas as pd\n",
    "\n",
    "import matplotlib.pyplot as plt\n",
    "\n",
    "%matplotlib inline"
   ]
  },
  {
   "cell_type": "markdown",
   "id": "428edb39",
   "metadata": {},
   "source": [
    "## Load Data"
   ]
  },
  {
   "cell_type": "code",
   "execution_count": 2,
   "id": "a3ff4b24",
   "metadata": {},
   "outputs": [],
   "source": [
    "# Get current working directory\n",
    "cwd = os.getcwd()"
   ]
  },
  {
   "cell_type": "markdown",
   "id": "b9086c04",
   "metadata": {},
   "source": [
    "### Genotype data"
   ]
  },
  {
   "cell_type": "code",
   "execution_count": 3,
   "id": "48e68736",
   "metadata": {},
   "outputs": [
    {
     "data": {
      "text/html": [
       "<div>\n",
       "<style scoped>\n",
       "    .dataframe tbody tr th:only-of-type {\n",
       "        vertical-align: middle;\n",
       "    }\n",
       "\n",
       "    .dataframe tbody tr th {\n",
       "        vertical-align: top;\n",
       "    }\n",
       "\n",
       "    .dataframe thead th {\n",
       "        text-align: right;\n",
       "    }\n",
       "</style>\n",
       "<table border=\"1\" class=\"dataframe\">\n",
       "  <thead>\n",
       "    <tr style=\"text-align: right;\">\n",
       "      <th></th>\n",
       "      <th>0</th>\n",
       "      <th>1</th>\n",
       "      <th>2</th>\n",
       "      <th>3</th>\n",
       "      <th>4</th>\n",
       "      <th>5</th>\n",
       "      <th>6</th>\n",
       "      <th>7</th>\n",
       "      <th>8</th>\n",
       "      <th>9</th>\n",
       "      <th>...</th>\n",
       "      <th>2994</th>\n",
       "      <th>2995</th>\n",
       "      <th>2996</th>\n",
       "      <th>2997</th>\n",
       "      <th>2998</th>\n",
       "      <th>2999</th>\n",
       "      <th>3000</th>\n",
       "      <th>3001</th>\n",
       "      <th>3002</th>\n",
       "      <th>3003</th>\n",
       "    </tr>\n",
       "  </thead>\n",
       "  <tbody>\n",
       "    <tr>\n",
       "      <th>0</th>\n",
       "      <td>1</td>\n",
       "      <td>91514</td>\n",
       "      <td>91515</td>\n",
       "      <td>rs376723915_A_C_0.426717</td>\n",
       "      <td>0</td>\n",
       "      <td>1</td>\n",
       "      <td>0</td>\n",
       "      <td>2</td>\n",
       "      <td>0</td>\n",
       "      <td>0</td>\n",
       "      <td>...</td>\n",
       "      <td>0</td>\n",
       "      <td>1</td>\n",
       "      <td>1</td>\n",
       "      <td>0</td>\n",
       "      <td>2</td>\n",
       "      <td>2</td>\n",
       "      <td>1</td>\n",
       "      <td>2</td>\n",
       "      <td>0</td>\n",
       "      <td>1</td>\n",
       "    </tr>\n",
       "    <tr>\n",
       "      <th>1</th>\n",
       "      <td>1</td>\n",
       "      <td>546801</td>\n",
       "      <td>546802</td>\n",
       "      <td>rs113633859_G_C_0.323283</td>\n",
       "      <td>0</td>\n",
       "      <td>0</td>\n",
       "      <td>0</td>\n",
       "      <td>0</td>\n",
       "      <td>2</td>\n",
       "      <td>0</td>\n",
       "      <td>...</td>\n",
       "      <td>1</td>\n",
       "      <td>1</td>\n",
       "      <td>0</td>\n",
       "      <td>1</td>\n",
       "      <td>2</td>\n",
       "      <td>0</td>\n",
       "      <td>0</td>\n",
       "      <td>0</td>\n",
       "      <td>0</td>\n",
       "      <td>1</td>\n",
       "    </tr>\n",
       "    <tr>\n",
       "      <th>2</th>\n",
       "      <td>1</td>\n",
       "      <td>568708</td>\n",
       "      <td>568709</td>\n",
       "      <td>rs148329687_A_G_0.189497</td>\n",
       "      <td>1</td>\n",
       "      <td>0</td>\n",
       "      <td>2</td>\n",
       "      <td>0</td>\n",
       "      <td>0</td>\n",
       "      <td>0</td>\n",
       "      <td>...</td>\n",
       "      <td>0</td>\n",
       "      <td>1</td>\n",
       "      <td>0</td>\n",
       "      <td>1</td>\n",
       "      <td>0</td>\n",
       "      <td>0</td>\n",
       "      <td>0</td>\n",
       "      <td>0</td>\n",
       "      <td>0</td>\n",
       "      <td>0</td>\n",
       "    </tr>\n",
       "    <tr>\n",
       "      <th>3</th>\n",
       "      <td>1</td>\n",
       "      <td>714018</td>\n",
       "      <td>714019</td>\n",
       "      <td>rs114983708_A_G_0.138379</td>\n",
       "      <td>0</td>\n",
       "      <td>0</td>\n",
       "      <td>1</td>\n",
       "      <td>0</td>\n",
       "      <td>0</td>\n",
       "      <td>1</td>\n",
       "      <td>...</td>\n",
       "      <td>0</td>\n",
       "      <td>0</td>\n",
       "      <td>0</td>\n",
       "      <td>1</td>\n",
       "      <td>0</td>\n",
       "      <td>0</td>\n",
       "      <td>0</td>\n",
       "      <td>0</td>\n",
       "      <td>0</td>\n",
       "      <td>0</td>\n",
       "    </tr>\n",
       "    <tr>\n",
       "      <th>4</th>\n",
       "      <td>1</td>\n",
       "      <td>743020</td>\n",
       "      <td>743021</td>\n",
       "      <td>rs3964475_T_C_0.107428</td>\n",
       "      <td>0</td>\n",
       "      <td>0</td>\n",
       "      <td>0</td>\n",
       "      <td>1</td>\n",
       "      <td>0</td>\n",
       "      <td>0</td>\n",
       "      <td>...</td>\n",
       "      <td>0</td>\n",
       "      <td>0</td>\n",
       "      <td>0</td>\n",
       "      <td>0</td>\n",
       "      <td>0</td>\n",
       "      <td>1</td>\n",
       "      <td>0</td>\n",
       "      <td>0</td>\n",
       "      <td>0</td>\n",
       "      <td>0</td>\n",
       "    </tr>\n",
       "  </tbody>\n",
       "</table>\n",
       "<p>5 rows × 3004 columns</p>\n",
       "</div>"
      ],
      "text/plain": [
       "   0       1       2                         3     4     5     6     7     \\\n",
       "0     1   91514   91515  rs376723915_A_C_0.426717     0     1     0     2   \n",
       "1     1  546801  546802  rs113633859_G_C_0.323283     0     0     0     0   \n",
       "2     1  568708  568709  rs148329687_A_G_0.189497     1     0     2     0   \n",
       "3     1  714018  714019  rs114983708_A_G_0.138379     0     0     1     0   \n",
       "4     1  743020  743021    rs3964475_T_C_0.107428     0     0     0     1   \n",
       "\n",
       "   8     9     ...  2994  2995  2996  2997  2998  2999  3000  3001  3002  3003  \n",
       "0     0     0  ...     0     1     1     0     2     2     1     2     0     1  \n",
       "1     2     0  ...     1     1     0     1     2     0     0     0     0     1  \n",
       "2     0     0  ...     0     1     0     1     0     0     0     0     0     0  \n",
       "3     0     1  ...     0     0     0     1     0     0     0     0     0     0  \n",
       "4     0     0  ...     0     0     0     0     0     1     0     0     0     0  \n",
       "\n",
       "[5 rows x 3004 columns]"
      ]
     },
     "execution_count": 3,
     "metadata": {},
     "output_type": "execute_result"
    }
   ],
   "source": [
    "genotype_df = (\n",
    "    pd.read_csv(os.path.join(cwd, \"CHALLENGE_DATA\", \"genotypes.txt.gz\"),\n",
    "                header=None,\n",
    "                delimiter=\"\\t\")\n",
    ")\n",
    "\n",
    "genotype_df.head()"
   ]
  },
  {
   "cell_type": "code",
   "execution_count": 4,
   "id": "aba321d6",
   "metadata": {},
   "outputs": [
    {
     "data": {
      "text/plain": [
       "(20390, 3004)"
      ]
     },
     "execution_count": 4,
     "metadata": {},
     "output_type": "execute_result"
    }
   ],
   "source": [
    "genotype_df.shape"
   ]
  },
  {
   "cell_type": "markdown",
   "id": "ce38ea24",
   "metadata": {},
   "source": [
    "### Phenotype data"
   ]
  },
  {
   "cell_type": "code",
   "execution_count": 5,
   "id": "df23c0e0",
   "metadata": {},
   "outputs": [
    {
     "data": {
      "text/html": [
       "<div>\n",
       "<style scoped>\n",
       "    .dataframe tbody tr th:only-of-type {\n",
       "        vertical-align: middle;\n",
       "    }\n",
       "\n",
       "    .dataframe tbody tr th {\n",
       "        vertical-align: top;\n",
       "    }\n",
       "\n",
       "    .dataframe thead th {\n",
       "        text-align: right;\n",
       "    }\n",
       "</style>\n",
       "<table border=\"1\" class=\"dataframe\">\n",
       "  <thead>\n",
       "    <tr style=\"text-align: right;\">\n",
       "      <th></th>\n",
       "      <th>id</th>\n",
       "      <th>phenotype_1</th>\n",
       "      <th>phenotype_2</th>\n",
       "      <th>phenotype_3</th>\n",
       "      <th>phenotype_4</th>\n",
       "      <th>phenotype_5</th>\n",
       "    </tr>\n",
       "  </thead>\n",
       "  <tbody>\n",
       "    <tr>\n",
       "      <th>0</th>\n",
       "      <td>4a4bb6530b53abe6fa331dc672aba6bb10cab470</td>\n",
       "      <td>-0.043713</td>\n",
       "      <td>0.038958</td>\n",
       "      <td>0.063996</td>\n",
       "      <td>1</td>\n",
       "      <td>1</td>\n",
       "    </tr>\n",
       "    <tr>\n",
       "      <th>1</th>\n",
       "      <td>763b70205b1dae15e84f14279072a54fa06e6f49</td>\n",
       "      <td>-0.177478</td>\n",
       "      <td>0.186247</td>\n",
       "      <td>0.437471</td>\n",
       "      <td>1</td>\n",
       "      <td>0</td>\n",
       "    </tr>\n",
       "    <tr>\n",
       "      <th>2</th>\n",
       "      <td>01c7487875a212d335951ccdc3977229dcfc0eb2</td>\n",
       "      <td>-0.065992</td>\n",
       "      <td>-0.305971</td>\n",
       "      <td>0.314094</td>\n",
       "      <td>1</td>\n",
       "      <td>0</td>\n",
       "    </tr>\n",
       "    <tr>\n",
       "      <th>3</th>\n",
       "      <td>ccbc468dbcb1a6a7fa12092eae590d4fd60c6dbe</td>\n",
       "      <td>-0.071819</td>\n",
       "      <td>-0.159683</td>\n",
       "      <td>0.569707</td>\n",
       "      <td>0</td>\n",
       "      <td>1</td>\n",
       "    </tr>\n",
       "    <tr>\n",
       "      <th>4</th>\n",
       "      <td>0f9f7366c87e9f155e0d26bad3fbab3735d70590</td>\n",
       "      <td>0.035178</td>\n",
       "      <td>-0.312284</td>\n",
       "      <td>0.116783</td>\n",
       "      <td>1</td>\n",
       "      <td>0</td>\n",
       "    </tr>\n",
       "  </tbody>\n",
       "</table>\n",
       "</div>"
      ],
      "text/plain": [
       "                                         id  phenotype_1  phenotype_2  \\\n",
       "0  4a4bb6530b53abe6fa331dc672aba6bb10cab470    -0.043713     0.038958   \n",
       "1  763b70205b1dae15e84f14279072a54fa06e6f49    -0.177478     0.186247   \n",
       "2  01c7487875a212d335951ccdc3977229dcfc0eb2    -0.065992    -0.305971   \n",
       "3  ccbc468dbcb1a6a7fa12092eae590d4fd60c6dbe    -0.071819    -0.159683   \n",
       "4  0f9f7366c87e9f155e0d26bad3fbab3735d70590     0.035178    -0.312284   \n",
       "\n",
       "   phenotype_3  phenotype_4  phenotype_5  \n",
       "0     0.063996            1            1  \n",
       "1     0.437471            1            0  \n",
       "2     0.314094            1            0  \n",
       "3     0.569707            0            1  \n",
       "4     0.116783            1            0  "
      ]
     },
     "execution_count": 5,
     "metadata": {},
     "output_type": "execute_result"
    }
   ],
   "source": [
    "phenotype_datasets_ct = 5\n",
    "\n",
    "for i in range(phenotype_datasets_ct):\n",
    "    exec(f\"phenotype_{i+1}_df = pd.read_fwf(os.path.join(cwd, 'CHALLENGE_DATA', 'phenotypes_{i+1}.txt'), header=None, columns=['id','phenotype_{i+1}'])\")\n",
    "    exec(f\"phenotype_{i+1}_df.set_axis(['id', 'phenotype_{i+1}'], axis='columns', inplace=True)\")\n",
    "    \n",
    "    if i == 0:\n",
    "        all_phenotype_df = phenotype_1_df\n",
    "    else:\n",
    "        exec(f\"all_phenotype_df = all_phenotype_df.merge(phenotype_{i+1}_df, on='id')\")\n",
    "        \n",
    "all_phenotype_df.head()"
   ]
  },
  {
   "cell_type": "code",
   "execution_count": 6,
   "id": "53442545",
   "metadata": {},
   "outputs": [
    {
     "data": {
      "text/plain": [
       "(3000, 6)"
      ]
     },
     "execution_count": 6,
     "metadata": {},
     "output_type": "execute_result"
    }
   ],
   "source": [
    "all_phenotype_df.shape"
   ]
  },
  {
   "cell_type": "markdown",
   "id": "1edad7c6",
   "metadata": {},
   "source": [
    "### Sample IDs"
   ]
  },
  {
   "cell_type": "code",
   "execution_count": 7,
   "id": "0bc7c3e6",
   "metadata": {},
   "outputs": [
    {
     "data": {
      "text/html": [
       "<div>\n",
       "<style scoped>\n",
       "    .dataframe tbody tr th:only-of-type {\n",
       "        vertical-align: middle;\n",
       "    }\n",
       "\n",
       "    .dataframe tbody tr th {\n",
       "        vertical-align: top;\n",
       "    }\n",
       "\n",
       "    .dataframe thead th {\n",
       "        text-align: right;\n",
       "    }\n",
       "</style>\n",
       "<table border=\"1\" class=\"dataframe\">\n",
       "  <thead>\n",
       "    <tr style=\"text-align: right;\">\n",
       "      <th></th>\n",
       "      <th>id</th>\n",
       "    </tr>\n",
       "  </thead>\n",
       "  <tbody>\n",
       "    <tr>\n",
       "      <th>0</th>\n",
       "      <td>d8e4f50989cf4f4142627b2e01dde505eafe0cad</td>\n",
       "    </tr>\n",
       "    <tr>\n",
       "      <th>1</th>\n",
       "      <td>4d784bfc402f201b78efb2404ed7c8b9ebf2126a</td>\n",
       "    </tr>\n",
       "    <tr>\n",
       "      <th>2</th>\n",
       "      <td>81b832a049175854a6054c729e403e43bfb11bc6</td>\n",
       "    </tr>\n",
       "    <tr>\n",
       "      <th>3</th>\n",
       "      <td>f5edd61883f0e8b42a7cc77757419b4161c4aa9a</td>\n",
       "    </tr>\n",
       "    <tr>\n",
       "      <th>4</th>\n",
       "      <td>ccf1a224f9e5e3c4780dac429691b56593b723b3</td>\n",
       "    </tr>\n",
       "  </tbody>\n",
       "</table>\n",
       "</div>"
      ],
      "text/plain": [
       "                                         id\n",
       "0  d8e4f50989cf4f4142627b2e01dde505eafe0cad\n",
       "1  4d784bfc402f201b78efb2404ed7c8b9ebf2126a\n",
       "2  81b832a049175854a6054c729e403e43bfb11bc6\n",
       "3  f5edd61883f0e8b42a7cc77757419b4161c4aa9a\n",
       "4  ccf1a224f9e5e3c4780dac429691b56593b723b3"
      ]
     },
     "execution_count": 7,
     "metadata": {},
     "output_type": "execute_result"
    }
   ],
   "source": [
    "sample_id_df = (\n",
    "    pd.read_csv(os.path.join(cwd, \"CHALLENGE_DATA\", \"genotype_sample_ids.list\"),\n",
    "                header=None)\n",
    ")\n",
    "\n",
    "sample_id_df.columns = [\"id\"]\n",
    "\n",
    "sample_id_df.head()"
   ]
  },
  {
   "cell_type": "code",
   "execution_count": 8,
   "id": "56526d7b",
   "metadata": {},
   "outputs": [
    {
     "data": {
      "text/plain": [
       "(3000, 1)"
      ]
     },
     "execution_count": 8,
     "metadata": {},
     "output_type": "execute_result"
    }
   ],
   "source": [
    "sample_id_df.shape"
   ]
  },
  {
   "cell_type": "code",
   "execution_count": 9,
   "id": "304d78eb",
   "metadata": {},
   "outputs": [
    {
     "data": {
      "text/plain": [
       "['d8e4f50989cf4f4142627b2e01dde505eafe0cad',\n",
       " '4d784bfc402f201b78efb2404ed7c8b9ebf2126a',\n",
       " '81b832a049175854a6054c729e403e43bfb11bc6',\n",
       " 'f5edd61883f0e8b42a7cc77757419b4161c4aa9a',\n",
       " 'ccf1a224f9e5e3c4780dac429691b56593b723b3',\n",
       " '40b14a5b660779d63984fdbbb4d6f46adff61e2d',\n",
       " 'ec7a2a6acf842f4d8d35025c01596ca8f38840e8',\n",
       " '6f743b93744fd311ac6e8c0695ca8f4d427ec8b2',\n",
       " '6bf77562da2f6d0a0be7c1f89fa62c6ba89ddf3d',\n",
       " '8d74d186c4d476288158289e449f759d3d4d27bc']"
      ]
     },
     "execution_count": 9,
     "metadata": {},
     "output_type": "execute_result"
    }
   ],
   "source": [
    "sample_id_list = list(sample_id_df[\"id\"])\n",
    "sample_id_list[:10]"
   ]
  },
  {
   "cell_type": "markdown",
   "id": "af24420f",
   "metadata": {},
   "source": [
    "## Prepare data"
   ]
  },
  {
   "cell_type": "code",
   "execution_count": 10,
   "id": "edf0dc2f",
   "metadata": {},
   "outputs": [
    {
     "name": "stdout",
     "output_type": "stream",
     "text": [
      "(3000, 20396)\n"
     ]
    },
    {
     "data": {
      "text/html": [
       "<div>\n",
       "<style scoped>\n",
       "    .dataframe tbody tr th:only-of-type {\n",
       "        vertical-align: middle;\n",
       "    }\n",
       "\n",
       "    .dataframe tbody tr th {\n",
       "        vertical-align: top;\n",
       "    }\n",
       "\n",
       "    .dataframe thead th {\n",
       "        text-align: right;\n",
       "    }\n",
       "</style>\n",
       "<table border=\"1\" class=\"dataframe\">\n",
       "  <thead>\n",
       "    <tr style=\"text-align: right;\">\n",
       "      <th></th>\n",
       "      <th>id</th>\n",
       "      <th>0</th>\n",
       "      <th>1</th>\n",
       "      <th>2</th>\n",
       "      <th>3</th>\n",
       "      <th>4</th>\n",
       "      <th>5</th>\n",
       "      <th>6</th>\n",
       "      <th>7</th>\n",
       "      <th>8</th>\n",
       "      <th>...</th>\n",
       "      <th>20385</th>\n",
       "      <th>20386</th>\n",
       "      <th>20387</th>\n",
       "      <th>20388</th>\n",
       "      <th>20389</th>\n",
       "      <th>phenotype_1</th>\n",
       "      <th>phenotype_2</th>\n",
       "      <th>phenotype_3</th>\n",
       "      <th>phenotype_4</th>\n",
       "      <th>phenotype_5</th>\n",
       "    </tr>\n",
       "  </thead>\n",
       "  <tbody>\n",
       "    <tr>\n",
       "      <th>0</th>\n",
       "      <td>d8e4f50989cf4f4142627b2e01dde505eafe0cad</td>\n",
       "      <td>0</td>\n",
       "      <td>0</td>\n",
       "      <td>1</td>\n",
       "      <td>0</td>\n",
       "      <td>0</td>\n",
       "      <td>2</td>\n",
       "      <td>0</td>\n",
       "      <td>0</td>\n",
       "      <td>1</td>\n",
       "      <td>...</td>\n",
       "      <td>0</td>\n",
       "      <td>1</td>\n",
       "      <td>1</td>\n",
       "      <td>1</td>\n",
       "      <td>2</td>\n",
       "      <td>0.023975</td>\n",
       "      <td>0.277299</td>\n",
       "      <td>-0.775620</td>\n",
       "      <td>1</td>\n",
       "      <td>0</td>\n",
       "    </tr>\n",
       "    <tr>\n",
       "      <th>1</th>\n",
       "      <td>4d784bfc402f201b78efb2404ed7c8b9ebf2126a</td>\n",
       "      <td>1</td>\n",
       "      <td>0</td>\n",
       "      <td>0</td>\n",
       "      <td>0</td>\n",
       "      <td>0</td>\n",
       "      <td>0</td>\n",
       "      <td>2</td>\n",
       "      <td>0</td>\n",
       "      <td>0</td>\n",
       "      <td>...</td>\n",
       "      <td>0</td>\n",
       "      <td>0</td>\n",
       "      <td>0</td>\n",
       "      <td>0</td>\n",
       "      <td>0</td>\n",
       "      <td>-0.091981</td>\n",
       "      <td>-0.051629</td>\n",
       "      <td>-0.564953</td>\n",
       "      <td>1</td>\n",
       "      <td>0</td>\n",
       "    </tr>\n",
       "    <tr>\n",
       "      <th>2</th>\n",
       "      <td>81b832a049175854a6054c729e403e43bfb11bc6</td>\n",
       "      <td>0</td>\n",
       "      <td>0</td>\n",
       "      <td>2</td>\n",
       "      <td>1</td>\n",
       "      <td>0</td>\n",
       "      <td>1</td>\n",
       "      <td>1</td>\n",
       "      <td>0</td>\n",
       "      <td>0</td>\n",
       "      <td>...</td>\n",
       "      <td>0</td>\n",
       "      <td>2</td>\n",
       "      <td>1</td>\n",
       "      <td>2</td>\n",
       "      <td>1</td>\n",
       "      <td>-0.058663</td>\n",
       "      <td>-0.184121</td>\n",
       "      <td>-0.724430</td>\n",
       "      <td>1</td>\n",
       "      <td>0</td>\n",
       "    </tr>\n",
       "    <tr>\n",
       "      <th>3</th>\n",
       "      <td>f5edd61883f0e8b42a7cc77757419b4161c4aa9a</td>\n",
       "      <td>2</td>\n",
       "      <td>0</td>\n",
       "      <td>0</td>\n",
       "      <td>0</td>\n",
       "      <td>1</td>\n",
       "      <td>0</td>\n",
       "      <td>2</td>\n",
       "      <td>0</td>\n",
       "      <td>0</td>\n",
       "      <td>...</td>\n",
       "      <td>1</td>\n",
       "      <td>1</td>\n",
       "      <td>1</td>\n",
       "      <td>1</td>\n",
       "      <td>1</td>\n",
       "      <td>-0.007388</td>\n",
       "      <td>-0.220403</td>\n",
       "      <td>-0.176628</td>\n",
       "      <td>1</td>\n",
       "      <td>0</td>\n",
       "    </tr>\n",
       "    <tr>\n",
       "      <th>4</th>\n",
       "      <td>ccf1a224f9e5e3c4780dac429691b56593b723b3</td>\n",
       "      <td>0</td>\n",
       "      <td>2</td>\n",
       "      <td>0</td>\n",
       "      <td>0</td>\n",
       "      <td>0</td>\n",
       "      <td>0</td>\n",
       "      <td>2</td>\n",
       "      <td>0</td>\n",
       "      <td>0</td>\n",
       "      <td>...</td>\n",
       "      <td>0</td>\n",
       "      <td>1</td>\n",
       "      <td>1</td>\n",
       "      <td>1</td>\n",
       "      <td>1</td>\n",
       "      <td>-0.082941</td>\n",
       "      <td>-0.226222</td>\n",
       "      <td>-0.312832</td>\n",
       "      <td>0</td>\n",
       "      <td>0</td>\n",
       "    </tr>\n",
       "  </tbody>\n",
       "</table>\n",
       "<p>5 rows × 20396 columns</p>\n",
       "</div>"
      ],
      "text/plain": [
       "                                         id  0  1  2  3  4  5  6  7  8  ...  \\\n",
       "0  d8e4f50989cf4f4142627b2e01dde505eafe0cad  0  0  1  0  0  2  0  0  1  ...   \n",
       "1  4d784bfc402f201b78efb2404ed7c8b9ebf2126a  1  0  0  0  0  0  2  0  0  ...   \n",
       "2  81b832a049175854a6054c729e403e43bfb11bc6  0  0  2  1  0  1  1  0  0  ...   \n",
       "3  f5edd61883f0e8b42a7cc77757419b4161c4aa9a  2  0  0  0  1  0  2  0  0  ...   \n",
       "4  ccf1a224f9e5e3c4780dac429691b56593b723b3  0  2  0  0  0  0  2  0  0  ...   \n",
       "\n",
       "   20385  20386  20387  20388  20389  phenotype_1  phenotype_2  phenotype_3  \\\n",
       "0      0      1      1      1      2     0.023975     0.277299    -0.775620   \n",
       "1      0      0      0      0      0    -0.091981    -0.051629    -0.564953   \n",
       "2      0      2      1      2      1    -0.058663    -0.184121    -0.724430   \n",
       "3      1      1      1      1      1    -0.007388    -0.220403    -0.176628   \n",
       "4      0      1      1      1      1    -0.082941    -0.226222    -0.312832   \n",
       "\n",
       "   phenotype_4  phenotype_5  \n",
       "0            1            0  \n",
       "1            1            0  \n",
       "2            1            0  \n",
       "3            1            0  \n",
       "4            0            0  \n",
       "\n",
       "[5 rows x 20396 columns]"
      ]
     },
     "execution_count": 10,
     "metadata": {},
     "output_type": "execute_result"
    }
   ],
   "source": [
    "# Drop first 4 extraneous columns of the genotype dataframe\n",
    "res_genotype_df = genotype_df.iloc[: , 4:]\n",
    "res_genotype_df.head()\n",
    "\n",
    "# Transpose res_genotype_df\n",
    "res_genotype_df_T = res_genotype_df.T\n",
    "\n",
    "# Reset and drop index\n",
    "res_genotype_df_T.reset_index(inplace=True, drop=True)\n",
    "\n",
    "# Attach sample IDs\n",
    "sample_id_res_genotype_df_T = (\n",
    "    sample_id_df\n",
    "    .merge(res_genotype_df_T, left_index=True, right_index=True)\n",
    ")\n",
    "\n",
    "# Attach phenotypes\n",
    "phenotype_sample_id_res_genotype_df_T = (\n",
    "    sample_id_res_genotype_df_T\n",
    "    .merge(all_phenotype_df, on=\"id\", how=\"inner\")\n",
    ")\n",
    "\n",
    "# Define final dataset\n",
    "geno_pheno_df = phenotype_sample_id_res_genotype_df_T\n",
    "print(geno_pheno_df.shape)\n",
    "geno_pheno_df.head()"
   ]
  },
  {
   "cell_type": "markdown",
   "id": "a32c9e07",
   "metadata": {},
   "source": [
    "## Modeling Experiments\n",
    "\n",
    "Competition entries will be judged on Normalized RMSE."
   ]
  },
  {
   "cell_type": "code",
   "execution_count": 11,
   "id": "459ad64d",
   "metadata": {},
   "outputs": [],
   "source": [
    "from sklearn.model_selection import train_test_split\n",
    "from sklearn import metrics\n",
    "from sklearn.metrics import auc, classification_report, confusion_matrix, roc_auc_score"
   ]
  },
  {
   "cell_type": "code",
   "execution_count": 26,
   "id": "efc96321",
   "metadata": {},
   "outputs": [],
   "source": [
    "def getModelResults(actuals, predictions):\n",
    "    \"\"\"\n",
    "    This function returns and displays the model results.\n",
    "    \n",
    "    Args:\n",
    "        actuals        (pandas dataframe): A single column of the actual values\n",
    "        predictions            (np array): A model's prediction values\n",
    "    \n",
    "    Returns:\n",
    "        model_rmse                (float): The model's rmse on the test set\n",
    "        fig\n",
    "        ax\n",
    "    \"\"\"\n",
    "    # Compute the model_rmse\n",
    "    model_mse = metrics.mean_squared_error(actuals, predictions)\n",
    "    model_rmse = np.round(np.sqrt(model_mse), 6)\n",
    "    \n",
    "    # Build a plot\n",
    "    fig, ax = plt.subplots()\n",
    "    ax.scatter(actuals, predictions)\n",
    "    ax.set_title(\"Model results\")\n",
    "    ax.set_xlabel(\"Actuals\")\n",
    "    ax.set_ylabel(\"Predictions\")\n",
    "    \n",
    "    return model_rmse, fig, ax"
   ]
  },
  {
   "cell_type": "code",
   "execution_count": 46,
   "id": "5a264875",
   "metadata": {},
   "outputs": [],
   "source": [
    "def getBinaryModelResults(actuals, predictions):\n",
    "    \"\"\"\n",
    "    This function returns and displays the binary classifier model results.\n",
    "    \n",
    "    Args:\n",
    "        actuals        (pandas dataframe): A single column of the actual values\n",
    "        predictions            (np array): A model's prediction values\n",
    "    \n",
    "    Returns:\n",
    "        model_auc                (float): The model's roc_auc_score on the test set\n",
    "        model_roc_auc_score\n",
    "        model_classification_report\n",
    "        model_confusion_matrix\n",
    "        \n",
    "    \"\"\"\n",
    "    # Compute the model performance metrics\n",
    "    model_auc = metrics.auc(actuals, predictions)\n",
    "    model_roc_auc_score = metrics.roc_auc_score(actuals, predictions)\n",
    "    model_classification_report = metrics.classification_report(actuals, predictions)\n",
    "    model_confusion_matrix = metrics.confusion_matrix(actuals, predictions)\n",
    "    \n",
    "    return model_auc, model_roc_auc_score, model_classification_report, model_confusion_matrix"
   ]
  },
  {
   "cell_type": "code",
   "execution_count": 16,
   "id": "2db9c975",
   "metadata": {},
   "outputs": [
    {
     "data": {
      "text/html": [
       "<div>\n",
       "<style scoped>\n",
       "    .dataframe tbody tr th:only-of-type {\n",
       "        vertical-align: middle;\n",
       "    }\n",
       "\n",
       "    .dataframe tbody tr th {\n",
       "        vertical-align: top;\n",
       "    }\n",
       "\n",
       "    .dataframe thead th {\n",
       "        text-align: right;\n",
       "    }\n",
       "</style>\n",
       "<table border=\"1\" class=\"dataframe\">\n",
       "  <thead>\n",
       "    <tr style=\"text-align: right;\">\n",
       "      <th></th>\n",
       "      <th>0</th>\n",
       "      <th>1</th>\n",
       "      <th>2</th>\n",
       "      <th>3</th>\n",
       "      <th>4</th>\n",
       "      <th>5</th>\n",
       "      <th>6</th>\n",
       "      <th>7</th>\n",
       "      <th>8</th>\n",
       "      <th>9</th>\n",
       "      <th>...</th>\n",
       "      <th>20380</th>\n",
       "      <th>20381</th>\n",
       "      <th>20382</th>\n",
       "      <th>20383</th>\n",
       "      <th>20384</th>\n",
       "      <th>20385</th>\n",
       "      <th>20386</th>\n",
       "      <th>20387</th>\n",
       "      <th>20388</th>\n",
       "      <th>20389</th>\n",
       "    </tr>\n",
       "  </thead>\n",
       "  <tbody>\n",
       "    <tr>\n",
       "      <th>0</th>\n",
       "      <td>0</td>\n",
       "      <td>0</td>\n",
       "      <td>1</td>\n",
       "      <td>0</td>\n",
       "      <td>0</td>\n",
       "      <td>2</td>\n",
       "      <td>0</td>\n",
       "      <td>0</td>\n",
       "      <td>1</td>\n",
       "      <td>0</td>\n",
       "      <td>...</td>\n",
       "      <td>0</td>\n",
       "      <td>1</td>\n",
       "      <td>1</td>\n",
       "      <td>1</td>\n",
       "      <td>0</td>\n",
       "      <td>0</td>\n",
       "      <td>1</td>\n",
       "      <td>1</td>\n",
       "      <td>1</td>\n",
       "      <td>2</td>\n",
       "    </tr>\n",
       "    <tr>\n",
       "      <th>1</th>\n",
       "      <td>1</td>\n",
       "      <td>0</td>\n",
       "      <td>0</td>\n",
       "      <td>0</td>\n",
       "      <td>0</td>\n",
       "      <td>0</td>\n",
       "      <td>2</td>\n",
       "      <td>0</td>\n",
       "      <td>0</td>\n",
       "      <td>0</td>\n",
       "      <td>...</td>\n",
       "      <td>0</td>\n",
       "      <td>0</td>\n",
       "      <td>0</td>\n",
       "      <td>0</td>\n",
       "      <td>0</td>\n",
       "      <td>0</td>\n",
       "      <td>0</td>\n",
       "      <td>0</td>\n",
       "      <td>0</td>\n",
       "      <td>0</td>\n",
       "    </tr>\n",
       "    <tr>\n",
       "      <th>2</th>\n",
       "      <td>0</td>\n",
       "      <td>0</td>\n",
       "      <td>2</td>\n",
       "      <td>1</td>\n",
       "      <td>0</td>\n",
       "      <td>1</td>\n",
       "      <td>1</td>\n",
       "      <td>0</td>\n",
       "      <td>0</td>\n",
       "      <td>0</td>\n",
       "      <td>...</td>\n",
       "      <td>0</td>\n",
       "      <td>2</td>\n",
       "      <td>2</td>\n",
       "      <td>1</td>\n",
       "      <td>0</td>\n",
       "      <td>0</td>\n",
       "      <td>2</td>\n",
       "      <td>1</td>\n",
       "      <td>2</td>\n",
       "      <td>1</td>\n",
       "    </tr>\n",
       "    <tr>\n",
       "      <th>3</th>\n",
       "      <td>2</td>\n",
       "      <td>0</td>\n",
       "      <td>0</td>\n",
       "      <td>0</td>\n",
       "      <td>1</td>\n",
       "      <td>0</td>\n",
       "      <td>2</td>\n",
       "      <td>0</td>\n",
       "      <td>0</td>\n",
       "      <td>0</td>\n",
       "      <td>...</td>\n",
       "      <td>1</td>\n",
       "      <td>1</td>\n",
       "      <td>1</td>\n",
       "      <td>1</td>\n",
       "      <td>1</td>\n",
       "      <td>1</td>\n",
       "      <td>1</td>\n",
       "      <td>1</td>\n",
       "      <td>1</td>\n",
       "      <td>1</td>\n",
       "    </tr>\n",
       "    <tr>\n",
       "      <th>4</th>\n",
       "      <td>0</td>\n",
       "      <td>2</td>\n",
       "      <td>0</td>\n",
       "      <td>0</td>\n",
       "      <td>0</td>\n",
       "      <td>0</td>\n",
       "      <td>2</td>\n",
       "      <td>0</td>\n",
       "      <td>0</td>\n",
       "      <td>1</td>\n",
       "      <td>...</td>\n",
       "      <td>1</td>\n",
       "      <td>1</td>\n",
       "      <td>1</td>\n",
       "      <td>1</td>\n",
       "      <td>0</td>\n",
       "      <td>0</td>\n",
       "      <td>1</td>\n",
       "      <td>1</td>\n",
       "      <td>1</td>\n",
       "      <td>1</td>\n",
       "    </tr>\n",
       "  </tbody>\n",
       "</table>\n",
       "<p>5 rows × 20390 columns</p>\n",
       "</div>"
      ],
      "text/plain": [
       "   0      1      2      3      4      5      6      7      8      9      ...  \\\n",
       "0      0      0      1      0      0      2      0      0      1      0  ...   \n",
       "1      1      0      0      0      0      0      2      0      0      0  ...   \n",
       "2      0      0      2      1      0      1      1      0      0      0  ...   \n",
       "3      2      0      0      0      1      0      2      0      0      0  ...   \n",
       "4      0      2      0      0      0      0      2      0      0      1  ...   \n",
       "\n",
       "   20380  20381  20382  20383  20384  20385  20386  20387  20388  20389  \n",
       "0      0      1      1      1      0      0      1      1      1      2  \n",
       "1      0      0      0      0      0      0      0      0      0      0  \n",
       "2      0      2      2      1      0      0      2      1      2      1  \n",
       "3      1      1      1      1      1      1      1      1      1      1  \n",
       "4      1      1      1      1      0      0      1      1      1      1  \n",
       "\n",
       "[5 rows x 20390 columns]"
      ]
     },
     "execution_count": 16,
     "metadata": {},
     "output_type": "execute_result"
    }
   ],
   "source": [
    "# Set targets\n",
    "y = geno_pheno_df[[f\"phenotype_{i+1}\" for i in range(5)]]\n",
    "y1 = geno_pheno_df[[\"phenotype_1\"]]\n",
    "y2 = geno_pheno_df[[\"phenotype_2\"]]\n",
    "y3 = geno_pheno_df[[\"phenotype_3\"]]\n",
    "y4 = geno_pheno_df[[\"phenotype_4\"]]\n",
    "y5 = geno_pheno_df[[\"phenotype_5\"]]\n",
    "\n",
    "# Set features\n",
    "X = geno_pheno_df.iloc[:, 1:-5]\n",
    "\n",
    "X.head()"
   ]
  },
  {
   "cell_type": "code",
   "execution_count": 17,
   "id": "d7ed4de6",
   "metadata": {},
   "outputs": [
    {
     "data": {
      "text/html": [
       "<div>\n",
       "<style scoped>\n",
       "    .dataframe tbody tr th:only-of-type {\n",
       "        vertical-align: middle;\n",
       "    }\n",
       "\n",
       "    .dataframe tbody tr th {\n",
       "        vertical-align: top;\n",
       "    }\n",
       "\n",
       "    .dataframe thead th {\n",
       "        text-align: right;\n",
       "    }\n",
       "</style>\n",
       "<table border=\"1\" class=\"dataframe\">\n",
       "  <thead>\n",
       "    <tr style=\"text-align: right;\">\n",
       "      <th></th>\n",
       "      <th>phenotype_1</th>\n",
       "      <th>phenotype_2</th>\n",
       "      <th>phenotype_3</th>\n",
       "      <th>phenotype_4</th>\n",
       "      <th>phenotype_5</th>\n",
       "    </tr>\n",
       "  </thead>\n",
       "  <tbody>\n",
       "    <tr>\n",
       "      <th>0</th>\n",
       "      <td>0.023975</td>\n",
       "      <td>0.277299</td>\n",
       "      <td>-0.775620</td>\n",
       "      <td>1</td>\n",
       "      <td>0</td>\n",
       "    </tr>\n",
       "    <tr>\n",
       "      <th>1</th>\n",
       "      <td>-0.091981</td>\n",
       "      <td>-0.051629</td>\n",
       "      <td>-0.564953</td>\n",
       "      <td>1</td>\n",
       "      <td>0</td>\n",
       "    </tr>\n",
       "    <tr>\n",
       "      <th>2</th>\n",
       "      <td>-0.058663</td>\n",
       "      <td>-0.184121</td>\n",
       "      <td>-0.724430</td>\n",
       "      <td>1</td>\n",
       "      <td>0</td>\n",
       "    </tr>\n",
       "    <tr>\n",
       "      <th>3</th>\n",
       "      <td>-0.007388</td>\n",
       "      <td>-0.220403</td>\n",
       "      <td>-0.176628</td>\n",
       "      <td>1</td>\n",
       "      <td>0</td>\n",
       "    </tr>\n",
       "    <tr>\n",
       "      <th>4</th>\n",
       "      <td>-0.082941</td>\n",
       "      <td>-0.226222</td>\n",
       "      <td>-0.312832</td>\n",
       "      <td>0</td>\n",
       "      <td>0</td>\n",
       "    </tr>\n",
       "  </tbody>\n",
       "</table>\n",
       "</div>"
      ],
      "text/plain": [
       "   phenotype_1  phenotype_2  phenotype_3  phenotype_4  phenotype_5\n",
       "0     0.023975     0.277299    -0.775620            1            0\n",
       "1    -0.091981    -0.051629    -0.564953            1            0\n",
       "2    -0.058663    -0.184121    -0.724430            1            0\n",
       "3    -0.007388    -0.220403    -0.176628            1            0\n",
       "4    -0.082941    -0.226222    -0.312832            0            0"
      ]
     },
     "execution_count": 17,
     "metadata": {},
     "output_type": "execute_result"
    }
   ],
   "source": [
    "y.head()"
   ]
  },
  {
   "cell_type": "code",
   "execution_count": 18,
   "id": "c915da0b",
   "metadata": {},
   "outputs": [
    {
     "data": {
      "text/html": [
       "<div>\n",
       "<style scoped>\n",
       "    .dataframe tbody tr th:only-of-type {\n",
       "        vertical-align: middle;\n",
       "    }\n",
       "\n",
       "    .dataframe tbody tr th {\n",
       "        vertical-align: top;\n",
       "    }\n",
       "\n",
       "    .dataframe thead th {\n",
       "        text-align: right;\n",
       "    }\n",
       "</style>\n",
       "<table border=\"1\" class=\"dataframe\">\n",
       "  <thead>\n",
       "    <tr style=\"text-align: right;\">\n",
       "      <th></th>\n",
       "      <th>phenotype_2</th>\n",
       "    </tr>\n",
       "  </thead>\n",
       "  <tbody>\n",
       "    <tr>\n",
       "      <th>0</th>\n",
       "      <td>0.277299</td>\n",
       "    </tr>\n",
       "    <tr>\n",
       "      <th>1</th>\n",
       "      <td>-0.051629</td>\n",
       "    </tr>\n",
       "    <tr>\n",
       "      <th>2</th>\n",
       "      <td>-0.184121</td>\n",
       "    </tr>\n",
       "    <tr>\n",
       "      <th>3</th>\n",
       "      <td>-0.220403</td>\n",
       "    </tr>\n",
       "    <tr>\n",
       "      <th>4</th>\n",
       "      <td>-0.226222</td>\n",
       "    </tr>\n",
       "  </tbody>\n",
       "</table>\n",
       "</div>"
      ],
      "text/plain": [
       "   phenotype_2\n",
       "0     0.277299\n",
       "1    -0.051629\n",
       "2    -0.184121\n",
       "3    -0.220403\n",
       "4    -0.226222"
      ]
     },
     "execution_count": 18,
     "metadata": {},
     "output_type": "execute_result"
    }
   ],
   "source": [
    "y2.head()"
   ]
  },
  {
   "cell_type": "code",
   "execution_count": 38,
   "id": "4d3b6324",
   "metadata": {},
   "outputs": [
    {
     "data": {
      "text/plain": [
       "phenotype_4\n",
       "0    1145\n",
       "1    1855\n",
       "Name: phenotype_4, dtype: int64"
      ]
     },
     "execution_count": 38,
     "metadata": {},
     "output_type": "execute_result"
    }
   ],
   "source": [
    "y4.groupby([\"phenotype_4\"])[\"phenotype_4\"].count()"
   ]
  },
  {
   "cell_type": "code",
   "execution_count": 40,
   "id": "84684d62",
   "metadata": {},
   "outputs": [
    {
     "data": {
      "text/plain": [
       "phenotype_5\n",
       "0    1451\n",
       "1    1549\n",
       "Name: phenotype_5, dtype: int64"
      ]
     },
     "execution_count": 40,
     "metadata": {},
     "output_type": "execute_result"
    }
   ],
   "source": [
    "y5.groupby([\"phenotype_5\"])[\"phenotype_5\"].count()"
   ]
  },
  {
   "cell_type": "markdown",
   "id": "5e0d8b8b",
   "metadata": {},
   "source": [
    "### Train-Test split"
   ]
  },
  {
   "cell_type": "code",
   "execution_count": 22,
   "id": "f04fa8c7",
   "metadata": {},
   "outputs": [],
   "source": [
    "# Train-Test Split\n",
    "X_train, X_test, y_train, y_test = (\n",
    "    train_test_split(X, y, test_size=0.3, random_state=42)\n",
    ")\n",
    "\n",
    "# Phenotype_i train sets\n",
    "y1_train = y_train[[\"phenotype_1\"]]\n",
    "y2_train = y_train[[\"phenotype_2\"]]\n",
    "y3_train = y_train[[\"phenotype_3\"]]\n",
    "y4_train = y_train[[\"phenotype_4\"]]\n",
    "y5_train = y_train[[\"phenotype_5\"]]\n",
    "\n",
    "# Phenotype_i test sets\n",
    "y1_test = y_test[[\"phenotype_1\"]]\n",
    "y2_test = y_test[[\"phenotype_2\"]]\n",
    "y3_test = y_test[[\"phenotype_3\"]]\n",
    "y4_test = y_test[[\"phenotype_4\"]]\n",
    "y5_test = y_test[[\"phenotype_5\"]]"
   ]
  },
  {
   "cell_type": "markdown",
   "id": "6dc4a88c",
   "metadata": {},
   "source": [
    "### Linear Regression"
   ]
  },
  {
   "cell_type": "code",
   "execution_count": 23,
   "id": "2488a40f",
   "metadata": {},
   "outputs": [],
   "source": [
    "from sklearn.linear_model import LinearRegression"
   ]
  },
  {
   "cell_type": "code",
   "execution_count": 42,
   "id": "c79e3f4b",
   "metadata": {},
   "outputs": [
    {
     "name": "stdout",
     "output_type": "stream",
     "text": [
      "Modeling for Phenotype 1...\n",
      "RMSE: 0.058407\n",
      "========================================\n",
      "Modeling for Phenotype 2...\n"
     ]
    },
    {
     "name": "stderr",
     "output_type": "stream",
     "text": [
      "<string>:1: UserWarning: Matplotlib is currently using module://matplotlib_inline.backend_inline, which is a non-GUI backend, so cannot show the figure.\n"
     ]
    },
    {
     "name": "stdout",
     "output_type": "stream",
     "text": [
      "RMSE: 0.208897\n",
      "========================================\n",
      "Modeling for Phenotype 3...\n"
     ]
    },
    {
     "name": "stderr",
     "output_type": "stream",
     "text": [
      "<string>:1: UserWarning: Matplotlib is currently using module://matplotlib_inline.backend_inline, which is a non-GUI backend, so cannot show the figure.\n"
     ]
    },
    {
     "name": "stdout",
     "output_type": "stream",
     "text": [
      "RMSE: 0.34498\n",
      "========================================\n"
     ]
    },
    {
     "name": "stderr",
     "output_type": "stream",
     "text": [
      "<string>:1: UserWarning: Matplotlib is currently using module://matplotlib_inline.backend_inline, which is a non-GUI backend, so cannot show the figure.\n"
     ]
    },
    {
     "data": {
      "image/png": "[encoded data removed]",
      "text/plain": [
       "<Figure size 432x288 with 1 Axes>"
      ]
     },
     "metadata": {
      "needs_background": "light"
     },
     "output_type": "display_data"
    },
    {
     "data": {
      "image/png": "[encoded data removed]",
      "text/plain": [
       "<Figure size 432x288 with 1 Axes>"
      ]
     },
     "metadata": {
      "needs_background": "light"
     },
     "output_type": "display_data"
    },
    {
     "data": {
      "image/png": "[encoded data removed]",
      "text/plain": [
       "<Figure size 432x288 with 1 Axes>"
      ]
     },
     "metadata": {
      "needs_background": "light"
     },
     "output_type": "display_data"
    }
   ],
   "source": [
    "# Initialize dictionary to track scores\n",
    "linreg_rmse_dict = dict()\n",
    "\n",
    "# Initialize and fit LinearRegression models to non-binary phenotypes\n",
    "for i in range(3):\n",
    "    print(f\"Modeling for Phenotype {i+1}...\")\n",
    "    exec(f\"linreg{i+1} = LinearRegression()\")\n",
    "    exec(f\"linreg{i+1}.fit(X_train, y{i+1}_train)\")\n",
    "    exec(f\"linreg_predictions{i+1} = linreg{i+1}.predict(X_test)\")\n",
    "    exec(f\"linreg{i+1}_rmse, linreg{i+1}_fig, linreg{i+1}_ax = getModelResults(y{i+1}_test, linreg_predictions{i+1})\")\n",
    "    exec(f\"print('RMSE:', linreg{i+1}_rmse)\")\n",
    "#     exec(f\"linreg_rmse_dict.update(\\{'phenotype_{i+1}': linreg{i+1}_rmse)\\})\")\n",
    "    exec(f\"linreg{i+1}_fig.show()\")\n",
    "    print(\"=\"*40)"
   ]
  },
  {
   "cell_type": "markdown",
   "id": "4f6eace5",
   "metadata": {},
   "source": [
    "### Linear model with Lasso"
   ]
  },
  {
   "cell_type": "code",
   "execution_count": 28,
   "id": "65bb4775",
   "metadata": {},
   "outputs": [],
   "source": [
    "from sklearn.linear_model import Lasso"
   ]
  },
  {
   "cell_type": "code",
   "execution_count": 43,
   "id": "855e13c4",
   "metadata": {},
   "outputs": [
    {
     "name": "stdout",
     "output_type": "stream",
     "text": [
      "Modeling for Phenotype 1...\n"
     ]
    },
    {
     "name": "stderr",
     "output_type": "stream",
     "text": [
      "/Users/jeff/opt/anaconda3/lib/python3.9/site-packages/sklearn/linear_model/_coordinate_descent.py:530: ConvergenceWarning: Objective did not converge. You might want to increase the number of iterations. Duality gap: 0.002796659701315068, tolerance: 0.0012437721913110596\n",
      "  model = cd_fast.enet_coordinate_descent(\n",
      "<string>:1: UserWarning: Matplotlib is currently using module://matplotlib_inline.backend_inline, which is a non-GUI backend, so cannot show the figure.\n"
     ]
    },
    {
     "name": "stdout",
     "output_type": "stream",
     "text": [
      "RMSE: 0.028004\n",
      "========================================\n",
      "Modeling for Phenotype 2...\n"
     ]
    },
    {
     "name": "stderr",
     "output_type": "stream",
     "text": [
      "/Users/jeff/opt/anaconda3/lib/python3.9/site-packages/sklearn/linear_model/_coordinate_descent.py:530: ConvergenceWarning: Objective did not converge. You might want to increase the number of iterations. Duality gap: 0.011617845618590243, tolerance: 0.011004620011599386\n",
      "  model = cd_fast.enet_coordinate_descent(\n",
      "<string>:1: UserWarning: Matplotlib is currently using module://matplotlib_inline.backend_inline, which is a non-GUI backend, so cannot show the figure.\n"
     ]
    },
    {
     "name": "stdout",
     "output_type": "stream",
     "text": [
      "RMSE: 0.061102\n",
      "========================================\n",
      "Modeling for Phenotype 3...\n",
      "RMSE: 0.139028\n",
      "========================================\n"
     ]
    },
    {
     "name": "stderr",
     "output_type": "stream",
     "text": [
      "<string>:1: UserWarning: Matplotlib is currently using module://matplotlib_inline.backend_inline, which is a non-GUI backend, so cannot show the figure.\n"
     ]
    },
    {
     "data": {
      "image/png": "[encoded data removed]",
      "text/plain": [
       "<Figure size 432x288 with 1 Axes>"
      ]
     },
     "metadata": {
      "needs_background": "light"
     },
     "output_type": "display_data"
    },
    {
     "data": {
      "image/png": "[encoded data removed]",
      "text/plain": [
       "<Figure size 432x288 with 1 Axes>"
      ]
     },
     "metadata": {
      "needs_background": "light"
     },
     "output_type": "display_data"
    },
    {
     "data": {
      "image/png": "[encoded data removed]",
      "text/plain": [
       "<Figure size 432x288 with 1 Axes>"
      ]
     },
     "metadata": {
      "needs_background": "light"
     },
     "output_type": "display_data"
    }
   ],
   "source": [
    "# Initialize dictionary to track scores\n",
    "lasso_rmse_dict = dict()\n",
    "\n",
    "# Initialize and fit Linear models with Lasso to non-binary phenotypes\n",
    "for i in range(3):\n",
    "    print(f\"Modeling for Phenotype {i+1}...\")\n",
    "    exec(f\"lasso_model{i+1} = Lasso(alpha=.000002, max_iter=5000)\")\n",
    "    exec(f\"lasso_model{i+1}.fit(X_train, y{i+1}_train)\")\n",
    "    exec(f\"lasso_model_predictions{i+1} = lasso_model{i+1}.predict(X_test)\")\n",
    "    exec(f\"lasso_model{i+1}_rmse, lasso_model{i+1}_fig, lasso_model{i+1}_ax = getModelResults(y{i+1}_test, lasso_model_predictions{i+1})\")\n",
    "    exec(f\"print('RMSE:', lasso_model{i+1}_rmse)\")\n",
    "#     exec(f\"lasso_rmse_dict.update(\\{'phenotype_{i+1}': lasso_model{i+1}_rmse\\})\")\n",
    "    exec(f\"lasso_model{i+1}_fig.show()\")\n",
    "    print(\"=\"*40)"
   ]
  },
  {
   "cell_type": "markdown",
   "id": "32159e63",
   "metadata": {},
   "source": [
    "### Random Forest"
   ]
  },
  {
   "cell_type": "code",
   "execution_count": 50,
   "id": "0ee2cc8f",
   "metadata": {},
   "outputs": [],
   "source": [
    "from sklearn.ensemble import RandomForestRegressor"
   ]
  },
  {
   "cell_type": "code",
   "execution_count": 55,
   "id": "c64fd1b1",
   "metadata": {},
   "outputs": [
    {
     "name": "stdout",
     "output_type": "stream",
     "text": [
      "Modeling for Phenotype 1...\n"
     ]
    },
    {
     "ename": "KeyboardInterrupt",
     "evalue": "",
     "output_type": "error",
     "traceback": [
      "\u001b[0;31m---------------------------------------------------------------------------\u001b[0m",
      "\u001b[0;31mKeyboardInterrupt\u001b[0m                         Traceback (most recent call last)",
      "\u001b[0;32m/var/folders/cj/xh0__rwn6ll2wjsjrfg11y_w0000gn/T/ipykernel_27622/3834844965.py\u001b[0m in \u001b[0;36m<module>\u001b[0;34m\u001b[0m\n\u001b[1;32m      6\u001b[0m     \u001b[0mprint\u001b[0m\u001b[0;34m(\u001b[0m\u001b[0;34mf\"Modeling for Phenotype {i+1}...\"\u001b[0m\u001b[0;34m)\u001b[0m\u001b[0;34m\u001b[0m\u001b[0;34m\u001b[0m\u001b[0m\n\u001b[1;32m      7\u001b[0m     \u001b[0mexec\u001b[0m\u001b[0;34m(\u001b[0m\u001b[0;34mf\"randomforest{i+1} = RandomForestRegressor()\"\u001b[0m\u001b[0;34m)\u001b[0m\u001b[0;34m\u001b[0m\u001b[0;34m\u001b[0m\u001b[0m\n\u001b[0;32m----> 8\u001b[0;31m     \u001b[0mexec\u001b[0m\u001b[0;34m(\u001b[0m\u001b[0;34mf\"randomforest{i+1}.fit(X_train, y{i+1}_train['phenotype_{i+1}'])\"\u001b[0m\u001b[0;34m)\u001b[0m\u001b[0;34m\u001b[0m\u001b[0;34m\u001b[0m\u001b[0m\n\u001b[0m\u001b[1;32m      9\u001b[0m     \u001b[0mexec\u001b[0m\u001b[0;34m(\u001b[0m\u001b[0;34mf\"randomforest_predictions{i+1} = randomforest{i+1}.predict(X_test)\"\u001b[0m\u001b[0;34m)\u001b[0m\u001b[0;34m\u001b[0m\u001b[0;34m\u001b[0m\u001b[0m\n\u001b[1;32m     10\u001b[0m     \u001b[0mexec\u001b[0m\u001b[0;34m(\u001b[0m\u001b[0;34mf\"randomforest{i+1}_rmse, randomforest{i+1}_fig, randomforest{i+1}_ax = getModelResults(y{i+1}_test, randomforest_predictions{i+1})\"\u001b[0m\u001b[0;34m)\u001b[0m\u001b[0;34m\u001b[0m\u001b[0;34m\u001b[0m\u001b[0m\n",
      "\u001b[0;32m<string>\u001b[0m in \u001b[0;36m<module>\u001b[0;34m\u001b[0m\n",
      "\u001b[0;32m~/opt/anaconda3/lib/python3.9/site-packages/sklearn/ensemble/_forest.py\u001b[0m in \u001b[0;36mfit\u001b[0;34m(self, X, y, sample_weight)\u001b[0m\n\u001b[1;32m    385\u001b[0m             \u001b[0;31m# parallel_backend contexts set at a higher level,\u001b[0m\u001b[0;34m\u001b[0m\u001b[0;34m\u001b[0m\u001b[0m\n\u001b[1;32m    386\u001b[0m             \u001b[0;31m# since correctness does not rely on using threads.\u001b[0m\u001b[0;34m\u001b[0m\u001b[0;34m\u001b[0m\u001b[0m\n\u001b[0;32m--> 387\u001b[0;31m             trees = Parallel(n_jobs=self.n_jobs, verbose=self.verbose,\n\u001b[0m\u001b[1;32m    388\u001b[0m                              \u001b[0;34m**\u001b[0m\u001b[0m_joblib_parallel_args\u001b[0m\u001b[0;34m(\u001b[0m\u001b[0mprefer\u001b[0m\u001b[0;34m=\u001b[0m\u001b[0;34m'threads'\u001b[0m\u001b[0;34m)\u001b[0m\u001b[0;34m)\u001b[0m\u001b[0;34m(\u001b[0m\u001b[0;34m\u001b[0m\u001b[0;34m\u001b[0m\u001b[0m\n\u001b[1;32m    389\u001b[0m                 delayed(_parallel_build_trees)(\n",
      "\u001b[0;32m~/opt/anaconda3/lib/python3.9/site-packages/joblib/parallel.py\u001b[0m in \u001b[0;36m__call__\u001b[0;34m(self, iterable)\u001b[0m\n\u001b[1;32m   1044\u001b[0m                 \u001b[0mself\u001b[0m\u001b[0;34m.\u001b[0m\u001b[0m_iterating\u001b[0m \u001b[0;34m=\u001b[0m \u001b[0mself\u001b[0m\u001b[0;34m.\u001b[0m\u001b[0m_original_iterator\u001b[0m \u001b[0;32mis\u001b[0m \u001b[0;32mnot\u001b[0m \u001b[0;32mNone\u001b[0m\u001b[0;34m\u001b[0m\u001b[0;34m\u001b[0m\u001b[0m\n\u001b[1;32m   1045\u001b[0m \u001b[0;34m\u001b[0m\u001b[0m\n\u001b[0;32m-> 1046\u001b[0;31m             \u001b[0;32mwhile\u001b[0m \u001b[0mself\u001b[0m\u001b[0;34m.\u001b[0m\u001b[0mdispatch_one_batch\u001b[0m\u001b[0;34m(\u001b[0m\u001b[0miterator\u001b[0m\u001b[0;34m)\u001b[0m\u001b[0;34m:\u001b[0m\u001b[0;34m\u001b[0m\u001b[0;34m\u001b[0m\u001b[0m\n\u001b[0m\u001b[1;32m   1047\u001b[0m                 \u001b[0;32mpass\u001b[0m\u001b[0;34m\u001b[0m\u001b[0;34m\u001b[0m\u001b[0m\n\u001b[1;32m   1048\u001b[0m \u001b[0;34m\u001b[0m\u001b[0m\n",
      "\u001b[0;32m~/opt/anaconda3/lib/python3.9/site-packages/joblib/parallel.py\u001b[0m in \u001b[0;36mdispatch_one_batch\u001b[0;34m(self, iterator)\u001b[0m\n\u001b[1;32m    859\u001b[0m                 \u001b[0;32mreturn\u001b[0m \u001b[0;32mFalse\u001b[0m\u001b[0;34m\u001b[0m\u001b[0;34m\u001b[0m\u001b[0m\n\u001b[1;32m    860\u001b[0m             \u001b[0;32melse\u001b[0m\u001b[0;34m:\u001b[0m\u001b[0;34m\u001b[0m\u001b[0;34m\u001b[0m\u001b[0m\n\u001b[0;32m--> 861\u001b[0;31m                 \u001b[0mself\u001b[0m\u001b[0;34m.\u001b[0m\u001b[0m_dispatch\u001b[0m\u001b[0;34m(\u001b[0m\u001b[0mtasks\u001b[0m\u001b[0;34m)\u001b[0m\u001b[0;34m\u001b[0m\u001b[0;34m\u001b[0m\u001b[0m\n\u001b[0m\u001b[1;32m    862\u001b[0m                 \u001b[0;32mreturn\u001b[0m \u001b[0;32mTrue\u001b[0m\u001b[0;34m\u001b[0m\u001b[0;34m\u001b[0m\u001b[0m\n\u001b[1;32m    863\u001b[0m \u001b[0;34m\u001b[0m\u001b[0m\n",
      "\u001b[0;32m~/opt/anaconda3/lib/python3.9/site-packages/joblib/parallel.py\u001b[0m in \u001b[0;36m_dispatch\u001b[0;34m(self, batch)\u001b[0m\n\u001b[1;32m    777\u001b[0m         \u001b[0;32mwith\u001b[0m \u001b[0mself\u001b[0m\u001b[0;34m.\u001b[0m\u001b[0m_lock\u001b[0m\u001b[0;34m:\u001b[0m\u001b[0;34m\u001b[0m\u001b[0;34m\u001b[0m\u001b[0m\n\u001b[1;32m    778\u001b[0m             \u001b[0mjob_idx\u001b[0m \u001b[0;34m=\u001b[0m \u001b[0mlen\u001b[0m\u001b[0;34m(\u001b[0m\u001b[0mself\u001b[0m\u001b[0;34m.\u001b[0m\u001b[0m_jobs\u001b[0m\u001b[0;34m)\u001b[0m\u001b[0;34m\u001b[0m\u001b[0;34m\u001b[0m\u001b[0m\n\u001b[0;32m--> 779\u001b[0;31m             \u001b[0mjob\u001b[0m \u001b[0;34m=\u001b[0m \u001b[0mself\u001b[0m\u001b[0;34m.\u001b[0m\u001b[0m_backend\u001b[0m\u001b[0;34m.\u001b[0m\u001b[0mapply_async\u001b[0m\u001b[0;34m(\u001b[0m\u001b[0mbatch\u001b[0m\u001b[0;34m,\u001b[0m \u001b[0mcallback\u001b[0m\u001b[0;34m=\u001b[0m\u001b[0mcb\u001b[0m\u001b[0;34m)\u001b[0m\u001b[0;34m\u001b[0m\u001b[0;34m\u001b[0m\u001b[0m\n\u001b[0m\u001b[1;32m    780\u001b[0m             \u001b[0;31m# A job can complete so quickly than its callback is\u001b[0m\u001b[0;34m\u001b[0m\u001b[0;34m\u001b[0m\u001b[0m\n\u001b[1;32m    781\u001b[0m             \u001b[0;31m# called before we get here, causing self._jobs to\u001b[0m\u001b[0;34m\u001b[0m\u001b[0;34m\u001b[0m\u001b[0m\n",
      "\u001b[0;32m~/opt/anaconda3/lib/python3.9/site-packages/joblib/_parallel_backends.py\u001b[0m in \u001b[0;36mapply_async\u001b[0;34m(self, func, callback)\u001b[0m\n\u001b[1;32m    206\u001b[0m     \u001b[0;32mdef\u001b[0m \u001b[0mapply_async\u001b[0m\u001b[0;34m(\u001b[0m\u001b[0mself\u001b[0m\u001b[0;34m,\u001b[0m \u001b[0mfunc\u001b[0m\u001b[0;34m,\u001b[0m \u001b[0mcallback\u001b[0m\u001b[0;34m=\u001b[0m\u001b[0;32mNone\u001b[0m\u001b[0;34m)\u001b[0m\u001b[0;34m:\u001b[0m\u001b[0;34m\u001b[0m\u001b[0;34m\u001b[0m\u001b[0m\n\u001b[1;32m    207\u001b[0m         \u001b[0;34m\"\"\"Schedule a func to be run\"\"\"\u001b[0m\u001b[0;34m\u001b[0m\u001b[0;34m\u001b[0m\u001b[0m\n\u001b[0;32m--> 208\u001b[0;31m         \u001b[0mresult\u001b[0m \u001b[0;34m=\u001b[0m \u001b[0mImmediateResult\u001b[0m\u001b[0;34m(\u001b[0m\u001b[0mfunc\u001b[0m\u001b[0;34m)\u001b[0m\u001b[0;34m\u001b[0m\u001b[0;34m\u001b[0m\u001b[0m\n\u001b[0m\u001b[1;32m    209\u001b[0m         \u001b[0;32mif\u001b[0m \u001b[0mcallback\u001b[0m\u001b[0;34m:\u001b[0m\u001b[0;34m\u001b[0m\u001b[0;34m\u001b[0m\u001b[0m\n\u001b[1;32m    210\u001b[0m             \u001b[0mcallback\u001b[0m\u001b[0;34m(\u001b[0m\u001b[0mresult\u001b[0m\u001b[0;34m)\u001b[0m\u001b[0;34m\u001b[0m\u001b[0;34m\u001b[0m\u001b[0m\n",
      "\u001b[0;32m~/opt/anaconda3/lib/python3.9/site-packages/joblib/_parallel_backends.py\u001b[0m in \u001b[0;36m__init__\u001b[0;34m(self, batch)\u001b[0m\n\u001b[1;32m    570\u001b[0m         \u001b[0;31m# Don't delay the application, to avoid keeping the input\u001b[0m\u001b[0;34m\u001b[0m\u001b[0;34m\u001b[0m\u001b[0m\n\u001b[1;32m    571\u001b[0m         \u001b[0;31m# arguments in memory\u001b[0m\u001b[0;34m\u001b[0m\u001b[0;34m\u001b[0m\u001b[0m\n\u001b[0;32m--> 572\u001b[0;31m         \u001b[0mself\u001b[0m\u001b[0;34m.\u001b[0m\u001b[0mresults\u001b[0m \u001b[0;34m=\u001b[0m \u001b[0mbatch\u001b[0m\u001b[0;34m(\u001b[0m\u001b[0;34m)\u001b[0m\u001b[0;34m\u001b[0m\u001b[0;34m\u001b[0m\u001b[0m\n\u001b[0m\u001b[1;32m    573\u001b[0m \u001b[0;34m\u001b[0m\u001b[0m\n\u001b[1;32m    574\u001b[0m     \u001b[0;32mdef\u001b[0m \u001b[0mget\u001b[0m\u001b[0;34m(\u001b[0m\u001b[0mself\u001b[0m\u001b[0;34m)\u001b[0m\u001b[0;34m:\u001b[0m\u001b[0;34m\u001b[0m\u001b[0;34m\u001b[0m\u001b[0m\n",
      "\u001b[0;32m~/opt/anaconda3/lib/python3.9/site-packages/joblib/parallel.py\u001b[0m in \u001b[0;36m__call__\u001b[0;34m(self)\u001b[0m\n\u001b[1;32m    260\u001b[0m         \u001b[0;31m# change the default number of processes to -1\u001b[0m\u001b[0;34m\u001b[0m\u001b[0;34m\u001b[0m\u001b[0m\n\u001b[1;32m    261\u001b[0m         \u001b[0;32mwith\u001b[0m \u001b[0mparallel_backend\u001b[0m\u001b[0;34m(\u001b[0m\u001b[0mself\u001b[0m\u001b[0;34m.\u001b[0m\u001b[0m_backend\u001b[0m\u001b[0;34m,\u001b[0m \u001b[0mn_jobs\u001b[0m\u001b[0;34m=\u001b[0m\u001b[0mself\u001b[0m\u001b[0;34m.\u001b[0m\u001b[0m_n_jobs\u001b[0m\u001b[0;34m)\u001b[0m\u001b[0;34m:\u001b[0m\u001b[0;34m\u001b[0m\u001b[0;34m\u001b[0m\u001b[0m\n\u001b[0;32m--> 262\u001b[0;31m             return [func(*args, **kwargs)\n\u001b[0m\u001b[1;32m    263\u001b[0m                     for func, args, kwargs in self.items]\n\u001b[1;32m    264\u001b[0m \u001b[0;34m\u001b[0m\u001b[0m\n",
      "\u001b[0;32m~/opt/anaconda3/lib/python3.9/site-packages/joblib/parallel.py\u001b[0m in \u001b[0;36m<listcomp>\u001b[0;34m(.0)\u001b[0m\n\u001b[1;32m    260\u001b[0m         \u001b[0;31m# change the default number of processes to -1\u001b[0m\u001b[0;34m\u001b[0m\u001b[0;34m\u001b[0m\u001b[0m\n\u001b[1;32m    261\u001b[0m         \u001b[0;32mwith\u001b[0m \u001b[0mparallel_backend\u001b[0m\u001b[0;34m(\u001b[0m\u001b[0mself\u001b[0m\u001b[0;34m.\u001b[0m\u001b[0m_backend\u001b[0m\u001b[0;34m,\u001b[0m \u001b[0mn_jobs\u001b[0m\u001b[0;34m=\u001b[0m\u001b[0mself\u001b[0m\u001b[0;34m.\u001b[0m\u001b[0m_n_jobs\u001b[0m\u001b[0;34m)\u001b[0m\u001b[0;34m:\u001b[0m\u001b[0;34m\u001b[0m\u001b[0;34m\u001b[0m\u001b[0m\n\u001b[0;32m--> 262\u001b[0;31m             return [func(*args, **kwargs)\n\u001b[0m\u001b[1;32m    263\u001b[0m                     for func, args, kwargs in self.items]\n\u001b[1;32m    264\u001b[0m \u001b[0;34m\u001b[0m\u001b[0m\n",
      "\u001b[0;32m~/opt/anaconda3/lib/python3.9/site-packages/sklearn/utils/fixes.py\u001b[0m in \u001b[0;36m__call__\u001b[0;34m(self, *args, **kwargs)\u001b[0m\n\u001b[1;32m    220\u001b[0m     \u001b[0;32mdef\u001b[0m \u001b[0m__call__\u001b[0m\u001b[0;34m(\u001b[0m\u001b[0mself\u001b[0m\u001b[0;34m,\u001b[0m \u001b[0;34m*\u001b[0m\u001b[0margs\u001b[0m\u001b[0;34m,\u001b[0m \u001b[0;34m**\u001b[0m\u001b[0mkwargs\u001b[0m\u001b[0;34m)\u001b[0m\u001b[0;34m:\u001b[0m\u001b[0;34m\u001b[0m\u001b[0;34m\u001b[0m\u001b[0m\n\u001b[1;32m    221\u001b[0m         \u001b[0;32mwith\u001b[0m \u001b[0mconfig_context\u001b[0m\u001b[0;34m(\u001b[0m\u001b[0;34m**\u001b[0m\u001b[0mself\u001b[0m\u001b[0;34m.\u001b[0m\u001b[0mconfig\u001b[0m\u001b[0;34m)\u001b[0m\u001b[0;34m:\u001b[0m\u001b[0;34m\u001b[0m\u001b[0;34m\u001b[0m\u001b[0m\n\u001b[0;32m--> 222\u001b[0;31m             \u001b[0;32mreturn\u001b[0m \u001b[0mself\u001b[0m\u001b[0;34m.\u001b[0m\u001b[0mfunction\u001b[0m\u001b[0;34m(\u001b[0m\u001b[0;34m*\u001b[0m\u001b[0margs\u001b[0m\u001b[0;34m,\u001b[0m \u001b[0;34m**\u001b[0m\u001b[0mkwargs\u001b[0m\u001b[0;34m)\u001b[0m\u001b[0;34m\u001b[0m\u001b[0;34m\u001b[0m\u001b[0m\n\u001b[0m",
      "\u001b[0;32m~/opt/anaconda3/lib/python3.9/site-packages/sklearn/ensemble/_forest.py\u001b[0m in \u001b[0;36m_parallel_build_trees\u001b[0;34m(tree, forest, X, y, sample_weight, tree_idx, n_trees, verbose, class_weight, n_samples_bootstrap)\u001b[0m\n\u001b[1;32m    167\u001b[0m                                                         indices=indices)\n\u001b[1;32m    168\u001b[0m \u001b[0;34m\u001b[0m\u001b[0m\n\u001b[0;32m--> 169\u001b[0;31m         \u001b[0mtree\u001b[0m\u001b[0;34m.\u001b[0m\u001b[0mfit\u001b[0m\u001b[0;34m(\u001b[0m\u001b[0mX\u001b[0m\u001b[0;34m,\u001b[0m \u001b[0my\u001b[0m\u001b[0;34m,\u001b[0m \u001b[0msample_weight\u001b[0m\u001b[0;34m=\u001b[0m\u001b[0mcurr_sample_weight\u001b[0m\u001b[0;34m,\u001b[0m \u001b[0mcheck_input\u001b[0m\u001b[0;34m=\u001b[0m\u001b[0;32mFalse\u001b[0m\u001b[0;34m)\u001b[0m\u001b[0;34m\u001b[0m\u001b[0;34m\u001b[0m\u001b[0m\n\u001b[0m\u001b[1;32m    170\u001b[0m     \u001b[0;32melse\u001b[0m\u001b[0;34m:\u001b[0m\u001b[0;34m\u001b[0m\u001b[0;34m\u001b[0m\u001b[0m\n\u001b[1;32m    171\u001b[0m         \u001b[0mtree\u001b[0m\u001b[0;34m.\u001b[0m\u001b[0mfit\u001b[0m\u001b[0;34m(\u001b[0m\u001b[0mX\u001b[0m\u001b[0;34m,\u001b[0m \u001b[0my\u001b[0m\u001b[0;34m,\u001b[0m \u001b[0msample_weight\u001b[0m\u001b[0;34m=\u001b[0m\u001b[0msample_weight\u001b[0m\u001b[0;34m,\u001b[0m \u001b[0mcheck_input\u001b[0m\u001b[0;34m=\u001b[0m\u001b[0;32mFalse\u001b[0m\u001b[0;34m)\u001b[0m\u001b[0;34m\u001b[0m\u001b[0;34m\u001b[0m\u001b[0m\n",
      "\u001b[0;32m~/opt/anaconda3/lib/python3.9/site-packages/sklearn/tree/_classes.py\u001b[0m in \u001b[0;36mfit\u001b[0;34m(self, X, y, sample_weight, check_input, X_idx_sorted)\u001b[0m\n\u001b[1;32m   1250\u001b[0m         \"\"\"\n\u001b[1;32m   1251\u001b[0m \u001b[0;34m\u001b[0m\u001b[0m\n\u001b[0;32m-> 1252\u001b[0;31m         super().fit(\n\u001b[0m\u001b[1;32m   1253\u001b[0m             \u001b[0mX\u001b[0m\u001b[0;34m,\u001b[0m \u001b[0my\u001b[0m\u001b[0;34m,\u001b[0m\u001b[0;34m\u001b[0m\u001b[0;34m\u001b[0m\u001b[0m\n\u001b[1;32m   1254\u001b[0m             \u001b[0msample_weight\u001b[0m\u001b[0;34m=\u001b[0m\u001b[0msample_weight\u001b[0m\u001b[0;34m,\u001b[0m\u001b[0;34m\u001b[0m\u001b[0;34m\u001b[0m\u001b[0m\n",
      "\u001b[0;32m~/opt/anaconda3/lib/python3.9/site-packages/sklearn/tree/_classes.py\u001b[0m in \u001b[0;36mfit\u001b[0;34m(self, X, y, sample_weight, check_input, X_idx_sorted)\u001b[0m\n\u001b[1;32m    392\u001b[0m                                            min_impurity_split)\n\u001b[1;32m    393\u001b[0m \u001b[0;34m\u001b[0m\u001b[0m\n\u001b[0;32m--> 394\u001b[0;31m         \u001b[0mbuilder\u001b[0m\u001b[0;34m.\u001b[0m\u001b[0mbuild\u001b[0m\u001b[0;34m(\u001b[0m\u001b[0mself\u001b[0m\u001b[0;34m.\u001b[0m\u001b[0mtree_\u001b[0m\u001b[0;34m,\u001b[0m \u001b[0mX\u001b[0m\u001b[0;34m,\u001b[0m \u001b[0my\u001b[0m\u001b[0;34m,\u001b[0m \u001b[0msample_weight\u001b[0m\u001b[0;34m)\u001b[0m\u001b[0;34m\u001b[0m\u001b[0;34m\u001b[0m\u001b[0m\n\u001b[0m\u001b[1;32m    395\u001b[0m \u001b[0;34m\u001b[0m\u001b[0m\n\u001b[1;32m    396\u001b[0m         \u001b[0;32mif\u001b[0m \u001b[0mself\u001b[0m\u001b[0;34m.\u001b[0m\u001b[0mn_outputs_\u001b[0m \u001b[0;34m==\u001b[0m \u001b[0;36m1\u001b[0m \u001b[0;32mand\u001b[0m \u001b[0mis_classifier\u001b[0m\u001b[0;34m(\u001b[0m\u001b[0mself\u001b[0m\u001b[0;34m)\u001b[0m\u001b[0;34m:\u001b[0m\u001b[0;34m\u001b[0m\u001b[0;34m\u001b[0m\u001b[0m\n",
      "\u001b[0;31mKeyboardInterrupt\u001b[0m: "
     ]
    }
   ],
   "source": [
    "# Initialize dictionary to track scores\n",
    "randomforest_rmse_dict = dict()\n",
    "\n",
    "# Initialize and fit RandomForest models to non-binary phenotypes\n",
    "for i in range(3):\n",
    "    print(f\"Modeling for Phenotype {i+1}...\")\n",
    "    exec(f\"randomforest{i+1} = RandomForestRegressor()\")\n",
    "    exec(f\"randomforest{i+1}.fit(X_train, y{i+1}_train['phenotype_{i+1}'])\")\n",
    "    exec(f\"randomforest_predictions{i+1} = randomforest{i+1}.predict(X_test)\")\n",
    "    exec(f\"randomforest{i+1}_rmse, randomforest{i+1}_fig, randomforest{i+1}_ax = getModelResults(y{i+1}_test, randomforest_predictions{i+1})\")\n",
    "    exec(f\"print('RMSE:', randomforest{i+1}_rmse)\")\n",
    "#     exec(f\"randomforest_rmse_dict.update(\\{'phenotype_{i+1}': randomforest{i+1}_rmse\\})\")\n",
    "    exec(f\"randomforest{i+1}_fig.show()\")\n",
    "    print(\"=\"*40)"
   ]
  },
  {
   "cell_type": "markdown",
   "id": "426d1956",
   "metadata": {},
   "source": [
    "### GradientBoosted Trees"
   ]
  },
  {
   "cell_type": "code",
   "execution_count": 56,
   "id": "0e740043",
   "metadata": {},
   "outputs": [],
   "source": [
    "from sklearn.ensemble import GradientBoostingRegressor"
   ]
  },
  {
   "cell_type": "code",
   "execution_count": 57,
   "id": "f5e233e2",
   "metadata": {},
   "outputs": [
    {
     "name": "stdout",
     "output_type": "stream",
     "text": [
      "Modeling for Phenotype 1...\n"
     ]
    },
    {
     "ename": "KeyboardInterrupt",
     "evalue": "",
     "output_type": "error",
     "traceback": [
      "\u001b[0;31m---------------------------------------------------------------------------\u001b[0m",
      "\u001b[0;31mKeyboardInterrupt\u001b[0m                         Traceback (most recent call last)",
      "\u001b[0;32m/var/folders/cj/xh0__rwn6ll2wjsjrfg11y_w0000gn/T/ipykernel_27622/2315712856.py\u001b[0m in \u001b[0;36m<module>\u001b[0;34m\u001b[0m\n\u001b[1;32m      6\u001b[0m     \u001b[0mprint\u001b[0m\u001b[0;34m(\u001b[0m\u001b[0;34mf\"Modeling for Phenotype {i+1}...\"\u001b[0m\u001b[0;34m)\u001b[0m\u001b[0;34m\u001b[0m\u001b[0;34m\u001b[0m\u001b[0m\n\u001b[1;32m      7\u001b[0m     \u001b[0mexec\u001b[0m\u001b[0;34m(\u001b[0m\u001b[0;34mf\"gradientboost{i+1} = GradientBoostingRegressor()\"\u001b[0m\u001b[0;34m)\u001b[0m\u001b[0;34m\u001b[0m\u001b[0;34m\u001b[0m\u001b[0m\n\u001b[0;32m----> 8\u001b[0;31m     \u001b[0mexec\u001b[0m\u001b[0;34m(\u001b[0m\u001b[0;34mf\"gradientboost{i+1}.fit(X_train, y{i+1}_train['phenotype_{i+1}'])\"\u001b[0m\u001b[0;34m)\u001b[0m\u001b[0;34m\u001b[0m\u001b[0;34m\u001b[0m\u001b[0m\n\u001b[0m\u001b[1;32m      9\u001b[0m     \u001b[0mexec\u001b[0m\u001b[0;34m(\u001b[0m\u001b[0;34mf\"gradientboost_predictions{i+1} = gradientboost{i+1}.predict(X_test)\"\u001b[0m\u001b[0;34m)\u001b[0m\u001b[0;34m\u001b[0m\u001b[0;34m\u001b[0m\u001b[0m\n\u001b[1;32m     10\u001b[0m     \u001b[0mexec\u001b[0m\u001b[0;34m(\u001b[0m\u001b[0;34mf\"gradientboost{i+1}_rmse, gradientboost{i+1}_fig, gradientboost{i+1}_ax = getModelResults(y{i+1}_test, gradientboost_predictions{i+1})\"\u001b[0m\u001b[0;34m)\u001b[0m\u001b[0;34m\u001b[0m\u001b[0;34m\u001b[0m\u001b[0m\n",
      "\u001b[0;32m<string>\u001b[0m in \u001b[0;36m<module>\u001b[0;34m\u001b[0m\n",
      "\u001b[0;32m~/opt/anaconda3/lib/python3.9/site-packages/sklearn/ensemble/_gb.py\u001b[0m in \u001b[0;36mfit\u001b[0;34m(self, X, y, sample_weight, monitor)\u001b[0m\n\u001b[1;32m    502\u001b[0m \u001b[0;34m\u001b[0m\u001b[0m\n\u001b[1;32m    503\u001b[0m         \u001b[0;31m# fit the boosting stages\u001b[0m\u001b[0;34m\u001b[0m\u001b[0;34m\u001b[0m\u001b[0m\n\u001b[0;32m--> 504\u001b[0;31m         n_stages = self._fit_stages(\n\u001b[0m\u001b[1;32m    505\u001b[0m             \u001b[0mX\u001b[0m\u001b[0;34m,\u001b[0m \u001b[0my\u001b[0m\u001b[0;34m,\u001b[0m \u001b[0mraw_predictions\u001b[0m\u001b[0;34m,\u001b[0m \u001b[0msample_weight\u001b[0m\u001b[0;34m,\u001b[0m \u001b[0mself\u001b[0m\u001b[0;34m.\u001b[0m\u001b[0m_rng\u001b[0m\u001b[0;34m,\u001b[0m \u001b[0mX_val\u001b[0m\u001b[0;34m,\u001b[0m \u001b[0my_val\u001b[0m\u001b[0;34m,\u001b[0m\u001b[0;34m\u001b[0m\u001b[0;34m\u001b[0m\u001b[0m\n\u001b[1;32m    506\u001b[0m             sample_weight_val, begin_at_stage, monitor)\n",
      "\u001b[0;32m~/opt/anaconda3/lib/python3.9/site-packages/sklearn/ensemble/_gb.py\u001b[0m in \u001b[0;36m_fit_stages\u001b[0;34m(self, X, y, raw_predictions, sample_weight, random_state, X_val, y_val, sample_weight_val, begin_at_stage, monitor)\u001b[0m\n\u001b[1;32m    559\u001b[0m \u001b[0;34m\u001b[0m\u001b[0m\n\u001b[1;32m    560\u001b[0m             \u001b[0;31m# fit next stage of trees\u001b[0m\u001b[0;34m\u001b[0m\u001b[0;34m\u001b[0m\u001b[0m\n\u001b[0;32m--> 561\u001b[0;31m             raw_predictions = self._fit_stage(\n\u001b[0m\u001b[1;32m    562\u001b[0m                 \u001b[0mi\u001b[0m\u001b[0;34m,\u001b[0m \u001b[0mX\u001b[0m\u001b[0;34m,\u001b[0m \u001b[0my\u001b[0m\u001b[0;34m,\u001b[0m \u001b[0mraw_predictions\u001b[0m\u001b[0;34m,\u001b[0m \u001b[0msample_weight\u001b[0m\u001b[0;34m,\u001b[0m \u001b[0msample_mask\u001b[0m\u001b[0;34m,\u001b[0m\u001b[0;34m\u001b[0m\u001b[0;34m\u001b[0m\u001b[0m\n\u001b[1;32m    563\u001b[0m                 random_state, X_csc, X_csr)\n",
      "\u001b[0;32m~/opt/anaconda3/lib/python3.9/site-packages/sklearn/ensemble/_gb.py\u001b[0m in \u001b[0;36m_fit_stage\u001b[0;34m(self, i, X, y, raw_predictions, sample_weight, sample_mask, random_state, X_csc, X_csr)\u001b[0m\n\u001b[1;32m    212\u001b[0m \u001b[0;34m\u001b[0m\u001b[0m\n\u001b[1;32m    213\u001b[0m             \u001b[0mX\u001b[0m \u001b[0;34m=\u001b[0m \u001b[0mX_csr\u001b[0m \u001b[0;32mif\u001b[0m \u001b[0mX_csr\u001b[0m \u001b[0;32mis\u001b[0m \u001b[0;32mnot\u001b[0m \u001b[0;32mNone\u001b[0m \u001b[0;32melse\u001b[0m \u001b[0mX\u001b[0m\u001b[0;34m\u001b[0m\u001b[0;34m\u001b[0m\u001b[0m\n\u001b[0;32m--> 214\u001b[0;31m             tree.fit(X, residual, sample_weight=sample_weight,\n\u001b[0m\u001b[1;32m    215\u001b[0m                      check_input=False)\n\u001b[1;32m    216\u001b[0m \u001b[0;34m\u001b[0m\u001b[0m\n",
      "\u001b[0;32m~/opt/anaconda3/lib/python3.9/site-packages/sklearn/tree/_classes.py\u001b[0m in \u001b[0;36mfit\u001b[0;34m(self, X, y, sample_weight, check_input, X_idx_sorted)\u001b[0m\n\u001b[1;32m   1250\u001b[0m         \"\"\"\n\u001b[1;32m   1251\u001b[0m \u001b[0;34m\u001b[0m\u001b[0m\n\u001b[0;32m-> 1252\u001b[0;31m         super().fit(\n\u001b[0m\u001b[1;32m   1253\u001b[0m             \u001b[0mX\u001b[0m\u001b[0;34m,\u001b[0m \u001b[0my\u001b[0m\u001b[0;34m,\u001b[0m\u001b[0;34m\u001b[0m\u001b[0;34m\u001b[0m\u001b[0m\n\u001b[1;32m   1254\u001b[0m             \u001b[0msample_weight\u001b[0m\u001b[0;34m=\u001b[0m\u001b[0msample_weight\u001b[0m\u001b[0;34m,\u001b[0m\u001b[0;34m\u001b[0m\u001b[0;34m\u001b[0m\u001b[0m\n",
      "\u001b[0;32m~/opt/anaconda3/lib/python3.9/site-packages/sklearn/tree/_classes.py\u001b[0m in \u001b[0;36mfit\u001b[0;34m(self, X, y, sample_weight, check_input, X_idx_sorted)\u001b[0m\n\u001b[1;32m    392\u001b[0m                                            min_impurity_split)\n\u001b[1;32m    393\u001b[0m \u001b[0;34m\u001b[0m\u001b[0m\n\u001b[0;32m--> 394\u001b[0;31m         \u001b[0mbuilder\u001b[0m\u001b[0;34m.\u001b[0m\u001b[0mbuild\u001b[0m\u001b[0;34m(\u001b[0m\u001b[0mself\u001b[0m\u001b[0;34m.\u001b[0m\u001b[0mtree_\u001b[0m\u001b[0;34m,\u001b[0m \u001b[0mX\u001b[0m\u001b[0;34m,\u001b[0m \u001b[0my\u001b[0m\u001b[0;34m,\u001b[0m \u001b[0msample_weight\u001b[0m\u001b[0;34m)\u001b[0m\u001b[0;34m\u001b[0m\u001b[0;34m\u001b[0m\u001b[0m\n\u001b[0m\u001b[1;32m    395\u001b[0m \u001b[0;34m\u001b[0m\u001b[0m\n\u001b[1;32m    396\u001b[0m         \u001b[0;32mif\u001b[0m \u001b[0mself\u001b[0m\u001b[0;34m.\u001b[0m\u001b[0mn_outputs_\u001b[0m \u001b[0;34m==\u001b[0m \u001b[0;36m1\u001b[0m \u001b[0;32mand\u001b[0m \u001b[0mis_classifier\u001b[0m\u001b[0;34m(\u001b[0m\u001b[0mself\u001b[0m\u001b[0;34m)\u001b[0m\u001b[0;34m:\u001b[0m\u001b[0;34m\u001b[0m\u001b[0;34m\u001b[0m\u001b[0m\n",
      "\u001b[0;31mKeyboardInterrupt\u001b[0m: "
     ]
    }
   ],
   "source": [
    "# Initialize dictionary to track scores\n",
    "gradientboost_rmse_dict = dict()\n",
    "\n",
    "# Initialize and fit RandomForest models to non-binary phenotypes\n",
    "for i in range(3):\n",
    "    print(f\"Modeling for Phenotype {i+1}...\")\n",
    "    exec(f\"gradientboost{i+1} = GradientBoostingRegressor()\")\n",
    "    exec(f\"gradientboost{i+1}.fit(X_train, y{i+1}_train['phenotype_{i+1}'])\")\n",
    "    exec(f\"gradientboost_predictions{i+1} = gradientboost{i+1}.predict(X_test)\")\n",
    "    exec(f\"gradientboost{i+1}_rmse, gradientboost{i+1}_fig, gradientboost{i+1}_ax = getModelResults(y{i+1}_test, gradientboost_predictions{i+1})\")\n",
    "    exec(f\"print('RMSE:', gradientboost{i+1}_rmse)\")\n",
    "#     exec(f\"gradientboost_rmse_dict.update(\\{'phenotype_{i+1}': gradientboost{i+1}_rmse\\})\")\n",
    "    exec(f\"gradientboost{i+1}_fig.show()\")\n",
    "    print(\"=\"*40)"
   ]
  },
  {
   "cell_type": "markdown",
   "id": "25ece85f",
   "metadata": {},
   "source": [
    "### PyTorch Neural Network"
   ]
  },
  {
   "cell_type": "code",
   "execution_count": 60,
   "id": "60a61991",
   "metadata": {},
   "outputs": [],
   "source": [
    "import torch\n",
    "from torch import nn\n",
    "from torch.utils.data import DataLoader\n",
    "from sklearn.preprocessing import StandardScaler"
   ]
  },
  {
   "cell_type": "code",
   "execution_count": 61,
   "id": "6650882e",
   "metadata": {},
   "outputs": [],
   "source": [
    "X_scaled = StandardScaler().fit_transform(X)"
   ]
  },
  {
   "cell_type": "code",
   "execution_count": null,
   "id": "fc1fecd8",
   "metadata": {},
   "outputs": [],
   "source": []
  },
  {
   "cell_type": "code",
   "execution_count": null,
   "id": "62a30fc5",
   "metadata": {},
   "outputs": [],
   "source": []
  },
  {
   "cell_type": "code",
   "execution_count": null,
   "id": "e4431ad8",
   "metadata": {},
   "outputs": [],
   "source": [
    "class MLP(nn.Module):\n",
    "  \"\"\"\n",
    "  \n",
    "  \n",
    "  \"\"\"\n",
    "    Multilayer Perceptron for regression.\n",
    "  '''\n",
    "  def __init__(self):\n",
    "    super().__init__()\n",
    "    self.layers = nn.Sequential(\n",
    "      nn.Linear(13, 64),\n",
    "      nn.ReLU(),\n",
    "      nn.Linear(64, 32),\n",
    "      nn.ReLU(),\n",
    "      nn.Linear(32, 1)\n",
    "    )\n",
    "\n",
    "\n",
    "  def forward(self, x):\n",
    "    '''\n",
    "      Forward pass\n",
    "    '''\n",
    "    return self.layers(x)"
   ]
  },
  {
   "cell_type": "code",
   "execution_count": null,
   "id": "238de626",
   "metadata": {},
   "outputs": [],
   "source": [
    "  # Initialize the MLP\n",
    "  mlp = MLP()\n",
    "  \n",
    "  # Define the loss function and optimizer\n",
    "  loss_function = nn.L1Loss()\n",
    "  optimizer = torch.optim.Adam(mlp.parameters(), lr=1e-4)"
   ]
  },
  {
   "cell_type": "code",
   "execution_count": null,
   "id": "25294d6d",
   "metadata": {},
   "outputs": [],
   "source": [
    "# Run the training loop\n",
    "  for epoch in range(0, 5): # 5 epochs at maximum\n",
    "    \n",
    "    # Print epoch\n",
    "    print(f'Starting epoch {epoch+1}')\n",
    "    \n",
    "    # Set current loss value\n",
    "    current_loss = 0.0\n",
    "    \n",
    "    # Iterate over the DataLoader for training data\n",
    "    for i, data in enumerate(trainloader, 0):\n",
    "      \n",
    "      # Get and prepare inputs\n",
    "      inputs, targets = data\n",
    "      inputs, targets = inputs.float(), targets.float()\n",
    "      targets = targets.reshape((targets.shape[0], 1))\n",
    "      \n",
    "      # Zero the gradients\n",
    "      optimizer.zero_grad()\n",
    "      \n",
    "      # Perform forward pass\n",
    "      outputs = mlp(inputs)\n",
    "      \n",
    "      # Compute loss\n",
    "      loss = loss_function(outputs, targets)\n",
    "      \n",
    "      # Perform backward pass\n",
    "      loss.backward()\n",
    "      \n",
    "      # Perform optimization\n",
    "      optimizer.step()\n",
    "      \n",
    "      # Print statistics\n",
    "      current_loss += loss.item()\n",
    "      if i % 10 == 0:\n",
    "          print('Loss after mini-batch %5d: %.3f' %\n",
    "                (i + 1, current_loss / 500))\n",
    "          current_loss = 0.0\n",
    "\n",
    "  # Process is complete.\n",
    "  print('Training process has finished.')"
   ]
  },
  {
   "cell_type": "code",
   "execution_count": null,
   "id": "7d7dfc71",
   "metadata": {},
   "outputs": [],
   "source": []
  },
  {
   "cell_type": "code",
   "execution_count": null,
   "id": "3405886a",
   "metadata": {},
   "outputs": [],
   "source": []
  },
  {
   "cell_type": "code",
   "execution_count": null,
   "id": "b4682d0f",
   "metadata": {},
   "outputs": [],
   "source": []
  },
  {
   "cell_type": "code",
   "execution_count": null,
   "id": "3ab1d69b",
   "metadata": {},
   "outputs": [],
   "source": []
  },
  {
   "cell_type": "code",
   "execution_count": null,
   "id": "8da6891b",
   "metadata": {},
   "outputs": [],
   "source": []
  },
  {
   "cell_type": "markdown",
   "id": "23b85263",
   "metadata": {},
   "source": [
    "### Logistic Regression"
   ]
  },
  {
   "cell_type": "code",
   "execution_count": 44,
   "id": "60f82867",
   "metadata": {},
   "outputs": [],
   "source": [
    "from sklearn.linear_model import LogisticRegression"
   ]
  },
  {
   "cell_type": "code",
   "execution_count": 59,
   "id": "dd6d7a07",
   "metadata": {},
   "outputs": [],
   "source": [
    "# # Initialize dictionary to track scores\n",
    "# logreg_rmse_dict = dict()\n",
    "\n",
    "# # Initialize and fit Linear models with Lasso to non-binary phenotypes\n",
    "# for i in range(3, 5):\n",
    "#     print(f\"Modeling for Phenotype {i+1}...\")\n",
    "#     exec(f\"logreg{i+1} = LogisticRegression()\")\n",
    "#     exec(f\"logreg{i+1}.fit(X_train, y{i+1}_train)\")\n",
    "#     exec(f\"logreg_predictions{i+1} = logreg{i+1}.predict(X_test)\")\n",
    "#     exec(f\"logreg{i+1}_auc, logreg{i+1}_roc_auc_score, logreg{i+1}_classification_report, logreg{i+1}_confusion_matrix = getBinaryModelResults(y{i+1}_test, logreg_predictions{i+1})\")\n",
    "#     exec(f\"print('AUC:', logreg{i+1}_auc)\")\n",
    "# #     exec(f\"logreg_rmse_dict.update(\\{'phenotype_{i+1}': logreg{i+1}_auc\\})\")\n",
    "#     exec(f\"logreg{i+1}_fig.show()\")\n",
    "# #     metrics.plot_roc_curve(logmodel,Z_test,y_test)\n",
    "#     print(\"=\"*40)"
   ]
  },
  {
   "cell_type": "code",
   "execution_count": null,
   "id": "eefd02df",
   "metadata": {},
   "outputs": [],
   "source": []
  },
  {
   "cell_type": "code",
   "execution_count": null,
   "id": "cdbfeeb3",
   "metadata": {},
   "outputs": [],
   "source": []
  },
  {
   "cell_type": "code",
   "execution_count": null,
   "id": "39d10b40",
   "metadata": {},
   "outputs": [],
   "source": []
  },
  {
   "cell_type": "markdown",
   "id": "bcbad43f",
   "metadata": {},
   "source": [
    "# ======== OLD (from Dan) =========="
   ]
  },
  {
   "cell_type": "code",
   "execution_count": 70,
   "id": "41debdd4",
   "metadata": {},
   "outputs": [],
   "source": [
    "# Attempt Principal Component Analysis for dimension reduction of the data\n",
    "\n",
    "from sklearn.decomposition import PCA"
   ]
  },
  {
   "cell_type": "code",
   "execution_count": 71,
   "id": "e1781f1f",
   "metadata": {},
   "outputs": [
    {
     "data": {
      "text/plain": [
       "array([[0, 0, 1, ..., 1, 1, 2],\n",
       "       [1, 0, 0, ..., 0, 0, 0],\n",
       "       [0, 0, 2, ..., 1, 2, 1],\n",
       "       ...,\n",
       "       [2, 0, 0, ..., 0, 1, 2],\n",
       "       [0, 0, 0, ..., 1, 2, 0],\n",
       "       [1, 1, 0, ..., 0, 1, 1]], dtype=object)"
      ]
     },
     "execution_count": 71,
     "metadata": {},
     "output_type": "execute_result"
    }
   ],
   "source": [
    "gt = np.array(Z)\n",
    "gt"
   ]
  },
  {
   "cell_type": "code",
   "execution_count": 72,
   "id": "75c8cb00",
   "metadata": {},
   "outputs": [
    {
     "data": {
      "text/plain": [
       "PCA(n_components=10)"
      ]
     },
     "execution_count": 72,
     "metadata": {},
     "output_type": "execute_result"
    }
   ],
   "source": [
    "# Try top 10 components\n",
    "\n",
    "pca = PCA(n_components=10)\n",
    "pca.fit(gt)"
   ]
  },
  {
   "cell_type": "code",
   "execution_count": 73,
   "id": "2521b3c0",
   "metadata": {},
   "outputs": [
    {
     "name": "stdout",
     "output_type": "stream",
     "text": [
      "[0.11836603 0.0666383  0.00203222 0.0019368  0.0018498  0.00161179\n",
      " 0.00146571 0.00138975 0.00135768 0.00132848]\n"
     ]
    }
   ],
   "source": [
    "# Percentage of variance explained.\n",
    "# These values show PCA is unlikely to be effective, since the first 2 components \n",
    "# account for <20%, and all others are <.2% with slow dropoff.\n",
    "\n",
    "print(pca.explained_variance_ratio_)"
   ]
  },
  {
   "cell_type": "code",
   "execution_count": 74,
   "id": "8775c896",
   "metadata": {},
   "outputs": [
    {
     "name": "stdout",
     "output_type": "stream",
     "text": [
      "[1713.12105079 1285.3945759   224.4707026   219.13764173  214.15915373\n",
      "  199.90721216  190.63305035  185.62803119  183.47312857  181.48996975]\n"
     ]
    }
   ],
   "source": [
    "print(pca.singular_values_)"
   ]
  },
  {
   "cell_type": "code",
   "execution_count": 75,
   "id": "5d33ab00",
   "metadata": {},
   "outputs": [
    {
     "data": {
      "text/plain": [
       "array([[ 42.91607578, -10.11405878,  -6.00936221, ...,   4.30939768,\n",
       "          2.73533474,   2.34997744],\n",
       "       [ -9.98524171,  32.09674492,  -5.75149616, ...,  -1.70348264,\n",
       "          0.411401  ,   1.68435763],\n",
       "       [ 41.76729167,  -9.16612148,  -1.94077685, ...,   2.52438407,\n",
       "         -5.34997069,   0.85700053],\n",
       "       ...,\n",
       "       [-10.89214927,  32.44937692,  -5.92016067, ...,  -0.15663353,\n",
       "         -3.90606901,   0.9483873 ],\n",
       "       [ 41.85912557,  -9.75768124,  -2.48541321, ...,   1.5203539 ,\n",
       "          1.4869588 ,  -0.19803369],\n",
       "       [-11.21000858,  31.81990886,  -3.95077332, ...,  -0.3112157 ,\n",
       "         -3.55037339,  -1.0668255 ]])"
      ]
     },
     "execution_count": 75,
     "metadata": {},
     "output_type": "execute_result"
    }
   ],
   "source": [
    "gt_reduced = pca.transform(gt)\n",
    "gt_reduced"
   ]
  },
  {
   "cell_type": "code",
   "execution_count": 76,
   "id": "b95a0a64",
   "metadata": {},
   "outputs": [
    {
     "data": {
      "text/plain": [
       "(3000, 10)"
      ]
     },
     "execution_count": 76,
     "metadata": {},
     "output_type": "execute_result"
    }
   ],
   "source": [
    "gt_reduced.shape"
   ]
  },
  {
   "cell_type": "code",
   "execution_count": 77,
   "id": "631d0e83",
   "metadata": {},
   "outputs": [],
   "source": [
    "y = ph1_df.loc[sample_list]"
   ]
  },
  {
   "cell_type": "code",
   "execution_count": 78,
   "id": "6389286f",
   "metadata": {},
   "outputs": [],
   "source": [
    "# Try to train OLS linear model on projection to top 10 components.\n",
    "\n",
    "X = gt_reduced"
   ]
  },
  {
   "cell_type": "code",
   "execution_count": 79,
   "id": "f0d0ea64",
   "metadata": {},
   "outputs": [],
   "source": [
    "X_train, X_test, y_train, y_test = train_test_split(X, y, test_size=.3, random_state=101)"
   ]
  },
  {
   "cell_type": "code",
   "execution_count": 80,
   "id": "1487379c",
   "metadata": {},
   "outputs": [],
   "source": [
    "lm = LinearRegression()"
   ]
  },
  {
   "cell_type": "code",
   "execution_count": 81,
   "id": "2877b93e",
   "metadata": {},
   "outputs": [
    {
     "data": {
      "text/plain": [
       "LinearRegression()"
      ]
     },
     "execution_count": 81,
     "metadata": {},
     "output_type": "execute_result"
    }
   ],
   "source": [
    "lm.fit(X_train,y_train)"
   ]
  },
  {
   "cell_type": "code",
   "execution_count": 82,
   "id": "98b3cdb6",
   "metadata": {},
   "outputs": [
    {
     "data": {
      "text/plain": [
       "array([[ 1.46983508e-04,  1.33124772e-03, -1.45054323e-04,\n",
       "         1.77064903e-04, -2.76323187e-04, -5.95893879e-06,\n",
       "        -1.51743390e-04, -9.67936231e-04,  4.49115355e-04,\n",
       "         7.97761128e-04]])"
      ]
     },
     "execution_count": 82,
     "metadata": {},
     "output_type": "execute_result"
    }
   ],
   "source": [
    "lm.coef_"
   ]
  },
  {
   "cell_type": "code",
   "execution_count": 83,
   "id": "c271402e",
   "metadata": {},
   "outputs": [],
   "source": [
    "predictions = lm.predict(X_test)"
   ]
  },
  {
   "cell_type": "code",
   "execution_count": 84,
   "id": "5cd33531",
   "metadata": {},
   "outputs": [
    {
     "data": {
      "text/plain": [
       "Text(0, 0.5, 'Predicted Y')"
      ]
     },
     "execution_count": 84,
     "metadata": {},
     "output_type": "execute_result"
    },
    {
     "data": {
      "image/png": "[encoded data removed]",
      "text/plain": [
       "<Figure size 432x288 with 1 Axes>"
      ]
     },
     "metadata": {
      "needs_background": "light"
     },
     "output_type": "display_data"
    }
   ],
   "source": [
    "# Model does not perform well\n",
    "\n",
    "plt.scatter(y_test,predictions)\n",
    "plt.xlabel('Y Test')\n",
    "plt.ylabel('Predicted Y')"
   ]
  },
  {
   "cell_type": "code",
   "execution_count": 85,
   "id": "f5790e47",
   "metadata": {},
   "outputs": [
    {
     "name": "stdout",
     "output_type": "stream",
     "text": [
      "MAE: 0.05529774726037647\n",
      "MSE: 0.005215450614646801\n",
      "RMSE: 0.07221807678584913\n"
     ]
    }
   ],
   "source": [
    "#RMSE worse than OLS linear regression on full dataset\n",
    "\n",
    "print('MAE:', metrics.mean_absolute_error(y_test, predictions))\n",
    "print('MSE:', metrics.mean_squared_error(y_test, predictions))\n",
    "print('RMSE:', np.sqrt(metrics.mean_squared_error(y_test, predictions)))"
   ]
  },
  {
   "cell_type": "code",
   "execution_count": 86,
   "id": "8eb61ef5",
   "metadata": {},
   "outputs": [],
   "source": [
    "# Try same technique on top 10 components for Phenotype 2\n",
    "\n",
    "y = ph2_df.loc[sample_list]"
   ]
  },
  {
   "cell_type": "code",
   "execution_count": 87,
   "id": "0e720591",
   "metadata": {},
   "outputs": [],
   "source": [
    "X_train, X_test, y_train, y_test = train_test_split(X, y, test_size=.3, random_state=103)"
   ]
  },
  {
   "cell_type": "code",
   "execution_count": 88,
   "id": "136ec6ec",
   "metadata": {},
   "outputs": [],
   "source": [
    "lm2 = LinearRegression()"
   ]
  },
  {
   "cell_type": "code",
   "execution_count": 89,
   "id": "2c80815c",
   "metadata": {},
   "outputs": [
    {
     "data": {
      "text/plain": [
       "LinearRegression()"
      ]
     },
     "execution_count": 89,
     "metadata": {},
     "output_type": "execute_result"
    }
   ],
   "source": [
    "lm2.fit(X_train,y_train)"
   ]
  },
  {
   "cell_type": "code",
   "execution_count": 90,
   "id": "b5f05460",
   "metadata": {},
   "outputs": [
    {
     "data": {
      "text/plain": [
       "array([[ 0.00091032,  0.00229815, -0.00351356,  0.00032136, -0.0011412 ,\n",
       "         0.00012644,  0.00069429,  0.00083594, -0.00036104,  0.00053002]])"
      ]
     },
     "execution_count": 90,
     "metadata": {},
     "output_type": "execute_result"
    }
   ],
   "source": [
    "lm2.coef_"
   ]
  },
  {
   "cell_type": "code",
   "execution_count": 91,
   "id": "ad6c2e74",
   "metadata": {},
   "outputs": [],
   "source": [
    "predictions2 = lm2.predict(X_test)"
   ]
  },
  {
   "cell_type": "code",
   "execution_count": 92,
   "id": "2c7db22c",
   "metadata": {},
   "outputs": [
    {
     "data": {
      "text/plain": [
       "Text(0, 0.5, 'Predicted Y')"
      ]
     },
     "execution_count": 92,
     "metadata": {},
     "output_type": "execute_result"
    },
    {
     "data": {
      "image/png": "[encoded data removed]",
      "text/plain": [
       "<Figure size 432x288 with 1 Axes>"
      ]
     },
     "metadata": {
      "needs_background": "light"
     },
     "output_type": "display_data"
    }
   ],
   "source": [
    "# Again, model performs poorly\n",
    "\n",
    "plt.scatter(y_test,predictions2)\n",
    "plt.xlabel('Y Test')\n",
    "plt.ylabel('Predicted Y')"
   ]
  },
  {
   "cell_type": "code",
   "execution_count": null,
   "id": "0f0a7b9a",
   "metadata": {},
   "outputs": [],
   "source": [
    "# Try PCA with 50 components\n",
    "\n",
    "pca50 = PCA(n_components=50)\n",
    "pca50.fit(gt)"
   ]
  },
  {
   "cell_type": "code",
   "execution_count": null,
   "id": "2570f62d",
   "metadata": {},
   "outputs": [],
   "source": [
    "print(pca50.explained_variance_ratio_)"
   ]
  },
  {
   "cell_type": "code",
   "execution_count": null,
   "id": "22a5e667",
   "metadata": {},
   "outputs": [],
   "source": [
    "gt_reduced50 = pca50.transform(gt)\n",
    "gt_reduced50"
   ]
  },
  {
   "cell_type": "code",
   "execution_count": null,
   "id": "3a1ee84b",
   "metadata": {},
   "outputs": [],
   "source": [
    "y = ph2_df.loc[sample_list]\n",
    "X = gt_reduced50"
   ]
  },
  {
   "cell_type": "code",
   "execution_count": null,
   "id": "5d46c897",
   "metadata": {},
   "outputs": [],
   "source": [
    "X_train, X_test, y_train, y_test = train_test_split(X, y, test_size=.3, random_state=103)"
   ]
  },
  {
   "cell_type": "code",
   "execution_count": null,
   "id": "3d71d439",
   "metadata": {},
   "outputs": [],
   "source": [
    "lm2_50 = LinearRegression()"
   ]
  },
  {
   "cell_type": "code",
   "execution_count": null,
   "id": "914552fe",
   "metadata": {},
   "outputs": [],
   "source": [
    "lm2_50.fit(X_train,y_train)"
   ]
  },
  {
   "cell_type": "code",
   "execution_count": null,
   "id": "92b2c91c",
   "metadata": {},
   "outputs": [],
   "source": [
    "predictions2_50 = lm2_50.predictdict(X_test)"
   ]
  },
  {
   "cell_type": "code",
   "execution_count": null,
   "id": "a23df3ce",
   "metadata": {},
   "outputs": [],
   "source": [
    "plt.scatter(y_test,predictions2_50)\n",
    "plt.xlabel('Y Test')\n",
    "plt.ylabel('Predicted Y')"
   ]
  },
  {
   "cell_type": "code",
   "execution_count": null,
   "id": "8f636e35",
   "metadata": {},
   "outputs": [],
   "source": [
    "print('MAE:', metrics.mean_absolute_error(y_test, predictions2_50))\n",
    "print('MSE:', metrics.mean_squared_error(y_test, predictions2_50))\n",
    "print('RMSE:', np.sqrt(metrics.mean_squared_error(y_test, predictions2_50)))"
   ]
  },
  {
   "cell_type": "code",
   "execution_count": null,
   "id": "3e8e9b2b",
   "metadata": {},
   "outputs": [],
   "source": [
    "# Set target and full set of data to predict Ph 1\n",
    "\n",
    "y = ph1_df.loc[sample_list]\n",
    "X = Z"
   ]
  },
  {
   "cell_type": "code",
   "execution_count": null,
   "id": "2fe3a598",
   "metadata": {},
   "outputs": [],
   "source": [
    "X_train, X_test, y_train, y_test = train_test_split(X, y, test_size=.3, random_state=102)"
   ]
  },
  {
   "cell_type": "code",
   "execution_count": null,
   "id": "8728c2d1",
   "metadata": {},
   "outputs": [],
   "source": [
    "# Lasso model with different alpha.\n",
    "# Best performance found at alpha=.0005\n",
    "\n",
    "lasso1 = Lasso(alpha = .0005, max_iter=10000)"
   ]
  },
  {
   "cell_type": "code",
   "execution_count": null,
   "id": "3203bcc9",
   "metadata": {},
   "outputs": [],
   "source": [
    "lasso1.fit(X_train,y_train)"
   ]
  },
  {
   "cell_type": "code",
   "execution_count": null,
   "id": "6f973cb0",
   "metadata": {},
   "outputs": [],
   "source": [
    "pred = lasso1.predict(X_test)"
   ]
  },
  {
   "cell_type": "code",
   "execution_count": null,
   "id": "0e70c9b2",
   "metadata": {},
   "outputs": [],
   "source": [
    "# Is this graph correct?\n",
    "# Do the data lie on planes defined by the model?\n",
    "# Suggests not enough nonzero coefficients, but this model had best RMSE.\n",
    "\n",
    "plt.scatter(y_test,pred)\n",
    "plt.xlabel('Y Test')\n",
    "plt.ylabel('Predicted Y')"
   ]
  },
  {
   "cell_type": "code",
   "execution_count": null,
   "id": "53bad062",
   "metadata": {},
   "outputs": [],
   "source": [
    "# Lasso with alpha=.0005 gets record for Ph 1 RMSE of .021\n",
    "\n",
    "print('MAE:', metrics.mean_absolute_error(y_test, pred))\n",
    "print('MSE:', metrics.mean_squared_error(y_test, pred))\n",
    "print('RMSE:', np.sqrt(metrics.mean_squared_error(y_test, pred)))"
   ]
  },
  {
   "cell_type": "code",
   "execution_count": null,
   "id": "3f5aa8f7",
   "metadata": {},
   "outputs": [],
   "source": [
    "# Lasso with best performace only has 335 nonzero coefficients\n",
    "\n",
    "np.count_nonzero(lasso1.coef_)"
   ]
  },
  {
   "cell_type": "code",
   "execution_count": null,
   "id": "8fd7b61b",
   "metadata": {},
   "outputs": [],
   "source": [
    "# Lasso for Ph 2\n",
    "\n",
    "y = ph2_df.loc[sample_list]\n",
    "X = Z"
   ]
  },
  {
   "cell_type": "code",
   "execution_count": null,
   "id": "807f4ca0",
   "metadata": {},
   "outputs": [],
   "source": [
    "X_train, X_test, y_train, y_test = train_test_split(X, y, test_size=.3, random_state=103)"
   ]
  },
  {
   "cell_type": "code",
   "execution_count": null,
   "id": "cd02e0ac",
   "metadata": {},
   "outputs": [],
   "source": [
    "lasso_model2 = Lasso(alpha=.000002,max_iter=6000)"
   ]
  },
  {
   "cell_type": "code",
   "execution_count": null,
   "id": "e20ab673",
   "metadata": {},
   "outputs": [],
   "source": [
    "lasso_model2.fit(X_train,y_train)"
   ]
  },
  {
   "cell_type": "code",
   "execution_count": null,
   "id": "a572d0d2",
   "metadata": {},
   "outputs": [],
   "source": [
    "lasso_pred2 = lasso_model2.predict(X_test)"
   ]
  },
  {
   "cell_type": "code",
   "execution_count": null,
   "id": "a7562206",
   "metadata": {
    "scrolled": true
   },
   "outputs": [],
   "source": [
    "plt.scatter(y_test,lasso_pred2)\n",
    "plt.xlabel('Y Test')\n",
    "plt.ylabel('Predicted Y')"
   ]
  },
  {
   "cell_type": "code",
   "execution_count": null,
   "id": "e47f986b",
   "metadata": {},
   "outputs": [],
   "source": [
    "print('MAE:', metrics.mean_absolute_error(y_test, lasso_pred2))\n",
    "print('MSE:', metrics.mean_squared_error(y_test, lasso_pred2))\n",
    "print('RMSE:', np.sqrt(metrics.mean_squared_error(y_test, lasso_pred2)))"
   ]
  },
  {
   "cell_type": "code",
   "execution_count": null,
   "id": "bcab78f5",
   "metadata": {},
   "outputs": [],
   "source": [
    "np.count_nonzero(lasso_model2.coef_)"
   ]
  },
  {
   "cell_type": "code",
   "execution_count": null,
   "id": "3c8457f0",
   "metadata": {},
   "outputs": [],
   "source": [
    "X_train, X_test, y_train, y_test = train_test_split(X, y, test_size=.3, random_state=105)"
   ]
  },
  {
   "cell_type": "code",
   "execution_count": null,
   "id": "cdb9cbe7",
   "metadata": {},
   "outputs": [],
   "source": [
    "lasso2 = Lasso(alpha = .001, max_iter=10000)"
   ]
  },
  {
   "cell_type": "code",
   "execution_count": null,
   "id": "415b742b",
   "metadata": {},
   "outputs": [],
   "source": [
    "lasso2.fit(X_train,y_train)"
   ]
  },
  {
   "cell_type": "code",
   "execution_count": null,
   "id": "89854d4a",
   "metadata": {},
   "outputs": [],
   "source": [
    "pred = lasso2.predict(X_test)"
   ]
  },
  {
   "cell_type": "code",
   "execution_count": null,
   "id": "5caa7c12",
   "metadata": {},
   "outputs": [],
   "source": [
    "# RMSE record for PH 2: .040\n",
    "# Lasso with alpha = .001\n",
    "\n",
    "print('MAE:', metrics.mean_absolute_error(y_test, pred))\n",
    "print('MSE:', metrics.mean_squared_error(y_test, pred))\n",
    "print('RMSE:', np.sqrt(metrics.mean_squared_error(y_test, pred)))"
   ]
  },
  {
   "cell_type": "code",
   "execution_count": null,
   "id": "9cc95fac",
   "metadata": {},
   "outputs": [],
   "source": [
    "np.count_nonzero(lasso2.coef_)"
   ]
  },
  {
   "cell_type": "code",
   "execution_count": null,
   "id": "97a29ad8",
   "metadata": {},
   "outputs": [],
   "source": [
    "# Try grid search for good parameters for Lasso to predict Ph 3\n",
    "\n",
    "y = ph3_df\n",
    "X=Z"
   ]
  },
  {
   "cell_type": "code",
   "execution_count": null,
   "id": "17f47ead",
   "metadata": {},
   "outputs": [],
   "source": [
    "X_train, X_test, y_train, y_test = train_test_split(X, y, test_size=.3, random_state=104)"
   ]
  },
  {
   "cell_type": "code",
   "execution_count": null,
   "id": "f11e4492",
   "metadata": {},
   "outputs": [],
   "source": [
    "param_grid = {'alpha': [.000002,.00002,.0002]} "
   ]
  },
  {
   "cell_type": "code",
   "execution_count": null,
   "id": "31542f9c",
   "metadata": {},
   "outputs": [],
   "source": [
    "grid = GridSearchCV(Lasso(max_iter=5000),param_grid,refit=True, verbose=4)"
   ]
  },
  {
   "cell_type": "code",
   "execution_count": null,
   "id": "f9bba787",
   "metadata": {},
   "outputs": [],
   "source": [
    "# Takes a long time.\n",
    "\n",
    "grid.fit(X_train,y_train)"
   ]
  },
  {
   "cell_type": "code",
   "execution_count": null,
   "id": "c19f868e",
   "metadata": {},
   "outputs": [],
   "source": [
    "grid.best_params_"
   ]
  },
  {
   "cell_type": "code",
   "execution_count": null,
   "id": "4bbe99b2",
   "metadata": {},
   "outputs": [],
   "source": [
    "grid.best_score_"
   ]
  },
  {
   "cell_type": "code",
   "execution_count": null,
   "id": "ef3880c8",
   "metadata": {},
   "outputs": [],
   "source": [
    "grid_pred = grid.predict(X_test)"
   ]
  },
  {
   "cell_type": "code",
   "execution_count": null,
   "id": "a540c5c0",
   "metadata": {},
   "outputs": [],
   "source": [
    "plt.scatter(y_test,grid_pred)\n",
    "plt.xlabel('Y Test')\n",
    "plt.ylabel('Predicted Y')"
   ]
  },
  {
   "cell_type": "code",
   "execution_count": null,
   "id": "6609694a",
   "metadata": {},
   "outputs": [],
   "source": [
    "print('MAE:', metrics.mean_absolute_error(y_test, grid_pred))\n",
    "print('MSE:', metrics.mean_squared_error(y_test, grid_pred))\n",
    "print('RMSE:', np.sqrt(metrics.mean_squared_error(y_test, grid_pred)))"
   ]
  },
  {
   "cell_type": "code",
   "execution_count": null,
   "id": "db8ff27b",
   "metadata": {},
   "outputs": [],
   "source": [
    "# Faster to change alpha value by hand\n",
    "\n",
    "y = ph3_df\n",
    "X=Z"
   ]
  },
  {
   "cell_type": "code",
   "execution_count": null,
   "id": "0a4ed2dc",
   "metadata": {},
   "outputs": [],
   "source": [
    "X_train, X_test, y_train, y_test = train_test_split(X, y, test_size=.3, random_state=107)"
   ]
  },
  {
   "cell_type": "code",
   "execution_count": null,
   "id": "40ecd5d6",
   "metadata": {},
   "outputs": [],
   "source": [
    "lasso3 = Lasso(alpha=.002,max_iter=10000)"
   ]
  },
  {
   "cell_type": "code",
   "execution_count": null,
   "id": "eca9f40b",
   "metadata": {},
   "outputs": [],
   "source": [
    "lasso3.fit(X_train,y_train)"
   ]
  },
  {
   "cell_type": "code",
   "execution_count": null,
   "id": "e457309b",
   "metadata": {},
   "outputs": [],
   "source": [
    "pred = lasso3.predict(X_test)"
   ]
  },
  {
   "cell_type": "code",
   "execution_count": null,
   "id": "25aa205e",
   "metadata": {},
   "outputs": [],
   "source": [
    "plt.scatter(y_test,pred)\n",
    "plt.xlabel('Y Test')\n",
    "plt.ylabel('Predicted Y')"
   ]
  },
  {
   "cell_type": "code",
   "execution_count": null,
   "id": "da38fe0c",
   "metadata": {},
   "outputs": [],
   "source": [
    "# Record RMSE for Ph 3: .063\n",
    "# Lasso with alpha = .002\n",
    "\n",
    "print('MAE:', metrics.mean_absolute_error(y_test, pred))\n",
    "print('MSE:', metrics.mean_squared_error(y_test, pred))\n",
    "print('RMSE:', np.sqrt(metrics.mean_squared_error(y_test, pred)))"
   ]
  },
  {
   "cell_type": "code",
   "execution_count": null,
   "id": "1451b964",
   "metadata": {},
   "outputs": [],
   "source": [
    "np.count_nonzero(lasso3.coef_)"
   ]
  },
  {
   "cell_type": "code",
   "execution_count": null,
   "id": "39a4e17f",
   "metadata": {},
   "outputs": [],
   "source": []
  },
  {
   "cell_type": "code",
   "execution_count": null,
   "id": "267fc43d",
   "metadata": {},
   "outputs": [],
   "source": [
    "# Attempt logistic regression trained on top 50 components\n",
    "\n",
    "y = np.array(ph4_df).ravel()\n",
    "X = gt_reduced50"
   ]
  },
  {
   "cell_type": "code",
   "execution_count": null,
   "id": "62f7450c",
   "metadata": {},
   "outputs": [],
   "source": [
    "X_train, X_test, y_train, y_test = train_test_split(X, y, test_size=.3, random_state=103)"
   ]
  },
  {
   "cell_type": "code",
   "execution_count": null,
   "id": "a9d8c15c",
   "metadata": {},
   "outputs": [],
   "source": [
    "from sklearn.model_selection import GridSearchCV"
   ]
  },
  {
   "cell_type": "code",
   "execution_count": null,
   "id": "fffeee22",
   "metadata": {},
   "outputs": [],
   "source": [
    "log_model4 = LogisticRegression()"
   ]
  },
  {
   "cell_type": "code",
   "execution_count": null,
   "id": "afc8e208",
   "metadata": {},
   "outputs": [],
   "source": [
    "log_model4.fit(X_train,y_train)"
   ]
  },
  {
   "cell_type": "code",
   "execution_count": null,
   "id": "f0d124ef",
   "metadata": {},
   "outputs": [],
   "source": [
    "pred = log_model4.predict(X_test)"
   ]
  },
  {
   "cell_type": "code",
   "execution_count": null,
   "id": "bad5065d",
   "metadata": {},
   "outputs": [],
   "source": [
    "print(classification_report(pred,y_test))"
   ]
  },
  {
   "cell_type": "code",
   "execution_count": null,
   "id": "b9102529",
   "metadata": {},
   "outputs": [],
   "source": [
    "from sklearn.metrics import confusion_matrix, roc_curve, roc_auc_score"
   ]
  },
  {
   "cell_type": "code",
   "execution_count": null,
   "id": "9bbf8ad9",
   "metadata": {},
   "outputs": [],
   "source": [
    "# Very poor performance of logistic regression on top 50 components\n",
    "\n",
    "print(confusion_matrix(pred,y_test))"
   ]
  },
  {
   "cell_type": "code",
   "execution_count": null,
   "id": "d58d9a5d",
   "metadata": {},
   "outputs": [],
   "source": [
    "roc_auc_score(y_test,log_model4.decision_function(X_test))"
   ]
  },
  {
   "cell_type": "code",
   "execution_count": null,
   "id": "7a894f0c",
   "metadata": {},
   "outputs": [],
   "source": [
    "Z_train, Z_test, y_train, y_test = train_test_split(Z, y, test_size=.3, random_state=103)"
   ]
  },
  {
   "cell_type": "code",
   "execution_count": null,
   "id": "8fdb6a09",
   "metadata": {},
   "outputs": [],
   "source": [
    "# Try logistic regression with l1 penalty\n",
    "\n",
    "log_model4_l1 = LogisticRegression(solver='liblinear',penalty='l1',max_iter=1000)"
   ]
  },
  {
   "cell_type": "code",
   "execution_count": null,
   "id": "f9a85a9a",
   "metadata": {},
   "outputs": [],
   "source": [
    "log_model4_l1.fit(Z_train,y_train)"
   ]
  },
  {
   "cell_type": "code",
   "execution_count": null,
   "id": "32d87a34",
   "metadata": {},
   "outputs": [],
   "source": [
    "pred = log_model4_l1.predict(Z_test)"
   ]
  },
  {
   "cell_type": "code",
   "execution_count": null,
   "id": "98343694",
   "metadata": {},
   "outputs": [],
   "source": [
    "log4_coef = log_model4_l1.coef_.reshape((1,20390))"
   ]
  },
  {
   "cell_type": "code",
   "execution_count": null,
   "id": "8fd33acf",
   "metadata": {},
   "outputs": [],
   "source": [
    "np.count_nonzero(log4_coef)"
   ]
  },
  {
   "cell_type": "code",
   "execution_count": null,
   "id": "a1ed64cf",
   "metadata": {},
   "outputs": [],
   "source": [
    "# Much better performance\n",
    "\n",
    "print(confusion_matrix(pred,y_test))"
   ]
  },
  {
   "cell_type": "code",
   "execution_count": null,
   "id": "7c7754c5",
   "metadata": {},
   "outputs": [],
   "source": [
    "# Record AUC for Ph 4: .945\n",
    "# Achieved by default liblinear logistic regression with l1 penalty\n",
    "\n",
    "roc_auc_score(y_test,log_model4_l1.decision_function(Z_test))"
   ]
  },
  {
   "cell_type": "code",
   "execution_count": null,
   "id": "8e2a3a2a",
   "metadata": {},
   "outputs": [],
   "source": [
    "y = np.array(ph4_df).ravel()\n",
    "X = Z"
   ]
  },
  {
   "cell_type": "code",
   "execution_count": null,
   "id": "175ecb7c",
   "metadata": {},
   "outputs": [],
   "source": [
    "X_train, X_test, y_train, y_test = train_test_split(X, y, test_size=.3, random_state=104)"
   ]
  },
  {
   "cell_type": "code",
   "execution_count": null,
   "id": "ce0d2667",
   "metadata": {},
   "outputs": [],
   "source": [
    "from sklearn.linear_model import LogisticRegressionCV"
   ]
  },
  {
   "cell_type": "code",
   "execution_count": null,
   "id": "1694fedd",
   "metadata": {},
   "outputs": [],
   "source": [
    "#T ry grid search cross validation to find best parameters.\n",
    "\n",
    "log4 = LogisticRegressionCV(Cs = 3,solver='saga',penalty='elasticnet',l1_ratios=[.5,1],verbose=4,max_iter=5000)"
   ]
  },
  {
   "cell_type": "code",
   "execution_count": null,
   "id": "a2e0a646",
   "metadata": {},
   "outputs": [],
   "source": [
    "# This takes 7 hours.\n",
    "\n",
    "log4.fit(X_train,y_train)"
   ]
  },
  {
   "cell_type": "code",
   "execution_count": null,
   "id": "fb5ab2e8",
   "metadata": {},
   "outputs": [],
   "source": [
    "pred = log4.predict(X_test)"
   ]
  },
  {
   "cell_type": "code",
   "execution_count": null,
   "id": "e972afbd",
   "metadata": {},
   "outputs": [],
   "source": [
    "# Performance with best parameters is about the same as default l1 penalty\n",
    "\n",
    "print(confusion_matrix(y_test,pred))"
   ]
  },
  {
   "cell_type": "code",
   "execution_count": null,
   "id": "02ed35cb",
   "metadata": {},
   "outputs": [],
   "source": [
    "# Close to record AUC .94\n",
    "\n",
    "metrics.plot_roc_curve(log4,X_test,y_test)\n",
    "plt.show()"
   ]
  },
  {
   "cell_type": "code",
   "execution_count": null,
   "id": "5bed5249",
   "metadata": {},
   "outputs": [],
   "source": [
    "np.count_nonzero(log4.coef_)"
   ]
  },
  {
   "cell_type": "code",
   "execution_count": null,
   "id": "4e7ba6c9",
   "metadata": {},
   "outputs": [],
   "source": [
    "# Try support vector classifier for Ph 4\n",
    "\n",
    "from sklearn.svm import SVC"
   ]
  },
  {
   "cell_type": "code",
   "execution_count": null,
   "id": "02501e71",
   "metadata": {},
   "outputs": [],
   "source": [
    "svc_model = SVC()"
   ]
  },
  {
   "cell_type": "code",
   "execution_count": null,
   "id": "56ba048b",
   "metadata": {},
   "outputs": [],
   "source": [
    "svc_model.fit(Z_train,y_train)"
   ]
  },
  {
   "cell_type": "code",
   "execution_count": null,
   "id": "76699f0c",
   "metadata": {},
   "outputs": [],
   "source": [
    "pred = svc_model.predict(Z_test)"
   ]
  },
  {
   "cell_type": "code",
   "execution_count": null,
   "id": "12a65916",
   "metadata": {},
   "outputs": [],
   "source": [
    "# Default model results in all but 1 being labelled positive.\n",
    "\n",
    "print(confusion_matrix(pred,y_test))"
   ]
  },
  {
   "cell_type": "code",
   "execution_count": null,
   "id": "e7145ca5",
   "metadata": {},
   "outputs": [],
   "source": [
    "# Set target to predict Ph 5\n",
    "\n",
    "y = np.array(ph5_df).ravel()"
   ]
  },
  {
   "cell_type": "code",
   "execution_count": null,
   "id": "8d76e0b7",
   "metadata": {},
   "outputs": [],
   "source": [
    "Z_train, Z_test, y_train, y_test = train_test_split(Z, y, test_size=.3, random_state=103)"
   ]
  },
  {
   "cell_type": "code",
   "execution_count": null,
   "id": "8683a52a",
   "metadata": {},
   "outputs": [],
   "source": [
    "# Logistic regression with l1 penalty\n",
    "\n",
    "log_model5_l1 = LogisticRegression(solver='liblinear',penalty='l1',max_iter=1000)"
   ]
  },
  {
   "cell_type": "code",
   "execution_count": null,
   "id": "efaf3df3",
   "metadata": {},
   "outputs": [],
   "source": [
    "log_model5_l1.fit(Z_train,y_train)"
   ]
  },
  {
   "cell_type": "code",
   "execution_count": null,
   "id": "d412b641",
   "metadata": {},
   "outputs": [],
   "source": [
    "pred = log_model5_l1.predict(Z_test)"
   ]
  },
  {
   "cell_type": "code",
   "execution_count": null,
   "id": "df2f8485",
   "metadata": {},
   "outputs": [],
   "source": [
    "np.count_nonzero(log_model5_l1.coef_)"
   ]
  },
  {
   "cell_type": "code",
   "execution_count": null,
   "id": "de37eb40",
   "metadata": {},
   "outputs": [],
   "source": [
    "# Logistic regression with l1 penalty performs well at predicting Ph 5\n",
    "\n",
    "print(confusion_matrix(pred,y_test))"
   ]
  },
  {
   "cell_type": "code",
   "execution_count": null,
   "id": "58afdb55",
   "metadata": {},
   "outputs": [],
   "source": [
    "# Record AUC for Ph 5: .966\n",
    "\n",
    "roc_auc_score(y_test,log_model5_l1.decision_function(Z_test))"
   ]
  },
  {
   "cell_type": "code",
   "execution_count": null,
   "id": "0f74deae",
   "metadata": {},
   "outputs": [],
   "source": [
    "metrics.plot_roc_curve(log_model5_l1,Z_test,y_test)\n",
    "plt.show()"
   ]
  },
  {
   "cell_type": "code",
   "execution_count": null,
   "id": "790e7737",
   "metadata": {},
   "outputs": [],
   "source": [
    "# Try grid search over parameters for support vector classifier.\n",
    "\n",
    "param_grid = {'C': [0.1,1, 10, 100], 'gamma': [1,0.1,0.01,0.001], 'kernel': ['linear','rbf','poly']} "
   ]
  },
  {
   "cell_type": "code",
   "execution_count": null,
   "id": "740f9ce2",
   "metadata": {},
   "outputs": [],
   "source": [
    "grid = GridSearchCV(SVC(),param_grid,refit=True,verbose=4)"
   ]
  },
  {
   "cell_type": "code",
   "execution_count": null,
   "id": "76356d1c",
   "metadata": {},
   "outputs": [],
   "source": [
    "# This took over 2 hours.\n",
    "\n",
    "grid.fit(Z_train,y_train)"
   ]
  },
  {
   "cell_type": "code",
   "execution_count": null,
   "id": "0a0c78c5",
   "metadata": {},
   "outputs": [],
   "source": [
    "grid.best_params_"
   ]
  },
  {
   "cell_type": "code",
   "execution_count": null,
   "id": "f94c489b",
   "metadata": {},
   "outputs": [],
   "source": [
    "grid.best_score_"
   ]
  },
  {
   "cell_type": "code",
   "execution_count": null,
   "id": "3cd96b1f",
   "metadata": {},
   "outputs": [],
   "source": [
    "grid_pred = grid.predict(Z_test)"
   ]
  },
  {
   "cell_type": "code",
   "execution_count": null,
   "id": "5614665f",
   "metadata": {},
   "outputs": [],
   "source": [
    "# Performance of best SVC from grid is not as good as l1-regularized logistic regression.\n",
    "\n",
    "print(confusion_matrix(grid_pred,y_test))"
   ]
  },
  {
   "cell_type": "code",
   "execution_count": null,
   "id": "fee51e25",
   "metadata": {},
   "outputs": [],
   "source": [
    "roc_auc_score(y_test,grid.decision_function(Z_test))"
   ]
  },
  {
   "cell_type": "code",
   "execution_count": null,
   "id": "79d45882",
   "metadata": {},
   "outputs": [],
   "source": [
    "metrics.plot_roc_curve(grid,Z_test,y_test)\n",
    "plt.show()"
   ]
  },
  {
   "cell_type": "code",
   "execution_count": null,
   "id": "3d76bf20",
   "metadata": {},
   "outputs": [],
   "source": []
  }
 ],
 "metadata": {
  "kernelspec": {
   "display_name": "Python 3 (ipykernel)",
   "language": "python",
   "name": "python3"
  },
  "language_info": {
   "codemirror_mode": {
    "name": "ipython",
    "version": 3
   },
   "file_extension": ".py",
   "mimetype": "text/x-python",
   "name": "python",
   "nbconvert_exporter": "python",
   "pygments_lexer": "ipython3",
   "version": "3.9.7"
  }
 },
 "nbformat": 4,
 "nbformat_minor": 5
}
