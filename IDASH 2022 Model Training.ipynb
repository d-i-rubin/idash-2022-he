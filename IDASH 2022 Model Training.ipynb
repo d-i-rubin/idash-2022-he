{
 "cells": [
  {
   "cell_type": "code",
   "execution_count": 1,
   "id": "4474961e",
   "metadata": {},
   "outputs": [],
   "source": [
    "import numpy as np\n",
    "import pandas as pd"
   ]
  },
  {
   "cell_type": "code",
   "execution_count": 13,
   "id": "48e68736",
   "metadata": {},
   "outputs": [
    {
     "data": {
      "text/html": [
       "<div>\n",
       "<style scoped>\n",
       "    .dataframe tbody tr th:only-of-type {\n",
       "        vertical-align: middle;\n",
       "    }\n",
       "\n",
       "    .dataframe tbody tr th {\n",
       "        vertical-align: top;\n",
       "    }\n",
       "\n",
       "    .dataframe thead th {\n",
       "        text-align: right;\n",
       "    }\n",
       "</style>\n",
       "<table border=\"1\" class=\"dataframe\">\n",
       "  <thead>\n",
       "    <tr style=\"text-align: right;\">\n",
       "      <th></th>\n",
       "      <th>0</th>\n",
       "      <th>1</th>\n",
       "      <th>2</th>\n",
       "      <th>3</th>\n",
       "      <th>4</th>\n",
       "      <th>5</th>\n",
       "      <th>6</th>\n",
       "      <th>7</th>\n",
       "      <th>8</th>\n",
       "      <th>9</th>\n",
       "      <th>...</th>\n",
       "      <th>2994</th>\n",
       "      <th>2995</th>\n",
       "      <th>2996</th>\n",
       "      <th>2997</th>\n",
       "      <th>2998</th>\n",
       "      <th>2999</th>\n",
       "      <th>3000</th>\n",
       "      <th>3001</th>\n",
       "      <th>3002</th>\n",
       "      <th>3003</th>\n",
       "    </tr>\n",
       "  </thead>\n",
       "  <tbody>\n",
       "    <tr>\n",
       "      <th>0</th>\n",
       "      <td>1</td>\n",
       "      <td>91514</td>\n",
       "      <td>91515</td>\n",
       "      <td>rs376723915_A_C_0.426717</td>\n",
       "      <td>0</td>\n",
       "      <td>1</td>\n",
       "      <td>0</td>\n",
       "      <td>2</td>\n",
       "      <td>0</td>\n",
       "      <td>0</td>\n",
       "      <td>...</td>\n",
       "      <td>0</td>\n",
       "      <td>1</td>\n",
       "      <td>1</td>\n",
       "      <td>0</td>\n",
       "      <td>2</td>\n",
       "      <td>2</td>\n",
       "      <td>1</td>\n",
       "      <td>2</td>\n",
       "      <td>0</td>\n",
       "      <td>1</td>\n",
       "    </tr>\n",
       "    <tr>\n",
       "      <th>1</th>\n",
       "      <td>1</td>\n",
       "      <td>546801</td>\n",
       "      <td>546802</td>\n",
       "      <td>rs113633859_G_C_0.323283</td>\n",
       "      <td>0</td>\n",
       "      <td>0</td>\n",
       "      <td>0</td>\n",
       "      <td>0</td>\n",
       "      <td>2</td>\n",
       "      <td>0</td>\n",
       "      <td>...</td>\n",
       "      <td>1</td>\n",
       "      <td>1</td>\n",
       "      <td>0</td>\n",
       "      <td>1</td>\n",
       "      <td>2</td>\n",
       "      <td>0</td>\n",
       "      <td>0</td>\n",
       "      <td>0</td>\n",
       "      <td>0</td>\n",
       "      <td>1</td>\n",
       "    </tr>\n",
       "    <tr>\n",
       "      <th>2</th>\n",
       "      <td>1</td>\n",
       "      <td>568708</td>\n",
       "      <td>568709</td>\n",
       "      <td>rs148329687_A_G_0.189497</td>\n",
       "      <td>1</td>\n",
       "      <td>0</td>\n",
       "      <td>2</td>\n",
       "      <td>0</td>\n",
       "      <td>0</td>\n",
       "      <td>0</td>\n",
       "      <td>...</td>\n",
       "      <td>0</td>\n",
       "      <td>1</td>\n",
       "      <td>0</td>\n",
       "      <td>1</td>\n",
       "      <td>0</td>\n",
       "      <td>0</td>\n",
       "      <td>0</td>\n",
       "      <td>0</td>\n",
       "      <td>0</td>\n",
       "      <td>0</td>\n",
       "    </tr>\n",
       "    <tr>\n",
       "      <th>3</th>\n",
       "      <td>1</td>\n",
       "      <td>714018</td>\n",
       "      <td>714019</td>\n",
       "      <td>rs114983708_A_G_0.138379</td>\n",
       "      <td>0</td>\n",
       "      <td>0</td>\n",
       "      <td>1</td>\n",
       "      <td>0</td>\n",
       "      <td>0</td>\n",
       "      <td>1</td>\n",
       "      <td>...</td>\n",
       "      <td>0</td>\n",
       "      <td>0</td>\n",
       "      <td>0</td>\n",
       "      <td>1</td>\n",
       "      <td>0</td>\n",
       "      <td>0</td>\n",
       "      <td>0</td>\n",
       "      <td>0</td>\n",
       "      <td>0</td>\n",
       "      <td>0</td>\n",
       "    </tr>\n",
       "    <tr>\n",
       "      <th>4</th>\n",
       "      <td>1</td>\n",
       "      <td>743020</td>\n",
       "      <td>743021</td>\n",
       "      <td>rs3964475_T_C_0.107428</td>\n",
       "      <td>0</td>\n",
       "      <td>0</td>\n",
       "      <td>0</td>\n",
       "      <td>1</td>\n",
       "      <td>0</td>\n",
       "      <td>0</td>\n",
       "      <td>...</td>\n",
       "      <td>0</td>\n",
       "      <td>0</td>\n",
       "      <td>0</td>\n",
       "      <td>0</td>\n",
       "      <td>0</td>\n",
       "      <td>1</td>\n",
       "      <td>0</td>\n",
       "      <td>0</td>\n",
       "      <td>0</td>\n",
       "      <td>0</td>\n",
       "    </tr>\n",
       "    <tr>\n",
       "      <th>...</th>\n",
       "      <td>...</td>\n",
       "      <td>...</td>\n",
       "      <td>...</td>\n",
       "      <td>...</td>\n",
       "      <td>...</td>\n",
       "      <td>...</td>\n",
       "      <td>...</td>\n",
       "      <td>...</td>\n",
       "      <td>...</td>\n",
       "      <td>...</td>\n",
       "      <td>...</td>\n",
       "      <td>...</td>\n",
       "      <td>...</td>\n",
       "      <td>...</td>\n",
       "      <td>...</td>\n",
       "      <td>...</td>\n",
       "      <td>...</td>\n",
       "      <td>...</td>\n",
       "      <td>...</td>\n",
       "      <td>...</td>\n",
       "      <td>...</td>\n",
       "    </tr>\n",
       "    <tr>\n",
       "      <th>20385</th>\n",
       "      <td>1</td>\n",
       "      <td>249157314</td>\n",
       "      <td>249157315</td>\n",
       "      <td>rs57752339_G_T_0.210663</td>\n",
       "      <td>0</td>\n",
       "      <td>0</td>\n",
       "      <td>0</td>\n",
       "      <td>1</td>\n",
       "      <td>0</td>\n",
       "      <td>1</td>\n",
       "      <td>...</td>\n",
       "      <td>0</td>\n",
       "      <td>1</td>\n",
       "      <td>0</td>\n",
       "      <td>0</td>\n",
       "      <td>2</td>\n",
       "      <td>0</td>\n",
       "      <td>0</td>\n",
       "      <td>0</td>\n",
       "      <td>0</td>\n",
       "      <td>0</td>\n",
       "    </tr>\n",
       "    <tr>\n",
       "      <th>20386</th>\n",
       "      <td>1</td>\n",
       "      <td>249168106</td>\n",
       "      <td>249168107</td>\n",
       "      <td>rs4926501_G_C_0.455072</td>\n",
       "      <td>1</td>\n",
       "      <td>0</td>\n",
       "      <td>2</td>\n",
       "      <td>1</td>\n",
       "      <td>1</td>\n",
       "      <td>1</td>\n",
       "      <td>...</td>\n",
       "      <td>2</td>\n",
       "      <td>1</td>\n",
       "      <td>2</td>\n",
       "      <td>2</td>\n",
       "      <td>2</td>\n",
       "      <td>1</td>\n",
       "      <td>0</td>\n",
       "      <td>0</td>\n",
       "      <td>1</td>\n",
       "      <td>0</td>\n",
       "    </tr>\n",
       "    <tr>\n",
       "      <th>20387</th>\n",
       "      <td>1</td>\n",
       "      <td>249182057</td>\n",
       "      <td>249182058</td>\n",
       "      <td>rs12566755_A_G_0.182308</td>\n",
       "      <td>1</td>\n",
       "      <td>0</td>\n",
       "      <td>1</td>\n",
       "      <td>1</td>\n",
       "      <td>1</td>\n",
       "      <td>1</td>\n",
       "      <td>...</td>\n",
       "      <td>2</td>\n",
       "      <td>1</td>\n",
       "      <td>1</td>\n",
       "      <td>1</td>\n",
       "      <td>0</td>\n",
       "      <td>0</td>\n",
       "      <td>0</td>\n",
       "      <td>0</td>\n",
       "      <td>1</td>\n",
       "      <td>0</td>\n",
       "    </tr>\n",
       "    <tr>\n",
       "      <th>20388</th>\n",
       "      <td>1</td>\n",
       "      <td>249201267</td>\n",
       "      <td>249201268</td>\n",
       "      <td>rs7544246_G_A_0.556909</td>\n",
       "      <td>1</td>\n",
       "      <td>0</td>\n",
       "      <td>2</td>\n",
       "      <td>1</td>\n",
       "      <td>1</td>\n",
       "      <td>2</td>\n",
       "      <td>...</td>\n",
       "      <td>2</td>\n",
       "      <td>2</td>\n",
       "      <td>1</td>\n",
       "      <td>2</td>\n",
       "      <td>1</td>\n",
       "      <td>0</td>\n",
       "      <td>0</td>\n",
       "      <td>1</td>\n",
       "      <td>2</td>\n",
       "      <td>1</td>\n",
       "    </tr>\n",
       "    <tr>\n",
       "      <th>20389</th>\n",
       "      <td>1</td>\n",
       "      <td>249233055</td>\n",
       "      <td>249233056</td>\n",
       "      <td>rs200268662_C_T_0.601238</td>\n",
       "      <td>2</td>\n",
       "      <td>0</td>\n",
       "      <td>1</td>\n",
       "      <td>1</td>\n",
       "      <td>1</td>\n",
       "      <td>2</td>\n",
       "      <td>...</td>\n",
       "      <td>0</td>\n",
       "      <td>2</td>\n",
       "      <td>1</td>\n",
       "      <td>2</td>\n",
       "      <td>0</td>\n",
       "      <td>1</td>\n",
       "      <td>2</td>\n",
       "      <td>2</td>\n",
       "      <td>0</td>\n",
       "      <td>1</td>\n",
       "    </tr>\n",
       "  </tbody>\n",
       "</table>\n",
       "<p>20390 rows × 3004 columns</p>\n",
       "</div>"
      ],
      "text/plain": [
       "       0          1          2                         3     4     5     6     \\\n",
       "0         1      91514      91515  rs376723915_A_C_0.426717     0     1     0   \n",
       "1         1     546801     546802  rs113633859_G_C_0.323283     0     0     0   \n",
       "2         1     568708     568709  rs148329687_A_G_0.189497     1     0     2   \n",
       "3         1     714018     714019  rs114983708_A_G_0.138379     0     0     1   \n",
       "4         1     743020     743021    rs3964475_T_C_0.107428     0     0     0   \n",
       "...     ...        ...        ...                       ...   ...   ...   ...   \n",
       "20385     1  249157314  249157315   rs57752339_G_T_0.210663     0     0     0   \n",
       "20386     1  249168106  249168107    rs4926501_G_C_0.455072     1     0     2   \n",
       "20387     1  249182057  249182058   rs12566755_A_G_0.182308     1     0     1   \n",
       "20388     1  249201267  249201268    rs7544246_G_A_0.556909     1     0     2   \n",
       "20389     1  249233055  249233056  rs200268662_C_T_0.601238     2     0     1   \n",
       "\n",
       "       7     8     9     ...  2994  2995  2996  2997  2998  2999  3000  3001  \\\n",
       "0         2     0     0  ...     0     1     1     0     2     2     1     2   \n",
       "1         0     2     0  ...     1     1     0     1     2     0     0     0   \n",
       "2         0     0     0  ...     0     1     0     1     0     0     0     0   \n",
       "3         0     0     1  ...     0     0     0     1     0     0     0     0   \n",
       "4         1     0     0  ...     0     0     0     0     0     1     0     0   \n",
       "...     ...   ...   ...  ...   ...   ...   ...   ...   ...   ...   ...   ...   \n",
       "20385     1     0     1  ...     0     1     0     0     2     0     0     0   \n",
       "20386     1     1     1  ...     2     1     2     2     2     1     0     0   \n",
       "20387     1     1     1  ...     2     1     1     1     0     0     0     0   \n",
       "20388     1     1     2  ...     2     2     1     2     1     0     0     1   \n",
       "20389     1     1     2  ...     0     2     1     2     0     1     2     2   \n",
       "\n",
       "       3002  3003  \n",
       "0         0     1  \n",
       "1         0     1  \n",
       "2         0     0  \n",
       "3         0     0  \n",
       "4         0     0  \n",
       "...     ...   ...  \n",
       "20385     0     0  \n",
       "20386     1     0  \n",
       "20387     1     0  \n",
       "20388     2     1  \n",
       "20389     0     1  \n",
       "\n",
       "[20390 rows x 3004 columns]"
      ]
     },
     "execution_count": 13,
     "metadata": {},
     "output_type": "execute_result"
    }
   ],
   "source": [
    "#Read in genotype data\n",
    "\n",
    "genotype_df = pd.read_csv(\"genotypes.txt.gz\",header=None,delimiter=\"\\t\")\n",
    "genotype_df"
   ]
  },
  {
   "cell_type": "code",
   "execution_count": 32,
   "id": "d59164bd",
   "metadata": {},
   "outputs": [],
   "source": [
    "#Read first phenotype data\n",
    "\n",
    "ph1_df = pd.read_fwf(\"phenotypes_1.txt\",header=None, columns=['id','phenotype'])\n",
    "ph1_df.set_axis(['id','phenotype'],axis='columns',inplace=True)"
   ]
  },
  {
   "cell_type": "code",
   "execution_count": 38,
   "id": "07533e75",
   "metadata": {},
   "outputs": [
    {
     "data": {
      "text/html": [
       "<div>\n",
       "<style scoped>\n",
       "    .dataframe tbody tr th:only-of-type {\n",
       "        vertical-align: middle;\n",
       "    }\n",
       "\n",
       "    .dataframe tbody tr th {\n",
       "        vertical-align: top;\n",
       "    }\n",
       "\n",
       "    .dataframe thead th {\n",
       "        text-align: right;\n",
       "    }\n",
       "</style>\n",
       "<table border=\"1\" class=\"dataframe\">\n",
       "  <thead>\n",
       "    <tr style=\"text-align: right;\">\n",
       "      <th></th>\n",
       "      <th>phenotype</th>\n",
       "    </tr>\n",
       "    <tr>\n",
       "      <th>id</th>\n",
       "      <th></th>\n",
       "    </tr>\n",
       "  </thead>\n",
       "  <tbody>\n",
       "    <tr>\n",
       "      <th>4a4bb6530b53abe6fa331dc672aba6bb10cab470</th>\n",
       "      <td>-0.043713</td>\n",
       "    </tr>\n",
       "    <tr>\n",
       "      <th>763b70205b1dae15e84f14279072a54fa06e6f49</th>\n",
       "      <td>-0.177478</td>\n",
       "    </tr>\n",
       "    <tr>\n",
       "      <th>01c7487875a212d335951ccdc3977229dcfc0eb2</th>\n",
       "      <td>-0.065992</td>\n",
       "    </tr>\n",
       "    <tr>\n",
       "      <th>ccbc468dbcb1a6a7fa12092eae590d4fd60c6dbe</th>\n",
       "      <td>-0.071819</td>\n",
       "    </tr>\n",
       "    <tr>\n",
       "      <th>0f9f7366c87e9f155e0d26bad3fbab3735d70590</th>\n",
       "      <td>0.035178</td>\n",
       "    </tr>\n",
       "    <tr>\n",
       "      <th>...</th>\n",
       "      <td>...</td>\n",
       "    </tr>\n",
       "    <tr>\n",
       "      <th>053e7ff1132292eb9992cf87089b81c47626b26a</th>\n",
       "      <td>-0.084103</td>\n",
       "    </tr>\n",
       "    <tr>\n",
       "      <th>8dcf2cb4e8a4aba08b0e46cbc897adf00c1703f8</th>\n",
       "      <td>-0.058029</td>\n",
       "    </tr>\n",
       "    <tr>\n",
       "      <th>1d18af99311f260fb71716143d7a1e1ab634391a</th>\n",
       "      <td>-0.224420</td>\n",
       "    </tr>\n",
       "    <tr>\n",
       "      <th>e5ccd466cafed91a02cc92a82bce9bc749122f47</th>\n",
       "      <td>0.036070</td>\n",
       "    </tr>\n",
       "    <tr>\n",
       "      <th>f59555345ef6e3cdb0649e10dd1a5d5188caa348</th>\n",
       "      <td>-0.093000</td>\n",
       "    </tr>\n",
       "  </tbody>\n",
       "</table>\n",
       "<p>3000 rows × 1 columns</p>\n",
       "</div>"
      ],
      "text/plain": [
       "                                          phenotype\n",
       "id                                                 \n",
       "4a4bb6530b53abe6fa331dc672aba6bb10cab470  -0.043713\n",
       "763b70205b1dae15e84f14279072a54fa06e6f49  -0.177478\n",
       "01c7487875a212d335951ccdc3977229dcfc0eb2  -0.065992\n",
       "ccbc468dbcb1a6a7fa12092eae590d4fd60c6dbe  -0.071819\n",
       "0f9f7366c87e9f155e0d26bad3fbab3735d70590   0.035178\n",
       "...                                             ...\n",
       "053e7ff1132292eb9992cf87089b81c47626b26a  -0.084103\n",
       "8dcf2cb4e8a4aba08b0e46cbc897adf00c1703f8  -0.058029\n",
       "1d18af99311f260fb71716143d7a1e1ab634391a  -0.224420\n",
       "e5ccd466cafed91a02cc92a82bce9bc749122f47   0.036070\n",
       "f59555345ef6e3cdb0649e10dd1a5d5188caa348  -0.093000\n",
       "\n",
       "[3000 rows x 1 columns]"
      ]
     },
     "execution_count": 38,
     "metadata": {},
     "output_type": "execute_result"
    }
   ],
   "source": [
    "#Phenotype 1 data. Note that the order of the id's is different from the sample id list,\n",
    "#which is the order in the genotype dataframe.\n",
    "\n",
    "ph1_df.set_index('id',inplace=True)\n",
    "ph1_df"
   ]
  },
  {
   "cell_type": "code",
   "execution_count": 56,
   "id": "1dafadbe",
   "metadata": {},
   "outputs": [
    {
     "data": {
      "text/html": [
       "<div>\n",
       "<style scoped>\n",
       "    .dataframe tbody tr th:only-of-type {\n",
       "        vertical-align: middle;\n",
       "    }\n",
       "\n",
       "    .dataframe tbody tr th {\n",
       "        vertical-align: top;\n",
       "    }\n",
       "\n",
       "    .dataframe thead th {\n",
       "        text-align: right;\n",
       "    }\n",
       "</style>\n",
       "<table border=\"1\" class=\"dataframe\">\n",
       "  <thead>\n",
       "    <tr style=\"text-align: right;\">\n",
       "      <th></th>\n",
       "      <th>phenotype</th>\n",
       "    </tr>\n",
       "    <tr>\n",
       "      <th>id</th>\n",
       "      <th></th>\n",
       "    </tr>\n",
       "  </thead>\n",
       "  <tbody>\n",
       "    <tr>\n",
       "      <th>4af6fe7103a4f87252a696237f856a90324f2ded</th>\n",
       "      <td>0.049181</td>\n",
       "    </tr>\n",
       "    <tr>\n",
       "      <th>8ce39e97c34e1a24cc9daaa19f1ae8a574ecb892</th>\n",
       "      <td>0.058762</td>\n",
       "    </tr>\n",
       "    <tr>\n",
       "      <th>7240304ada0047259c81ce015cbd29c9d886dfcc</th>\n",
       "      <td>-0.071562</td>\n",
       "    </tr>\n",
       "    <tr>\n",
       "      <th>259cc41d1ab5f2c0c9e6b26df42a437b3a18d5d9</th>\n",
       "      <td>-0.141194</td>\n",
       "    </tr>\n",
       "    <tr>\n",
       "      <th>24201118185f08cc8747db82ea1617aa42275d07</th>\n",
       "      <td>-0.082285</td>\n",
       "    </tr>\n",
       "    <tr>\n",
       "      <th>...</th>\n",
       "      <td>...</td>\n",
       "    </tr>\n",
       "    <tr>\n",
       "      <th>1299333e77344b1c6524e3462a58fff4d724790f</th>\n",
       "      <td>-0.027274</td>\n",
       "    </tr>\n",
       "    <tr>\n",
       "      <th>706f478075d8d8025efcf2cfef850362697268fe</th>\n",
       "      <td>-0.040953</td>\n",
       "    </tr>\n",
       "    <tr>\n",
       "      <th>ca3c8cdb9659884565c782965eb70ef7974e2b15</th>\n",
       "      <td>0.397496</td>\n",
       "    </tr>\n",
       "    <tr>\n",
       "      <th>08f985e4676a9d28c5f930bd7e0a2de50b745b30</th>\n",
       "      <td>-0.008561</td>\n",
       "    </tr>\n",
       "    <tr>\n",
       "      <th>b4fc33e976773a77ab6581c9fed6804c5fe5e261</th>\n",
       "      <td>0.343327</td>\n",
       "    </tr>\n",
       "  </tbody>\n",
       "</table>\n",
       "<p>3000 rows × 1 columns</p>\n",
       "</div>"
      ],
      "text/plain": [
       "                                          phenotype\n",
       "id                                                 \n",
       "4af6fe7103a4f87252a696237f856a90324f2ded   0.049181\n",
       "8ce39e97c34e1a24cc9daaa19f1ae8a574ecb892   0.058762\n",
       "7240304ada0047259c81ce015cbd29c9d886dfcc  -0.071562\n",
       "259cc41d1ab5f2c0c9e6b26df42a437b3a18d5d9  -0.141194\n",
       "24201118185f08cc8747db82ea1617aa42275d07  -0.082285\n",
       "...                                             ...\n",
       "1299333e77344b1c6524e3462a58fff4d724790f  -0.027274\n",
       "706f478075d8d8025efcf2cfef850362697268fe  -0.040953\n",
       "ca3c8cdb9659884565c782965eb70ef7974e2b15   0.397496\n",
       "08f985e4676a9d28c5f930bd7e0a2de50b745b30  -0.008561\n",
       "b4fc33e976773a77ab6581c9fed6804c5fe5e261   0.343327\n",
       "\n",
       "[3000 rows x 1 columns]"
      ]
     },
     "execution_count": 56,
     "metadata": {},
     "output_type": "execute_result"
    }
   ],
   "source": [
    "ph2_df = pd.read_fwf(\"phenotypes_2.txt\",header=None)\n",
    "ph2_df.set_axis(['id','phenotype'],axis='columns',inplace=True)\n",
    "ph2_df.set_index('id',inplace=True)\n",
    "ph2_df"
   ]
  },
  {
   "cell_type": "code",
   "execution_count": 14,
   "id": "ce207860",
   "metadata": {},
   "outputs": [
    {
     "data": {
      "text/html": [
       "<div>\n",
       "<style scoped>\n",
       "    .dataframe tbody tr th:only-of-type {\n",
       "        vertical-align: middle;\n",
       "    }\n",
       "\n",
       "    .dataframe tbody tr th {\n",
       "        vertical-align: top;\n",
       "    }\n",
       "\n",
       "    .dataframe thead th {\n",
       "        text-align: right;\n",
       "    }\n",
       "</style>\n",
       "<table border=\"1\" class=\"dataframe\">\n",
       "  <thead>\n",
       "    <tr style=\"text-align: right;\">\n",
       "      <th></th>\n",
       "      <th>0</th>\n",
       "    </tr>\n",
       "  </thead>\n",
       "  <tbody>\n",
       "    <tr>\n",
       "      <th>0</th>\n",
       "      <td>d8e4f50989cf4f4142627b2e01dde505eafe0cad</td>\n",
       "    </tr>\n",
       "    <tr>\n",
       "      <th>1</th>\n",
       "      <td>4d784bfc402f201b78efb2404ed7c8b9ebf2126a</td>\n",
       "    </tr>\n",
       "    <tr>\n",
       "      <th>2</th>\n",
       "      <td>81b832a049175854a6054c729e403e43bfb11bc6</td>\n",
       "    </tr>\n",
       "    <tr>\n",
       "      <th>3</th>\n",
       "      <td>f5edd61883f0e8b42a7cc77757419b4161c4aa9a</td>\n",
       "    </tr>\n",
       "    <tr>\n",
       "      <th>4</th>\n",
       "      <td>ccf1a224f9e5e3c4780dac429691b56593b723b3</td>\n",
       "    </tr>\n",
       "    <tr>\n",
       "      <th>...</th>\n",
       "      <td>...</td>\n",
       "    </tr>\n",
       "    <tr>\n",
       "      <th>2995</th>\n",
       "      <td>b70c53920c2b178c9d901d793e18423c8f338cd8</td>\n",
       "    </tr>\n",
       "    <tr>\n",
       "      <th>2996</th>\n",
       "      <td>bfc4179929025f9e8d877585e97e009cfa705aed</td>\n",
       "    </tr>\n",
       "    <tr>\n",
       "      <th>2997</th>\n",
       "      <td>cb2cd678bc0c62f30443514f98bf067e443c929e</td>\n",
       "    </tr>\n",
       "    <tr>\n",
       "      <th>2998</th>\n",
       "      <td>76e1d8e319e270e45f1cd0641c8842af6f9dd2b3</td>\n",
       "    </tr>\n",
       "    <tr>\n",
       "      <th>2999</th>\n",
       "      <td>4567181cb7d7042447db50be1f48c5c2fbb093ed</td>\n",
       "    </tr>\n",
       "  </tbody>\n",
       "</table>\n",
       "<p>3000 rows × 1 columns</p>\n",
       "</div>"
      ],
      "text/plain": [
       "                                             0\n",
       "0     d8e4f50989cf4f4142627b2e01dde505eafe0cad\n",
       "1     4d784bfc402f201b78efb2404ed7c8b9ebf2126a\n",
       "2     81b832a049175854a6054c729e403e43bfb11bc6\n",
       "3     f5edd61883f0e8b42a7cc77757419b4161c4aa9a\n",
       "4     ccf1a224f9e5e3c4780dac429691b56593b723b3\n",
       "...                                        ...\n",
       "2995  b70c53920c2b178c9d901d793e18423c8f338cd8\n",
       "2996  bfc4179929025f9e8d877585e97e009cfa705aed\n",
       "2997  cb2cd678bc0c62f30443514f98bf067e443c929e\n",
       "2998  76e1d8e319e270e45f1cd0641c8842af6f9dd2b3\n",
       "2999  4567181cb7d7042447db50be1f48c5c2fbb093ed\n",
       "\n",
       "[3000 rows x 1 columns]"
      ]
     },
     "execution_count": 14,
     "metadata": {},
     "output_type": "execute_result"
    }
   ],
   "source": [
    "#Read in sample id's\n",
    "\n",
    "sample_ids = pd.read_csv(\"genotype_sample_ids.list\",header=None)\n",
    "sample_ids"
   ]
  },
  {
   "cell_type": "code",
   "execution_count": 21,
   "id": "304d78eb",
   "metadata": {},
   "outputs": [
    {
     "data": {
      "text/plain": [
       "['d8e4f50989cf4f4142627b2e01dde505eafe0cad',\n",
       " '4d784bfc402f201b78efb2404ed7c8b9ebf2126a',\n",
       " '81b832a049175854a6054c729e403e43bfb11bc6',\n",
       " 'f5edd61883f0e8b42a7cc77757419b4161c4aa9a',\n",
       " 'ccf1a224f9e5e3c4780dac429691b56593b723b3',\n",
       " '40b14a5b660779d63984fdbbb4d6f46adff61e2d',\n",
       " 'ec7a2a6acf842f4d8d35025c01596ca8f38840e8',\n",
       " '6f743b93744fd311ac6e8c0695ca8f4d427ec8b2',\n",
       " '6bf77562da2f6d0a0be7c1f89fa62c6ba89ddf3d',\n",
       " '8d74d186c4d476288158289e449f759d3d4d27bc',\n",
       " '9f22ea7726cef55361cf0f942f41e3824721d433',\n",
       " '6c98ce1a81540711b38ed1964ace06c8bc26988e',\n",
       " '185d0fea9cdc9bdca3d52eafd95f2ccdd0032660',\n",
       " '38ab054358c19bb7642a4cd88af11f54770c59f3',\n",
       " 'bcdac59e5f7a2ff7124134e62e2468cda7e3c72a',\n",
       " '0890804a654182d009dcd5f6a5a875e3b2606b9a',\n",
       " '3217b7bc34667b3c89d0429ac059810e6ba77fd9',\n",
       " '06ad7cc420fbe346552109a41e0db35f1edcfda2',\n",
       " '9f4d350e23fd5adefc73d02fef79b48532556ee4',\n",
       " 'cbb4003fcb7e351b314fe99d983dbaea4ac8815a',\n",
       " 'e14c46eeee766051719c743b7849a02d19b63ca5',\n",
       " '60002841e6b89731b62fc3989528107cd7d211bd',\n",
       " 'e6861d5f8a1c12011523f0f32efdac569b1e13f4',\n",
       " 'd8399701ba3e3d8f277fb08ddfc21a63b3765051',\n",
       " '543406128b83b3dc25d405508707cbdedaf39c77',\n",
       " '333fe9ad92aa71e5fd6f40bbc4d3ab895d7cbfb6',\n",
       " '9e1cc187aa6297d47ac01ab07cefe9dd2965d568',\n",
       " '1d18af99311f260fb71716143d7a1e1ab634391a',\n",
       " 'd4a0b1dfb6a7b8dffd989cbad233a989db87108e',\n",
       " '4ff50875a8208d7b8c9d3bcbebbba6004bd49a0b',\n",
       " '15e5b07587eee6c6c66bc68b0fdae880a44f67a4',\n",
       " '914ec8369c43e211852a3a45296590058fcd2364',\n",
       " '0cd1bce37a869ae4a52648aecfb16c5f287be7aa',\n",
       " '6f4037f17d073b958e90193fde08425ce76b6970',\n",
       " 'a0c293aa684ca29af68acf019912a0d96942d4fd',\n",
       " 'bfe054c61cbcdbc849444e71477330b0531cdd17',\n",
       " '84bb9704a823b50555b573601b59a95346ff1523',\n",
       " 'd4c70e668005fe18d93d66d2d6784b846bc2c382',\n",
       " 'f8b8705f4ebe840e5630488b4cb5f6a70a5c5256',\n",
       " '880d48a2dd5f865148d4bc40c3c31a0f6e513be2',\n",
       " 'a36eee8e9c65466dd3ff079faa8b51ad0b890f18',\n",
       " 'd6a757d5e57b5e5625191405aa948a6a66bdbf3e',\n",
       " '3430f34cd36dea9c9f3905e093eaf61b8ccdcf5c',\n",
       " 'aaec8071f61fea9a0c5b5ab9908c5685abe04c57',\n",
       " '1781598862ad94319daf35ac6aa799eda445ba4c',\n",
       " '112e4a8918bee6ec4a72645a9cf3f9c416cd4762',\n",
       " 'b883c09f96882703028be7673372c5e901bc41a5',\n",
       " '30c6158bac45ab9a663b2284c391a3070e99bc98',\n",
       " 'e0eea40bfc4c3c962329b95ea3442289119739ae',\n",
       " '7bc4840bc9c02dc9826a6a3ce18e75db69f72020',\n",
       " '6c95db49ec48c99c982d3a5d1f2cacc7730b89cb',\n",
       " 'b9520e572d3498abe3ee3b7f217b915d510d7649',\n",
       " 'e5ccd466cafed91a02cc92a82bce9bc749122f47',\n",
       " '54097fc39195efaf9f5d905e5343f4be6dd54ad8',\n",
       " '26024cf6db973fbec3233897e07564e3d3bf4f81',\n",
       " 'f3c64959cdea8278af933baf6d463d4a003898c8',\n",
       " '5ed65c560e1ae6c88611e68bb15dc039f6b31906',\n",
       " '35685053078ec07bbd74f727045a9e92a4376019',\n",
       " '9313978ba2dc922f4156cdf991394ea1e8c56f00',\n",
       " '3df14cb83157b695691c7a4f3b6be3d9c65b6830',\n",
       " '9c41636cd76b0ba9ed9b068b64fb8f97c275942f',\n",
       " '4591769c43ca4f008f3b5ff7ccd12b1fb235ad31',\n",
       " '62bbcf304fc644d0c6ce7f64ef777262076c01bc',\n",
       " '99136b0eddaff26e088a61dc382e4b1ba09cf06c',\n",
       " '7c13a52d9b56b1db9d3ef0c9446d73b6eee1fd97',\n",
       " '060566047171d3e0029f73caf57660039130935e',\n",
       " '7c606c6740b94a56aedb65b13a339596768bcc48',\n",
       " 'f1fd3fc0e5030d5fc6d3f96f430d37be4f0ad8f6',\n",
       " 'a54c0e0a84d0ed24bc53643043419ef4127c3ca7',\n",
       " '1b43c1a74c01c18e0d1f969f9fb578337cb6186c',\n",
       " '3290c624ad4fe5a26521b0a60d3ac9797caf9e84',\n",
       " '305d8d501932868685b51289a2699e021336a020',\n",
       " '609d63e3b7634941ae43a60030de7c1276fc37ac',\n",
       " 'e22a2a9f2953ddb553da376560512b0089769279',\n",
       " '6879805f4f15c028640780d74939801b13eddd6a',\n",
       " '424a396342565b7f9a68b0f8e9532055b9473649',\n",
       " 'af347939948e05605e327289e37912bd2bec47c4',\n",
       " '77087b94b8de6777aeb04b371ad5f4d870720313',\n",
       " 'e0cc8a9187f680a752885deb2afddeac49e530e4',\n",
       " '71efdce268868be2f98bac5bac13f402837b8f20',\n",
       " '2681ac91f4d0fb16da03756d124598c0496f3d26',\n",
       " '58e280f65253ec086fceb73407e272e9599c850a',\n",
       " 'd292287520b6d70d85ea8c289a9ed65160cf1d06',\n",
       " 'e6acb4c774470c9b51724828fdddaaef2619da86',\n",
       " '4987e598983ca01e98048deae0b1cf4c5e8ea806',\n",
       " 'e08b6897212a136226fe76c574ef56ef296c6f05',\n",
       " '591dc11cf193e3fc2c2c31bcc9ff7bcacf00c7d9',\n",
       " '678e0d467d3c78da354e3bb3afcf3b6a11387af1',\n",
       " '9951538c579fbb41fd8b4589119f2442eb42b48b',\n",
       " 'b85f31ca1f12b7479b81db907c0531a9fcaf9a9d',\n",
       " '0ff1c81ff1c4b04e9967308ff622f91ad0b720be',\n",
       " '7761067856383abbf20173b7de263da3d0867b1b',\n",
       " 'e9277b989810f87981cd6838ab4ea52fdfe79c5f',\n",
       " '8ca36dd5e78f8106e2e9091bcd48980adf4fca2f',\n",
       " '53d35a8bb46428c26e54836179d95e4ad7cd1f27',\n",
       " '12e5ac85642c9f94d5f59d85ccae50b9b4d352c2',\n",
       " 'e7327365f5ae869e36a5579866045f250adb5606',\n",
       " '35fc1ea0febfbe2948784eea541066112523cb81',\n",
       " '4827bef34ae76421c2e7bbe6ca6e5c491159d11a',\n",
       " '4aab0f5df8475e9c60365d2e7be53ec189428027',\n",
       " '9e3f78c2d086e8e8175d4c2d619e74cdbb092a84',\n",
       " 'cb67a02cb4c67c308f2ed4e346f57e7689cb3e92',\n",
       " '522aebb50de4addab7463ca368fab3dfcc076e66',\n",
       " 'd65705f0ca079e36150ec1494af4cca61b7e0d15',\n",
       " 'c31be620d935783e64249a91fccecb5c5362eac5',\n",
       " 'e32894a81cef5f14b33d7b8b5df47e8617a0f9f0',\n",
       " 'e7f2e56ea974b49bda0f5925c7635d7abae28c9f',\n",
       " '07b9e8f445485889c34447a1cf10003723c74123',\n",
       " '5a215788b91930046a7ec6cfa12db0a09ac85729',\n",
       " 'c301e58db0dbced102f0327c2175aadc39c38e08',\n",
       " 'db5ca3accc7949abcb3e9ab56644ab13f36ff1e8',\n",
       " '5d1e0a5d17ee5aa513b5d930630a0b83e03e2f50',\n",
       " '7184b1aea71a8f3ddbf4692c5b09094168aad1f1',\n",
       " '759c420dfe534b13d3b74da4b909dd768ed9802a',\n",
       " 'ccf27044a54885781f593afbdae4f96f3252011e',\n",
       " '075fa12dcaea844793c6e8373a8b07c75eaf2a19',\n",
       " '08a082c8ebaea4c42c77e4b9031b014f1d94ea7d',\n",
       " '35e032258d3c1e859431e2e9a604552089400571',\n",
       " 'fe4af0c73223ffbf3083e817d8f0a7a94edf7751',\n",
       " 'ac13b9b264709a90a32db6bfba12330e097c5560',\n",
       " '3f9289a47571ca9d941f1f20062539354b5f5482',\n",
       " '954014454dcae4f7321aeacdcd601b858223fe2d',\n",
       " 'b925f3af431b5571b1746df107a749c04f9024d0',\n",
       " '29ec9efddced8e1370e34d08db0e5bed5dc58228',\n",
       " '695c227ad75ae7b353efbde42c35d25792f90f3d',\n",
       " '77961b80ec5c510b754ffe1b5260e38cdb31449d',\n",
       " 'cac0438cac677a143a1163f0840b60f37ed400cf',\n",
       " '59cbbd13c01b58c202f2beff0c621ae07d9caf1e',\n",
       " 'c2d23bcdf9c4427177e75577d68346db1fe8bea2',\n",
       " '689aad23a75bc889dc202c2c125432b65594488c',\n",
       " '4b43f7af9af20e68217a9206d03958bc0c9df700',\n",
       " 'a13cbd124e8a48596c0775f7521ef56648a2b352',\n",
       " '9e1fe2020ae870b122614be603c0f302ffa488c1',\n",
       " 'f987b496222fcda60983a5c277960365c51d482b',\n",
       " 'b250d12f78edb47e71112afc2590c780e48cf7b6',\n",
       " 'd002b84b5571ba6a56017100fc23fd5c39c500cf',\n",
       " 'b16026b230d5ebb53df6d129ed0c9ad809fc9d81',\n",
       " 'ab3c9a4fff65edc3116b3545092aeb9524d24e05',\n",
       " 'd1cf1c885e0f75fe7a2fe074ebeba7b2a79b570d',\n",
       " 'b727c7b7842213575bd4875668a5fc3cc463ec74',\n",
       " '48a823347a66f8a046c56c28658e94395ef39f13',\n",
       " '83ec00df50ec1c0a5625295605a58dd3eecd8b28',\n",
       " 'a8c3dabaffdde4d9464f063a605a45caceb3431f',\n",
       " 'e08aae71448d88724a837635119acf82208ffcf4',\n",
       " '77a10f466c32309eabcc11fc534d930f146a99af',\n",
       " 'baa694535570ad6ee53eafe9430bf335c96e7c02',\n",
       " 'ead122a709601e71844c42db3514e460e74eef91',\n",
       " '259f720eab18ee28a73eff3f584deec036f185e3',\n",
       " '54362c003a404c3818e8c803ffbc770d0f0cd430',\n",
       " 'c13e8300da15725952de7fa738a14aae48442353',\n",
       " '3f4888ea860af0f9a9c95f263575978de7eeddf8',\n",
       " 'e3106d6eaaa26d86c8d52c05e93223dbd713425f',\n",
       " '9835ea0da03e81931ca7aa9d8760bc2c7ddce8de',\n",
       " '9aeb6a6942b1037daf6ad537beda1242b0e88ed5',\n",
       " '8b8a9402e377366b6868d0d94e8497a9f0dbd079',\n",
       " '963cba3c8f589a40c104f5c24f3e407742bae107',\n",
       " '150d6e5ad4677a00dd32cd72135115db647db7ed',\n",
       " '4f2ebbfb2a71a7607a0404f067f4040568965a13',\n",
       " '15543279d29434d4912ba38d531fd938d4663343',\n",
       " '78dab8a003e4539b973cdd2fc8a5316183802a68',\n",
       " 'f089767e567b1b2d51103e297df67031637472d8',\n",
       " '26d5fa0b1a6a3097e06e1658cbf93dc018765515',\n",
       " '80c5c498548a0a88b751194a905844e8db80a45a',\n",
       " '89a24910cd3b666475de2bbe67f4640d57f34a6b',\n",
       " 'd5ca307b3ea172857b770c0ff25366ac8b123990',\n",
       " 'dddb1cddc378a709fe2a10495f3b1bcb9f0fa14e',\n",
       " 'a46c446b4321121ccc5a41569284e58525599f0c',\n",
       " '3dba567788e97f3d0bc7b876c0b5d4da92bae43a',\n",
       " '709fbaf597b381408d44654843bf34b7fbc35ccb',\n",
       " '26973a31c454e824169f79d6df9a258592eaacb2',\n",
       " 'd92a8a64a627e1fd129497cb4e64be70e8ed6d59',\n",
       " '48fb9815dbbe9aabddaf9f9b65e16c8389a2a114',\n",
       " 'e4c51f4f938a21d98ed8721707034906aec898f3',\n",
       " '9a8a1b998c6705a94365731a00655ed822da17af',\n",
       " 'eb9ac00f039a28f2d7d2491c7691d0dd8593bd83',\n",
       " 'f88c4ba3418fb32ae2f0a42338b9d05df34b428a',\n",
       " 'afa4dc02f2186db53f3e5ce0d1ed2da421f0b236',\n",
       " '2a0ae91561cc0cd4a4696f4e0c941fd078b9138e',\n",
       " 'fefee0ba56b3b9d88314c50bea6810a02f2e6579',\n",
       " 'cf648e4ae46af957077b85ef281a7756e12c359f',\n",
       " '451f239c53c9ae022dc493a3fe2b4e5f63649707',\n",
       " '142151637d8829ad7c40e06d5c9e3872b8a7fb3b',\n",
       " '1af88c94ae639c1689150f4a4b436bee4baf7f32',\n",
       " '5365f2fc33062dafebfb4b48b7f8c12f93f9cfe4',\n",
       " 'e5e288c6e4768714642880bbd6fa6fc932d4cd9c',\n",
       " 'bf10ff3c4a96c3f4acad16bf267d12b11f858754',\n",
       " 'd892582dbd0b512fbeaf2df9687403699e14f894',\n",
       " '9e353ee6b1e673bd51f2a4e216d8731ff5e12e7d',\n",
       " '48d4073651aad4d5caba0ffde4e4759a9546c32d',\n",
       " '392b31afccf1d865f5dba4eedfea474f4c695a2b',\n",
       " 'f413ba894fe0a482761e666facd347c35aa961d4',\n",
       " '573cc56fb2e7a4f4e69d22b0e7ce236662859756',\n",
       " 'd5f066403e18e70571b8030afd4710f8187d13e1',\n",
       " '64b9637e5ed883ec0897715afb2eaec3bf9ed407',\n",
       " 'ba2e87c5dce93b153b84102ec16dadb8edce4a88',\n",
       " 'bd87f528e397f864063ea1964137ba958bf59318',\n",
       " '5c6c4a1087a5a0de9b064b276805889717b845cf',\n",
       " '0e11da4149d001370fcfbabeb7adb0af473fb33d',\n",
       " 'c47a9c6ac4d70ccc99ffca79c2c50f24d9f771a7',\n",
       " 'd3b5fa947e4c4ff2f78cd1c15ac2c540eab2c3d3',\n",
       " '55488ed8d0a26734535c4d0676080c9270aea543',\n",
       " '682c36cd409e38d9e31b94da7735474cc4799c3a',\n",
       " 'b38d512e21ef11a2d09b0553e6f3d0f6bfb15b5f',\n",
       " '0aaa3acd163a9d6310a935de8cf13c612c95569c',\n",
       " '7234e382f53212d8dae85c99fb5a4a7b8a1c510b',\n",
       " '717eceda7f7e2aba165449aba309ce85f7eb403a',\n",
       " '481256ca6d53b133b78fd53f56cf49d122182461',\n",
       " '7f9fa912a429965d20ee13d0716ddfebfa942ee4',\n",
       " '31b1d840fd1c598cd3921eaaeafed3e0e06f0755',\n",
       " 'e196059d26a3e798c203d599a9acf41bc501da15',\n",
       " '5e81ae5f32233317cff0e56f3cd6a416904a35cc',\n",
       " 'fb5b582fd51f617f2da299e61a9f544b9bef2b60',\n",
       " 'efa3c9b75ada119d46239cac6c77fb0f8caf4506',\n",
       " 'acdbc253efddfb29aa595cdbb98ac4d420b7f2da',\n",
       " 'fc7d5dd554c30e192e9ee27e92fa512bc7e94f2a',\n",
       " '8718b651dd3092e01260401d539f72b86ed765b7',\n",
       " 'd7d17cdcd37bae7ba962ef72b21772bbce8d6a9b',\n",
       " 'a98c7a7f79ac3a0f5264ebfcbdb5de8584901bcc',\n",
       " 'b70c85b97578dae3fe4323855872363e3dc2ad17',\n",
       " '9f8284558d1867c44ca85cef3ee17a3ef0cabc8e',\n",
       " '91b304b2f333914069d34334ac1c4b70bbb2edc8',\n",
       " '181fc05014612c4c7980ac61ae557635f7daeb17',\n",
       " '0a673bf9b9586f6dcb37ec0fa586b3994854a0bf',\n",
       " '0e1138f8bc7a89d9558776a359dc2b442fcb215e',\n",
       " 'c6fbaee911e477a1a1d96b2d3cdcb106b7dcba53',\n",
       " 'a9f15359ebb03e5e967a63a182a44848f6455806',\n",
       " '3ff1e718f2eb98accc38d8c82d8b93781ff123f8',\n",
       " '694d24808fcb39dfefbcf43fc5307a949baff636',\n",
       " '8037b3ea313e02aa611a6e56a25632674505c764',\n",
       " 'de5f09d10bc8475f7da1df200eaf4508b5ba4f86',\n",
       " '004d5ae505dbf6d3dde89795dddc1fdf88388661',\n",
       " 'bc7fe36937bff18af65d6b4938dd00ef7242dd3a',\n",
       " '51d40bf945ddd9eaadfa28e7e9a83c4f6d061a0e',\n",
       " 'ed28ca672ab6d394052a788f50f48e6271834a74',\n",
       " 'ce64ca0e3de6ba7a6af5f7d3a5092f0c56835b51',\n",
       " '04cf26660b5ce533014f385c8c4f54f0a7f69d6e',\n",
       " 'dffc115d26ebea0f1fa2a062d3a3559f755a57a3',\n",
       " 'cbef0f7adaac2fa34f0f035a4960f5a5d0353433',\n",
       " 'bc7f3058b3cf57654822ea54426cb7045b6db530',\n",
       " 'a559bbb830c3d3e0cf33c90ec9d8eb7897ca48a8',\n",
       " '15bd141cf20cf03e7e0e0f63c587e92b8cf54e69',\n",
       " '068fd2289f1d5d5a685b84dc434fd997169d4665',\n",
       " '0568a37512f10b1b9871635f600d9296f7270607',\n",
       " 'b6d51d5d70d6fee6b3efb0066ad5b1337393f88f',\n",
       " '8669ee1fb37b1ebc50040bc9584ccfeb10029160',\n",
       " '8abfffd80b8cbd406e98676a2e84b1c0db7872a9',\n",
       " '6e3399f79ebcc57e59a3199d27b9754d101564ff',\n",
       " '1ffc8ef0405cb6722873f2e71115daeb7797b117',\n",
       " '809d706569ad077774b1739f287218a12a97c908',\n",
       " 'e33ecd5482036f59a20bd7d7e7f6f7f89ed05bc5',\n",
       " 'ab51dce806b5478b6a9c45fe938e743f507314a9',\n",
       " '0ad6920ab77005914ae2413f795ff8b47d7d7036',\n",
       " '750708785852d84f77a9675c0c5defba64d7e3c2',\n",
       " '1d65772a83f8eed160eb54300deaee6a2e1d7065',\n",
       " '35d8e5ab94787f1e67d83c36570586f3f06682af',\n",
       " 'b8011befde16e53d7d20663d146e47d92ecb58af',\n",
       " '5addb09b19db77044da093f5f407d5c544698290',\n",
       " 'f1697b76ec271be80383c0f7e5c4fa72aa5048a4',\n",
       " '8885a08f5862a9b4cc23dfe0c11f28fbc9e569f4',\n",
       " '3d901bf1db788b7a053942864b37fd3c18fd4a73',\n",
       " 'eb8d386b206c1f35a15ad00ea73b11cdbc1c1317',\n",
       " 'c3ffefda29488b69b0de3fc1329454d5a2c186f1',\n",
       " '8aad0ec868803bc1cfe6b47d60fc225445f2151e',\n",
       " '18c8a27987a6229e15716e593df5ae032b962ae7',\n",
       " 'b25f244ea26617c363a06498cde6725cfc571a5f',\n",
       " '0d297c97f39d7b75ac842ee20c4e3c9d92df8585',\n",
       " 'd4e660eee0c2f881080eba51e4501f95656a3ac2',\n",
       " '5da0d40f47479fc26172b83d063eba18ab707c40',\n",
       " '7d4d7866083f1b1bc156e3ff6c5f63d15a66a3a0',\n",
       " 'b4fc33e976773a77ab6581c9fed6804c5fe5e261',\n",
       " 'f19d15c6459691b8ff120dd990fe38bca3f27304',\n",
       " 'da7f09eb7a8676846e246fda547dea7e7ac3a4c3',\n",
       " '07f61c83e4006b37f6e9e2e4e6a6f1aca71f5674',\n",
       " '4594ca8e1208aacbd809d9b88a9060a6fb575057',\n",
       " '264927e7090f3ec6fedb2b0c4603ddb51b425f64',\n",
       " 'ed18807bdb8ef10ef458f230ff5af9b09a1f0f6d',\n",
       " '8fd66167774a3f404d3ff62039afa1627dbfc323',\n",
       " '926bcb0e3a42d024ef7037102ef859a69245b682',\n",
       " 'd978854419932a41197ef76a9e906cdc23ad9189',\n",
       " '142eab6a65bcad4107eec8c278479566d85146f6',\n",
       " 'd652ca9e73729368d190eb6af7953b88fd1aa737',\n",
       " 'cfbc2eaead67761fb50fbc7625b64b2986bdc69f',\n",
       " 'adb7834fe6022c76586d0201f0949e118ffe1b75',\n",
       " '712351d7a86412a636f3ead26eb27806013dc322',\n",
       " 'd3684870348ac09fbab6310a1c8237f334764d22',\n",
       " '036b9d48453bd311867f2ef9a3e910cc835ab513',\n",
       " '31167570f5b87c89e5bd3a718730f4f4420ff833',\n",
       " 'ab33fff2e439ba47019a8625c11dd5e35d439868',\n",
       " 'f0cf3e25158abd456184954df20f8f291fc29338',\n",
       " '64ac1263e0d84f63cf3360fbda6b1b1e1077b2a3',\n",
       " 'ac2bcb8d7e04d0f773a0b9393b614d973fd7561c',\n",
       " '59693ec893ac73896c1310298f11e7ee8c1832e4',\n",
       " '0187e61f4d4dc0ffae2370ec0908525d5bf974d8',\n",
       " 'f79c31d5227a725306770b549f4b02d640b648cf',\n",
       " '7305b48aa53cd42319e9b5f8122fc0827a8b9dac',\n",
       " '99f5c1b6b344ffdd93ee1b292a434d80e66c0b16',\n",
       " '0213f5c7ff85c25a8337932b6caa39757a31e68a',\n",
       " '875c32a3ca69c74aa3a3ba2dd2c6f2b5e1c2b4da',\n",
       " 'e51f3d22137d9b9b88753c4d1c72d54f01d85bf3',\n",
       " '4374877f830992fad339c4f9a523cdd00b43f53c',\n",
       " '2b40f6dcf93d0ddf6ff3c3e00423c839800a0667',\n",
       " '5e59c09dedf3fc4e0ca532b96930f9e66b06f07a',\n",
       " 'e01623f04d7dd6125dcdd478d1aafc3269ccff7e',\n",
       " '370dda1f15763e44082eaff204cce07030450efd',\n",
       " '7f0882d48f7f10ec3e41bc9bc85f611edc4cec28',\n",
       " '7f875ba3808253f89446136dd7e553285160bef3',\n",
       " '5db32fca6248a69fa879b9443b648c0b1b848c4b',\n",
       " '3b9f240af45e8b5d5f7fa90a2dea88b8f9e0b54e',\n",
       " '6ff306c7674607d03d0ec1be55484595721e00ff',\n",
       " 'b22aa14731e0ec7916c51b2b12d3adc6bc0cb108',\n",
       " '81c6998cc0f50e846593fd0604e2a526c7dce4ca',\n",
       " '0f08e4bf24ae3247b9f276375e8eb269c62a0c25',\n",
       " 'c3f11a53fb74d5933a6e99d797e46a263c0f8e95',\n",
       " 'd907f6d692f9918359b5b00563214294d4213bf9',\n",
       " 'bf08944503b760803c48a18f10f0c13a05545106',\n",
       " '58ff7c7b875065a6e71239e0a6479755dbf151c4',\n",
       " '037f3134bdf9506e983ba275841441ded79bc3be',\n",
       " 'de4f3efd4cd678d3c78c10bba555fd0a069a3dd7',\n",
       " '690959bca777e55d069aec8bfb499c185fce4a84',\n",
       " '2fb52a56bfad3e32f67ad2db119d1489cbaf0c16',\n",
       " 'ef16a2459ce5fb2cf4afeb7e431c669acfb16e69',\n",
       " '2717be6d388080a99441c3a064eff2a5010251c3',\n",
       " 'a374d5ab26ce6e7ddc51c518b2f5b0c1f5b663e0',\n",
       " 'c924c6e223dcc1d518c7fd31a4fc44a985e0eaf3',\n",
       " 'b924cbd5a79cf38b26439d0ed78bf816714ecb42',\n",
       " '0b09af58c02fabe84a741f183e91c1614f607247',\n",
       " '62af0d02710703c0ae718755775a1b7da15a38ba',\n",
       " '7691bb9efa4a4f53ec867ed680da5e3bdf0f97b1',\n",
       " '4d25efbbff9a29c378b11cdc86e1d9f61a28e2c9',\n",
       " '978eef9df15c8533b1059e8a1c2350a158f3591a',\n",
       " 'de87ee0c0cfacec097ff59299bcc00d7bf3b5760',\n",
       " '9de1fc95b9b943a4d0503a2cac2b61dfd7a3aaab',\n",
       " '7a698d80a89a3a0ccd97347219c901ee2b1349a4',\n",
       " 'b1b8332f47cc27f2eb3b6eedce13cc93afd18148',\n",
       " 'c34e27e816dba09ebdc337f3439c139b030c5b47',\n",
       " '529d9e4acd07972b72d275dd3e53d6bbc4f6a6e5',\n",
       " '27ff7c31caad7a42159492d7f57b0aa4af6884b7',\n",
       " 'b46e9462f45b25c8bd0772c7ccaaca281915611b',\n",
       " 'e8a35e5187e9b94ab5866c5a199c4a72949236d4',\n",
       " '43655fa8b2430c2f487d9ae84df55907e3792dfe',\n",
       " 'd8dcd71ed08d0d78eb6504051c575b7799a014e1',\n",
       " 'c7f6657aacf4c10f7098677f1beae305b3a1c862',\n",
       " 'abb900c984b397ab3df3d2bb1e1b0ea30917f6c0',\n",
       " 'd14f0ac22da011c229212bf7c49ea00d15b69b56',\n",
       " '8f54d35d14ecc1e860488730b0070c2c61fecd45',\n",
       " 'a7049a1c9acf367c30744201b7e55b81fbab32d9',\n",
       " '0fca96e1c3ebb124e17a42a22c704427498d97e5',\n",
       " 'ba06575c4a2b5f0357d7b3ff0c31623ebc2518e7',\n",
       " '4d121ea754af454e3d366b2f5f78e2e4edd5243f',\n",
       " '1a90448ac10148d21c9d260338aea3002b2e66c3',\n",
       " '5b2cec809a9a36c0d75447a8d24ca3c5ae500492',\n",
       " 'b7e35f458c7717b5786f3c0fdc749bc7a2a6f294',\n",
       " 'ccfe40c9db1452b4176ab655266a190dcc777790',\n",
       " 'ed04d7ea07aacf82e0fdbe407a5b38cfb9285c8d',\n",
       " '043050cb8954f7f03d445280e73079b9b8dd0ba1',\n",
       " '89ebb11fb24a190b549b4a1006749713ab077d11',\n",
       " 'ace113d27669949fb37fe3303d7fee8ec0505529',\n",
       " '63fb9da7fa74b290615ac3be8dd9dc3addbc4a8e',\n",
       " '1cc612a256d5ce400479f816706e046d70b2a53e',\n",
       " '88b8b92379019706bee380fa8478719fb6ccc0e0',\n",
       " '96a22e37db0f75022bab9466952b30d5f643b1b3',\n",
       " 'a898351c4abc109700776184c17e5c94ee2d2581',\n",
       " '387c8031f5df293019c63da6bfd4f323afa676bf',\n",
       " '8b223810506a5c2d36aa4d20da60bd69d6fcec60',\n",
       " '42412e80d3642ba56234d56b5470aeac702984df',\n",
       " '265e157f0dca29ddc0cd7ed792686f90a447d46b',\n",
       " 'b031381fef6e1cfbbba88359258dd31afa17cb8a',\n",
       " 'da01a4001932871e71ad5e8535fec38a03e870f5',\n",
       " 'b998643f3abb27ff048190e8e951c69ad8c28ee3',\n",
       " '0e148cff613157a97ecf1c36f0924c6d457c7847',\n",
       " 'e601e454765fcd982c1ee7971a34210b1831a8cb',\n",
       " 'c7a71ac35705568042574ec0081ef0dbf4aa19e6',\n",
       " '5beacb265938d0169bd1c9ccdaca547d8e8ecf8e',\n",
       " 'dc1bb0825f4810315e62a198134ff5182386a893',\n",
       " 'ad8027a75e0b3e63beef2aa87860edcb7ca7d977',\n",
       " 'c710d8ac8e74f7d7f5ebc60faed24b2211b560f8',\n",
       " 'ca5728f251c283b831558b86879c890fffcdb654',\n",
       " '707e12935834e157705e3b77a6901fcae5aca185',\n",
       " '7957e59f1774c820958af9a865a4c36fabc6ebad',\n",
       " '37f0b0ca7be1ca9bd8d03e8c7dcf7fe528f242e1',\n",
       " '006fb81c119c9c7ef1d6d7c2c75eefb9b83332e4',\n",
       " '0cbab06517719a6bca5ee2c5fcf61e3cc5316e49',\n",
       " '7a6feeb65a866fcb33be783653dac34ecc31564f',\n",
       " 'bbff8b937262fb20585d7fc0811a9560f0bf0cd9',\n",
       " '9f0a8c7ee6c0953f773bda0822d63d7d8b4adbb3',\n",
       " '873ca72e418f145d0c23a1026ddaa1dbbe3a50c1',\n",
       " '19f599c61963e3048b0e86c404c67f6bb46bd102',\n",
       " 'd05184595a4b9eb9cf9748bd17f927ac731bba0c',\n",
       " '4cda57eb37aa02772e051ed6340e6b34e28dc029',\n",
       " 'e03b954f3cd4ba52d96132680f3578f173fb4569',\n",
       " 'fa757ec46350d7c5c609e222d99f1ba10be87517',\n",
       " 'c54519ffa8432749c3f6a61a028a2ed3836c40d9',\n",
       " '47b14446a4b28bdc47314c3ac1c3602d0ceca0b8',\n",
       " '74900e0b0ed8b9e1f01ea1aaf86d25bee688187d',\n",
       " '0bf1462a82ef6e1c8d65cd6438bdf4fd2ec98ccb',\n",
       " '701ef3b2488d6ffdd76fd324bb50428046080ddb',\n",
       " '60cc218ea39fdc48b4066732d8cf82e6cec7ce79',\n",
       " '737c70d514a25f8f9eac5bb9e6aa14b0d7c4d7e6',\n",
       " '0b68bfad6095a23fb74ce9b7d419b51da3fc79f9',\n",
       " '415c834acda9d5f1940c04f3c29fa974dc3d2cfb',\n",
       " 'dd8ae4c5f869f778cc7fc702b82a100939ece135',\n",
       " '4c60bcfa72886dce3041a962db2fe76366f871cc',\n",
       " '9ef3f48ad8e9e362c54d313a6be601502b12b587',\n",
       " '528bf455b8ed4ae7724e472c6ad0850b20c81f45',\n",
       " '8cbd576f91d0258ebdce0df894d15deb597ccd83',\n",
       " 'c36504a80983030544ceec1e6591ad7013212b05',\n",
       " '6e434161d68aabedd4455389cb158e9052720f93',\n",
       " '5126e4cb40a3d4a245a206015e51f929884ea7e5',\n",
       " 'f6cd3a8a4962146670ef759afb0c415c391fa50b',\n",
       " '45da649b6314ede4ae6038a912ffd9461b0f2dae',\n",
       " 'e53647b107827e969c20a678d5cf571fab14d83a',\n",
       " '318c9c31615b4ba697d9e3d2753f4ceef1f8b834',\n",
       " '486ad9260d2b56507f4b955c14c68e293e25d9ea',\n",
       " '0d9f7088ccde17d9887fb3306413d1e5019b52f4',\n",
       " 'acaddf991f58819d3eddee8803536f29e88ff2ef',\n",
       " '724c2cd6271abc0bdbbd84a9e298a9b0affd4844',\n",
       " '433d17f6924781eaa889928adc5cce784653721e',\n",
       " '8800a448d74e23357204616dc10fb484b3c5d437',\n",
       " '721ae52624dde931e7dec6c5dc3a7ac912f54dc6',\n",
       " '8d49f6f8bedf172b0f8000c3022de67c30a83c6f',\n",
       " 'a033d1b785e3a2658d0c2f8bdc2aae085628a336',\n",
       " '80696b8de1064a36151a568905db597abe4f6f64',\n",
       " 'b504d3cc66c21a327a9899f626c15185535b3ed6',\n",
       " 'fbc17c4a44eb034628238b4b361c1acc2d3870fb',\n",
       " '0278c5a2f301183739f9d4129aa1c653dbf26663',\n",
       " '4f4cabc0e1930a8149caeb854ce79daf00b17b6e',\n",
       " 'b97589fe74ddd275438f0d9d4e0ee172984bde81',\n",
       " 'f61fbdd092279461fc8a24a8813c74c1596906a0',\n",
       " 'b985e59926b6b487f9c4ed1e852ec06773f0966e',\n",
       " 'd77f7685cd18417c6e13a2670b036436b367b142',\n",
       " '45817b1008cc0bb63c21faff3e1af5560c73c8b9',\n",
       " '497c03d0d7ebbc9dbd0c8767ccb4a10d3ff3e5d6',\n",
       " '9e0dc30722f922a91d52410775c2e927a04625ec',\n",
       " 'e8bb025218d85aec1e791befe6a33878ed164f6a',\n",
       " 'e063f54297fe40e185bd4b4c3d9c96368839f9f5',\n",
       " 'd5a033d1c60eb46ab28d5ab741bc4973de278d05',\n",
       " 'd95c77d698bc4c834c3cc870cdcd2e4b3b1244da',\n",
       " '6dd15d2c9a136cb5bb80affd23d580b5f482f9ab',\n",
       " '2d6a3e7aad867cc5907cbfd7d772bef97ce63a91',\n",
       " '7ad6dd59a7523d01a343107f8211a0fdebc58557',\n",
       " '3d0054eeda68e1a457694741fcc8485656c99c82',\n",
       " 'bb477afc0a3c284f07f25dcc8164b0164f77289b',\n",
       " 'f845aee1b3db0fb5e1d1c668c3ebffe2ce7e4829',\n",
       " '2c6401d6ecffcaa339d5d8322e78c86b9f4c5ccb',\n",
       " 'bd6b0ffdc3487cabafa6cc15b7b98eaf49b4da3d',\n",
       " '200c3cd86836727e50c2851328434ab172121bab',\n",
       " '6a7d0e077d58c4f83e0254a2ba03c0f170d5189a',\n",
       " 'bd7a8c2ce15bd04dd29d44f955ce26ebdf156056',\n",
       " '8a29bc433dda6f1b2e71544987360e1dd764a5cf',\n",
       " '2551a3372a6de72f69b6f38ac61b67f547558437',\n",
       " '3f730304926fa17cd7cc64f6c2d647653f93472f',\n",
       " 'b07d997f59aa7a0fe578c43d6f764de0450fe3fd',\n",
       " 'd23b30fad058c4ae0d0cd82dafda47e3620f3402',\n",
       " 'c42b6d9b55f87979343a844de014c5703f056070',\n",
       " '77af4b3268094f55548cd90b2d78974735c872b2',\n",
       " '4f4b029417e5935cbfb6a0012d3e48e1f6df7961',\n",
       " 'd0b521717242ae76fad7c8492f8796649d9694d2',\n",
       " 'aa3a02e3ce40d23610e8a484dc916f3ba346885e',\n",
       " '57d55d58ca5b3d1231c52a1154ec6b75e10128f7',\n",
       " '0588d055e9a01781fc8f25432fa50882e8154440',\n",
       " '0cd68955afb629f1430f2f3ccac224dbdcef1ef4',\n",
       " '39a9a7d195837344a11e10164cfff8c38b4d5ad1',\n",
       " 'ee8a7b145e49dc63ca03c33b365ab6913c69d699',\n",
       " '95f730566302671a0f6d1e2837706b6647a2d619',\n",
       " 'ea859eb2c99d488d323a1e6e6f358c5ef0f0586e',\n",
       " '3b44abdacc8f4825a667fb10fe4f35ed5e545ba5',\n",
       " '1a7f09207fbc896b64ee6512c8a6b99ddcb484d8',\n",
       " '93ef09555e4b563fd5ed686c0ff2f0386525b090',\n",
       " 'd4aa96ca916a1d83906b4c8e44dff48275762fd1',\n",
       " '109d3df36177c4aba58133a803b225ee2fac04c6',\n",
       " '58597171b82d5458da8d5a84f74c762d568eece3',\n",
       " '5f774d5bf5d567556cefe4209ee20a0a1b0e3828',\n",
       " '956bb6a87f244ca229063f6b36a7d6f913c92360',\n",
       " 'a0802a2efe3de1adcf7f85021120846bd94f998f',\n",
       " '9755a8d3b6662d6f95386c84842893c6fb15d334',\n",
       " 'ac2e9e6fa2c78319f2cdcfb72a39a7c477ca08a2',\n",
       " '95ac3d736aaf1db189fce8c01ab64de59f871a74',\n",
       " 'b0a675d24b849ba64693b89d3940d3800fb7f59e',\n",
       " 'df3e36888208b9646123fa2108c11c217a63c6f3',\n",
       " '0fe8cdd579b00d1f17c3ddbc28ec1d60253a723e',\n",
       " 'd7d905137877d7f0662aae685ef2362daa973e27',\n",
       " '65617ef8ce9bd80b9bfe1741517df60eea5aea2b',\n",
       " 'be108a58cc870f2cda3af9996841a43444037b0d',\n",
       " 'a856b8417e156f05d9515810cacb2b1033501dd1',\n",
       " 'bc7817a6c508fcc17e028bdc073bc25526bfabac',\n",
       " '6322158400024b907ea0e55336bfbe9eca356431',\n",
       " '523fdf6aeb3b48a6120d02b8b2c90e1118b6319e',\n",
       " '5e6c9aad86c1ca10273609d15a91bf9b3d1df70e',\n",
       " 'c320312d49670ccadf7e754cc4a6a21db57245f0',\n",
       " '4fb1c0726a8d9f4d36a45eb619c50d69745c4f79',\n",
       " 'b07bb09485fec4a51cf178a7bfe0406500b0ed74',\n",
       " 'f0d5bd5aac70cad4f3c01d3a6c53605fa6759ee3',\n",
       " '3e90306520ecb5fa241ea193a261371bbd146033',\n",
       " '1e49e8b6f9f048f8b131bc45b22daed35920c3d2',\n",
       " '2bb9b5a571158c296aa99d353fe7c29cedfd2cd8',\n",
       " '95f1266b09d493e6d44f9951e267df19d91c8974',\n",
       " 'c0d7f0b06fb40bed3a84561a315beecdc4b624aa',\n",
       " 'fc102dc163e7ea84adf32c9fde852ae22eb23f7d',\n",
       " '54cb8d18673b3738c590aa7c741278e5d83e313b',\n",
       " '677c29fcb55ad0f419fb6ef0df23bb018133b198',\n",
       " 'e14a514f76084823a47c4fde49badebcb986f1a6',\n",
       " '9daae26393b6eea650526072af09715cf32a3423',\n",
       " 'b2484e66033d971248cf408c9f66b81ceacbb997',\n",
       " '3f4ca214e26bd9fd21b25a5c9638498ce0dfa2fb',\n",
       " '84fc427dd0f2e6a1b3a2d4fdba8e7e769b8d586f',\n",
       " 'd0b1c858a7bab16b88ac2f644daaf5f8deb28e60',\n",
       " '1b75bf7a78e3b0cb6c8ac5e694813cb84da65b4a',\n",
       " '156ee6a4d61d17a6f25e4c54d0c7e1fb6bda5aee',\n",
       " '753c36c52ed944900227111aaa3116f5fac65982',\n",
       " '259642b401bc4035be3b200bee2c132b7641d53e',\n",
       " 'e8b13a973f1ecdedf0b47507b04260a9a74a7c03',\n",
       " '07ba2af6b392c7a4fb5dc61c8d54f3bc5878d6e7',\n",
       " '2ec188bd04f43264ea28f6b48af3c307b8f0bf01',\n",
       " 'c836c696ec6aeb1cde50bf766172bf2484eb9d17',\n",
       " '98e5bd95d5b0fb51e2c7d5eabaa308e4f91f0d6a',\n",
       " '8accebae434197a8134bedceac2665e3240696fd',\n",
       " '8e3385819d52096969d436461fcd3eaf6a5a7311',\n",
       " '85475d24cb689ee9f5092583279e7273047c6a25',\n",
       " 'c814932e56332a8b7ef6baa5a701cd1cbd562345',\n",
       " '02dfcff2d4c43a403059ab0fec1a02986fecbdab',\n",
       " 'd2ceb2d88974d6b58368799df8dafa72eabd9fe8',\n",
       " '76e40cd169aadbc8d54006032a1f7e7c9f7757e1',\n",
       " '9ffa33997f047833539c36e58cb51de16a702351',\n",
       " '68432c7720d6c443563de3baf67340c7059b8509',\n",
       " 'fe28c94d90a83efbbf25152dcfdda75319e2f3dc',\n",
       " '824c8a90f565263bcfba665962ce77b2aeeaed17',\n",
       " '97a34835975ec8e88dd5a8e0d264fe26422bbe07',\n",
       " '73c59f52fb6be31172abd8466060e0f16a75ddcb',\n",
       " '07e9f4db7691030babb7a1e6c81dd770568a2808',\n",
       " 'b859e01e0c738426911a40870c228fc9dc9e915b',\n",
       " 'ca6592087945a303ffc3daa464635e3ec6eb9f63',\n",
       " '4affbb97c9be2b9ff6698291ca3466f5efc63a7d',\n",
       " 'b9db4f7cb2ec4bd474a4199a5b3dc53aefab8fbe',\n",
       " '093ee5723c827baf0bfa0284094b29a7910a2579',\n",
       " 'fac59c116d6b4c5775190da43eefc7b9f4ecc14a',\n",
       " '6693bf72543a903309f648d123ef6b2a9aac3327',\n",
       " '4aacb9c262646e5d6b629731f9d0fcfd17069043',\n",
       " '075d6202827ad1bb04927bcf0ba584916090fa06',\n",
       " '898b84c73eb821c62b301cb884ac91489939dcf8',\n",
       " 'a23012eef6a38c1ee451a7765a9a680bae8cafa1',\n",
       " '251ccaacb8b6c7686ad3b616f03cba5461ac4bef',\n",
       " '82a0cbf7a07de767e21b497b040b065143418d0d',\n",
       " '2fdee31bf47bddb0133c999fbd73b1f74628ae99',\n",
       " 'a76d65a572e7a872774c2893cb7d365d7419e46b',\n",
       " 'f84b3e4fb513f6476452e8b17b7dab00e6b7af5e',\n",
       " 'f21b3c82818b0f3cd7c275264580c954af8680d7',\n",
       " 'df0e89f9ceb07f1876508523e62a5fe8326cbe37',\n",
       " '61df1414e2a70dcb2f0872f10ec43b74ce1cf7cd',\n",
       " '9ac6a6ac121bcebe344e34f2181a450682bca63b',\n",
       " 'b867dbfc6b6736afcdce85e417d35409e8ba8b19',\n",
       " '1d459a2f2e2b8bda5db7b74cace2238fdd00a8da',\n",
       " '353fcf5cc4b101009f848be79bfad53ad0c0609f',\n",
       " '6dbde9a137519a65750abf1076fc53d93eabba42',\n",
       " 'f98895f25d6d2a6cb7d866fe10adaf95d295c1cb',\n",
       " '5285c99438a327a4cb55e0d01d425ce2af3b424e',\n",
       " 'cbd57226a2c198d63f1ba37186dc8cdae077d7b0',\n",
       " '774b2b3166cbc413587a80829246a6c459d414a9',\n",
       " 'aa8c38be93ffc0aaa75c8c69a714f6feda47933a',\n",
       " '11772b66d64f91946e259aa161bdbc30db02ee35',\n",
       " 'fa0d586ab98cab4b14ba0fe57d402dfb946524fd',\n",
       " 'c804c479a59fbf476cf9e7d1cccf648857d9fdf3',\n",
       " '1c8fa13bec429cc0ba34cc0305bee2cb9cced3ec',\n",
       " 'd934eb233bb9646f5946491c4dcb3ffdc17aa4d3',\n",
       " '2a8035955c409b0851507dd40e2733c279c179a0',\n",
       " 'c10d1a34925d3c4272064567e48eba8575af97b0',\n",
       " '810874b8f3362d37fbd3d3a9e710ebf00dc7e1a7',\n",
       " 'ef56b2644d992e35f391e6c2d885699974c243ca',\n",
       " '0a0f5ea7af62d6e0ae1482ed85300335449a6c3b',\n",
       " '02ed62b04e5cb510d42131c477f9afc992552413',\n",
       " '9e30ca836b09aa5afe94f89f543b904259fe666c',\n",
       " '42abe019a634efa23d656c69838747adc477bf72',\n",
       " '3b8cbc5e3338733693f8a1640276206f41a6a833',\n",
       " '0d94df623da7aa09e56d2d26c141a22a57f8aaea',\n",
       " '15fc7ab3c3167c124b7afedae87e502a7d7a9f89',\n",
       " '0c639ae7125cfb2330f43c19a0a8d8dacd9b0032',\n",
       " '2b35c1c19cd309a8fa39cd1cb79a54f4e7f724f2',\n",
       " 'e1f736823317a0832cd623f1a8dcc00941e69dc8',\n",
       " '12e6c5e13f80bf256a2657ecb993e568f1855a1b',\n",
       " '6053ef103dddcd2ac81f7789e8e902f6353222b6',\n",
       " '70ed0951a19825882cd07bfed6b10b296befba16',\n",
       " 'ba9984fa96e847788a1a427cf9afec27a0948eae',\n",
       " '0fecea2d11ee3da4993cadf1df3e3168bdb51b72',\n",
       " 'b92c8a39fa0f4622332dd03fe55eb4e3e07cfafe',\n",
       " '7b1a3cdb35379a90f304e6342571a43e93d87300',\n",
       " '4008b5732415769dfd8600f15998221d04c86f25',\n",
       " '53f9cd16a6b9f1717967aec8dd7fb1302227c80b',\n",
       " '9d4637eaee17d8e7c319ae5883b5da71010a4e86',\n",
       " '861a19c9ffeab63c2729c60b620d9ad1f223e48a',\n",
       " 'de9ee3846ff9f49c3766b595490bd28e07ee6cbd',\n",
       " '14b94176b3d85020bda4152af5fbe65897e37e91',\n",
       " 'c4c17f1c7c0e1caee27692eba052f67c6344a283',\n",
       " '0f5655f2a4d17cbe4af2f95ab39312b78ae8ae94',\n",
       " '3b83836ccea4ccfd399cb7143415af95dd0369c3',\n",
       " '72dbf20af7588b4b5a416264437be6a7f3a2eaf3',\n",
       " '4cfca187dfdc4938ea8e0dab0420c0484a6ee9fc',\n",
       " '2392e90f5163a4e6f959f28c591839af360e9d8c',\n",
       " '02c363818d6e4b8cd5ee7f15b04c63af4a42aeae',\n",
       " 'dd3d067f75bf86c59498ac4fb3375d21a1622f90',\n",
       " '8af7e862086882fe8f9044e6152828c98e93e9dd',\n",
       " '8bf0c96ee0af286d09ad5ff8249a4f43cae701c9',\n",
       " '8e9870cb5dfd89670a4d76f83df733d1488091ed',\n",
       " 'cc31c030b0465fc8a88dba4d1dfc37f139a43508',\n",
       " '3400ebff5ca34404968fc742ec9c4bccac140b1e',\n",
       " '6eeaa3e05fae5a195e2ea93dc631619fcd36bef4',\n",
       " '7616cbdb451c9081ebe4f5d6c804b42226a4ac03',\n",
       " 'd2c4fafa516d518eb5c02a57d79df9ead460507c',\n",
       " '077e2cbd9b62b945042cc96a011de982f3774cdf',\n",
       " '9e0238e74f66affde25b9f3e1da9a3dd250c2575',\n",
       " '47355653e2a41e01f65356750e35ffb6ba8cdf1a',\n",
       " 'c4c31757f7f5f6d672166ddcbbd94dd56f7d9d5c',\n",
       " '123bf525d2f2f5689891045f70c99608995d742c',\n",
       " '718db81183b30e58642f34304b704de4dcde8e1f',\n",
       " '30693bb73827aa5e10ec82c6a13a94b961deb178',\n",
       " '0f3cf0d3159ac9f337e06b85ebba71f54ed7b5d9',\n",
       " 'a445408c554663670e35b29f73d56044798d86dd',\n",
       " '706053ad9a63a95fa1e48578b3bb5986f0b03ed5',\n",
       " 'b636986bf3df55290f1f9d1f977f454a86aa3352',\n",
       " '76d69d76df92238679a1ad2f1e1b4305b16e9b7a',\n",
       " '0c7623a4d58f7e96903cfff0afe58cd626b76069',\n",
       " 'a275ea474146cd58b7b01dfafc36cc1c8a8606a5',\n",
       " '8adb4c08daa8d345b46a2ee89c1799d18f977723',\n",
       " '731a3b6cd0b311a209c2f4348df8bbff5c844963',\n",
       " '1aac0b5eafb3c35ecbbf09e57749e6df3eba4717',\n",
       " '337bd977a8e295319adf1b3f11eccf595e7e3e36',\n",
       " '088832df2734f9242fe41685238e00cbf3d3323f',\n",
       " '29181c8d3c8141053ad5e66ca31fb1cdb39ab089',\n",
       " 'cdacc1ae28a4372e8e96f528a514d9be6b2332c7',\n",
       " '5118ded0f2c7cf1a6812a3e29d8df1e238870aa1',\n",
       " '38d63e6d4f312457510f40919803c043e5b442d9',\n",
       " '61355930d6a3ac9f3045ceceb74f01c0cfe40e91',\n",
       " '6219a36d6154cead8abacc3dcc527e520c063583',\n",
       " '313edcdb0ae30419eedf591f1c0f14e46251c9b9',\n",
       " '99c26366f98540eddb2f43aed1c8994a8ff54a3a',\n",
       " 'b1b12ffea86693877f0be7f9b5b995a9334809e2',\n",
       " 'd28f6cd7eaaccbfd79b6d95fd04ea6597d72a38b',\n",
       " '9db7928274f2eb60bb0ea706aea33d76d029f823',\n",
       " 'a0756ebc502c463ec73aee12c024233d765fc718',\n",
       " 'd9752828416fdf1ad273688af41924a31744bdc3',\n",
       " '1beb3f72c31a2482bb76500665478feb43fcd57b',\n",
       " 'ececc8ae3d928589199fdc25075f96d3a3eb3989',\n",
       " '48a9380f8d500dee9c5fd006b7aac2f9240ebdd2',\n",
       " 'a39c6cd0e43e69f58e1e90b6b6e303ecdb35fa0f',\n",
       " '3f1c6a238d1fa3b7c6564df2145799b62d6c924e',\n",
       " '59f1d0442f0fe7bfc92ef5073e4dab1830a41aad',\n",
       " '38865b968e5b42241fbae7ee7b95f7a8ed6ca5a0',\n",
       " '9d29c6794f83be81888ac23ac327f73036a69749',\n",
       " '3a07dda3701e5d9e178e1a1da4f1a6b4093e960b',\n",
       " 'c153cf8b49600d5aba864467ae9ff900d72ab39c',\n",
       " '6e4a41cd3d8d2b3eea9060d39bff68667b284076',\n",
       " '1e5bcb9275f2c961f8f189260f9d7c96c18bce89',\n",
       " '975dcc86d373b061b8feacf286522d5166d4b75e',\n",
       " 'ea37fdb28efabe5743a0b2651f8ae3f259eb0669',\n",
       " '12d31125d6b7804d9b45e69dddeeacf3d9bfa17b',\n",
       " '0d7af08d0e8e60d23a98fc9a9f82061a73ff85ba',\n",
       " '0ce79dcdef895326caf582bb7d249cd2f474413a',\n",
       " '929290576c8c3be1f047278fdd54e9781c8a8e5c',\n",
       " 'febf4e584986ff23348a9b1f6ee4a3c36355c2ac',\n",
       " '6d165f6c57dc45eb2ce55b6f11373c3d98ad4e34',\n",
       " '79f4121a6070fa96f3d1d60069e6a8bb07314c0a',\n",
       " '069c021cf741f9cf9c9dc1dcf39a234a555ac1f0',\n",
       " 'df14c4d9a49d12534cea0e30f2ac0d26ba27ef13',\n",
       " '97f9cfd7eee0cb81a61d5b2cc0e6da75ce0c8c9a',\n",
       " 'f84d7e6186f9676c86677dfef78b8287be5efded',\n",
       " 'a1e34a92de8f16375f3c6b1e4ad19417ea075ded',\n",
       " '902d2df3d725206d3effca03c503ffd069fd38df',\n",
       " '590aae54c2a3b84dfae2d6cbd8e91a5bc8424c21',\n",
       " 'edaa32a189d120706a5859d2a43e2c66287c9e00',\n",
       " 'ab230fedd3a55f922532a52d7d0d0f8b8e3eca1c',\n",
       " 'a6ee0f557445c0dcd89bd977066a9b9905f5b8be',\n",
       " 'c5f8d98acf69ad84cd2e3091cb448f4550754dc8',\n",
       " 'bfd7fec3b7fb2488133bbecf7291134cb534fb9b',\n",
       " '5e4f367bb1653d91e6ab33908e9fcfd3730adf92',\n",
       " 'cfe6a6734c93c808968a3232545226203abb2836',\n",
       " '50a6e7b62aa1160591dee92549dc999c0eb82a95',\n",
       " 'dda163201d0ec2a837c8d95f84b6deaa144a4595',\n",
       " '8ae03ad8e12c2e2295e441ab77aaa260a23828c5',\n",
       " '36546cf1bb9f64689c2461056d1fdf9945b1635f',\n",
       " '76ea1c40bc6ca028355fb6eaf5d25f9de61e3c6b',\n",
       " 'ec3e789b080731b3abb55f84fc56c11d4a5692c8',\n",
       " '989b1f2d938d44493079cf3b3448e2e263ec806e',\n",
       " 'ca553f4e2a2272499ccc562af18963b63adf842d',\n",
       " '0161f124ce24c170c3ef61f0132ed4bce8fc01eb',\n",
       " '3f9d2e4fb6fdaa65bd5af13e004af862215252dc',\n",
       " '9e4964bbaa3eded5339cb1306b8eb4038846bbe7',\n",
       " '41c87bb25dbc91eda11c129e38c8f8277f99f817',\n",
       " '910d706539f8a8d458c4994898c47e8a43b94ae2',\n",
       " 'e5bd51b45e7a0df467d9dfe05fe7e5ddbaf64c1d',\n",
       " '4e8e944aec906db1323c5ce8bad12324e2c8bac6',\n",
       " 'cae357afdd62835d9ca845bc07aabd2fd154577e',\n",
       " '04e746ebddd7d4320c5782cad717b930dd29e58e',\n",
       " '9d3e68a3179500274a04a1e067cb0c6192d9a693',\n",
       " 'b7fcccee0324224d278b3184e2731b59d0053305',\n",
       " '6d85635d5bcafa8041ce36e2af0caa605e76fdb5',\n",
       " '752b25f203b9c0e3855accbb1e2c41dc599f3792',\n",
       " '165d17aedcee880fddeceb27161ee257139508a3',\n",
       " '2593e27952b79305995c25338116f3d25791313c',\n",
       " 'b121b354204b51ed4a752e02423e9ecd4fb79b1c',\n",
       " '0a278e1c988758627792d12dd041d1526adb8929',\n",
       " '8e0a8d320c3d2beb15ff4a1fee9e15b067ac182b',\n",
       " 'd80bfbbe0c1980d098dbd3d4f056b1baab23f3a8',\n",
       " 'e6102e141428c118dce01c50e63cacc8ebe45a21',\n",
       " '76e656b0b071c8c308e557d1b8710bc9662cfc98',\n",
       " 'd07ae884f2693e9fbf687d053be2615c72144e71',\n",
       " 'f8e5cd22543d6b3c989912a63a6258d367a57d4b',\n",
       " 'b3fdff41c3793a68e04b1884a3048c3e7dc992f8',\n",
       " '6630ac3a0607c18278e2d0ca4609f36f8585cfab',\n",
       " '6382941438cffe3c691c91e16dd8188a130324bb',\n",
       " 'd6d00fd77259a03082344bcff0404f8732cb93a6',\n",
       " '0e4049f46f15d39283654f4ab2f2cf192f84637c',\n",
       " '28a83bc7ea1c33d8a5b9ad0ed4371f4c31339782',\n",
       " 'ecd5cfe4352c35f8e867509947cd280a3663e1ad',\n",
       " '4fc6012981d7a8d17a1ea9578d09acf889ae0d12',\n",
       " '751914521bbc33efdf82381cbeda35109ced972f',\n",
       " '31db736fad3243e176de2b76dbca310293eee83d',\n",
       " '9dc0129eaa07b3ad09262a6f84d7dd4821827e25',\n",
       " 'e11d489593e83ae25e95586c29a631e0c01a4898',\n",
       " '45de9c67bb149506db9be4aa690d2946c471e46c',\n",
       " 'ad5fff276921674a1e695eb101c2415a8c9b62d0',\n",
       " '34047c81bcdaef4ddfe7ca0388f3ae13be322230',\n",
       " 'c5940038584d5e6e362ee59fc4beae105e05f819',\n",
       " '1fe691b7c2c3c5a5bfe62a800d435063c850b35d',\n",
       " 'e87a900562fb8e8603ff0d2f085c070ca086cab7',\n",
       " 'aa075b6a15a9285e81d5822846497813f6eb2cbc',\n",
       " '991efc1f2cbf89ee9919cc00e2437e2bae4fed1f',\n",
       " 'f587f61f68da6c4ca041f6606f4225a1cdd2f80a',\n",
       " 'a5a61d51a54e4a5b5ce5f13e898935627f65d626',\n",
       " '2f3fa034fb983e23e2384cb3e76b38426cfe5316',\n",
       " '3fffca008a6dc79419d8a744c7f76ddbc544c248',\n",
       " 'ae23543521623618d56fab6569ef6f23ea11ba33',\n",
       " '2f3dbd64a5f0ea68b07cf129e95570931a4a7c44',\n",
       " 'd5d9980c2c440374567661d21ec2f882d1712120',\n",
       " '71b5b4a166ec4d0601b28a62d93f196ac2ccb38b',\n",
       " '586ffadac8ff3b548ef8884cd7a96efcf25a0fe1',\n",
       " '410d914e8d7978c9eb325f775947503d37548f8d',\n",
       " 'f7982128e78770ed72b453f0fd8f0c458345ff7a',\n",
       " '457f0c95b49dd991608000114f2f5e41be338183',\n",
       " '71746c3665bfa9f0a3a1fd8647746b72487e8b1d',\n",
       " '654708ddfe7f7ed846fca3f6e32ef8191f4e9561',\n",
       " 'f8e8baa3739e58848430f595ba9233082d22a7e4',\n",
       " '2e26382afc7120c5b1ab66aaa1cc38c3814294e8',\n",
       " '0158a993d3fe219b62d8454d3006da29a28a38ba',\n",
       " 'e50f59d2989f8fc26f967dbc6183d28cfe69ff2e',\n",
       " '2379fbb0456b75bea3b12f34ff0dcb041d6d1140',\n",
       " 'd478b210ca54cc07240b2a924d8378f1b1640091',\n",
       " 'd798fe4719b4283b7211b93f36d3fb8e227a2723',\n",
       " 'cb8a7f52ac153d71236051cace90032b420a63d1',\n",
       " 'd841b2f8d605ac8cd4dd410cf2df3d9df600db14',\n",
       " 'e01209d17dc483178636901d23931b9da4e4f8de',\n",
       " '5c63e65e681cb0008c36cea43e926997de047b1c',\n",
       " 'd2752ec2d0787efb92798996cfeb5c0fd33bf690',\n",
       " '83a9dfaebe11a5f997cc054db12ee4c50527041c',\n",
       " 'd5fdb71c6636fa396b90fc934447a362171c0658',\n",
       " 'a9c73bc647ede9bc34e0a5263437098a32a8cd7f',\n",
       " 'b9dcfd124de1ee1a0bb41d3d77a3738ac6179996',\n",
       " 'f7b597804c0bb7ececc8bbf9a051ba5e78b10db7',\n",
       " 'ca9f0327a64549d4eba62cc52df6e8abd9d3e449',\n",
       " 'f81b1bf702f16034eac157ada0b2c01003abd2e3',\n",
       " '1b84d81351b8950bc304f506807299a518390445',\n",
       " '13b96025a2b750091748949edcb266712d8009f7',\n",
       " 'df3acc590dc91cb66f90b62780031854c3f2eb4d',\n",
       " '8f05754ea032af2e34f2ce1ae8328f54e604ff5e',\n",
       " 'c9c98eaaf59b59ab292bcfd60f84b37ac53e28bf',\n",
       " '4e4a1ee889ff8f188e31f220e03bb5e86b159148',\n",
       " 'a64e90fc27fbabedb65c66a8516e14cf522031c5',\n",
       " '9164808654316b4c1a74a7851a4f6cf9bf7f6dc8',\n",
       " '75abf590da7871b871486346e80f493ddda20f38',\n",
       " '8e27a92b55a9c01c393502f0f473548e46f47195',\n",
       " 'bcc292e50c99003a9f5dfb1dc8f3c2d6a30d7abf',\n",
       " '381fee19f7319cb7957be71fda703e4f32a7cb57',\n",
       " 'eac97b7fba816f295665832a4aa4ec6429888d91',\n",
       " '38afc2d19de0f9dd1c8399cd71a4925374c795e8',\n",
       " 'a4b29bd90d9bf8025e5c468ecc6b080377c003e4',\n",
       " '44c6bdd3f3bbc95309434de521cbdc30f9424eb5',\n",
       " 'b78ff61979f3e3c6eac5243df8254fdc7df2ec18',\n",
       " '652856ab26adce6443330321019a90c798b0fbf7',\n",
       " '556814c70df5ba9556ed089b21a565142ce90802',\n",
       " 'd32affaed217075bbac767002cd442c5d8aba8f6',\n",
       " '20183c0f455863b8a78bbfa5568a763e8f0d430b',\n",
       " 'f8e5bfdbd1ab972e5f22a62aa8594ef10b39d325',\n",
       " 'd9d5e228272d401110d32d866a2f98950d7948aa',\n",
       " 'c56fe09568726f3a4b841b2e2e65e11b36ad0fab',\n",
       " 'a206bdb09b8249e495773f0f7048f6eec55dba56',\n",
       " 'e7855e2aceb2c08aea94ae31102ad37f1fe33275',\n",
       " 'e06ebaae4a8a5dcab4aedd502219732704309e74',\n",
       " 'eddb7ce9f697534410504aaafda1160b5d164c46',\n",
       " '5e843a047160e68a7fbf12164a2b58420ee139a9',\n",
       " '05f82827d58855de91ca1abb1742773687c4098b',\n",
       " '4566efd91e636198e2b16a0f24b842ee02953290',\n",
       " 'e018ce102455f90307d9ddf5e6c56fdc73de3579',\n",
       " '6a8d19dcd7466c568064f835bd329c9cb438e5e6',\n",
       " 'ab022464bdbe257a8098c42d3c36a2b1cf57abe2',\n",
       " '1b3213a481ce8503b8f255674aea6cdf986d9144',\n",
       " '28078ac43e7afe188e6e938c9f96a96365805329',\n",
       " '21cfb50679092919b1ff64fc9df4642d980782fd',\n",
       " 'f49406634047fadbfed422a0185c1557c92e621b',\n",
       " '712d5891f49cbc18736ebeab681220aaa8baa736',\n",
       " '720a96c4f423a1d34ff78c4610bedc5738bc7f86',\n",
       " '779ed917d4be5a6a6ba4d70b0c54bfa80ca73052',\n",
       " '5b5e0d03ce2979ba2a0ab3858aa2984051ba992a',\n",
       " '5cce45ccfd6712a8324a6f8200e74ccbb741d819',\n",
       " '7f696dc1ea1973d15357a00403acb0db3e594eb9',\n",
       " '7e6bd660d6dbd43c2eff68b7133682768c62dc3f',\n",
       " '2376920c142d520f016573413054f1be5b632450',\n",
       " '0fba7f94cbb7d98336f6c5618d610eef91927c4c',\n",
       " 'e4cacb95a0e5c74624d9bc61826ed714c5f118ff',\n",
       " 'd73a1bb496bbc2ef30ea4140b10ac26aa9cde25f',\n",
       " '672ce88f220454be36575559cac22e834692552e',\n",
       " '17f629c45ea10cdea08c21311a2f4e717ce4ac23',\n",
       " '073c65ffdbc7f02822351ce80e2b7bee07c995d4',\n",
       " 'ccd1466cb90f0b84fa9a23af0f719c7933379718',\n",
       " 'd82f194a53efebfb1ad53660bc28125f6373e0e7',\n",
       " 'dd10509690db5edc6c81bd25e2b253f5c6a12af6',\n",
       " 'f1eaabdf64eb86ff087fcb46952576b85545a53f',\n",
       " '228c37b60ddb6d8fb1d95c3679c8e420f97893b8',\n",
       " '9192a0c1490294a05b61df81a7c9af7ed6fa354f',\n",
       " '025fa0ecee61631eeac66f1233d0910969f53495',\n",
       " '2c0a6f2d54a9ef339b500d39da8bba76b51ca606',\n",
       " '43026eff79f308bf98be5be440e0293ced035366',\n",
       " '51cca9172b285ef3da2a9c57f62231d53911f559',\n",
       " 'd0068c5f8074bf48d975cfa43d6f1d8c39530669',\n",
       " '63edc621ce1ddcb3be45200158c9628dd5c6f7be',\n",
       " '5e3128e8de7b05690ea784b3be42a9bddad9106e',\n",
       " 'e1a01c9205f27cf068ed99590f5ec554d69b9336',\n",
       " '29912b5287c91a7e2f7bc6c71889690097667213',\n",
       " '06d970c13de49133e1a90faf27db6b6ec35dabf9',\n",
       " 'c60dbf7722a1f98a79625582fded32f4baf35b95',\n",
       " '589441eeea68dbb227c16f530220d6ffc445eb32',\n",
       " '6d588f2c1e96c612a7d9e1f5eded19caf7aca87d',\n",
       " 'b7b8d9b6313de4a802ce2b6bb29a31d3fc1132fb',\n",
       " 'cbfdefa06ce0bfb8ee369ac9c2155972e7c55b65',\n",
       " 'a095125b5c4c40f263ab8df66c362ad73a605afe',\n",
       " '5de1fd2a09b022fcff494308fdbe4c37ecd77e71',\n",
       " 'eca096ea3735c04451a6a22bc1f94f8ad64c3597',\n",
       " '5ab14149fa69eaf248704b7376f1ea6224b71ed2',\n",
       " '262ed017f1a6014e0c798b80103f914b331a132b',\n",
       " 'd6f58a49a776023bcaff70ab2b4098ab6d0e6592',\n",
       " '0ed9a4ff2e2bcf2d190a1cf2d865af23b52779a0',\n",
       " '235eb7adffc86e0ab2ad32294d3cd51d28181061',\n",
       " '120c496f9c41b9dfa12bbe523f820f3d9479f4a0',\n",
       " '7e6681583f2ed6b9d958b212ae2137bf89d7bed5',\n",
       " '0871d939703ac1f461f14c3120a3f37e8bc54127',\n",
       " 'e7761c2fbcefbc3f16d707acda2d4744e6729017',\n",
       " '1bfe15685980f4ef89340351ea2ed35a90b8ab57',\n",
       " '3635321d547c6422e86e061f93c49037b601edf7',\n",
       " 'a43633e2db089790ec9f5cc469ff89c79abca896',\n",
       " 'c0c166e796ceb580e1a37c866cc7e9f121f8128d',\n",
       " '10445f26026d60f95650a7def5ff8de7b2205eab',\n",
       " '2bd34969c01336367d9c7fd075f6143c3bb3c492',\n",
       " '1533d9ba0bb467bbcdb20edc7030d74d5b315fa7',\n",
       " '647b4e4a7e31499fa9f340271b9a8f542caa7a3a',\n",
       " 'f230f33fc0f6c1170f152e748fdc22a85d19ada0',\n",
       " '0e636ae0ff6a96dc6b92a915ddae31dda7d7eb4d',\n",
       " '29ada613612a7c54cfdf1bcc4c238cafff5f0dd5',\n",
       " 'dc67d5d50ccfda3774518d0ea2c94062396d7190',\n",
       " 'fd069af6abd4bfaa56c399e85a1e4fff616e0ca9',\n",
       " '5ce7221a9cca8a09fd0bba17b956bc7fbf72ca1b',\n",
       " '74005234650f1e13dca8fc318b2a7064926577af',\n",
       " 'ba22e22d36f25ad4674d5b06dc192a09abdb8196',\n",
       " 'd81c680460b7ddc21dacd7cf54e8c53c6769b78b',\n",
       " '5f0ff140201012e1c579f34bcc52fed41c5b4888',\n",
       " '763a6d1f59d3919e58fe4b1654268fa3343a9d27',\n",
       " 'ac2a90effcae47645d88fded9f17e06d3e1dc8dc',\n",
       " '855e2a707c65b10aa95fd1ab9cd67156f1513266',\n",
       " 'bf7f2a51e40faa8aab70dde890905e7ca837ba18',\n",
       " '8f604bbd9b69cd112b299dd6a4ab380115bfc7fb',\n",
       " 'bb591ecd9e974d76554dda1fe44b388600fe3b2b',\n",
       " 'b4e2ad858fca73a262b9d262ed4ecb2ce1958000',\n",
       " 'f34585f6676fc6e1c1ada9d71acab938a77263ec',\n",
       " 'd84f07bf51a8d3c489d6b276eaa2130fc7febc85',\n",
       " '681ece556a6ee2c19c1201c73194498f514bfd22',\n",
       " 'fb7183dc6faf14df6709691d03f7124736011a7f',\n",
       " '26bb0ec11646aacc13013d60851488a1857813e3',\n",
       " '7ec0e7b409ceca42939ff2db3c116478436b6fb6',\n",
       " '1f9677a4467f32543292c1d5054617b82a1051b6',\n",
       " 'b7e76e25780bf1bd65df09ec80ccec25be85e6f8',\n",
       " '71cb379d29fdda61c778233b2cc43fdc451fb20d',\n",
       " 'ad8c7e30e5cb68d1e3e84bcfdf09f2c19d147cc2',\n",
       " 'c276d6f6ad03d0db9663ad4cc44120ccc07c5e62',\n",
       " 'a00582ffd4e5e6afb454ffb9ed6133b4bfd6ff53',\n",
       " '4fd840ce844932ab8da07b2638e736a56e03f50b',\n",
       " 'fc997097e688fd5a3b07af6c0d72563534e9aa48',\n",
       " 'b7f547345f82b6ad0ca5ef2f2911b210c59d4b20',\n",
       " '25bae2da2a2c09881a55c4cdba51d4ef0d70a824',\n",
       " 'aa5025a2be8b6f819b499aae8d9feb34c8615fe0',\n",
       " '77a5131c09d7a3c5cbaea8863be7ea322d07b010',\n",
       " '2351a0607408360a8dc7e344e05c38aed57d8fb4',\n",
       " '209b228373abf62958aefced1152c955752529a7',\n",
       " '2c041ff8fd61fcdad15fbeb8db1ba528c6c2fe17',\n",
       " '505c1a68814d4dd1e343d9e1f2763e9321ec1468',\n",
       " '35bbc26d5599aa4591b4fa482f985e14fe429b99',\n",
       " 'b610883f945b544d3dde2a11dadc3f80377a8548',\n",
       " '20df463a28fb1444b81599947a8de4994d0df33f',\n",
       " 'ea7f67b3802caadb6b0a5975e3683267e88b93bd',\n",
       " '6530087e2e292efc6961dc0303b6e9832e4dbb4f',\n",
       " 'dd4cc5e27fd767d05e484746cdc53dd6d668c5fe',\n",
       " '011d7d779f5c2f3437cfd74ad628143d18249572',\n",
       " 'd089f50f1f4d6938ea2555c4fe3e384813ce9388',\n",
       " 'a67febe1f5ce15847831cf525f93f38e38e12fcf',\n",
       " 'a817e7f029cf4604c5aba4f5f729b1373295ecfe',\n",
       " '390d5b362e693df32f5704ec207c3f5878da8bce',\n",
       " '15c4445e9b967221c774b4e997138ec53e6d6088',\n",
       " '8a5960027af6edfa5267b4f346da47e6fb002012',\n",
       " 'a14a3b19a88788b009a422d77e9cdf8eb7bee54e',\n",
       " 'c5183b27a0979e8b7fcfd5ea57f68c6ebd0d8c2a',\n",
       " '6f7c8e8fdb6de04e1f8a8c9a9088a43bc007fb27',\n",
       " '8c1505fc41c5fe4d65df12db91da912cf93986dc',\n",
       " 'a5a3ed461f856651c6ae8a5e21d15ef9c441eefa',\n",
       " '5470bf9e2445bc5725d38017694883c1978c3883',\n",
       " '451d2265661d00ab36f29264ba21572110553b09',\n",
       " 'd5f79a4aae9ca7440a51e1c8169551be3c91582c',\n",
       " '1299333e77344b1c6524e3462a58fff4d724790f',\n",
       " '051b42d7ccc0773d432fe505336148afe004c274',\n",
       " '0af03c2e79dd45cd6666eecb377b002b613ea37c',\n",
       " 'fc9ac0b304a98909d494968c7bd14f44129cf896',\n",
       " 'ed5737bc1fe79ba1acc6532b0875e088333efe22',\n",
       " '6e6041ec080b849f10f2c74bc44a9b47542424b3',\n",
       " 'f3173896d2b8f279ea3cc828f2e363c05734dacd',\n",
       " '584d1942cbca157b290abfeb3faf4c7b0f961b79',\n",
       " '37b7655752cdcbcf5f45cd2d21508d1fbc7d4f6f',\n",
       " '2bf7276e82d234d5e22211d0a036e6227447ab98',\n",
       " 'df790716199cc58373ee3a96455d0d6de8cfde54',\n",
       " '57516851ffe7968420c6c5614c3ae40618e9a48a',\n",
       " '2e184ae2e6d96d9428e3211c1c06764b6787f76d',\n",
       " '3df9096e3e541d4b5e204bdc2e97cb45ab75a964',\n",
       " '1b86442c0f97a27c72c0381d2c9580e6db6a5826',\n",
       " '1ed06d3ae2cbac7e4797e6313c76284f0689e11d',\n",
       " '405463d158815258d62b0e2b01d658871f02087e',\n",
       " 'ac80f29aab2b22f27c5c17bb6bbd84d22a6e1a28',\n",
       " '2c3c9c4de42ce2153f544e4891e4beacc2bacc1b',\n",
       " '9b879d04d7f60e9871104d2cc51aa7193b954387',\n",
       " '174dd4e45384bbdc9d2ea60e53b5a0804be1b7bb',\n",
       " '6de6caa62ed806ece0b308e2e7afc48c692b3d20',\n",
       " 'ab853c4b3b77b145f8be25230db5f56533b955d6',\n",
       " 'f52355a01ac134cb94527f2e45b1d227f011be3b',\n",
       " 'f15dbc2d86679db304f22657442683f8b9e08ec5',\n",
       " 'a5f228d71cd1ef21c4cc43aa589356eeb33fce15',\n",
       " '3caa32c6ff62b370f03ea072e4fe78c89ab2df86',\n",
       " '16eca6ef3cb8d8c7a042142d8d3376c48ff7e126',\n",
       " 'f165f4f8ac907d8695c5b577661e201399603c05',\n",
       " '357a57f50638564aa360f6de468f5101199e0850',\n",
       " 'e8bf7df14a416aa32a961c9f733aec772d4aaf3f',\n",
       " 'a022de906c6dbe001bf378e9b3db57e704200680',\n",
       " '159e465ce93b5e362065a06a38a651e45344720f',\n",
       " 'a69f0c543a69edf3935fb5cac4ec678d8240000a',\n",
       " '3bffb700ef606e241b80fe4f68458e11cd009f29',\n",
       " '0d2efbfd08740e64cf74394c68a68f2620e92da8',\n",
       " 'f741e63e003cce43813d1b29f7ad0a6f69ac8ed3',\n",
       " 'b98fa1e146fdaeb6b424bab234c648c102c80c21',\n",
       " 'ffb8eee744ecf6be7637e2671ffe5a67fa6bc960',\n",
       " 'f4857e1d23e0cde7303c8472e29e0c53880d8135',\n",
       " 'e2274917e8195b7ac671c94236d6073f614747ba',\n",
       " '111d40b44e077348e644c2911089ff00f836c54b',\n",
       " '121d0f6aae8c7466cb8cd6727d9c986f0034d754',\n",
       " 'fbd475a38d59341b539c7035f6493eea3fca6136',\n",
       " 'e3a5f58da0223b2e4f005857d0e1b1d2c172ffc5',\n",
       " 'e3801c6dda3b07beae96913b111bd224c5e93d7a',\n",
       " '25c0240d9a29e7260d924271b75ac645ce346ab8',\n",
       " 'c8378c15a09cc9c35f4e61f53a979b2b62bf716d',\n",
       " 'b5744db9ebf0a6e661b5f0316203bb9b1f8e8778',\n",
       " '37155fa3f5c477b63d101efcaf3b67861cfe434b',\n",
       " 'a2c26f106925133610a182e3fc7d759267b18d7d',\n",
       " '6d49bc78083148247ea560b86c5447adfaa41053',\n",
       " '833af10ab57ce1eb128f10ebd35d66b75a9edb5b',\n",
       " '5af3c969b451924c7b5e655da1d303cb0736d6be',\n",
       " '43b80665cb38c2b1819b5938e98dd673e97628a8',\n",
       " '764b1c000b69fa0617e767adaa9f3dc46b3d8eb8',\n",
       " '90cb7515ea6aff442bf20eb9461fb354fa264287',\n",
       " 'd44579a84862c8652148db3908fe684f538f9cfa',\n",
       " 'f42cf0708434cc73f982e6276abdaef3a208732c',\n",
       " 'ab2fb0281c3b3f80e62661c8c1864f7a4dc76894',\n",
       " '7c9d4601b9f2d3c82a144307042fde790eb1f19a',\n",
       " 'cf04f2b0cc393c529f1bcab14942487c36e44c48',\n",
       " '6dd4557d08a99b71a9cd90ed780f4a3b99cd9e3a',\n",
       " 'aaa0deae44e2e05bbb664cc2389b21a89bb5cffc',\n",
       " 'f5ce5fd25c5ac12bae1b0835782f4e09e305829e',\n",
       " '5f4aaabe5a426bd3f60cdec8d64d4f63edde794c',\n",
       " 'a3c1b184b9d2b13ce10547961309da9d70aba939',\n",
       " 'ab1f26f07b9be288c2ac05aa3eea2cdfb0f5cdce',\n",
       " '17eb082f9c170f4fb9a48e9ff0898ab374a15701',\n",
       " '74cb20dfbd4d625612997132daa89176bef20ca2',\n",
       " '97cfe4de1fcc973517e604b1e9106cebf6eedd7f',\n",
       " 'd5fc9d734ef391ba4b9fcd384ddc05e2416eec55',\n",
       " 'c36ec7fd9b36e62180de548df0813f2d91114b6f',\n",
       " 'd672f65411a0d29e66d9ef8368961e7f7d0f14fa',\n",
       " 'a7edcb70d814c0b998d640dcb83bf476f0770afd',\n",
       " '86f4825962cc1e9384aaa0ce210a3e26d5a7b47f',\n",
       " '0fadcf990721ca0053fe20613660621a20fa1d67',\n",
       " '7b926caeb0ef410c41793add8102e4174216339b',\n",
       " '2f11f1c6f82ebf3969370fcd12f031c540315b66',\n",
       " '0654d9ac6b7b89c2ce794cb1ec2a21259d8ab32f',\n",
       " 'ed585f5865ebf341fd6a5ce0da8e060c7092a86c',\n",
       " '3babafb560e1ef969bb5fa62dd4e4f58912ad8fb',\n",
       " '414d5d0051b083e785162fe1ac7b53495cade636',\n",
       " '8e59ebbeb61a117ad8c2afbd121f96c1ea50ab69',\n",
       " '7caa0ae3337f1b65512e4f0c40b770e1410d5f00',\n",
       " '04bf06bb091beb26c4a9b39604f7f3fce11b2875',\n",
       " '9b59e2f051fff94783039aa3b0b293ed968af0a1',\n",
       " 'b284373deadcfaf8243765a7feee993e94b6ff8d',\n",
       " '8404d6822df43b27b637b64c0f6e92b488d6ce24',\n",
       " '2347e5934b9f32b9328156681f520e6c64e7d3e1',\n",
       " ...]"
      ]
     },
     "execution_count": 21,
     "metadata": {},
     "output_type": "execute_result"
    }
   ],
   "source": [
    "sample_list = list(sample_ids[0])\n",
    "sample_list"
   ]
  },
  {
   "cell_type": "code",
   "execution_count": 41,
   "id": "61d4afbe",
   "metadata": {},
   "outputs": [
    {
     "data": {
      "text/html": [
       "<div>\n",
       "<style scoped>\n",
       "    .dataframe tbody tr th:only-of-type {\n",
       "        vertical-align: middle;\n",
       "    }\n",
       "\n",
       "    .dataframe tbody tr th {\n",
       "        vertical-align: top;\n",
       "    }\n",
       "\n",
       "    .dataframe thead th {\n",
       "        text-align: right;\n",
       "    }\n",
       "</style>\n",
       "<table border=\"1\" class=\"dataframe\">\n",
       "  <thead>\n",
       "    <tr style=\"text-align: right;\">\n",
       "      <th></th>\n",
       "      <th>phenotype</th>\n",
       "    </tr>\n",
       "    <tr>\n",
       "      <th>id</th>\n",
       "      <th></th>\n",
       "    </tr>\n",
       "  </thead>\n",
       "  <tbody>\n",
       "    <tr>\n",
       "      <th>d8e4f50989cf4f4142627b2e01dde505eafe0cad</th>\n",
       "      <td>0.023975</td>\n",
       "    </tr>\n",
       "    <tr>\n",
       "      <th>4d784bfc402f201b78efb2404ed7c8b9ebf2126a</th>\n",
       "      <td>-0.091981</td>\n",
       "    </tr>\n",
       "    <tr>\n",
       "      <th>81b832a049175854a6054c729e403e43bfb11bc6</th>\n",
       "      <td>-0.058663</td>\n",
       "    </tr>\n",
       "    <tr>\n",
       "      <th>f5edd61883f0e8b42a7cc77757419b4161c4aa9a</th>\n",
       "      <td>-0.007388</td>\n",
       "    </tr>\n",
       "    <tr>\n",
       "      <th>ccf1a224f9e5e3c4780dac429691b56593b723b3</th>\n",
       "      <td>-0.082941</td>\n",
       "    </tr>\n",
       "    <tr>\n",
       "      <th>...</th>\n",
       "      <td>...</td>\n",
       "    </tr>\n",
       "    <tr>\n",
       "      <th>b70c53920c2b178c9d901d793e18423c8f338cd8</th>\n",
       "      <td>-0.055793</td>\n",
       "    </tr>\n",
       "    <tr>\n",
       "      <th>bfc4179929025f9e8d877585e97e009cfa705aed</th>\n",
       "      <td>0.098337</td>\n",
       "    </tr>\n",
       "    <tr>\n",
       "      <th>cb2cd678bc0c62f30443514f98bf067e443c929e</th>\n",
       "      <td>-0.076302</td>\n",
       "    </tr>\n",
       "    <tr>\n",
       "      <th>76e1d8e319e270e45f1cd0641c8842af6f9dd2b3</th>\n",
       "      <td>-0.151018</td>\n",
       "    </tr>\n",
       "    <tr>\n",
       "      <th>4567181cb7d7042447db50be1f48c5c2fbb093ed</th>\n",
       "      <td>-0.060102</td>\n",
       "    </tr>\n",
       "  </tbody>\n",
       "</table>\n",
       "<p>3000 rows × 1 columns</p>\n",
       "</div>"
      ],
      "text/plain": [
       "                                          phenotype\n",
       "id                                                 \n",
       "d8e4f50989cf4f4142627b2e01dde505eafe0cad   0.023975\n",
       "4d784bfc402f201b78efb2404ed7c8b9ebf2126a  -0.091981\n",
       "81b832a049175854a6054c729e403e43bfb11bc6  -0.058663\n",
       "f5edd61883f0e8b42a7cc77757419b4161c4aa9a  -0.007388\n",
       "ccf1a224f9e5e3c4780dac429691b56593b723b3  -0.082941\n",
       "...                                             ...\n",
       "b70c53920c2b178c9d901d793e18423c8f338cd8  -0.055793\n",
       "bfc4179929025f9e8d877585e97e009cfa705aed   0.098337\n",
       "cb2cd678bc0c62f30443514f98bf067e443c929e  -0.076302\n",
       "76e1d8e319e270e45f1cd0641c8842af6f9dd2b3  -0.151018\n",
       "4567181cb7d7042447db50be1f48c5c2fbb093ed  -0.060102\n",
       "\n",
       "[3000 rows x 1 columns]"
      ]
     },
     "execution_count": 41,
     "metadata": {},
     "output_type": "execute_result"
    }
   ],
   "source": [
    "#Reorder phenotype data to correct sample order\n",
    "\n",
    "ph1_df.loc[sample_list]"
   ]
  },
  {
   "cell_type": "code",
   "execution_count": 18,
   "id": "f66d7e5b",
   "metadata": {},
   "outputs": [
    {
     "data": {
      "text/html": [
       "<div>\n",
       "<style scoped>\n",
       "    .dataframe tbody tr th:only-of-type {\n",
       "        vertical-align: middle;\n",
       "    }\n",
       "\n",
       "    .dataframe tbody tr th {\n",
       "        vertical-align: top;\n",
       "    }\n",
       "\n",
       "    .dataframe thead th {\n",
       "        text-align: right;\n",
       "    }\n",
       "</style>\n",
       "<table border=\"1\" class=\"dataframe\">\n",
       "  <thead>\n",
       "    <tr style=\"text-align: right;\">\n",
       "      <th></th>\n",
       "      <th>0</th>\n",
       "      <th>1</th>\n",
       "      <th>2</th>\n",
       "      <th>3</th>\n",
       "      <th>4</th>\n",
       "      <th>5</th>\n",
       "      <th>6</th>\n",
       "      <th>7</th>\n",
       "      <th>8</th>\n",
       "      <th>9</th>\n",
       "      <th>...</th>\n",
       "      <th>20380</th>\n",
       "      <th>20381</th>\n",
       "      <th>20382</th>\n",
       "      <th>20383</th>\n",
       "      <th>20384</th>\n",
       "      <th>20385</th>\n",
       "      <th>20386</th>\n",
       "      <th>20387</th>\n",
       "      <th>20388</th>\n",
       "      <th>20389</th>\n",
       "    </tr>\n",
       "  </thead>\n",
       "  <tbody>\n",
       "    <tr>\n",
       "      <th>0</th>\n",
       "      <td>1</td>\n",
       "      <td>1</td>\n",
       "      <td>1</td>\n",
       "      <td>1</td>\n",
       "      <td>1</td>\n",
       "      <td>1</td>\n",
       "      <td>1</td>\n",
       "      <td>1</td>\n",
       "      <td>1</td>\n",
       "      <td>1</td>\n",
       "      <td>...</td>\n",
       "      <td>1</td>\n",
       "      <td>1</td>\n",
       "      <td>1</td>\n",
       "      <td>1</td>\n",
       "      <td>1</td>\n",
       "      <td>1</td>\n",
       "      <td>1</td>\n",
       "      <td>1</td>\n",
       "      <td>1</td>\n",
       "      <td>1</td>\n",
       "    </tr>\n",
       "    <tr>\n",
       "      <th>1</th>\n",
       "      <td>91514</td>\n",
       "      <td>546801</td>\n",
       "      <td>568708</td>\n",
       "      <td>714018</td>\n",
       "      <td>743020</td>\n",
       "      <td>753540</td>\n",
       "      <td>758625</td>\n",
       "      <td>769962</td>\n",
       "      <td>786994</td>\n",
       "      <td>797473</td>\n",
       "      <td>...</td>\n",
       "      <td>249086137</td>\n",
       "      <td>249104348</td>\n",
       "      <td>249116708</td>\n",
       "      <td>249124906</td>\n",
       "      <td>249133080</td>\n",
       "      <td>249157314</td>\n",
       "      <td>249168106</td>\n",
       "      <td>249182057</td>\n",
       "      <td>249201267</td>\n",
       "      <td>249233055</td>\n",
       "    </tr>\n",
       "    <tr>\n",
       "      <th>2</th>\n",
       "      <td>91515</td>\n",
       "      <td>546802</td>\n",
       "      <td>568709</td>\n",
       "      <td>714019</td>\n",
       "      <td>743021</td>\n",
       "      <td>753541</td>\n",
       "      <td>758626</td>\n",
       "      <td>769963</td>\n",
       "      <td>786995</td>\n",
       "      <td>797474</td>\n",
       "      <td>...</td>\n",
       "      <td>249086138</td>\n",
       "      <td>249104349</td>\n",
       "      <td>249116709</td>\n",
       "      <td>249124907</td>\n",
       "      <td>249133081</td>\n",
       "      <td>249157315</td>\n",
       "      <td>249168107</td>\n",
       "      <td>249182058</td>\n",
       "      <td>249201268</td>\n",
       "      <td>249233056</td>\n",
       "    </tr>\n",
       "    <tr>\n",
       "      <th>3</th>\n",
       "      <td>rs376723915_A_C_0.426717</td>\n",
       "      <td>rs113633859_G_C_0.323283</td>\n",
       "      <td>rs148329687_A_G_0.189497</td>\n",
       "      <td>rs114983708_A_G_0.138379</td>\n",
       "      <td>rs3964475_T_C_0.107428</td>\n",
       "      <td>rs2073813_G_A_0.301917</td>\n",
       "      <td>rs3131954_C_T_0.751398</td>\n",
       "      <td>rs7518545_G_A_0.183506</td>\n",
       "      <td>rs61768202_G_A_0.221845</td>\n",
       "      <td>rs200972937_G_T_0.167532</td>\n",
       "      <td>...</td>\n",
       "      <td>rs144301059_C_T_0.137181</td>\n",
       "      <td>rs12239259_C_T_0.427915</td>\n",
       "      <td>rs12058711_T_C_0.457468</td>\n",
       "      <td>rs9727069_A_C_0.406949</td>\n",
       "      <td>rs73152338_T_C_0.217652</td>\n",
       "      <td>rs57752339_G_T_0.210663</td>\n",
       "      <td>rs4926501_G_C_0.455072</td>\n",
       "      <td>rs12566755_A_G_0.182308</td>\n",
       "      <td>rs7544246_G_A_0.556909</td>\n",
       "      <td>rs200268662_C_T_0.601238</td>\n",
       "    </tr>\n",
       "    <tr>\n",
       "      <th>4</th>\n",
       "      <td>0</td>\n",
       "      <td>0</td>\n",
       "      <td>1</td>\n",
       "      <td>0</td>\n",
       "      <td>0</td>\n",
       "      <td>2</td>\n",
       "      <td>0</td>\n",
       "      <td>0</td>\n",
       "      <td>1</td>\n",
       "      <td>0</td>\n",
       "      <td>...</td>\n",
       "      <td>0</td>\n",
       "      <td>1</td>\n",
       "      <td>1</td>\n",
       "      <td>1</td>\n",
       "      <td>0</td>\n",
       "      <td>0</td>\n",
       "      <td>1</td>\n",
       "      <td>1</td>\n",
       "      <td>1</td>\n",
       "      <td>2</td>\n",
       "    </tr>\n",
       "    <tr>\n",
       "      <th>...</th>\n",
       "      <td>...</td>\n",
       "      <td>...</td>\n",
       "      <td>...</td>\n",
       "      <td>...</td>\n",
       "      <td>...</td>\n",
       "      <td>...</td>\n",
       "      <td>...</td>\n",
       "      <td>...</td>\n",
       "      <td>...</td>\n",
       "      <td>...</td>\n",
       "      <td>...</td>\n",
       "      <td>...</td>\n",
       "      <td>...</td>\n",
       "      <td>...</td>\n",
       "      <td>...</td>\n",
       "      <td>...</td>\n",
       "      <td>...</td>\n",
       "      <td>...</td>\n",
       "      <td>...</td>\n",
       "      <td>...</td>\n",
       "      <td>...</td>\n",
       "    </tr>\n",
       "    <tr>\n",
       "      <th>2999</th>\n",
       "      <td>2</td>\n",
       "      <td>0</td>\n",
       "      <td>0</td>\n",
       "      <td>0</td>\n",
       "      <td>1</td>\n",
       "      <td>0</td>\n",
       "      <td>2</td>\n",
       "      <td>0</td>\n",
       "      <td>0</td>\n",
       "      <td>0</td>\n",
       "      <td>...</td>\n",
       "      <td>0</td>\n",
       "      <td>0</td>\n",
       "      <td>0</td>\n",
       "      <td>0</td>\n",
       "      <td>0</td>\n",
       "      <td>0</td>\n",
       "      <td>1</td>\n",
       "      <td>0</td>\n",
       "      <td>0</td>\n",
       "      <td>1</td>\n",
       "    </tr>\n",
       "    <tr>\n",
       "      <th>3000</th>\n",
       "      <td>1</td>\n",
       "      <td>0</td>\n",
       "      <td>0</td>\n",
       "      <td>0</td>\n",
       "      <td>0</td>\n",
       "      <td>0</td>\n",
       "      <td>2</td>\n",
       "      <td>0</td>\n",
       "      <td>0</td>\n",
       "      <td>0</td>\n",
       "      <td>...</td>\n",
       "      <td>0</td>\n",
       "      <td>0</td>\n",
       "      <td>0</td>\n",
       "      <td>0</td>\n",
       "      <td>0</td>\n",
       "      <td>0</td>\n",
       "      <td>0</td>\n",
       "      <td>0</td>\n",
       "      <td>0</td>\n",
       "      <td>2</td>\n",
       "    </tr>\n",
       "    <tr>\n",
       "      <th>3001</th>\n",
       "      <td>2</td>\n",
       "      <td>0</td>\n",
       "      <td>0</td>\n",
       "      <td>0</td>\n",
       "      <td>0</td>\n",
       "      <td>0</td>\n",
       "      <td>2</td>\n",
       "      <td>0</td>\n",
       "      <td>0</td>\n",
       "      <td>0</td>\n",
       "      <td>...</td>\n",
       "      <td>0</td>\n",
       "      <td>0</td>\n",
       "      <td>0</td>\n",
       "      <td>0</td>\n",
       "      <td>0</td>\n",
       "      <td>0</td>\n",
       "      <td>0</td>\n",
       "      <td>0</td>\n",
       "      <td>1</td>\n",
       "      <td>2</td>\n",
       "    </tr>\n",
       "    <tr>\n",
       "      <th>3002</th>\n",
       "      <td>0</td>\n",
       "      <td>0</td>\n",
       "      <td>0</td>\n",
       "      <td>0</td>\n",
       "      <td>0</td>\n",
       "      <td>1</td>\n",
       "      <td>1</td>\n",
       "      <td>0</td>\n",
       "      <td>1</td>\n",
       "      <td>1</td>\n",
       "      <td>...</td>\n",
       "      <td>0</td>\n",
       "      <td>2</td>\n",
       "      <td>2</td>\n",
       "      <td>1</td>\n",
       "      <td>0</td>\n",
       "      <td>0</td>\n",
       "      <td>1</td>\n",
       "      <td>1</td>\n",
       "      <td>2</td>\n",
       "      <td>0</td>\n",
       "    </tr>\n",
       "    <tr>\n",
       "      <th>3003</th>\n",
       "      <td>1</td>\n",
       "      <td>1</td>\n",
       "      <td>0</td>\n",
       "      <td>0</td>\n",
       "      <td>0</td>\n",
       "      <td>0</td>\n",
       "      <td>2</td>\n",
       "      <td>0</td>\n",
       "      <td>0</td>\n",
       "      <td>0</td>\n",
       "      <td>...</td>\n",
       "      <td>0</td>\n",
       "      <td>0</td>\n",
       "      <td>0</td>\n",
       "      <td>0</td>\n",
       "      <td>0</td>\n",
       "      <td>0</td>\n",
       "      <td>0</td>\n",
       "      <td>0</td>\n",
       "      <td>1</td>\n",
       "      <td>1</td>\n",
       "    </tr>\n",
       "  </tbody>\n",
       "</table>\n",
       "<p>3004 rows × 20390 columns</p>\n",
       "</div>"
      ],
      "text/plain": [
       "                         0                         1      \\\n",
       "0                            1                         1   \n",
       "1                        91514                    546801   \n",
       "2                        91515                    546802   \n",
       "3     rs376723915_A_C_0.426717  rs113633859_G_C_0.323283   \n",
       "4                            0                         0   \n",
       "...                        ...                       ...   \n",
       "2999                         2                         0   \n",
       "3000                         1                         0   \n",
       "3001                         2                         0   \n",
       "3002                         0                         0   \n",
       "3003                         1                         1   \n",
       "\n",
       "                         2                         3      \\\n",
       "0                            1                         1   \n",
       "1                       568708                    714018   \n",
       "2                       568709                    714019   \n",
       "3     rs148329687_A_G_0.189497  rs114983708_A_G_0.138379   \n",
       "4                            1                         0   \n",
       "...                        ...                       ...   \n",
       "2999                         0                         0   \n",
       "3000                         0                         0   \n",
       "3001                         0                         0   \n",
       "3002                         0                         0   \n",
       "3003                         0                         0   \n",
       "\n",
       "                       4                       5                       6      \\\n",
       "0                          1                       1                       1   \n",
       "1                     743020                  753540                  758625   \n",
       "2                     743021                  753541                  758626   \n",
       "3     rs3964475_T_C_0.107428  rs2073813_G_A_0.301917  rs3131954_C_T_0.751398   \n",
       "4                          0                       2                       0   \n",
       "...                      ...                     ...                     ...   \n",
       "2999                       1                       0                       2   \n",
       "3000                       0                       0                       2   \n",
       "3001                       0                       0                       2   \n",
       "3002                       0                       1                       1   \n",
       "3003                       0                       0                       2   \n",
       "\n",
       "                       7                        8      \\\n",
       "0                          1                        1   \n",
       "1                     769962                   786994   \n",
       "2                     769963                   786995   \n",
       "3     rs7518545_G_A_0.183506  rs61768202_G_A_0.221845   \n",
       "4                          0                        1   \n",
       "...                      ...                      ...   \n",
       "2999                       0                        0   \n",
       "3000                       0                        0   \n",
       "3001                       0                        0   \n",
       "3002                       0                        1   \n",
       "3003                       0                        0   \n",
       "\n",
       "                         9      ...                     20380  \\\n",
       "0                            1  ...                         1   \n",
       "1                       797473  ...                 249086137   \n",
       "2                       797474  ...                 249086138   \n",
       "3     rs200972937_G_T_0.167532  ...  rs144301059_C_T_0.137181   \n",
       "4                            0  ...                         0   \n",
       "...                        ...  ...                       ...   \n",
       "2999                         0  ...                         0   \n",
       "3000                         0  ...                         0   \n",
       "3001                         0  ...                         0   \n",
       "3002                         1  ...                         0   \n",
       "3003                         0  ...                         0   \n",
       "\n",
       "                        20381                    20382  \\\n",
       "0                           1                        1   \n",
       "1                   249104348                249116708   \n",
       "2                   249104349                249116709   \n",
       "3     rs12239259_C_T_0.427915  rs12058711_T_C_0.457468   \n",
       "4                           1                        1   \n",
       "...                       ...                      ...   \n",
       "2999                        0                        0   \n",
       "3000                        0                        0   \n",
       "3001                        0                        0   \n",
       "3002                        2                        2   \n",
       "3003                        0                        0   \n",
       "\n",
       "                       20383                    20384  \\\n",
       "0                          1                        1   \n",
       "1                  249124906                249133080   \n",
       "2                  249124907                249133081   \n",
       "3     rs9727069_A_C_0.406949  rs73152338_T_C_0.217652   \n",
       "4                          1                        0   \n",
       "...                      ...                      ...   \n",
       "2999                       0                        0   \n",
       "3000                       0                        0   \n",
       "3001                       0                        0   \n",
       "3002                       1                        0   \n",
       "3003                       0                        0   \n",
       "\n",
       "                        20385                   20386  \\\n",
       "0                           1                       1   \n",
       "1                   249157314               249168106   \n",
       "2                   249157315               249168107   \n",
       "3     rs57752339_G_T_0.210663  rs4926501_G_C_0.455072   \n",
       "4                           0                       1   \n",
       "...                       ...                     ...   \n",
       "2999                        0                       1   \n",
       "3000                        0                       0   \n",
       "3001                        0                       0   \n",
       "3002                        0                       1   \n",
       "3003                        0                       0   \n",
       "\n",
       "                        20387                   20388  \\\n",
       "0                           1                       1   \n",
       "1                   249182057               249201267   \n",
       "2                   249182058               249201268   \n",
       "3     rs12566755_A_G_0.182308  rs7544246_G_A_0.556909   \n",
       "4                           1                       1   \n",
       "...                       ...                     ...   \n",
       "2999                        0                       0   \n",
       "3000                        0                       0   \n",
       "3001                        0                       1   \n",
       "3002                        1                       2   \n",
       "3003                        0                       1   \n",
       "\n",
       "                         20389  \n",
       "0                            1  \n",
       "1                    249233055  \n",
       "2                    249233056  \n",
       "3     rs200268662_C_T_0.601238  \n",
       "4                            2  \n",
       "...                        ...  \n",
       "2999                         1  \n",
       "3000                         2  \n",
       "3001                         2  \n",
       "3002                         0  \n",
       "3003                         1  \n",
       "\n",
       "[3004 rows x 20390 columns]"
      ]
     },
     "execution_count": 18,
     "metadata": {},
     "output_type": "execute_result"
    }
   ],
   "source": [
    "#Convenient to transpose the genotype data.\n",
    "#Unclear if this will be allowed on the test data, which will have the same format.\n",
    "\n",
    "X = genotype_df.T\n",
    "X"
   ]
  },
  {
   "cell_type": "code",
   "execution_count": 19,
   "id": "d637d9c6",
   "metadata": {},
   "outputs": [
    {
     "data": {
      "text/html": [
       "<div>\n",
       "<style scoped>\n",
       "    .dataframe tbody tr th:only-of-type {\n",
       "        vertical-align: middle;\n",
       "    }\n",
       "\n",
       "    .dataframe tbody tr th {\n",
       "        vertical-align: top;\n",
       "    }\n",
       "\n",
       "    .dataframe thead th {\n",
       "        text-align: right;\n",
       "    }\n",
       "</style>\n",
       "<table border=\"1\" class=\"dataframe\">\n",
       "  <thead>\n",
       "    <tr style=\"text-align: right;\">\n",
       "      <th></th>\n",
       "      <th>0</th>\n",
       "      <th>1</th>\n",
       "      <th>2</th>\n",
       "      <th>3</th>\n",
       "      <th>4</th>\n",
       "      <th>5</th>\n",
       "      <th>6</th>\n",
       "      <th>7</th>\n",
       "      <th>8</th>\n",
       "      <th>9</th>\n",
       "      <th>...</th>\n",
       "      <th>20380</th>\n",
       "      <th>20381</th>\n",
       "      <th>20382</th>\n",
       "      <th>20383</th>\n",
       "      <th>20384</th>\n",
       "      <th>20385</th>\n",
       "      <th>20386</th>\n",
       "      <th>20387</th>\n",
       "      <th>20388</th>\n",
       "      <th>20389</th>\n",
       "    </tr>\n",
       "  </thead>\n",
       "  <tbody>\n",
       "    <tr>\n",
       "      <th>4</th>\n",
       "      <td>0</td>\n",
       "      <td>0</td>\n",
       "      <td>1</td>\n",
       "      <td>0</td>\n",
       "      <td>0</td>\n",
       "      <td>2</td>\n",
       "      <td>0</td>\n",
       "      <td>0</td>\n",
       "      <td>1</td>\n",
       "      <td>0</td>\n",
       "      <td>...</td>\n",
       "      <td>0</td>\n",
       "      <td>1</td>\n",
       "      <td>1</td>\n",
       "      <td>1</td>\n",
       "      <td>0</td>\n",
       "      <td>0</td>\n",
       "      <td>1</td>\n",
       "      <td>1</td>\n",
       "      <td>1</td>\n",
       "      <td>2</td>\n",
       "    </tr>\n",
       "    <tr>\n",
       "      <th>5</th>\n",
       "      <td>1</td>\n",
       "      <td>0</td>\n",
       "      <td>0</td>\n",
       "      <td>0</td>\n",
       "      <td>0</td>\n",
       "      <td>0</td>\n",
       "      <td>2</td>\n",
       "      <td>0</td>\n",
       "      <td>0</td>\n",
       "      <td>0</td>\n",
       "      <td>...</td>\n",
       "      <td>0</td>\n",
       "      <td>0</td>\n",
       "      <td>0</td>\n",
       "      <td>0</td>\n",
       "      <td>0</td>\n",
       "      <td>0</td>\n",
       "      <td>0</td>\n",
       "      <td>0</td>\n",
       "      <td>0</td>\n",
       "      <td>0</td>\n",
       "    </tr>\n",
       "    <tr>\n",
       "      <th>6</th>\n",
       "      <td>0</td>\n",
       "      <td>0</td>\n",
       "      <td>2</td>\n",
       "      <td>1</td>\n",
       "      <td>0</td>\n",
       "      <td>1</td>\n",
       "      <td>1</td>\n",
       "      <td>0</td>\n",
       "      <td>0</td>\n",
       "      <td>0</td>\n",
       "      <td>...</td>\n",
       "      <td>0</td>\n",
       "      <td>2</td>\n",
       "      <td>2</td>\n",
       "      <td>1</td>\n",
       "      <td>0</td>\n",
       "      <td>0</td>\n",
       "      <td>2</td>\n",
       "      <td>1</td>\n",
       "      <td>2</td>\n",
       "      <td>1</td>\n",
       "    </tr>\n",
       "    <tr>\n",
       "      <th>7</th>\n",
       "      <td>2</td>\n",
       "      <td>0</td>\n",
       "      <td>0</td>\n",
       "      <td>0</td>\n",
       "      <td>1</td>\n",
       "      <td>0</td>\n",
       "      <td>2</td>\n",
       "      <td>0</td>\n",
       "      <td>0</td>\n",
       "      <td>0</td>\n",
       "      <td>...</td>\n",
       "      <td>1</td>\n",
       "      <td>1</td>\n",
       "      <td>1</td>\n",
       "      <td>1</td>\n",
       "      <td>1</td>\n",
       "      <td>1</td>\n",
       "      <td>1</td>\n",
       "      <td>1</td>\n",
       "      <td>1</td>\n",
       "      <td>1</td>\n",
       "    </tr>\n",
       "    <tr>\n",
       "      <th>8</th>\n",
       "      <td>0</td>\n",
       "      <td>2</td>\n",
       "      <td>0</td>\n",
       "      <td>0</td>\n",
       "      <td>0</td>\n",
       "      <td>0</td>\n",
       "      <td>2</td>\n",
       "      <td>0</td>\n",
       "      <td>0</td>\n",
       "      <td>1</td>\n",
       "      <td>...</td>\n",
       "      <td>1</td>\n",
       "      <td>1</td>\n",
       "      <td>1</td>\n",
       "      <td>1</td>\n",
       "      <td>0</td>\n",
       "      <td>0</td>\n",
       "      <td>1</td>\n",
       "      <td>1</td>\n",
       "      <td>1</td>\n",
       "      <td>1</td>\n",
       "    </tr>\n",
       "    <tr>\n",
       "      <th>...</th>\n",
       "      <td>...</td>\n",
       "      <td>...</td>\n",
       "      <td>...</td>\n",
       "      <td>...</td>\n",
       "      <td>...</td>\n",
       "      <td>...</td>\n",
       "      <td>...</td>\n",
       "      <td>...</td>\n",
       "      <td>...</td>\n",
       "      <td>...</td>\n",
       "      <td>...</td>\n",
       "      <td>...</td>\n",
       "      <td>...</td>\n",
       "      <td>...</td>\n",
       "      <td>...</td>\n",
       "      <td>...</td>\n",
       "      <td>...</td>\n",
       "      <td>...</td>\n",
       "      <td>...</td>\n",
       "      <td>...</td>\n",
       "      <td>...</td>\n",
       "    </tr>\n",
       "    <tr>\n",
       "      <th>2999</th>\n",
       "      <td>2</td>\n",
       "      <td>0</td>\n",
       "      <td>0</td>\n",
       "      <td>0</td>\n",
       "      <td>1</td>\n",
       "      <td>0</td>\n",
       "      <td>2</td>\n",
       "      <td>0</td>\n",
       "      <td>0</td>\n",
       "      <td>0</td>\n",
       "      <td>...</td>\n",
       "      <td>0</td>\n",
       "      <td>0</td>\n",
       "      <td>0</td>\n",
       "      <td>0</td>\n",
       "      <td>0</td>\n",
       "      <td>0</td>\n",
       "      <td>1</td>\n",
       "      <td>0</td>\n",
       "      <td>0</td>\n",
       "      <td>1</td>\n",
       "    </tr>\n",
       "    <tr>\n",
       "      <th>3000</th>\n",
       "      <td>1</td>\n",
       "      <td>0</td>\n",
       "      <td>0</td>\n",
       "      <td>0</td>\n",
       "      <td>0</td>\n",
       "      <td>0</td>\n",
       "      <td>2</td>\n",
       "      <td>0</td>\n",
       "      <td>0</td>\n",
       "      <td>0</td>\n",
       "      <td>...</td>\n",
       "      <td>0</td>\n",
       "      <td>0</td>\n",
       "      <td>0</td>\n",
       "      <td>0</td>\n",
       "      <td>0</td>\n",
       "      <td>0</td>\n",
       "      <td>0</td>\n",
       "      <td>0</td>\n",
       "      <td>0</td>\n",
       "      <td>2</td>\n",
       "    </tr>\n",
       "    <tr>\n",
       "      <th>3001</th>\n",
       "      <td>2</td>\n",
       "      <td>0</td>\n",
       "      <td>0</td>\n",
       "      <td>0</td>\n",
       "      <td>0</td>\n",
       "      <td>0</td>\n",
       "      <td>2</td>\n",
       "      <td>0</td>\n",
       "      <td>0</td>\n",
       "      <td>0</td>\n",
       "      <td>...</td>\n",
       "      <td>0</td>\n",
       "      <td>0</td>\n",
       "      <td>0</td>\n",
       "      <td>0</td>\n",
       "      <td>0</td>\n",
       "      <td>0</td>\n",
       "      <td>0</td>\n",
       "      <td>0</td>\n",
       "      <td>1</td>\n",
       "      <td>2</td>\n",
       "    </tr>\n",
       "    <tr>\n",
       "      <th>3002</th>\n",
       "      <td>0</td>\n",
       "      <td>0</td>\n",
       "      <td>0</td>\n",
       "      <td>0</td>\n",
       "      <td>0</td>\n",
       "      <td>1</td>\n",
       "      <td>1</td>\n",
       "      <td>0</td>\n",
       "      <td>1</td>\n",
       "      <td>1</td>\n",
       "      <td>...</td>\n",
       "      <td>0</td>\n",
       "      <td>2</td>\n",
       "      <td>2</td>\n",
       "      <td>1</td>\n",
       "      <td>0</td>\n",
       "      <td>0</td>\n",
       "      <td>1</td>\n",
       "      <td>1</td>\n",
       "      <td>2</td>\n",
       "      <td>0</td>\n",
       "    </tr>\n",
       "    <tr>\n",
       "      <th>3003</th>\n",
       "      <td>1</td>\n",
       "      <td>1</td>\n",
       "      <td>0</td>\n",
       "      <td>0</td>\n",
       "      <td>0</td>\n",
       "      <td>0</td>\n",
       "      <td>2</td>\n",
       "      <td>0</td>\n",
       "      <td>0</td>\n",
       "      <td>0</td>\n",
       "      <td>...</td>\n",
       "      <td>0</td>\n",
       "      <td>0</td>\n",
       "      <td>0</td>\n",
       "      <td>0</td>\n",
       "      <td>0</td>\n",
       "      <td>0</td>\n",
       "      <td>0</td>\n",
       "      <td>0</td>\n",
       "      <td>1</td>\n",
       "      <td>1</td>\n",
       "    </tr>\n",
       "  </tbody>\n",
       "</table>\n",
       "<p>3000 rows × 20390 columns</p>\n",
       "</div>"
      ],
      "text/plain": [
       "     0     1     2     3     4     5     6     7     8     9      ... 20380  \\\n",
       "4        0     0     1     0     0     2     0     0     1     0  ...     0   \n",
       "5        1     0     0     0     0     0     2     0     0     0  ...     0   \n",
       "6        0     0     2     1     0     1     1     0     0     0  ...     0   \n",
       "7        2     0     0     0     1     0     2     0     0     0  ...     1   \n",
       "8        0     2     0     0     0     0     2     0     0     1  ...     1   \n",
       "...    ...   ...   ...   ...   ...   ...   ...   ...   ...   ...  ...   ...   \n",
       "2999     2     0     0     0     1     0     2     0     0     0  ...     0   \n",
       "3000     1     0     0     0     0     0     2     0     0     0  ...     0   \n",
       "3001     2     0     0     0     0     0     2     0     0     0  ...     0   \n",
       "3002     0     0     0     0     0     1     1     0     1     1  ...     0   \n",
       "3003     1     1     0     0     0     0     2     0     0     0  ...     0   \n",
       "\n",
       "     20381 20382 20383 20384 20385 20386 20387 20388 20389  \n",
       "4        1     1     1     0     0     1     1     1     2  \n",
       "5        0     0     0     0     0     0     0     0     0  \n",
       "6        2     2     1     0     0     2     1     2     1  \n",
       "7        1     1     1     1     1     1     1     1     1  \n",
       "8        1     1     1     0     0     1     1     1     1  \n",
       "...    ...   ...   ...   ...   ...   ...   ...   ...   ...  \n",
       "2999     0     0     0     0     0     1     0     0     1  \n",
       "3000     0     0     0     0     0     0     0     0     2  \n",
       "3001     0     0     0     0     0     0     0     1     2  \n",
       "3002     2     2     1     0     0     1     1     2     0  \n",
       "3003     0     0     0     0     0     0     0     1     1  \n",
       "\n",
       "[3000 rows x 20390 columns]"
      ]
     },
     "execution_count": 19,
     "metadata": {},
     "output_type": "execute_result"
    }
   ],
   "source": [
    "#Drop the first 4 rows of extraneous info.\n",
    "\n",
    "X[4:]"
   ]
  },
  {
   "cell_type": "code",
   "execution_count": 90,
   "id": "232e9d22",
   "metadata": {},
   "outputs": [],
   "source": [
    "#Set target y.\n",
    "#Always run before training/testing model.\n",
    "\n",
    "y = ph1_df.loc[sample_list]"
   ]
  },
  {
   "cell_type": "code",
   "execution_count": 43,
   "id": "208362e6",
   "metadata": {},
   "outputs": [],
   "source": [
    "Z = X[4:]"
   ]
  },
  {
   "cell_type": "code",
   "execution_count": 44,
   "id": "ef9ad505",
   "metadata": {},
   "outputs": [],
   "source": [
    "from sklearn.model_selection import train_test_split"
   ]
  },
  {
   "cell_type": "code",
   "execution_count": 45,
   "id": "638f1821",
   "metadata": {},
   "outputs": [],
   "source": [
    "#Train-test split.\n",
    "\n",
    "Z_train, Z_test, y_train, y_test = train_test_split(Z, y, test_size=0.3, random_state=101)"
   ]
  },
  {
   "cell_type": "code",
   "execution_count": 46,
   "id": "2488a40f",
   "metadata": {},
   "outputs": [],
   "source": [
    "from sklearn.linear_model import LinearRegression"
   ]
  },
  {
   "cell_type": "code",
   "execution_count": 47,
   "id": "c79e3f4b",
   "metadata": {},
   "outputs": [],
   "source": [
    "#Test simple OLS linear regression model.\n",
    "\n",
    "lm = LinearRegression()"
   ]
  },
  {
   "cell_type": "code",
   "execution_count": 48,
   "id": "1f044c58",
   "metadata": {},
   "outputs": [
    {
     "data": {
      "text/plain": [
       "LinearRegression()"
      ]
     },
     "execution_count": 48,
     "metadata": {},
     "output_type": "execute_result"
    }
   ],
   "source": [
    "lm.fit(Z_train,y_train)"
   ]
  },
  {
   "cell_type": "code",
   "execution_count": 49,
   "id": "b03b29f1",
   "metadata": {},
   "outputs": [
    {
     "name": "stdout",
     "output_type": "stream",
     "text": [
      "Coefficients: \n",
      " [[-0.00015384  0.0005343   0.00015701 ...  0.00029577 -0.00027868\n",
      "  -0.00025288]]\n"
     ]
    }
   ],
   "source": [
    "# The coefficients\n",
    "print('Coefficients: \\n', lm.coef_)"
   ]
  },
  {
   "cell_type": "code",
   "execution_count": 51,
   "id": "bc7ded7b",
   "metadata": {},
   "outputs": [],
   "source": [
    "predictions = lm.predict( Z_test)"
   ]
  },
  {
   "cell_type": "code",
   "execution_count": 52,
   "id": "077ad254",
   "metadata": {},
   "outputs": [],
   "source": [
    "import matplotlib.pyplot as plt\n",
    "%matplotlib inline"
   ]
  },
  {
   "cell_type": "code",
   "execution_count": 53,
   "id": "271715a3",
   "metadata": {},
   "outputs": [
    {
     "data": {
      "text/plain": [
       "Text(0, 0.5, 'Predicted Y')"
      ]
     },
     "execution_count": 53,
     "metadata": {},
     "output_type": "execute_result"
    },
    {
     "data": {
      "image/png": "[encoded data removed]",
      "text/plain": [
       "<Figure size 432x288 with 1 Axes>"
      ]
     },
     "metadata": {
      "needs_background": "light"
     },
     "output_type": "display_data"
    }
   ],
   "source": [
    "#Visual representation of model accuracy on test set.\n",
    "#Model is not very accurate.\n",
    "\n",
    "plt.scatter(y_test,predictions)\n",
    "plt.xlabel('Y Test')\n",
    "plt.ylabel('Predicted Y')"
   ]
  },
  {
   "cell_type": "code",
   "execution_count": 54,
   "id": "e0352fc5",
   "metadata": {},
   "outputs": [
    {
     "name": "stdout",
     "output_type": "stream",
     "text": [
      "MAE: 0.04467244127777091\n",
      "MSE: 0.003269388893369747\n",
      "RMSE: 0.05717857022844963\n"
     ]
    }
   ],
   "source": [
    "#Baseline accuracy statistics for predicting Phenotype 1\n",
    "#Competition entries will be judged on Normalized RMSE (what is the normalization?)\n",
    "\n",
    "from sklearn import metrics\n",
    "\n",
    "print('MAE:', metrics.mean_absolute_error(y_test, predictions))\n",
    "print('MSE:', metrics.mean_squared_error(y_test, predictions))\n",
    "print('RMSE:', np.sqrt(metrics.mean_squared_error(y_test, predictions)))"
   ]
  },
  {
   "cell_type": "code",
   "execution_count": 84,
   "id": "65bb4775",
   "metadata": {},
   "outputs": [],
   "source": [
    "#Try Lasso model, linear model with l1 penalty\n",
    "\n",
    "from sklearn.linear_model import Lasso"
   ]
  },
  {
   "cell_type": "code",
   "execution_count": 91,
   "id": "0bd3bfe0",
   "metadata": {},
   "outputs": [],
   "source": [
    "Z_train, Z_test, y_train, y_test = train_test_split(Z, y, test_size=0.3, random_state=101)"
   ]
  },
  {
   "cell_type": "code",
   "execution_count": 111,
   "id": "0c1221e8",
   "metadata": {},
   "outputs": [],
   "source": [
    "#Alpha value sets strength of the l1 penalty\n",
    "#alpha = 0 is just regular OLS\n",
    "\n",
    "lasso_model = Lasso(alpha=.000002,max_iter=5000)"
   ]
  },
  {
   "cell_type": "code",
   "execution_count": 112,
   "id": "15388884",
   "metadata": {},
   "outputs": [
    {
     "name": "stderr",
     "output_type": "stream",
     "text": [
      "/Users/danielrubin/anaconda3/lib/python3.6/site-packages/sklearn/linear_model/_coordinate_descent.py:532: ConvergenceWarning: Objective did not converge. You might want to increase the number of iterations. Duality gap: 0.0031396687759788692, tolerance: 0.001225956674665814\n",
      "  positive)\n"
     ]
    },
    {
     "data": {
      "text/plain": [
       "Lasso(alpha=2e-06, max_iter=5000)"
      ]
     },
     "execution_count": 112,
     "metadata": {},
     "output_type": "execute_result"
    }
   ],
   "source": [
    "lasso_model.fit(Z_train,y_train)"
   ]
  },
  {
   "cell_type": "code",
   "execution_count": 117,
   "id": "e5719b7d",
   "metadata": {},
   "outputs": [
    {
     "data": {
      "text/plain": [
       "array([ 0.        ,  0.        ,  0.        , -0.        , -0.        ,\n",
       "        0.        ,  0.        ,  0.00026902, -0.        , -0.        ,\n",
       "       -0.        ,  0.        ,  0.        ,  0.        , -0.        ,\n",
       "       -0.00017063,  0.0003608 ,  0.        ,  0.        ,  0.00048009,\n",
       "        0.        , -0.        , -0.        ,  0.        ,  0.        ,\n",
       "        0.        , -0.        , -0.        ,  0.        , -0.        ,\n",
       "       -0.        ,  0.        , -0.        , -0.        , -0.        ,\n",
       "        0.        ,  0.000121  , -0.        , -0.        , -0.        ,\n",
       "       -0.        , -0.        ,  0.00027423, -0.        , -0.        ,\n",
       "        0.00035756,  0.        , -0.        ,  0.        , -0.        ,\n",
       "       -0.        , -0.        , -0.        , -0.        , -0.        ,\n",
       "        0.        ,  0.        ,  0.        , -0.        , -0.        ,\n",
       "       -0.        , -0.        ,  0.00045624,  0.        , -0.        ,\n",
       "       -0.        ,  0.        , -0.        , -0.        ,  0.        ,\n",
       "       -0.00041937, -0.        , -0.        ,  0.        ,  0.        ,\n",
       "       -0.        , -0.        ,  0.        , -0.        , -0.00043366,\n",
       "        0.        ,  0.        ,  0.        ,  0.00012773, -0.        ,\n",
       "        0.        ,  0.        ,  0.        ,  0.        , -0.        ,\n",
       "       -0.        ,  0.        ,  0.00056855,  0.        ,  0.        ,\n",
       "       -0.        ,  0.        ,  0.        , -0.        , -0.        ])"
      ]
     },
     "execution_count": 117,
     "metadata": {},
     "output_type": "execute_result"
    }
   ],
   "source": [
    "#Note that the lasso model is sparse.\n",
    "\n",
    "lasso_model.coef_[:100]"
   ]
  },
  {
   "cell_type": "code",
   "execution_count": 404,
   "id": "aab31dd1",
   "metadata": {},
   "outputs": [
    {
     "data": {
      "text/plain": [
       "2785"
      ]
     },
     "execution_count": 404,
     "metadata": {},
     "output_type": "execute_result"
    }
   ],
   "source": [
    "#Number of nonzero coefficients in lasso model.\n",
    "#Alpha = 2e-6 cuts nonzero parameters from 23090 to 2785\n",
    "\n",
    "np.count_nonzero(lasso_model.coef_)"
   ]
  },
  {
   "cell_type": "code",
   "execution_count": 114,
   "id": "ee36c32f",
   "metadata": {},
   "outputs": [],
   "source": [
    "predictions = lasso_model.predict(Z_test)"
   ]
  },
  {
   "cell_type": "code",
   "execution_count": 115,
   "id": "009bb83b",
   "metadata": {},
   "outputs": [
    {
     "data": {
      "text/plain": [
       "Text(0, 0.5, 'Predicted Y')"
      ]
     },
     "execution_count": 115,
     "metadata": {},
     "output_type": "execute_result"
    },
    {
     "data": {
      "image/png": "[encoded data removed]",
      "text/plain": [
       "<Figure size 432x288 with 1 Axes>"
      ]
     },
     "metadata": {
      "needs_background": "light"
     },
     "output_type": "display_data"
    }
   ],
   "source": [
    "#Lasso does better than OLS\n",
    "\n",
    "plt.scatter(y_test,predictions)\n",
    "plt.xlabel('Y Test')\n",
    "plt.ylabel('Predicted Y')"
   ]
  },
  {
   "cell_type": "code",
   "execution_count": 116,
   "id": "82538075",
   "metadata": {},
   "outputs": [
    {
     "name": "stdout",
     "output_type": "stream",
     "text": [
      "MAE: 0.02284022266476089\n",
      "MSE: 0.0008346749909487295\n",
      "RMSE: 0.02889074230525636\n"
     ]
    }
   ],
   "source": [
    "#Lasso(alpha = 2e-6) for Ph 1 achieves RMSE .029\n",
    "\n",
    "print('MAE:', metrics.mean_absolute_error(y_test, predictions))\n",
    "print('MSE:', metrics.mean_squared_error(y_test, predictions))\n",
    "print('RMSE:', np.sqrt(metrics.mean_squared_error(y_test, predictions)))"
   ]
  },
  {
   "cell_type": "code",
   "execution_count": 57,
   "id": "da088cdd",
   "metadata": {},
   "outputs": [],
   "source": [
    "#Set targets for Phenotype 2\n",
    "\n",
    "ph = ph2_df.loc[sample_list]"
   ]
  },
  {
   "cell_type": "code",
   "execution_count": 58,
   "id": "dab043a9",
   "metadata": {},
   "outputs": [],
   "source": [
    "Z_train, Z_test, ph_train, ph_test = train_test_split(Z, ph, test_size=0.3, random_state=101)"
   ]
  },
  {
   "cell_type": "code",
   "execution_count": 59,
   "id": "cec83fa8",
   "metadata": {},
   "outputs": [],
   "source": [
    "#Try basic OLS linear regression model\n",
    "\n",
    "lm2 = LinearRegression()"
   ]
  },
  {
   "cell_type": "code",
   "execution_count": 60,
   "id": "6052ba15",
   "metadata": {},
   "outputs": [
    {
     "data": {
      "text/plain": [
       "LinearRegression()"
      ]
     },
     "execution_count": 60,
     "metadata": {},
     "output_type": "execute_result"
    }
   ],
   "source": [
    "lm2.fit(Z_train,ph_train)"
   ]
  },
  {
   "cell_type": "code",
   "execution_count": 61,
   "id": "59d601b1",
   "metadata": {},
   "outputs": [],
   "source": [
    "predictions2 = lm2.predict(Z_test)"
   ]
  },
  {
   "cell_type": "code",
   "execution_count": 62,
   "id": "dfc4f351",
   "metadata": {},
   "outputs": [
    {
     "data": {
      "text/plain": [
       "Text(0, 0.5, 'Predicted Y')"
      ]
     },
     "execution_count": 62,
     "metadata": {},
     "output_type": "execute_result"
    },
    {
     "data": {
      "image/png": "[encoded data removed]",
      "text/plain": [
       "<Figure size 432x288 with 1 Axes>"
      ]
     },
     "metadata": {
      "needs_background": "light"
     },
     "output_type": "display_data"
    }
   ],
   "source": [
    "#OLS performs very poorly on Phenotype 2\n",
    "\n",
    "plt.scatter(ph_test,predictions2)\n",
    "plt.xlabel('Y Test')\n",
    "plt.ylabel('Predicted Y')"
   ]
  },
  {
   "cell_type": "code",
   "execution_count": 405,
   "id": "822e809c",
   "metadata": {},
   "outputs": [
    {
     "name": "stdout",
     "output_type": "stream",
     "text": [
      "MAE: 0.18837020138049623\n",
      "MSE: 0.055884438097927314\n",
      "RMSE: 0.23639889614363116\n"
     ]
    }
   ],
   "source": [
    "#Poor accuracy stats for OLS on Phenotype 2\n",
    "\n",
    "print('MAE:', metrics.mean_absolute_error(ph_test, predictions2))\n",
    "print('MSE:', metrics.mean_squared_error(ph_test, predictions2))\n",
    "print('RMSE:', np.sqrt(metrics.mean_squared_error(ph_test, predictions2)))"
   ]
  },
  {
   "cell_type": "code",
   "execution_count": 63,
   "id": "4e4590dd",
   "metadata": {},
   "outputs": [
    {
     "data": {
      "text/html": [
       "<div>\n",
       "<style scoped>\n",
       "    .dataframe tbody tr th:only-of-type {\n",
       "        vertical-align: middle;\n",
       "    }\n",
       "\n",
       "    .dataframe tbody tr th {\n",
       "        vertical-align: top;\n",
       "    }\n",
       "\n",
       "    .dataframe thead th {\n",
       "        text-align: right;\n",
       "    }\n",
       "</style>\n",
       "<table border=\"1\" class=\"dataframe\">\n",
       "  <thead>\n",
       "    <tr style=\"text-align: right;\">\n",
       "      <th></th>\n",
       "      <th>phenotype</th>\n",
       "    </tr>\n",
       "    <tr>\n",
       "      <th>id</th>\n",
       "      <th></th>\n",
       "    </tr>\n",
       "  </thead>\n",
       "  <tbody>\n",
       "    <tr>\n",
       "      <th>d8e4f50989cf4f4142627b2e01dde505eafe0cad</th>\n",
       "      <td>-0.775620</td>\n",
       "    </tr>\n",
       "    <tr>\n",
       "      <th>4d784bfc402f201b78efb2404ed7c8b9ebf2126a</th>\n",
       "      <td>-0.564953</td>\n",
       "    </tr>\n",
       "    <tr>\n",
       "      <th>81b832a049175854a6054c729e403e43bfb11bc6</th>\n",
       "      <td>-0.724430</td>\n",
       "    </tr>\n",
       "    <tr>\n",
       "      <th>f5edd61883f0e8b42a7cc77757419b4161c4aa9a</th>\n",
       "      <td>-0.176628</td>\n",
       "    </tr>\n",
       "    <tr>\n",
       "      <th>ccf1a224f9e5e3c4780dac429691b56593b723b3</th>\n",
       "      <td>-0.312832</td>\n",
       "    </tr>\n",
       "    <tr>\n",
       "      <th>...</th>\n",
       "      <td>...</td>\n",
       "    </tr>\n",
       "    <tr>\n",
       "      <th>b70c53920c2b178c9d901d793e18423c8f338cd8</th>\n",
       "      <td>-0.661671</td>\n",
       "    </tr>\n",
       "    <tr>\n",
       "      <th>bfc4179929025f9e8d877585e97e009cfa705aed</th>\n",
       "      <td>-0.080737</td>\n",
       "    </tr>\n",
       "    <tr>\n",
       "      <th>cb2cd678bc0c62f30443514f98bf067e443c929e</th>\n",
       "      <td>0.402807</td>\n",
       "    </tr>\n",
       "    <tr>\n",
       "      <th>76e1d8e319e270e45f1cd0641c8842af6f9dd2b3</th>\n",
       "      <td>-0.497699</td>\n",
       "    </tr>\n",
       "    <tr>\n",
       "      <th>4567181cb7d7042447db50be1f48c5c2fbb093ed</th>\n",
       "      <td>-0.608326</td>\n",
       "    </tr>\n",
       "  </tbody>\n",
       "</table>\n",
       "<p>3000 rows × 1 columns</p>\n",
       "</div>"
      ],
      "text/plain": [
       "                                          phenotype\n",
       "id                                                 \n",
       "d8e4f50989cf4f4142627b2e01dde505eafe0cad  -0.775620\n",
       "4d784bfc402f201b78efb2404ed7c8b9ebf2126a  -0.564953\n",
       "81b832a049175854a6054c729e403e43bfb11bc6  -0.724430\n",
       "f5edd61883f0e8b42a7cc77757419b4161c4aa9a  -0.176628\n",
       "ccf1a224f9e5e3c4780dac429691b56593b723b3  -0.312832\n",
       "...                                             ...\n",
       "b70c53920c2b178c9d901d793e18423c8f338cd8  -0.661671\n",
       "bfc4179929025f9e8d877585e97e009cfa705aed  -0.080737\n",
       "cb2cd678bc0c62f30443514f98bf067e443c929e   0.402807\n",
       "76e1d8e319e270e45f1cd0641c8842af6f9dd2b3  -0.497699\n",
       "4567181cb7d7042447db50be1f48c5c2fbb093ed  -0.608326\n",
       "\n",
       "[3000 rows x 1 columns]"
      ]
     },
     "execution_count": 63,
     "metadata": {},
     "output_type": "execute_result"
    }
   ],
   "source": [
    "#Load Phenotype 3 data and set correct order.\n",
    "\n",
    "ph3_df = pd.read_fwf(\"phenotypes_3.txt\",header=None)\n",
    "ph3_df.set_axis(['id','phenotype'],axis='columns',inplace=True)\n",
    "ph3_df.set_index('id',inplace=True)\n",
    "ph3_df = ph3_df.loc[sample_list]\n",
    "ph3_df"
   ]
  },
  {
   "cell_type": "code",
   "execution_count": 64,
   "id": "5708523e",
   "metadata": {},
   "outputs": [
    {
     "data": {
      "text/html": [
       "<div>\n",
       "<style scoped>\n",
       "    .dataframe tbody tr th:only-of-type {\n",
       "        vertical-align: middle;\n",
       "    }\n",
       "\n",
       "    .dataframe tbody tr th {\n",
       "        vertical-align: top;\n",
       "    }\n",
       "\n",
       "    .dataframe thead th {\n",
       "        text-align: right;\n",
       "    }\n",
       "</style>\n",
       "<table border=\"1\" class=\"dataframe\">\n",
       "  <thead>\n",
       "    <tr style=\"text-align: right;\">\n",
       "      <th></th>\n",
       "      <th>phenotype</th>\n",
       "    </tr>\n",
       "    <tr>\n",
       "      <th>id</th>\n",
       "      <th></th>\n",
       "    </tr>\n",
       "  </thead>\n",
       "  <tbody>\n",
       "    <tr>\n",
       "      <th>d8e4f50989cf4f4142627b2e01dde505eafe0cad</th>\n",
       "      <td>1</td>\n",
       "    </tr>\n",
       "    <tr>\n",
       "      <th>4d784bfc402f201b78efb2404ed7c8b9ebf2126a</th>\n",
       "      <td>1</td>\n",
       "    </tr>\n",
       "    <tr>\n",
       "      <th>81b832a049175854a6054c729e403e43bfb11bc6</th>\n",
       "      <td>1</td>\n",
       "    </tr>\n",
       "    <tr>\n",
       "      <th>f5edd61883f0e8b42a7cc77757419b4161c4aa9a</th>\n",
       "      <td>1</td>\n",
       "    </tr>\n",
       "    <tr>\n",
       "      <th>ccf1a224f9e5e3c4780dac429691b56593b723b3</th>\n",
       "      <td>0</td>\n",
       "    </tr>\n",
       "    <tr>\n",
       "      <th>...</th>\n",
       "      <td>...</td>\n",
       "    </tr>\n",
       "    <tr>\n",
       "      <th>b70c53920c2b178c9d901d793e18423c8f338cd8</th>\n",
       "      <td>1</td>\n",
       "    </tr>\n",
       "    <tr>\n",
       "      <th>bfc4179929025f9e8d877585e97e009cfa705aed</th>\n",
       "      <td>1</td>\n",
       "    </tr>\n",
       "    <tr>\n",
       "      <th>cb2cd678bc0c62f30443514f98bf067e443c929e</th>\n",
       "      <td>1</td>\n",
       "    </tr>\n",
       "    <tr>\n",
       "      <th>76e1d8e319e270e45f1cd0641c8842af6f9dd2b3</th>\n",
       "      <td>0</td>\n",
       "    </tr>\n",
       "    <tr>\n",
       "      <th>4567181cb7d7042447db50be1f48c5c2fbb093ed</th>\n",
       "      <td>0</td>\n",
       "    </tr>\n",
       "  </tbody>\n",
       "</table>\n",
       "<p>3000 rows × 1 columns</p>\n",
       "</div>"
      ],
      "text/plain": [
       "                                          phenotype\n",
       "id                                                 \n",
       "d8e4f50989cf4f4142627b2e01dde505eafe0cad          1\n",
       "4d784bfc402f201b78efb2404ed7c8b9ebf2126a          1\n",
       "81b832a049175854a6054c729e403e43bfb11bc6          1\n",
       "f5edd61883f0e8b42a7cc77757419b4161c4aa9a          1\n",
       "ccf1a224f9e5e3c4780dac429691b56593b723b3          0\n",
       "...                                             ...\n",
       "b70c53920c2b178c9d901d793e18423c8f338cd8          1\n",
       "bfc4179929025f9e8d877585e97e009cfa705aed          1\n",
       "cb2cd678bc0c62f30443514f98bf067e443c929e          1\n",
       "76e1d8e319e270e45f1cd0641c8842af6f9dd2b3          0\n",
       "4567181cb7d7042447db50be1f48c5c2fbb093ed          0\n",
       "\n",
       "[3000 rows x 1 columns]"
      ]
     },
     "execution_count": 64,
     "metadata": {},
     "output_type": "execute_result"
    }
   ],
   "source": [
    "#Load Phenotype 4 data and set correct order\n",
    "\n",
    "ph4_df = pd.read_fwf(\"phenotypes_4.txt\",header=None)\n",
    "ph4_df.set_axis(['id','phenotype'],axis='columns',inplace=True)\n",
    "ph4_df.set_index('id',inplace=True)\n",
    "ph4_df = ph4_df.loc[sample_list]\n",
    "ph4_df"
   ]
  },
  {
   "cell_type": "code",
   "execution_count": 403,
   "id": "e157d818",
   "metadata": {},
   "outputs": [
    {
     "data": {
      "text/plain": [
       "1855"
      ]
     },
     "execution_count": 403,
     "metadata": {},
     "output_type": "execute_result"
    }
   ],
   "source": [
    "#Check number of positives in Ph 4\n",
    "\n",
    "np.count_nonzero(np.array(ph4_df))"
   ]
  },
  {
   "cell_type": "code",
   "execution_count": 65,
   "id": "815c694d",
   "metadata": {},
   "outputs": [
    {
     "data": {
      "text/html": [
       "<div>\n",
       "<style scoped>\n",
       "    .dataframe tbody tr th:only-of-type {\n",
       "        vertical-align: middle;\n",
       "    }\n",
       "\n",
       "    .dataframe tbody tr th {\n",
       "        vertical-align: top;\n",
       "    }\n",
       "\n",
       "    .dataframe thead th {\n",
       "        text-align: right;\n",
       "    }\n",
       "</style>\n",
       "<table border=\"1\" class=\"dataframe\">\n",
       "  <thead>\n",
       "    <tr style=\"text-align: right;\">\n",
       "      <th></th>\n",
       "      <th>phenotype</th>\n",
       "    </tr>\n",
       "    <tr>\n",
       "      <th>id</th>\n",
       "      <th></th>\n",
       "    </tr>\n",
       "  </thead>\n",
       "  <tbody>\n",
       "    <tr>\n",
       "      <th>d8e4f50989cf4f4142627b2e01dde505eafe0cad</th>\n",
       "      <td>0</td>\n",
       "    </tr>\n",
       "    <tr>\n",
       "      <th>4d784bfc402f201b78efb2404ed7c8b9ebf2126a</th>\n",
       "      <td>0</td>\n",
       "    </tr>\n",
       "    <tr>\n",
       "      <th>81b832a049175854a6054c729e403e43bfb11bc6</th>\n",
       "      <td>0</td>\n",
       "    </tr>\n",
       "    <tr>\n",
       "      <th>f5edd61883f0e8b42a7cc77757419b4161c4aa9a</th>\n",
       "      <td>0</td>\n",
       "    </tr>\n",
       "    <tr>\n",
       "      <th>ccf1a224f9e5e3c4780dac429691b56593b723b3</th>\n",
       "      <td>0</td>\n",
       "    </tr>\n",
       "    <tr>\n",
       "      <th>...</th>\n",
       "      <td>...</td>\n",
       "    </tr>\n",
       "    <tr>\n",
       "      <th>b70c53920c2b178c9d901d793e18423c8f338cd8</th>\n",
       "      <td>0</td>\n",
       "    </tr>\n",
       "    <tr>\n",
       "      <th>bfc4179929025f9e8d877585e97e009cfa705aed</th>\n",
       "      <td>1</td>\n",
       "    </tr>\n",
       "    <tr>\n",
       "      <th>cb2cd678bc0c62f30443514f98bf067e443c929e</th>\n",
       "      <td>0</td>\n",
       "    </tr>\n",
       "    <tr>\n",
       "      <th>76e1d8e319e270e45f1cd0641c8842af6f9dd2b3</th>\n",
       "      <td>0</td>\n",
       "    </tr>\n",
       "    <tr>\n",
       "      <th>4567181cb7d7042447db50be1f48c5c2fbb093ed</th>\n",
       "      <td>0</td>\n",
       "    </tr>\n",
       "  </tbody>\n",
       "</table>\n",
       "<p>3000 rows × 1 columns</p>\n",
       "</div>"
      ],
      "text/plain": [
       "                                          phenotype\n",
       "id                                                 \n",
       "d8e4f50989cf4f4142627b2e01dde505eafe0cad          0\n",
       "4d784bfc402f201b78efb2404ed7c8b9ebf2126a          0\n",
       "81b832a049175854a6054c729e403e43bfb11bc6          0\n",
       "f5edd61883f0e8b42a7cc77757419b4161c4aa9a          0\n",
       "ccf1a224f9e5e3c4780dac429691b56593b723b3          0\n",
       "...                                             ...\n",
       "b70c53920c2b178c9d901d793e18423c8f338cd8          0\n",
       "bfc4179929025f9e8d877585e97e009cfa705aed          1\n",
       "cb2cd678bc0c62f30443514f98bf067e443c929e          0\n",
       "76e1d8e319e270e45f1cd0641c8842af6f9dd2b3          0\n",
       "4567181cb7d7042447db50be1f48c5c2fbb093ed          0\n",
       "\n",
       "[3000 rows x 1 columns]"
      ]
     },
     "execution_count": 65,
     "metadata": {},
     "output_type": "execute_result"
    }
   ],
   "source": [
    "#Load Phenotype 5 data and set correct order.\n",
    "\n",
    "ph5_df = pd.read_fwf(\"phenotypes_5.txt\",header=None)\n",
    "ph5_df.set_axis(['id','phenotype'],axis='columns',inplace=True)\n",
    "ph5_df.set_index('id',inplace=True)\n",
    "ph5_df = ph5_df.loc[sample_list]\n",
    "ph5_df"
   ]
  },
  {
   "cell_type": "code",
   "execution_count": 402,
   "id": "43fddc22",
   "metadata": {},
   "outputs": [
    {
     "data": {
      "text/plain": [
       "1549"
      ]
     },
     "execution_count": 402,
     "metadata": {},
     "output_type": "execute_result"
    }
   ],
   "source": [
    "#Count number of positives in Ph 4\n",
    "\n",
    "np.count_nonzero(np.array(ph5_df))"
   ]
  },
  {
   "cell_type": "code",
   "execution_count": null,
   "id": "5db26663",
   "metadata": {},
   "outputs": [],
   "source": []
  },
  {
   "cell_type": "code",
   "execution_count": 66,
   "id": "e6156309",
   "metadata": {},
   "outputs": [],
   "source": [
    "#Try logisitic regression model for binary classification\n",
    "\n",
    "from sklearn.linear_model import LogisticRegression"
   ]
  },
  {
   "cell_type": "code",
   "execution_count": 409,
   "id": "9e4fb15e",
   "metadata": {},
   "outputs": [],
   "source": [
    "#Set target for Ph 4\n",
    "y = np.array(ph4_df).ravel()"
   ]
  },
  {
   "cell_type": "code",
   "execution_count": 410,
   "id": "ea3a8a33",
   "metadata": {},
   "outputs": [],
   "source": [
    "Z_train, Z_test, y_train, y_test = train_test_split(Z, y, test_size=0.3, random_state=101)"
   ]
  },
  {
   "cell_type": "code",
   "execution_count": 69,
   "id": "1d9fbeac",
   "metadata": {},
   "outputs": [],
   "source": [
    "logmodel = LogisticRegression()"
   ]
  },
  {
   "cell_type": "code",
   "execution_count": 411,
   "id": "76368fa2",
   "metadata": {},
   "outputs": [
    {
     "name": "stderr",
     "output_type": "stream",
     "text": [
      "/Users/danielrubin/anaconda3/lib/python3.6/site-packages/sklearn/linear_model/_logistic.py:765: ConvergenceWarning: lbfgs failed to converge (status=1):\n",
      "STOP: TOTAL NO. of ITERATIONS REACHED LIMIT.\n",
      "\n",
      "Increase the number of iterations (max_iter) or scale the data as shown in:\n",
      "    https://scikit-learn.org/stable/modules/preprocessing.html\n",
      "Please also refer to the documentation for alternative solver options:\n",
      "    https://scikit-learn.org/stable/modules/linear_model.html#logistic-regression\n",
      "  extra_warning_msg=_LOGISTIC_SOLVER_CONVERGENCE_MSG)\n"
     ]
    },
    {
     "data": {
      "text/plain": [
       "LogisticRegression()"
      ]
     },
     "execution_count": 411,
     "metadata": {},
     "output_type": "execute_result"
    }
   ],
   "source": [
    "logmodel.fit(Z_train,y_train)"
   ]
  },
  {
   "cell_type": "code",
   "execution_count": 412,
   "id": "5942f1f6",
   "metadata": {},
   "outputs": [],
   "source": [
    "pred = logmodel.predict(Z_test)"
   ]
  },
  {
   "cell_type": "code",
   "execution_count": 415,
   "id": "5154a8ba",
   "metadata": {},
   "outputs": [],
   "source": [
    "from sklearn.metrics import auc, classification_report, confusion_matrix, roc_auc_score"
   ]
  },
  {
   "cell_type": "code",
   "execution_count": 74,
   "id": "3131b511",
   "metadata": {},
   "outputs": [
    {
     "name": "stdout",
     "output_type": "stream",
     "text": [
      "              precision    recall  f1-score   support\n",
      "\n",
      "           0       0.41      0.63      0.50       240\n",
      "           1       0.83      0.68      0.75       660\n",
      "\n",
      "    accuracy                           0.66       900\n",
      "   macro avg       0.62      0.65      0.62       900\n",
      "weighted avg       0.72      0.66      0.68       900\n",
      "\n"
     ]
    }
   ],
   "source": [
    "print(classification_report(pred, y_test))"
   ]
  },
  {
   "cell_type": "code",
   "execution_count": 413,
   "id": "93c62fad",
   "metadata": {},
   "outputs": [
    {
     "name": "stdout",
     "output_type": "stream",
     "text": [
      "[[151  89]\n",
      " [214 446]]\n"
     ]
    }
   ],
   "source": [
    "print(confusion_matrix(pred,y_test))"
   ]
  },
  {
   "cell_type": "code",
   "execution_count": 414,
   "id": "b362e6d8",
   "metadata": {},
   "outputs": [
    {
     "data": {
      "image/png": "[encoded data removed]",
      "text/plain": [
       "<Figure size 432x288 with 1 Axes>"
      ]
     },
     "metadata": {
      "needs_background": "light"
     },
     "output_type": "display_data"
    }
   ],
   "source": [
    "#Ordinary logistic regression model performs poorly.\n",
    "#AUC = .68\n",
    "\n",
    "metrics.plot_roc_curve(logmodel,Z_test,y_test)\n",
    "plt.show()"
   ]
  },
  {
   "cell_type": "code",
   "execution_count": 118,
   "id": "41debdd4",
   "metadata": {},
   "outputs": [],
   "source": [
    "#Attempt Principal Component Analysis for dimension reduction of the data\n",
    "\n",
    "from sklearn.decomposition import PCA"
   ]
  },
  {
   "cell_type": "code",
   "execution_count": 119,
   "id": "e1781f1f",
   "metadata": {},
   "outputs": [
    {
     "data": {
      "text/plain": [
       "array([[0, 0, 1, ..., 1, 1, 2],\n",
       "       [1, 0, 0, ..., 0, 0, 0],\n",
       "       [0, 0, 2, ..., 1, 2, 1],\n",
       "       ...,\n",
       "       [2, 0, 0, ..., 0, 1, 2],\n",
       "       [0, 0, 0, ..., 1, 2, 0],\n",
       "       [1, 1, 0, ..., 0, 1, 1]], dtype=object)"
      ]
     },
     "execution_count": 119,
     "metadata": {},
     "output_type": "execute_result"
    }
   ],
   "source": [
    "gt = np.array(Z)\n",
    "gt"
   ]
  },
  {
   "cell_type": "code",
   "execution_count": 121,
   "id": "75c8cb00",
   "metadata": {},
   "outputs": [
    {
     "data": {
      "text/plain": [
       "PCA(n_components=10)"
      ]
     },
     "execution_count": 121,
     "metadata": {},
     "output_type": "execute_result"
    }
   ],
   "source": [
    "#Try top 10 components\n",
    "\n",
    "pca = PCA(n_components=10)\n",
    "pca.fit(gt)"
   ]
  },
  {
   "cell_type": "code",
   "execution_count": 123,
   "id": "2521b3c0",
   "metadata": {},
   "outputs": [
    {
     "name": "stdout",
     "output_type": "stream",
     "text": [
      "[0.11836603 0.0666383  0.00203233 0.00193656 0.00185114 0.00161682\n",
      " 0.00144442 0.00140527 0.0013453  0.0013369 ]\n"
     ]
    }
   ],
   "source": [
    "#Percentage of variance explained.\n",
    "#These values show PCA is unlikely to be effective, since the first 2 components \n",
    "#account for <20%, and all others are <.2% with slow dropoff.\n",
    "\n",
    "print(pca.explained_variance_ratio_)"
   ]
  },
  {
   "cell_type": "code",
   "execution_count": 124,
   "id": "8775c896",
   "metadata": {},
   "outputs": [
    {
     "name": "stdout",
     "output_type": "stream",
     "text": [
      "[1713.12105079 1285.3945759   224.47706811  219.12416346  214.23694743\n",
      "  200.21900956  189.24356296  186.66119387  182.63509506  182.06373884]\n"
     ]
    }
   ],
   "source": [
    "print(pca.singular_values_)"
   ]
  },
  {
   "cell_type": "code",
   "execution_count": 125,
   "id": "5d33ab00",
   "metadata": {},
   "outputs": [
    {
     "data": {
      "text/plain": [
       "array([[ 42.91607578, -10.11405878,  -5.82010009, ...,  -6.1246436 ,\n",
       "          2.61515213,  -1.56266501],\n",
       "       [ -9.98524171,  32.09674492,  -5.51067392, ...,   3.59272266,\n",
       "          2.02110979,   0.73143012],\n",
       "       [ 41.76729167,  -9.16612148,  -1.89511974, ...,  -2.62654196,\n",
       "         -3.66753253,   1.84172599],\n",
       "       ...,\n",
       "       [-10.89214927,  32.44937692,  -5.87302058, ...,   0.06065789,\n",
       "         -5.02681396,  -2.68391825],\n",
       "       [ 41.85912557,  -9.75768124,  -2.27742042, ...,   1.73256114,\n",
       "          2.37553399,   0.26019311],\n",
       "       [-11.21000858,  31.81990886,  -4.08250991, ...,   2.03300911,\n",
       "         -3.52659242,  -1.44138174]])"
      ]
     },
     "execution_count": 125,
     "metadata": {},
     "output_type": "execute_result"
    }
   ],
   "source": [
    "gt_reduced = pca.transform(gt)\n",
    "gt_reduced"
   ]
  },
  {
   "cell_type": "code",
   "execution_count": 134,
   "id": "b95a0a64",
   "metadata": {},
   "outputs": [
    {
     "data": {
      "text/plain": [
       "(3000, 10)"
      ]
     },
     "execution_count": 134,
     "metadata": {},
     "output_type": "execute_result"
    }
   ],
   "source": [
    "gt_reduced.shape"
   ]
  },
  {
   "cell_type": "code",
   "execution_count": 416,
   "id": "631d0e83",
   "metadata": {},
   "outputs": [],
   "source": [
    "y = ph1_df.loc[sample_list]"
   ]
  },
  {
   "cell_type": "code",
   "execution_count": 417,
   "id": "6389286f",
   "metadata": {},
   "outputs": [],
   "source": [
    "#Try to train OLS linear model on projection to top 10 components.\n",
    "\n",
    "X = gt_reduced"
   ]
  },
  {
   "cell_type": "code",
   "execution_count": 418,
   "id": "f0d0ea64",
   "metadata": {},
   "outputs": [],
   "source": [
    "X_train, X_test, y_train, y_test = train_test_split(X, y, test_size=.3, random_state=101)"
   ]
  },
  {
   "cell_type": "code",
   "execution_count": 419,
   "id": "1487379c",
   "metadata": {},
   "outputs": [],
   "source": [
    "lm = LinearRegression()"
   ]
  },
  {
   "cell_type": "code",
   "execution_count": 420,
   "id": "2877b93e",
   "metadata": {},
   "outputs": [
    {
     "data": {
      "text/plain": [
       "LinearRegression()"
      ]
     },
     "execution_count": 420,
     "metadata": {},
     "output_type": "execute_result"
    }
   ],
   "source": [
    "lm.fit(X_train,y_train)"
   ]
  },
  {
   "cell_type": "code",
   "execution_count": 135,
   "id": "98b3cdb6",
   "metadata": {},
   "outputs": [
    {
     "data": {
      "text/plain": [
       "array([[ 1.47889266e-04,  1.33215206e-03, -1.55466971e-04,\n",
       "         1.74099141e-04, -2.85417366e-04,  1.15022091e-04,\n",
       "         1.47756642e-04,  4.99296060e-04,  1.09170832e-05,\n",
       "        -8.67581487e-04]])"
      ]
     },
     "execution_count": 135,
     "metadata": {},
     "output_type": "execute_result"
    }
   ],
   "source": [
    "lm.coef_"
   ]
  },
  {
   "cell_type": "code",
   "execution_count": 421,
   "id": "c271402e",
   "metadata": {},
   "outputs": [],
   "source": [
    "predictions = lm.predict(X_test)"
   ]
  },
  {
   "cell_type": "code",
   "execution_count": 422,
   "id": "5cd33531",
   "metadata": {},
   "outputs": [
    {
     "data": {
      "text/plain": [
       "Text(0, 0.5, 'Predicted Y')"
      ]
     },
     "execution_count": 422,
     "metadata": {},
     "output_type": "execute_result"
    },
    {
     "data": {
      "image/png": "[encoded data removed]",
      "text/plain": [
       "<Figure size 432x288 with 1 Axes>"
      ]
     },
     "metadata": {
      "needs_background": "light"
     },
     "output_type": "display_data"
    }
   ],
   "source": [
    "#Model does not perform well\n",
    "\n",
    "plt.scatter(y_test,predictions)\n",
    "plt.xlabel('Y Test')\n",
    "plt.ylabel('Predicted Y')"
   ]
  },
  {
   "cell_type": "code",
   "execution_count": 423,
   "id": "f5790e47",
   "metadata": {},
   "outputs": [
    {
     "name": "stdout",
     "output_type": "stream",
     "text": [
      "MAE: 0.055397145638659\n",
      "MSE: 0.005231928898149639\n",
      "RMSE: 0.07233207378576698\n"
     ]
    }
   ],
   "source": [
    "#RMSE worse than OLS linear regression on full dataset\n",
    "\n",
    "print('MAE:', metrics.mean_absolute_error(y_test, predictions))\n",
    "print('MSE:', metrics.mean_squared_error(y_test, predictions))\n",
    "print('RMSE:', np.sqrt(metrics.mean_squared_error(y_test, predictions)))"
   ]
  },
  {
   "cell_type": "code",
   "execution_count": 137,
   "id": "8eb61ef5",
   "metadata": {},
   "outputs": [],
   "source": [
    "#Try same technique on top 10 components for Phenotype 2\n",
    "\n",
    "y = ph2_df.loc[sample_list]"
   ]
  },
  {
   "cell_type": "code",
   "execution_count": 138,
   "id": "0e720591",
   "metadata": {},
   "outputs": [],
   "source": [
    "X_train, X_test, y_train, y_test = train_test_split(X, y, test_size=.3, random_state=103)"
   ]
  },
  {
   "cell_type": "code",
   "execution_count": 139,
   "id": "136ec6ec",
   "metadata": {},
   "outputs": [],
   "source": [
    "lm2 = LinearRegression()"
   ]
  },
  {
   "cell_type": "code",
   "execution_count": 143,
   "id": "2c80815c",
   "metadata": {},
   "outputs": [
    {
     "data": {
      "text/plain": [
       "LinearRegression()"
      ]
     },
     "execution_count": 143,
     "metadata": {},
     "output_type": "execute_result"
    }
   ],
   "source": [
    "lm2.fit(X_train,y_train)"
   ]
  },
  {
   "cell_type": "code",
   "execution_count": 144,
   "id": "b5f05460",
   "metadata": {},
   "outputs": [
    {
     "data": {
      "text/plain": [
       "array([[ 9.11864747e-04,  2.29537051e-03, -3.52471433e-03,\n",
       "         3.28177025e-04, -1.18180406e-03, -3.34452835e-05,\n",
       "        -6.30678304e-05, -1.40205380e-03,  5.84687311e-05,\n",
       "         1.88831743e-03]])"
      ]
     },
     "execution_count": 144,
     "metadata": {},
     "output_type": "execute_result"
    }
   ],
   "source": [
    "lm2.coef_"
   ]
  },
  {
   "cell_type": "code",
   "execution_count": 145,
   "id": "ad6c2e74",
   "metadata": {},
   "outputs": [],
   "source": [
    "predictions2 = lm2.predict(X_test)"
   ]
  },
  {
   "cell_type": "code",
   "execution_count": 146,
   "id": "2c7db22c",
   "metadata": {},
   "outputs": [
    {
     "data": {
      "text/plain": [
       "Text(0, 0.5, 'Predicted Y')"
      ]
     },
     "execution_count": 146,
     "metadata": {},
     "output_type": "execute_result"
    },
    {
     "data": {
      "image/png": "[encoded data removed]",
      "text/plain": [
       "<Figure size 432x288 with 1 Axes>"
      ]
     },
     "metadata": {
      "needs_background": "light"
     },
     "output_type": "display_data"
    }
   ],
   "source": [
    "#Again, model performs poorly\n",
    "\n",
    "plt.scatter(y_test,predictions2)\n",
    "plt.xlabel('Y Test')\n",
    "plt.ylabel('Predicted Y')"
   ]
  },
  {
   "cell_type": "code",
   "execution_count": 148,
   "id": "0f0a7b9a",
   "metadata": {},
   "outputs": [
    {
     "data": {
      "text/plain": [
       "PCA(n_components=50)"
      ]
     },
     "execution_count": 148,
     "metadata": {},
     "output_type": "execute_result"
    }
   ],
   "source": [
    "#Try PCA with 50 components\n",
    "\n",
    "pca50 = PCA(n_components=50)\n",
    "pca50.fit(gt)"
   ]
  },
  {
   "cell_type": "code",
   "execution_count": 149,
   "id": "2570f62d",
   "metadata": {},
   "outputs": [
    {
     "name": "stdout",
     "output_type": "stream",
     "text": [
      "[0.11836603 0.0666383  0.0020328  0.00193731 0.00185214 0.00162205\n",
      " 0.00147384 0.00142101 0.00137811 0.00136669 0.00135764 0.001309\n",
      " 0.00130022 0.00126798 0.00123882 0.00122849 0.00121323 0.00119731\n",
      " 0.00118864 0.00118664 0.00117455 0.00116192 0.00114616 0.00113473\n",
      " 0.00112724 0.00112022 0.00111423 0.00110179 0.00107814 0.00107087\n",
      " 0.00105255 0.00103762 0.00102842 0.00102756 0.00102113 0.00100419\n",
      " 0.0010005  0.00098861 0.0009809  0.00097204 0.00096512 0.00096134\n",
      " 0.00094657 0.00094243 0.0009342  0.00092851 0.00092552 0.00091834\n",
      " 0.00091441 0.00090458]\n"
     ]
    }
   ],
   "source": [
    "print(pca50.explained_variance_ratio_)"
   ]
  },
  {
   "cell_type": "code",
   "execution_count": 150,
   "id": "22a5e667",
   "metadata": {},
   "outputs": [
    {
     "data": {
      "text/plain": [
       "array([[ 42.91607578, -10.11405878,  -5.83881353, ...,  -1.80186094,\n",
       "          0.90092143,   0.26489003],\n",
       "       [ -9.98524171,  32.09674492,  -5.60481633, ...,  -1.57535486,\n",
       "          1.86899176,   2.50522887],\n",
       "       [ 41.76729167,  -9.16612148,  -1.87188022, ...,  -0.66649058,\n",
       "          1.77499826,  -0.37609319],\n",
       "       ...,\n",
       "       [-10.89214927,  32.44937692,  -5.97856656, ...,   1.20449932,\n",
       "          4.64158775,  -3.25066679],\n",
       "       [ 41.85912557,  -9.75768124,  -2.34987896, ...,   2.84728207,\n",
       "         -3.25723155,   4.0111942 ],\n",
       "       [-11.21000858,  31.81990886,  -3.98378237, ...,   2.3512065 ,\n",
       "          1.41848735,   4.0536105 ]])"
      ]
     },
     "execution_count": 150,
     "metadata": {},
     "output_type": "execute_result"
    }
   ],
   "source": [
    "gt_reduced50 = pca50.transform(gt)\n",
    "gt_reduced50"
   ]
  },
  {
   "cell_type": "code",
   "execution_count": 151,
   "id": "3a1ee84b",
   "metadata": {},
   "outputs": [],
   "source": [
    "y = ph2_df.loc[sample_list]\n",
    "X = gt_reduced50"
   ]
  },
  {
   "cell_type": "code",
   "execution_count": 152,
   "id": "5d46c897",
   "metadata": {},
   "outputs": [],
   "source": [
    "X_train, X_test, y_train, y_test = train_test_split(X, y, test_size=.3, random_state=103)"
   ]
  },
  {
   "cell_type": "code",
   "execution_count": 153,
   "id": "3d71d439",
   "metadata": {},
   "outputs": [],
   "source": [
    "lm2_50 = LinearRegression()"
   ]
  },
  {
   "cell_type": "code",
   "execution_count": 154,
   "id": "914552fe",
   "metadata": {},
   "outputs": [
    {
     "data": {
      "text/plain": [
       "LinearRegression()"
      ]
     },
     "execution_count": 154,
     "metadata": {},
     "output_type": "execute_result"
    }
   ],
   "source": [
    "lm2_50.fit(X_train,y_train)"
   ]
  },
  {
   "cell_type": "code",
   "execution_count": 155,
   "id": "92b2c91c",
   "metadata": {},
   "outputs": [],
   "source": [
    "predictions2_50 = lm2_50.predictdict(X_test)"
   ]
  },
  {
   "cell_type": "code",
   "execution_count": 156,
   "id": "a23df3ce",
   "metadata": {},
   "outputs": [
    {
     "data": {
      "text/plain": [
       "Text(0, 0.5, 'Predicted Y')"
      ]
     },
     "execution_count": 156,
     "metadata": {},
     "output_type": "execute_result"
    },
    {
     "data": {
      "image/png": "[encoded data removed]",
      "text/plain": [
       "<Figure size 432x288 with 1 Axes>"
      ]
     },
     "metadata": {
      "needs_background": "light"
     },
     "output_type": "display_data"
    }
   ],
   "source": [
    "plt.scatter(y_test,predictions2_50)\n",
    "plt.xlabel('Y Test')\n",
    "plt.ylabel('Predicted Y')"
   ]
  },
  {
   "cell_type": "code",
   "execution_count": 157,
   "id": "8f636e35",
   "metadata": {},
   "outputs": [
    {
     "name": "stdout",
     "output_type": "stream",
     "text": [
      "MAE: 0.18135374486474\n",
      "MSE: 0.04955805949566477\n",
      "RMSE: 0.22261639538826597\n"
     ]
    }
   ],
   "source": [
    "print('MAE:', metrics.mean_absolute_error(y_test, predictions2_50))\n",
    "print('MSE:', metrics.mean_squared_error(y_test, predictions2_50))\n",
    "print('RMSE:', np.sqrt(metrics.mean_squared_error(y_test, predictions2_50)))"
   ]
  },
  {
   "cell_type": "code",
   "execution_count": 308,
   "id": "3e8e9b2b",
   "metadata": {},
   "outputs": [],
   "source": [
    "#Set target and full set of data to predict Ph 1\n",
    "\n",
    "y = ph1_df.loc[sample_list]\n",
    "X = Z"
   ]
  },
  {
   "cell_type": "code",
   "execution_count": 309,
   "id": "2fe3a598",
   "metadata": {},
   "outputs": [],
   "source": [
    "X_train, X_test, y_train, y_test = train_test_split(X, y, test_size=.3, random_state=102)"
   ]
  },
  {
   "cell_type": "code",
   "execution_count": 322,
   "id": "8728c2d1",
   "metadata": {},
   "outputs": [],
   "source": [
    "#Lasso model with different alpha.\n",
    "#Best performance found at alpha=.0005\n",
    "\n",
    "lasso1 = Lasso(alpha = .0005, max_iter=10000)"
   ]
  },
  {
   "cell_type": "code",
   "execution_count": 323,
   "id": "3203bcc9",
   "metadata": {},
   "outputs": [
    {
     "data": {
      "text/plain": [
       "Lasso(alpha=0.0005, max_iter=10000)"
      ]
     },
     "execution_count": 323,
     "metadata": {},
     "output_type": "execute_result"
    }
   ],
   "source": [
    "lasso1.fit(X_train,y_train)"
   ]
  },
  {
   "cell_type": "code",
   "execution_count": 324,
   "id": "6f973cb0",
   "metadata": {},
   "outputs": [],
   "source": [
    "pred = lasso1.predict(X_test)"
   ]
  },
  {
   "cell_type": "code",
   "execution_count": 325,
   "id": "0e70c9b2",
   "metadata": {},
   "outputs": [
    {
     "data": {
      "text/plain": [
       "Text(0, 0.5, 'Predicted Y')"
      ]
     },
     "execution_count": 325,
     "metadata": {},
     "output_type": "execute_result"
    },
    {
     "data": {
      "image/png": "[encoded data removed]",
      "text/plain": [
       "<Figure size 432x288 with 1 Axes>"
      ]
     },
     "metadata": {
      "needs_background": "light"
     },
     "output_type": "display_data"
    }
   ],
   "source": [
    "#Is this graph correct?\n",
    "#Do the data lie on planes defined by the model?\n",
    "#Suggests not enough nonzero coefficients, but this model had best RMSE.\n",
    "\n",
    "plt.scatter(y_test,pred)\n",
    "plt.xlabel('Y Test')\n",
    "plt.ylabel('Predicted Y')"
   ]
  },
  {
   "cell_type": "code",
   "execution_count": 326,
   "id": "53bad062",
   "metadata": {},
   "outputs": [
    {
     "name": "stdout",
     "output_type": "stream",
     "text": [
      "MAE: 0.016766079867022228\n",
      "MSE: 0.0004379063459807687\n",
      "RMSE: 0.020926211935770142\n"
     ]
    }
   ],
   "source": [
    "#Lasso with alpha=.0005 gets record for Ph 1 RMSE of .021\n",
    "\n",
    "print('MAE:', metrics.mean_absolute_error(y_test, pred))\n",
    "print('MSE:', metrics.mean_squared_error(y_test, pred))\n",
    "print('RMSE:', np.sqrt(metrics.mean_squared_error(y_test, pred)))"
   ]
  },
  {
   "cell_type": "code",
   "execution_count": 327,
   "id": "3f5aa8f7",
   "metadata": {},
   "outputs": [
    {
     "data": {
      "text/plain": [
       "335"
      ]
     },
     "execution_count": 327,
     "metadata": {},
     "output_type": "execute_result"
    }
   ],
   "source": [
    "#Lasso with best performace only has 335 nonzero coefficients\n",
    "\n",
    "np.count_nonzero(lasso1.coef_)"
   ]
  },
  {
   "cell_type": "code",
   "execution_count": null,
   "id": "dc8677bb",
   "metadata": {},
   "outputs": [],
   "source": []
  },
  {
   "cell_type": "code",
   "execution_count": 278,
   "id": "8fd7b61b",
   "metadata": {},
   "outputs": [],
   "source": [
    "#Lasso for Ph 2\n",
    "\n",
    "y = ph2_df.loc[sample_list]\n",
    "X = Z"
   ]
  },
  {
   "cell_type": "code",
   "execution_count": 159,
   "id": "807f4ca0",
   "metadata": {},
   "outputs": [],
   "source": [
    "X_train, X_test, y_train, y_test = train_test_split(X, y, test_size=.3, random_state=103)"
   ]
  },
  {
   "cell_type": "code",
   "execution_count": 160,
   "id": "cd02e0ac",
   "metadata": {},
   "outputs": [],
   "source": [
    "lasso_model2 = Lasso(alpha=.000002,max_iter=6000)"
   ]
  },
  {
   "cell_type": "code",
   "execution_count": 161,
   "id": "e20ab673",
   "metadata": {},
   "outputs": [
    {
     "data": {
      "text/plain": [
       "Lasso(alpha=2e-06, max_iter=6000)"
      ]
     },
     "execution_count": 161,
     "metadata": {},
     "output_type": "execute_result"
    }
   ],
   "source": [
    "lasso_model2.fit(X_train,y_train)"
   ]
  },
  {
   "cell_type": "code",
   "execution_count": 162,
   "id": "a572d0d2",
   "metadata": {},
   "outputs": [],
   "source": [
    "lasso_pred2 = lasso_model2.predict(X_test)"
   ]
  },
  {
   "cell_type": "code",
   "execution_count": 163,
   "id": "a7562206",
   "metadata": {
    "scrolled": true
   },
   "outputs": [
    {
     "data": {
      "text/plain": [
       "Text(0, 0.5, 'Predicted Y')"
      ]
     },
     "execution_count": 163,
     "metadata": {},
     "output_type": "execute_result"
    },
    {
     "data": {
      "image/png": "[encoded data removed]",
      "text/plain": [
       "<Figure size 432x288 with 1 Axes>"
      ]
     },
     "metadata": {
      "needs_background": "light"
     },
     "output_type": "display_data"
    }
   ],
   "source": [
    "plt.scatter(y_test,lasso_pred2)\n",
    "plt.xlabel('Y Test')\n",
    "plt.ylabel('Predicted Y')"
   ]
  },
  {
   "cell_type": "code",
   "execution_count": 164,
   "id": "e47f986b",
   "metadata": {},
   "outputs": [
    {
     "name": "stdout",
     "output_type": "stream",
     "text": [
      "MAE: 0.04926169096920142\n",
      "MSE: 0.0037856871488074592\n",
      "RMSE: 0.06152793795348142\n"
     ]
    }
   ],
   "source": [
    "print('MAE:', metrics.mean_absolute_error(y_test, lasso_pred2))\n",
    "print('MSE:', metrics.mean_squared_error(y_test, lasso_pred2))\n",
    "print('RMSE:', np.sqrt(metrics.mean_squared_error(y_test, lasso_pred2)))"
   ]
  },
  {
   "cell_type": "code",
   "execution_count": 276,
   "id": "bcab78f5",
   "metadata": {},
   "outputs": [
    {
     "data": {
      "text/plain": [
       "3381"
      ]
     },
     "execution_count": 276,
     "metadata": {},
     "output_type": "execute_result"
    }
   ],
   "source": [
    "np.count_nonzero(lasso_model2.coef_)"
   ]
  },
  {
   "cell_type": "code",
   "execution_count": 279,
   "id": "3c8457f0",
   "metadata": {},
   "outputs": [],
   "source": [
    "X_train, X_test, y_train, y_test = train_test_split(X, y, test_size=.3, random_state=105)"
   ]
  },
  {
   "cell_type": "code",
   "execution_count": 303,
   "id": "cdb9cbe7",
   "metadata": {},
   "outputs": [],
   "source": [
    "lasso2 = Lasso(alpha = .001, max_iter=10000)"
   ]
  },
  {
   "cell_type": "code",
   "execution_count": 304,
   "id": "415b742b",
   "metadata": {},
   "outputs": [
    {
     "data": {
      "text/plain": [
       "Lasso(alpha=0.001, max_iter=10000)"
      ]
     },
     "execution_count": 304,
     "metadata": {},
     "output_type": "execute_result"
    }
   ],
   "source": [
    "lasso2.fit(X_train,y_train)"
   ]
  },
  {
   "cell_type": "code",
   "execution_count": 305,
   "id": "89854d4a",
   "metadata": {},
   "outputs": [],
   "source": [
    "pred = lasso2.predict(X_test)"
   ]
  },
  {
   "cell_type": "code",
   "execution_count": 306,
   "id": "5caa7c12",
   "metadata": {},
   "outputs": [
    {
     "name": "stdout",
     "output_type": "stream",
     "text": [
      "MAE: 0.03204616307892344\n",
      "MSE: 0.0016187310875750928\n",
      "RMSE: 0.04023345731571042\n"
     ]
    }
   ],
   "source": [
    "#RMSE record for PH 2: .040\n",
    "#Lasso with alpha = .001\n",
    "\n",
    "print('MAE:', metrics.mean_absolute_error(y_test, pred))\n",
    "print('MSE:', metrics.mean_squared_error(y_test, pred))\n",
    "print('RMSE:', np.sqrt(metrics.mean_squared_error(y_test, pred)))"
   ]
  },
  {
   "cell_type": "code",
   "execution_count": 307,
   "id": "9cc95fac",
   "metadata": {},
   "outputs": [
    {
     "data": {
      "text/plain": [
       "354"
      ]
     },
     "execution_count": 307,
     "metadata": {},
     "output_type": "execute_result"
    }
   ],
   "source": [
    "np.count_nonzero(lasso2.coef_)"
   ]
  },
  {
   "cell_type": "code",
   "execution_count": 234,
   "id": "97a29ad8",
   "metadata": {},
   "outputs": [],
   "source": [
    "#Try grid search for good parameters for Lasso to predict Ph 3\n",
    "\n",
    "y = ph3_df\n",
    "X=Z"
   ]
  },
  {
   "cell_type": "code",
   "execution_count": 235,
   "id": "17f47ead",
   "metadata": {},
   "outputs": [],
   "source": [
    "X_train, X_test, y_train, y_test = train_test_split(X, y, test_size=.3, random_state=104)"
   ]
  },
  {
   "cell_type": "code",
   "execution_count": 239,
   "id": "f11e4492",
   "metadata": {},
   "outputs": [],
   "source": [
    "param_grid = {'alpha': [.000002,.00002,.0002]} "
   ]
  },
  {
   "cell_type": "code",
   "execution_count": 240,
   "id": "31542f9c",
   "metadata": {},
   "outputs": [],
   "source": [
    "grid = GridSearchCV(Lasso(max_iter=5000),param_grid,refit=True, verbose=4)"
   ]
  },
  {
   "cell_type": "code",
   "execution_count": 241,
   "id": "f9bba787",
   "metadata": {},
   "outputs": [
    {
     "name": "stdout",
     "output_type": "stream",
     "text": [
      "Fitting 5 folds for each of 3 candidates, totalling 15 fits\n",
      "[CV 1/5] END .......................alpha=2e-06;, score=0.862 total time= 1.9min\n",
      "[CV 2/5] END .......................alpha=2e-06;, score=0.843 total time= 1.9min\n",
      "[CV 3/5] END .......................alpha=2e-06;, score=0.858 total time= 1.9min\n",
      "[CV 4/5] END .......................alpha=2e-06;, score=0.846 total time= 1.9min\n",
      "[CV 5/5] END .......................alpha=2e-06;, score=0.844 total time= 1.9min\n"
     ]
    },
    {
     "name": "stderr",
     "output_type": "stream",
     "text": [
      "/Users/danielrubin/anaconda3/lib/python3.6/site-packages/sklearn/linear_model/_coordinate_descent.py:532: ConvergenceWarning: Objective did not converge. You might want to increase the number of iterations. Duality gap: 0.07126585048754631, tolerance: 0.021805511557297375\n",
      "  positive)\n"
     ]
    },
    {
     "name": "stdout",
     "output_type": "stream",
     "text": [
      "[CV 1/5] END .......................alpha=2e-05;, score=0.948 total time= 2.7min\n"
     ]
    },
    {
     "name": "stderr",
     "output_type": "stream",
     "text": [
      "/Users/danielrubin/anaconda3/lib/python3.6/site-packages/sklearn/linear_model/_coordinate_descent.py:532: ConvergenceWarning: Objective did not converge. You might want to increase the number of iterations. Duality gap: 0.06912533253957338, tolerance: 0.021449047612964935\n",
      "  positive)\n"
     ]
    },
    {
     "name": "stdout",
     "output_type": "stream",
     "text": [
      "[CV 2/5] END .......................alpha=2e-05;, score=0.947 total time= 2.4min\n"
     ]
    },
    {
     "name": "stderr",
     "output_type": "stream",
     "text": [
      "/Users/danielrubin/anaconda3/lib/python3.6/site-packages/sklearn/linear_model/_coordinate_descent.py:532: ConvergenceWarning: Objective did not converge. You might want to increase the number of iterations. Duality gap: 0.07320081318863349, tolerance: 0.02128417928085622\n",
      "  positive)\n"
     ]
    },
    {
     "name": "stdout",
     "output_type": "stream",
     "text": [
      "[CV 3/5] END .......................alpha=2e-05;, score=0.951 total time= 2.4min\n"
     ]
    },
    {
     "name": "stderr",
     "output_type": "stream",
     "text": [
      "/Users/danielrubin/anaconda3/lib/python3.6/site-packages/sklearn/linear_model/_coordinate_descent.py:532: ConvergenceWarning: Objective did not converge. You might want to increase the number of iterations. Duality gap: 0.07098704598733227, tolerance: 0.02186705100692431\n",
      "  positive)\n"
     ]
    },
    {
     "name": "stdout",
     "output_type": "stream",
     "text": [
      "[CV 4/5] END .......................alpha=2e-05;, score=0.946 total time= 2.4min\n"
     ]
    },
    {
     "name": "stderr",
     "output_type": "stream",
     "text": [
      "/Users/danielrubin/anaconda3/lib/python3.6/site-packages/sklearn/linear_model/_coordinate_descent.py:532: ConvergenceWarning: Objective did not converge. You might want to increase the number of iterations. Duality gap: 0.07174155102093903, tolerance: 0.021933796058335002\n",
      "  positive)\n"
     ]
    },
    {
     "name": "stdout",
     "output_type": "stream",
     "text": [
      "[CV 5/5] END .......................alpha=2e-05;, score=0.946 total time= 2.4min\n"
     ]
    },
    {
     "name": "stderr",
     "output_type": "stream",
     "text": [
      "/Users/danielrubin/anaconda3/lib/python3.6/site-packages/sklearn/linear_model/_coordinate_descent.py:532: ConvergenceWarning: Objective did not converge. You might want to increase the number of iterations. Duality gap: 0.08276606660828303, tolerance: 0.021805511557297375\n",
      "  positive)\n"
     ]
    },
    {
     "name": "stdout",
     "output_type": "stream",
     "text": [
      "[CV 1/5] END ......................alpha=0.0002;, score=0.954 total time= 2.4min\n"
     ]
    },
    {
     "name": "stderr",
     "output_type": "stream",
     "text": [
      "/Users/danielrubin/anaconda3/lib/python3.6/site-packages/sklearn/linear_model/_coordinate_descent.py:532: ConvergenceWarning: Objective did not converge. You might want to increase the number of iterations. Duality gap: 0.10454607539286587, tolerance: 0.021449047612964935\n",
      "  positive)\n"
     ]
    },
    {
     "name": "stdout",
     "output_type": "stream",
     "text": [
      "[CV 2/5] END ......................alpha=0.0002;, score=0.950 total time= 2.4min\n"
     ]
    },
    {
     "name": "stderr",
     "output_type": "stream",
     "text": [
      "/Users/danielrubin/anaconda3/lib/python3.6/site-packages/sklearn/linear_model/_coordinate_descent.py:532: ConvergenceWarning: Objective did not converge. You might want to increase the number of iterations. Duality gap: 0.0722006446332725, tolerance: 0.02128417928085622\n",
      "  positive)\n"
     ]
    },
    {
     "name": "stdout",
     "output_type": "stream",
     "text": [
      "[CV 3/5] END ......................alpha=0.0002;, score=0.957 total time= 2.4min\n"
     ]
    },
    {
     "name": "stderr",
     "output_type": "stream",
     "text": [
      "/Users/danielrubin/anaconda3/lib/python3.6/site-packages/sklearn/linear_model/_coordinate_descent.py:532: ConvergenceWarning: Objective did not converge. You might want to increase the number of iterations. Duality gap: 0.07265604571866213, tolerance: 0.02186705100692431\n",
      "  positive)\n"
     ]
    },
    {
     "name": "stdout",
     "output_type": "stream",
     "text": [
      "[CV 4/5] END ......................alpha=0.0002;, score=0.951 total time= 2.0min\n"
     ]
    },
    {
     "name": "stderr",
     "output_type": "stream",
     "text": [
      "/Users/danielrubin/anaconda3/lib/python3.6/site-packages/sklearn/linear_model/_coordinate_descent.py:532: ConvergenceWarning: Objective did not converge. You might want to increase the number of iterations. Duality gap: 0.07220383676176212, tolerance: 0.021933796058335002\n",
      "  positive)\n"
     ]
    },
    {
     "name": "stdout",
     "output_type": "stream",
     "text": [
      "[CV 5/5] END ......................alpha=0.0002;, score=0.951 total time= 2.0min\n"
     ]
    },
    {
     "name": "stderr",
     "output_type": "stream",
     "text": [
      "/Users/danielrubin/anaconda3/lib/python3.6/site-packages/sklearn/linear_model/_coordinate_descent.py:532: ConvergenceWarning: Objective did not converge. You might want to increase the number of iterations. Duality gap: 0.1369819286870899, tolerance: 0.02708845211180052\n",
      "  positive)\n"
     ]
    },
    {
     "data": {
      "text/plain": [
       "GridSearchCV(estimator=Lasso(max_iter=5000),\n",
       "             param_grid={'alpha': [2e-06, 2e-05, 0.0002]}, verbose=4)"
      ]
     },
     "execution_count": 241,
     "metadata": {},
     "output_type": "execute_result"
    }
   ],
   "source": [
    "#Takes a long time.\n",
    "\n",
    "grid.fit(X_train,y_train)"
   ]
  },
  {
   "cell_type": "code",
   "execution_count": 242,
   "id": "c19f868e",
   "metadata": {},
   "outputs": [
    {
     "data": {
      "text/plain": [
       "{'alpha': 0.0002}"
      ]
     },
     "execution_count": 242,
     "metadata": {},
     "output_type": "execute_result"
    }
   ],
   "source": [
    "grid.best_params_"
   ]
  },
  {
   "cell_type": "raw",
   "id": "a04a4fce",
   "metadata": {},
   "source": []
  },
  {
   "cell_type": "code",
   "execution_count": 243,
   "id": "4bbe99b2",
   "metadata": {},
   "outputs": [
    {
     "data": {
      "text/plain": [
       "0.9526745900648723"
      ]
     },
     "execution_count": 243,
     "metadata": {},
     "output_type": "execute_result"
    }
   ],
   "source": [
    "grid.best_score_"
   ]
  },
  {
   "cell_type": "code",
   "execution_count": 246,
   "id": "ef3880c8",
   "metadata": {},
   "outputs": [],
   "source": [
    "grid_pred = grid.predict(X_test)"
   ]
  },
  {
   "cell_type": "code",
   "execution_count": 247,
   "id": "a540c5c0",
   "metadata": {},
   "outputs": [
    {
     "data": {
      "text/plain": [
       "Text(0, 0.5, 'Predicted Y')"
      ]
     },
     "execution_count": 247,
     "metadata": {},
     "output_type": "execute_result"
    },
    {
     "data": {
      "image/png": "[encoded data removed]",
      "text/plain": [
       "<Figure size 432x288 with 1 Axes>"
      ]
     },
     "metadata": {
      "needs_background": "light"
     },
     "output_type": "display_data"
    }
   ],
   "source": [
    "plt.scatter(y_test,grid_pred)\n",
    "plt.xlabel('Y Test')\n",
    "plt.ylabel('Predicted Y')"
   ]
  },
  {
   "cell_type": "code",
   "execution_count": 248,
   "id": "6609694a",
   "metadata": {},
   "outputs": [
    {
     "name": "stdout",
     "output_type": "stream",
     "text": [
      "MAE: 0.05960023259791292\n",
      "MSE: 0.005522549360110198\n",
      "RMSE: 0.07431385712039308\n"
     ]
    }
   ],
   "source": [
    "print('MAE:', metrics.mean_absolute_error(y_test, grid_pred))\n",
    "print('MSE:', metrics.mean_squared_error(y_test, grid_pred))\n",
    "print('RMSE:', np.sqrt(metrics.mean_squared_error(y_test, grid_pred)))"
   ]
  },
  {
   "cell_type": "code",
   "execution_count": 328,
   "id": "db8ff27b",
   "metadata": {},
   "outputs": [],
   "source": [
    "#Faster to change alpha value by hand\n",
    "\n",
    "y = ph3_df\n",
    "X=Z"
   ]
  },
  {
   "cell_type": "code",
   "execution_count": 353,
   "id": "0a4ed2dc",
   "metadata": {},
   "outputs": [],
   "source": [
    "X_train, X_test, y_train, y_test = train_test_split(X, y, test_size=.3, random_state=107)"
   ]
  },
  {
   "cell_type": "code",
   "execution_count": 366,
   "id": "40ecd5d6",
   "metadata": {},
   "outputs": [],
   "source": [
    "lasso3 = Lasso(alpha=.002,max_iter=10000)"
   ]
  },
  {
   "cell_type": "code",
   "execution_count": 367,
   "id": "eca9f40b",
   "metadata": {},
   "outputs": [
    {
     "data": {
      "text/plain": [
       "Lasso(alpha=0.002, max_iter=10000)"
      ]
     },
     "execution_count": 367,
     "metadata": {},
     "output_type": "execute_result"
    }
   ],
   "source": [
    "lasso3.fit(X_train,y_train)"
   ]
  },
  {
   "cell_type": "code",
   "execution_count": 368,
   "id": "e457309b",
   "metadata": {},
   "outputs": [],
   "source": [
    "pred = lasso3.predict(X_test)"
   ]
  },
  {
   "cell_type": "code",
   "execution_count": 369,
   "id": "25aa205e",
   "metadata": {},
   "outputs": [
    {
     "data": {
      "text/plain": [
       "Text(0, 0.5, 'Predicted Y')"
      ]
     },
     "execution_count": 369,
     "metadata": {},
     "output_type": "execute_result"
    },
    {
     "data": {
      "image/png": "[encoded data removed]",
      "text/plain": [
       "<Figure size 432x288 with 1 Axes>"
      ]
     },
     "metadata": {
      "needs_background": "light"
     },
     "output_type": "display_data"
    }
   ],
   "source": [
    "plt.scatter(y_test,pred)\n",
    "plt.xlabel('Y Test')\n",
    "plt.ylabel('Predicted Y')"
   ]
  },
  {
   "cell_type": "code",
   "execution_count": 370,
   "id": "da38fe0c",
   "metadata": {},
   "outputs": [
    {
     "name": "stdout",
     "output_type": "stream",
     "text": [
      "MAE: 0.0512080605665294\n",
      "MSE: 0.004014937581523584\n",
      "RMSE: 0.06336353510911133\n"
     ]
    }
   ],
   "source": [
    "#Record RMSE for Ph 3: .063\n",
    "#Lasso with alpha = .002\n",
    "\n",
    "print('MAE:', metrics.mean_absolute_error(y_test, pred))\n",
    "print('MSE:', metrics.mean_squared_error(y_test, pred))\n",
    "print('RMSE:', np.sqrt(metrics.mean_squared_error(y_test, pred)))"
   ]
  },
  {
   "cell_type": "code",
   "execution_count": 371,
   "id": "1451b964",
   "metadata": {},
   "outputs": [
    {
     "data": {
      "text/plain": [
       "279"
      ]
     },
     "execution_count": 371,
     "metadata": {},
     "output_type": "execute_result"
    }
   ],
   "source": [
    "np.count_nonzero(lasso3.coef_)"
   ]
  },
  {
   "cell_type": "code",
   "execution_count": null,
   "id": "39a4e17f",
   "metadata": {},
   "outputs": [],
   "source": []
  },
  {
   "cell_type": "code",
   "execution_count": 168,
   "id": "267fc43d",
   "metadata": {},
   "outputs": [],
   "source": [
    "#Attempt logistic regression trained on top 50 components\n",
    "\n",
    "y = np.array(ph4_df).ravel()\n",
    "X = gt_reduced50"
   ]
  },
  {
   "cell_type": "code",
   "execution_count": 169,
   "id": "62f7450c",
   "metadata": {},
   "outputs": [],
   "source": [
    "X_train, X_test, y_train, y_test = train_test_split(X, y, test_size=.3, random_state=103)"
   ]
  },
  {
   "cell_type": "code",
   "execution_count": 170,
   "id": "a9d8c15c",
   "metadata": {},
   "outputs": [],
   "source": [
    "from sklearn.model_selection import GridSearchCV"
   ]
  },
  {
   "cell_type": "code",
   "execution_count": 177,
   "id": "fffeee22",
   "metadata": {},
   "outputs": [],
   "source": [
    "log_model4 = LogisticRegression()"
   ]
  },
  {
   "cell_type": "code",
   "execution_count": 178,
   "id": "afc8e208",
   "metadata": {},
   "outputs": [
    {
     "data": {
      "text/plain": [
       "LogisticRegression()"
      ]
     },
     "execution_count": 178,
     "metadata": {},
     "output_type": "execute_result"
    }
   ],
   "source": [
    "log_model4.fit(X_train,y_train)"
   ]
  },
  {
   "cell_type": "code",
   "execution_count": 179,
   "id": "f0d124ef",
   "metadata": {},
   "outputs": [],
   "source": [
    "pred = log_model4.predict(X_test)"
   ]
  },
  {
   "cell_type": "code",
   "execution_count": 180,
   "id": "bad5065d",
   "metadata": {},
   "outputs": [
    {
     "name": "stdout",
     "output_type": "stream",
     "text": [
      "              precision    recall  f1-score   support\n",
      "\n",
      "           0       0.24      0.52      0.33       164\n",
      "           1       0.85      0.62      0.72       736\n",
      "\n",
      "    accuracy                           0.61       900\n",
      "   macro avg       0.55      0.57      0.52       900\n",
      "weighted avg       0.74      0.61      0.65       900\n",
      "\n"
     ]
    }
   ],
   "source": [
    "print(classification_report(pred,y_test))"
   ]
  },
  {
   "cell_type": "code",
   "execution_count": 181,
   "id": "b9102529",
   "metadata": {},
   "outputs": [],
   "source": [
    "from sklearn.metrics import confusion_matrix, roc_curve, roc_auc_score"
   ]
  },
  {
   "cell_type": "code",
   "execution_count": 182,
   "id": "9bbf8ad9",
   "metadata": {},
   "outputs": [
    {
     "name": "stdout",
     "output_type": "stream",
     "text": [
      "[[ 86  78]\n",
      " [277 459]]\n"
     ]
    }
   ],
   "source": [
    "#Very poor performance of logistic regression on top 50 components\n",
    "\n",
    "print(confusion_matrix(pred,y_test))"
   ]
  },
  {
   "cell_type": "code",
   "execution_count": 198,
   "id": "d58d9a5d",
   "metadata": {},
   "outputs": [
    {
     "data": {
      "text/plain": [
       "0.5610087672048059"
      ]
     },
     "execution_count": 198,
     "metadata": {},
     "output_type": "execute_result"
    }
   ],
   "source": [
    "roc_auc_score(y_test,log_model4.decision_function(X_test))"
   ]
  },
  {
   "cell_type": "code",
   "execution_count": 183,
   "id": "7a894f0c",
   "metadata": {},
   "outputs": [],
   "source": [
    "Z_train, Z_test, y_train, y_test = train_test_split(Z, y, test_size=.3, random_state=103)"
   ]
  },
  {
   "cell_type": "code",
   "execution_count": 184,
   "id": "8fdb6a09",
   "metadata": {},
   "outputs": [],
   "source": [
    "#Try logistic regression with l1 penalty\n",
    "\n",
    "log_model4_l1 = LogisticRegression(solver='liblinear',penalty='l1',max_iter=1000)"
   ]
  },
  {
   "cell_type": "code",
   "execution_count": 190,
   "id": "f9a85a9a",
   "metadata": {},
   "outputs": [
    {
     "data": {
      "text/plain": [
       "LogisticRegression(max_iter=1000, penalty='l1', solver='liblinear')"
      ]
     },
     "execution_count": 190,
     "metadata": {},
     "output_type": "execute_result"
    }
   ],
   "source": [
    "log_model4_l1.fit(Z_train,y_train)"
   ]
  },
  {
   "cell_type": "code",
   "execution_count": 191,
   "id": "32d87a34",
   "metadata": {},
   "outputs": [],
   "source": [
    "pred = log_model4_l1.predict(Z_test)"
   ]
  },
  {
   "cell_type": "code",
   "execution_count": 254,
   "id": "98343694",
   "metadata": {},
   "outputs": [],
   "source": [
    "log4_coef = log_model4_l1.coef_.reshape((1,20390))"
   ]
  },
  {
   "cell_type": "code",
   "execution_count": 274,
   "id": "8fd33acf",
   "metadata": {},
   "outputs": [
    {
     "data": {
      "text/plain": [
       "1021"
      ]
     },
     "execution_count": 274,
     "metadata": {},
     "output_type": "execute_result"
    }
   ],
   "source": [
    "np.count_nonzero(log4_coef)"
   ]
  },
  {
   "cell_type": "code",
   "execution_count": 192,
   "id": "a1ed64cf",
   "metadata": {},
   "outputs": [
    {
     "name": "stdout",
     "output_type": "stream",
     "text": [
      "[[277  32]\n",
      " [ 86 505]]\n"
     ]
    }
   ],
   "source": [
    "#Much better performance\n",
    "\n",
    "print(confusion_matrix(pred,y_test))"
   ]
  },
  {
   "cell_type": "code",
   "execution_count": 197,
   "id": "7c7754c5",
   "metadata": {},
   "outputs": [
    {
     "data": {
      "text/plain": [
       "0.9453447630187092"
      ]
     },
     "execution_count": 197,
     "metadata": {},
     "output_type": "execute_result"
    }
   ],
   "source": [
    "#Record AUC for Ph 4: .945\n",
    "#Achieved by default liblinear logistic regression with l1 penalty\n",
    "\n",
    "roc_auc_score(y_test,log_model4_l1.decision_function(Z_test))"
   ]
  },
  {
   "cell_type": "code",
   "execution_count": 389,
   "id": "8e2a3a2a",
   "metadata": {},
   "outputs": [],
   "source": [
    "y = np.array(ph4_df).ravel()\n",
    "X = Z"
   ]
  },
  {
   "cell_type": "code",
   "execution_count": 390,
   "id": "175ecb7c",
   "metadata": {},
   "outputs": [],
   "source": [
    "X_train, X_test, y_train, y_test = train_test_split(X, y, test_size=.3, random_state=104)"
   ]
  },
  {
   "cell_type": "code",
   "execution_count": 374,
   "id": "ce0d2667",
   "metadata": {},
   "outputs": [],
   "source": [
    "from sklearn.linear_model import LogisticRegressionCV"
   ]
  },
  {
   "cell_type": "code",
   "execution_count": 391,
   "id": "1694fedd",
   "metadata": {},
   "outputs": [],
   "source": [
    "#Try grid search cross validation to find best parameters.\n",
    "\n",
    "log4 = LogisticRegressionCV(Cs = 3,solver='saga',penalty='elasticnet',l1_ratios=[.5,1],verbose=4,max_iter=5000)"
   ]
  },
  {
   "cell_type": "code",
   "execution_count": 392,
   "id": "a2e0a646",
   "metadata": {},
   "outputs": [
    {
     "name": "stderr",
     "output_type": "stream",
     "text": [
      "[Parallel(n_jobs=1)]: Using backend SequentialBackend with 1 concurrent workers.\n"
     ]
    },
    {
     "name": "stdout",
     "output_type": "stream",
     "text": [
      "convergence after 1 epochs took 0 seconds\n",
      "convergence after 4565 epochs took 3080 seconds\n",
      "convergence after 169 epochs took 58 seconds\n"
     ]
    },
    {
     "name": "stderr",
     "output_type": "stream",
     "text": [
      "[Parallel(n_jobs=1)]: Done   1 out of   1 | elapsed: 52.3min remaining:    0.0s\n"
     ]
    },
    {
     "name": "stdout",
     "output_type": "stream",
     "text": [
      "convergence after 1 epochs took 0 seconds\n",
      "convergence after 4593 epochs took 3418 seconds\n",
      "convergence after 94 epochs took 37 seconds\n"
     ]
    },
    {
     "name": "stderr",
     "output_type": "stream",
     "text": [
      "[Parallel(n_jobs=1)]: Done   2 out of   2 | elapsed: 109.9min remaining:    0.0s\n"
     ]
    },
    {
     "name": "stdout",
     "output_type": "stream",
     "text": [
      "convergence after 1 epochs took 1 seconds\n",
      "convergence after 4552 epochs took 2013 seconds\n",
      "convergence after 166 epochs took 69 seconds\n"
     ]
    },
    {
     "name": "stderr",
     "output_type": "stream",
     "text": [
      "[Parallel(n_jobs=1)]: Done   3 out of   3 | elapsed: 144.6min remaining:    0.0s\n"
     ]
    },
    {
     "name": "stdout",
     "output_type": "stream",
     "text": [
      "convergence after 1 epochs took 0 seconds\n",
      "convergence after 4712 epochs took 1964 seconds\n",
      "convergence after 87 epochs took 36 seconds\n",
      "convergence after 1 epochs took 1 seconds\n",
      "convergence after 4538 epochs took 2039 seconds\n",
      "convergence after 167 epochs took 70 seconds\n",
      "convergence after 1 epochs took 0 seconds\n",
      "convergence after 4652 epochs took 1949 seconds\n",
      "convergence after 84 epochs took 36 seconds\n",
      "convergence after 1 epochs took 0 seconds\n",
      "convergence after 4687 epochs took 2118 seconds\n",
      "convergence after 158 epochs took 67 seconds\n",
      "convergence after 1 epochs took 1 seconds\n",
      "convergence after 4713 epochs took 1984 seconds\n",
      "convergence after 80 epochs took 33 seconds\n",
      "convergence after 1 epochs took 0 seconds\n",
      "convergence after 4667 epochs took 2981 seconds\n",
      "convergence after 156 epochs took 59 seconds\n",
      "convergence after 1 epochs took 0 seconds\n",
      "convergence after 4805 epochs took 3221 seconds\n",
      "convergence after 74 epochs took 28 seconds\n"
     ]
    },
    {
     "name": "stderr",
     "output_type": "stream",
     "text": [
      "[Parallel(n_jobs=1)]: Done  10 out of  10 | elapsed: 421.2min finished\n"
     ]
    },
    {
     "name": "stdout",
     "output_type": "stream",
     "text": [
      "convergence after 1190 epochs took 575 seconds\n"
     ]
    },
    {
     "data": {
      "text/plain": [
       "LogisticRegressionCV(Cs=3, l1_ratios=[0.5, 1], max_iter=5000,\n",
       "                     penalty='elasticnet', solver='saga', verbose=4)"
      ]
     },
     "execution_count": 392,
     "metadata": {},
     "output_type": "execute_result"
    }
   ],
   "source": [
    "#This takes 7 hours.\n",
    "\n",
    "log4.fit(X_train,y_train)"
   ]
  },
  {
   "cell_type": "code",
   "execution_count": 393,
   "id": "fb5ab2e8",
   "metadata": {},
   "outputs": [],
   "source": [
    "pred = log4.predict(X_test)"
   ]
  },
  {
   "cell_type": "code",
   "execution_count": 394,
   "id": "e972afbd",
   "metadata": {},
   "outputs": [
    {
     "name": "stdout",
     "output_type": "stream",
     "text": [
      "[[251  85]\n",
      " [ 42 522]]\n"
     ]
    }
   ],
   "source": [
    "#Performance with best parameters is about the same as default l1 penalty\n",
    "\n",
    "print(confusion_matrix(y_test,pred))"
   ]
  },
  {
   "cell_type": "code",
   "execution_count": 395,
   "id": "02ed35cb",
   "metadata": {},
   "outputs": [
    {
     "data": {
      "image/png": "[encoded data removed]",
      "text/plain": [
       "<Figure size 432x288 with 1 Axes>"
      ]
     },
     "metadata": {
      "needs_background": "light"
     },
     "output_type": "display_data"
    }
   ],
   "source": [
    "#Close to record AUC .94\n",
    "\n",
    "metrics.plot_roc_curve(log4,X_test,y_test)\n",
    "plt.show()"
   ]
  },
  {
   "cell_type": "code",
   "execution_count": 396,
   "id": "5bed5249",
   "metadata": {},
   "outputs": [
    {
     "data": {
      "text/plain": [
       "2658"
      ]
     },
     "execution_count": 396,
     "metadata": {},
     "output_type": "execute_result"
    }
   ],
   "source": [
    "np.count_nonzero(log4.coef_)"
   ]
  },
  {
   "cell_type": "code",
   "execution_count": 188,
   "id": "4e7ba6c9",
   "metadata": {},
   "outputs": [],
   "source": [
    "#Try support vector classifier for Ph 4\n",
    "\n",
    "from sklearn.svm import SVC"
   ]
  },
  {
   "cell_type": "code",
   "execution_count": 189,
   "id": "02501e71",
   "metadata": {},
   "outputs": [],
   "source": [
    "svc_model = SVC()"
   ]
  },
  {
   "cell_type": "code",
   "execution_count": 193,
   "id": "56ba048b",
   "metadata": {},
   "outputs": [
    {
     "data": {
      "text/plain": [
       "SVC()"
      ]
     },
     "execution_count": 193,
     "metadata": {},
     "output_type": "execute_result"
    }
   ],
   "source": [
    "svc_model.fit(Z_train,y_train)"
   ]
  },
  {
   "cell_type": "code",
   "execution_count": 194,
   "id": "76699f0c",
   "metadata": {},
   "outputs": [],
   "source": [
    "pred = svc_model.predict(Z_test)"
   ]
  },
  {
   "cell_type": "code",
   "execution_count": 195,
   "id": "12a65916",
   "metadata": {},
   "outputs": [
    {
     "name": "stdout",
     "output_type": "stream",
     "text": [
      "[[  1   0]\n",
      " [362 537]]\n"
     ]
    }
   ],
   "source": [
    "#Default model results in all but 1 being labelled positive.\n",
    "\n",
    "print(confusion_matrix(pred,y_test))"
   ]
  },
  {
   "cell_type": "code",
   "execution_count": 199,
   "id": "e7145ca5",
   "metadata": {},
   "outputs": [],
   "source": [
    "#Set target to predict Ph 5\n",
    "\n",
    "y = np.array(ph5_df).ravel()"
   ]
  },
  {
   "cell_type": "code",
   "execution_count": 200,
   "id": "8d76e0b7",
   "metadata": {},
   "outputs": [],
   "source": [
    "Z_train, Z_test, y_train, y_test = train_test_split(Z, y, test_size=.3, random_state=103)"
   ]
  },
  {
   "cell_type": "code",
   "execution_count": 201,
   "id": "8683a52a",
   "metadata": {},
   "outputs": [],
   "source": [
    "#Logistic regression with l1 penalty\n",
    "\n",
    "log_model5_l1 = LogisticRegression(solver='liblinear',penalty='l1',max_iter=1000)"
   ]
  },
  {
   "cell_type": "code",
   "execution_count": 203,
   "id": "efaf3df3",
   "metadata": {},
   "outputs": [
    {
     "data": {
      "text/plain": [
       "LogisticRegression(max_iter=1000, penalty='l1', solver='liblinear')"
      ]
     },
     "execution_count": 203,
     "metadata": {},
     "output_type": "execute_result"
    }
   ],
   "source": [
    "log_model5_l1.fit(Z_train,y_train)"
   ]
  },
  {
   "cell_type": "code",
   "execution_count": 208,
   "id": "d412b641",
   "metadata": {},
   "outputs": [],
   "source": [
    "pred = log_model5_l1.predict(Z_test)"
   ]
  },
  {
   "cell_type": "code",
   "execution_count": 275,
   "id": "df2f8485",
   "metadata": {},
   "outputs": [
    {
     "data": {
      "text/plain": [
       "1054"
      ]
     },
     "execution_count": 275,
     "metadata": {},
     "output_type": "execute_result"
    }
   ],
   "source": [
    "np.count_nonzero(log_model5_l1.coef_)"
   ]
  },
  {
   "cell_type": "code",
   "execution_count": 209,
   "id": "de37eb40",
   "metadata": {},
   "outputs": [
    {
     "name": "stdout",
     "output_type": "stream",
     "text": [
      "[[384  55]\n",
      " [ 41 420]]\n"
     ]
    }
   ],
   "source": [
    "#Logistic regression with l1 penalty performs well at predicting Ph 5\n",
    "\n",
    "print(confusion_matrix(pred,y_test))"
   ]
  },
  {
   "cell_type": "code",
   "execution_count": 210,
   "id": "58afdb55",
   "metadata": {},
   "outputs": [
    {
     "data": {
      "text/plain": [
       "0.9661721362229102"
      ]
     },
     "execution_count": 210,
     "metadata": {},
     "output_type": "execute_result"
    }
   ],
   "source": [
    "#Record AUC for Ph 5: .966\n",
    "\n",
    "roc_auc_score(y_test,log_model5_l1.decision_function(Z_test))"
   ]
  },
  {
   "cell_type": "code",
   "execution_count": 220,
   "id": "0f74deae",
   "metadata": {},
   "outputs": [
    {
     "data": {
      "image/png": "[encoded data removed]",
      "text/plain": [
       "<Figure size 432x288 with 1 Axes>"
      ]
     },
     "metadata": {
      "needs_background": "light"
     },
     "output_type": "display_data"
    }
   ],
   "source": [
    "metrics.plot_roc_curve(log_model5_l1,Z_test,y_test)\n",
    "plt.show()"
   ]
  },
  {
   "cell_type": "code",
   "execution_count": 211,
   "id": "790e7737",
   "metadata": {},
   "outputs": [],
   "source": [
    "#Try grid search over parameters for support vector classifier.\n",
    "\n",
    "param_grid = {'C': [0.1,1, 10, 100], 'gamma': [1,0.1,0.01,0.001], 'kernel': ['linear','rbf','poly']} "
   ]
  },
  {
   "cell_type": "code",
   "execution_count": 212,
   "id": "740f9ce2",
   "metadata": {},
   "outputs": [],
   "source": [
    "grid = GridSearchCV(SVC(),param_grid,refit=True,verbose=4)"
   ]
  },
  {
   "cell_type": "code",
   "execution_count": 213,
   "id": "76356d1c",
   "metadata": {},
   "outputs": [
    {
     "name": "stdout",
     "output_type": "stream",
     "text": [
      "Fitting 5 folds for each of 48 candidates, totalling 240 fits\n",
      "[CV 1/5] END .....C=0.1, gamma=1, kernel=linear;, score=0.740 total time=  34.6s\n",
      "[CV 2/5] END .....C=0.1, gamma=1, kernel=linear;, score=0.669 total time=  31.4s\n",
      "[CV 3/5] END .....C=0.1, gamma=1, kernel=linear;, score=0.676 total time=  29.6s\n",
      "[CV 4/5] END .....C=0.1, gamma=1, kernel=linear;, score=0.712 total time=  30.1s\n",
      "[CV 5/5] END .....C=0.1, gamma=1, kernel=linear;, score=0.688 total time=  30.7s\n",
      "[CV 1/5] END ........C=0.1, gamma=1, kernel=rbf;, score=0.510 total time=  39.8s\n",
      "[CV 2/5] END ........C=0.1, gamma=1, kernel=rbf;, score=0.512 total time=  39.8s\n",
      "[CV 3/5] END ........C=0.1, gamma=1, kernel=rbf;, score=0.512 total time=  40.8s\n",
      "[CV 4/5] END ........C=0.1, gamma=1, kernel=rbf;, score=0.512 total time=  39.9s\n",
      "[CV 5/5] END ........C=0.1, gamma=1, kernel=rbf;, score=0.512 total time=  45.7s\n",
      "[CV 1/5] END .......C=0.1, gamma=1, kernel=poly;, score=0.748 total time=  30.2s\n",
      "[CV 2/5] END .......C=0.1, gamma=1, kernel=poly;, score=0.681 total time=  29.0s\n",
      "[CV 3/5] END .......C=0.1, gamma=1, kernel=poly;, score=0.676 total time=  28.0s\n",
      "[CV 4/5] END .......C=0.1, gamma=1, kernel=poly;, score=0.719 total time=  29.2s\n",
      "[CV 5/5] END .......C=0.1, gamma=1, kernel=poly;, score=0.702 total time=  28.7s\n",
      "[CV 1/5] END ...C=0.1, gamma=0.1, kernel=linear;, score=0.740 total time=  27.8s\n",
      "[CV 2/5] END ...C=0.1, gamma=0.1, kernel=linear;, score=0.669 total time=  28.4s\n",
      "[CV 3/5] END ...C=0.1, gamma=0.1, kernel=linear;, score=0.676 total time=  28.2s\n",
      "[CV 4/5] END ...C=0.1, gamma=0.1, kernel=linear;, score=0.712 total time=  28.0s\n",
      "[CV 5/5] END ...C=0.1, gamma=0.1, kernel=linear;, score=0.688 total time=  30.9s\n",
      "[CV 1/5] END ......C=0.1, gamma=0.1, kernel=rbf;, score=0.510 total time=  38.7s\n",
      "[CV 2/5] END ......C=0.1, gamma=0.1, kernel=rbf;, score=0.512 total time=  39.8s\n",
      "[CV 3/5] END ......C=0.1, gamma=0.1, kernel=rbf;, score=0.512 total time=  39.5s\n",
      "[CV 4/5] END ......C=0.1, gamma=0.1, kernel=rbf;, score=0.512 total time=  40.6s\n",
      "[CV 5/5] END ......C=0.1, gamma=0.1, kernel=rbf;, score=0.512 total time=  40.2s\n",
      "[CV 1/5] END .....C=0.1, gamma=0.1, kernel=poly;, score=0.748 total time=  29.2s\n",
      "[CV 2/5] END .....C=0.1, gamma=0.1, kernel=poly;, score=0.681 total time=  29.9s\n",
      "[CV 3/5] END .....C=0.1, gamma=0.1, kernel=poly;, score=0.676 total time=  31.3s\n",
      "[CV 4/5] END .....C=0.1, gamma=0.1, kernel=poly;, score=0.719 total time=  30.4s\n",
      "[CV 5/5] END .....C=0.1, gamma=0.1, kernel=poly;, score=0.702 total time=  28.8s\n",
      "[CV 1/5] END ..C=0.1, gamma=0.01, kernel=linear;, score=0.740 total time=  27.7s\n",
      "[CV 2/5] END ..C=0.1, gamma=0.01, kernel=linear;, score=0.669 total time=  27.8s\n",
      "[CV 3/5] END ..C=0.1, gamma=0.01, kernel=linear;, score=0.676 total time=  31.4s\n",
      "[CV 4/5] END ..C=0.1, gamma=0.01, kernel=linear;, score=0.712 total time=  30.4s\n",
      "[CV 5/5] END ..C=0.1, gamma=0.01, kernel=linear;, score=0.688 total time=  37.8s\n",
      "[CV 1/5] END .....C=0.1, gamma=0.01, kernel=rbf;, score=0.510 total time=  39.5s\n",
      "[CV 2/5] END .....C=0.1, gamma=0.01, kernel=rbf;, score=0.512 total time=  39.1s\n",
      "[CV 3/5] END .....C=0.1, gamma=0.01, kernel=rbf;, score=0.512 total time=  43.0s\n",
      "[CV 4/5] END .....C=0.1, gamma=0.01, kernel=rbf;, score=0.512 total time=  39.4s\n",
      "[CV 5/5] END .....C=0.1, gamma=0.01, kernel=rbf;, score=0.512 total time=  37.6s\n",
      "[CV 1/5] END ....C=0.1, gamma=0.01, kernel=poly;, score=0.748 total time=  29.7s\n",
      "[CV 2/5] END ....C=0.1, gamma=0.01, kernel=poly;, score=0.681 total time=  28.6s\n",
      "[CV 3/5] END ....C=0.1, gamma=0.01, kernel=poly;, score=0.676 total time=  28.9s\n",
      "[CV 4/5] END ....C=0.1, gamma=0.01, kernel=poly;, score=0.719 total time=  31.7s\n",
      "[CV 5/5] END ....C=0.1, gamma=0.01, kernel=poly;, score=0.702 total time=  28.1s\n",
      "[CV 1/5] END .C=0.1, gamma=0.001, kernel=linear;, score=0.740 total time=  28.1s\n",
      "[CV 2/5] END .C=0.1, gamma=0.001, kernel=linear;, score=0.669 total time=  29.4s\n",
      "[CV 3/5] END .C=0.1, gamma=0.001, kernel=linear;, score=0.676 total time=  27.2s\n",
      "[CV 4/5] END .C=0.1, gamma=0.001, kernel=linear;, score=0.712 total time=  28.4s\n",
      "[CV 5/5] END .C=0.1, gamma=0.001, kernel=linear;, score=0.688 total time=  27.4s\n",
      "[CV 1/5] END ....C=0.1, gamma=0.001, kernel=rbf;, score=0.510 total time=  39.1s\n",
      "[CV 2/5] END ....C=0.1, gamma=0.001, kernel=rbf;, score=0.512 total time=  40.4s\n",
      "[CV 3/5] END ....C=0.1, gamma=0.001, kernel=rbf;, score=0.512 total time=  40.8s\n",
      "[CV 4/5] END ....C=0.1, gamma=0.001, kernel=rbf;, score=0.512 total time=  40.6s\n",
      "[CV 5/5] END ....C=0.1, gamma=0.001, kernel=rbf;, score=0.512 total time=  38.6s\n",
      "[CV 1/5] END ...C=0.1, gamma=0.001, kernel=poly;, score=0.748 total time=  28.9s\n",
      "[CV 2/5] END ...C=0.1, gamma=0.001, kernel=poly;, score=0.681 total time=  29.6s\n",
      "[CV 3/5] END ...C=0.1, gamma=0.001, kernel=poly;, score=0.676 total time=  38.5s\n",
      "[CV 4/5] END ...C=0.1, gamma=0.001, kernel=poly;, score=0.719 total time=  32.8s\n",
      "[CV 5/5] END ...C=0.1, gamma=0.001, kernel=poly;, score=0.702 total time=  28.1s\n",
      "[CV 1/5] END .......C=1, gamma=1, kernel=linear;, score=0.740 total time=  27.3s\n",
      "[CV 2/5] END .......C=1, gamma=1, kernel=linear;, score=0.669 total time=  36.5s\n",
      "[CV 3/5] END .......C=1, gamma=1, kernel=linear;, score=0.676 total time=  39.1s\n",
      "[CV 4/5] END .......C=1, gamma=1, kernel=linear;, score=0.712 total time=  29.6s\n",
      "[CV 5/5] END .......C=1, gamma=1, kernel=linear;, score=0.688 total time=  28.5s\n",
      "[CV 1/5] END ..........C=1, gamma=1, kernel=rbf;, score=0.510 total time=  38.3s\n",
      "[CV 2/5] END ..........C=1, gamma=1, kernel=rbf;, score=0.512 total time=  37.8s\n",
      "[CV 3/5] END ..........C=1, gamma=1, kernel=rbf;, score=0.512 total time=  40.2s\n",
      "[CV 4/5] END ..........C=1, gamma=1, kernel=rbf;, score=0.512 total time=  38.5s\n",
      "[CV 5/5] END ..........C=1, gamma=1, kernel=rbf;, score=0.512 total time=  39.6s\n",
      "[CV 1/5] END .........C=1, gamma=1, kernel=poly;, score=0.748 total time=  29.6s\n",
      "[CV 2/5] END .........C=1, gamma=1, kernel=poly;, score=0.681 total time=  29.0s\n",
      "[CV 3/5] END .........C=1, gamma=1, kernel=poly;, score=0.676 total time=  28.4s\n",
      "[CV 4/5] END .........C=1, gamma=1, kernel=poly;, score=0.719 total time=  32.3s\n",
      "[CV 5/5] END .........C=1, gamma=1, kernel=poly;, score=0.702 total time=  30.0s\n",
      "[CV 1/5] END .....C=1, gamma=0.1, kernel=linear;, score=0.740 total time=  34.3s\n",
      "[CV 2/5] END .....C=1, gamma=0.1, kernel=linear;, score=0.669 total time=  34.7s\n",
      "[CV 3/5] END .....C=1, gamma=0.1, kernel=linear;, score=0.676 total time=  34.6s\n",
      "[CV 4/5] END .....C=1, gamma=0.1, kernel=linear;, score=0.712 total time=  27.5s\n",
      "[CV 5/5] END .....C=1, gamma=0.1, kernel=linear;, score=0.688 total time=  27.2s\n",
      "[CV 1/5] END ........C=1, gamma=0.1, kernel=rbf;, score=0.510 total time=  37.2s\n",
      "[CV 2/5] END ........C=1, gamma=0.1, kernel=rbf;, score=0.512 total time=  38.9s\n",
      "[CV 3/5] END ........C=1, gamma=0.1, kernel=rbf;, score=0.512 total time=  38.1s\n",
      "[CV 4/5] END ........C=1, gamma=0.1, kernel=rbf;, score=0.512 total time=  39.2s\n",
      "[CV 5/5] END ........C=1, gamma=0.1, kernel=rbf;, score=0.512 total time=  39.1s\n",
      "[CV 1/5] END .......C=1, gamma=0.1, kernel=poly;, score=0.748 total time=  29.3s\n",
      "[CV 2/5] END .......C=1, gamma=0.1, kernel=poly;, score=0.681 total time=  29.0s\n",
      "[CV 3/5] END .......C=1, gamma=0.1, kernel=poly;, score=0.676 total time=  28.8s\n",
      "[CV 4/5] END .......C=1, gamma=0.1, kernel=poly;, score=0.719 total time=  31.2s\n",
      "[CV 5/5] END .......C=1, gamma=0.1, kernel=poly;, score=0.702 total time=  32.6s\n",
      "[CV 1/5] END ....C=1, gamma=0.01, kernel=linear;, score=0.740 total time=  32.5s\n",
      "[CV 2/5] END ....C=1, gamma=0.01, kernel=linear;, score=0.669 total time=  29.4s\n",
      "[CV 3/5] END ....C=1, gamma=0.01, kernel=linear;, score=0.676 total time=  30.2s\n",
      "[CV 4/5] END ....C=1, gamma=0.01, kernel=linear;, score=0.712 total time=  48.3s\n",
      "[CV 5/5] END ....C=1, gamma=0.01, kernel=linear;, score=0.688 total time=  28.3s\n",
      "[CV 1/5] END .......C=1, gamma=0.01, kernel=rbf;, score=0.510 total time=  51.0s\n",
      "[CV 2/5] END .......C=1, gamma=0.01, kernel=rbf;, score=0.512 total time=  40.9s\n",
      "[CV 3/5] END .......C=1, gamma=0.01, kernel=rbf;, score=0.512 total time=  38.5s\n",
      "[CV 4/5] END .......C=1, gamma=0.01, kernel=rbf;, score=0.512 total time=  37.9s\n",
      "[CV 5/5] END .......C=1, gamma=0.01, kernel=rbf;, score=0.512 total time=  40.9s\n",
      "[CV 1/5] END ......C=1, gamma=0.01, kernel=poly;, score=0.748 total time=  29.2s\n"
     ]
    },
    {
     "name": "stdout",
     "output_type": "stream",
     "text": [
      "[CV 2/5] END ......C=1, gamma=0.01, kernel=poly;, score=0.681 total time=  29.0s\n",
      "[CV 3/5] END ......C=1, gamma=0.01, kernel=poly;, score=0.676 total time=  29.5s\n",
      "[CV 4/5] END ......C=1, gamma=0.01, kernel=poly;, score=0.719 total time=  29.3s\n",
      "[CV 5/5] END ......C=1, gamma=0.01, kernel=poly;, score=0.702 total time=  33.7s\n",
      "[CV 1/5] END ...C=1, gamma=0.001, kernel=linear;, score=0.740 total time=  36.8s\n",
      "[CV 2/5] END ...C=1, gamma=0.001, kernel=linear;, score=0.669 total time=  33.7s\n",
      "[CV 3/5] END ...C=1, gamma=0.001, kernel=linear;, score=0.676 total time=  30.3s\n",
      "[CV 4/5] END ...C=1, gamma=0.001, kernel=linear;, score=0.712 total time=  29.5s\n",
      "[CV 5/5] END ...C=1, gamma=0.001, kernel=linear;, score=0.688 total time=  28.1s\n",
      "[CV 1/5] END ......C=1, gamma=0.001, kernel=rbf;, score=0.510 total time=  39.4s\n",
      "[CV 2/5] END ......C=1, gamma=0.001, kernel=rbf;, score=0.512 total time=  47.8s\n",
      "[CV 3/5] END ......C=1, gamma=0.001, kernel=rbf;, score=0.512 total time=  42.4s\n",
      "[CV 4/5] END ......C=1, gamma=0.001, kernel=rbf;, score=0.512 total time=  38.2s\n",
      "[CV 5/5] END ......C=1, gamma=0.001, kernel=rbf;, score=0.512 total time=  40.7s\n",
      "[CV 1/5] END .....C=1, gamma=0.001, kernel=poly;, score=0.748 total time=  31.7s\n",
      "[CV 2/5] END .....C=1, gamma=0.001, kernel=poly;, score=0.681 total time=  29.9s\n",
      "[CV 3/5] END .....C=1, gamma=0.001, kernel=poly;, score=0.676 total time=  34.3s\n",
      "[CV 4/5] END .....C=1, gamma=0.001, kernel=poly;, score=0.719 total time=  29.4s\n",
      "[CV 5/5] END .....C=1, gamma=0.001, kernel=poly;, score=0.702 total time=  33.6s\n",
      "[CV 1/5] END ......C=10, gamma=1, kernel=linear;, score=0.740 total time=  34.2s\n",
      "[CV 2/5] END ......C=10, gamma=1, kernel=linear;, score=0.669 total time=  44.7s\n",
      "[CV 3/5] END ......C=10, gamma=1, kernel=linear;, score=0.676 total time=  39.3s\n",
      "[CV 4/5] END ......C=10, gamma=1, kernel=linear;, score=0.712 total time=  39.3s\n",
      "[CV 5/5] END ......C=10, gamma=1, kernel=linear;, score=0.688 total time=  30.5s\n",
      "[CV 1/5] END .........C=10, gamma=1, kernel=rbf;, score=0.510 total time=  36.3s\n",
      "[CV 2/5] END .........C=10, gamma=1, kernel=rbf;, score=0.512 total time=  37.6s\n",
      "[CV 3/5] END .........C=10, gamma=1, kernel=rbf;, score=0.512 total time=  42.5s\n",
      "[CV 4/5] END .........C=10, gamma=1, kernel=rbf;, score=0.512 total time=  41.7s\n",
      "[CV 5/5] END .........C=10, gamma=1, kernel=rbf;, score=0.512 total time=  41.5s\n",
      "[CV 1/5] END ........C=10, gamma=1, kernel=poly;, score=0.748 total time=  31.3s\n",
      "[CV 2/5] END ........C=10, gamma=1, kernel=poly;, score=0.681 total time=  30.5s\n",
      "[CV 3/5] END ........C=10, gamma=1, kernel=poly;, score=0.676 total time=  28.2s\n",
      "[CV 4/5] END ........C=10, gamma=1, kernel=poly;, score=0.719 total time=  28.1s\n",
      "[CV 5/5] END ........C=10, gamma=1, kernel=poly;, score=0.702 total time=  28.8s\n",
      "[CV 1/5] END ....C=10, gamma=0.1, kernel=linear;, score=0.740 total time=  28.7s\n",
      "[CV 2/5] END ....C=10, gamma=0.1, kernel=linear;, score=0.669 total time=  27.3s\n",
      "[CV 3/5] END ....C=10, gamma=0.1, kernel=linear;, score=0.676 total time=  28.6s\n",
      "[CV 4/5] END ....C=10, gamma=0.1, kernel=linear;, score=0.712 total time=  27.6s\n",
      "[CV 5/5] END ....C=10, gamma=0.1, kernel=linear;, score=0.688 total time=  27.3s\n",
      "[CV 1/5] END .......C=10, gamma=0.1, kernel=rbf;, score=0.510 total time=  38.5s\n",
      "[CV 2/5] END .......C=10, gamma=0.1, kernel=rbf;, score=0.512 total time=  38.9s\n",
      "[CV 3/5] END .......C=10, gamma=0.1, kernel=rbf;, score=0.512 total time=  37.8s\n",
      "[CV 4/5] END .......C=10, gamma=0.1, kernel=rbf;, score=0.512 total time=  37.3s\n",
      "[CV 5/5] END .......C=10, gamma=0.1, kernel=rbf;, score=0.512 total time=  37.2s\n",
      "[CV 1/5] END ......C=10, gamma=0.1, kernel=poly;, score=0.748 total time=  28.0s\n",
      "[CV 2/5] END ......C=10, gamma=0.1, kernel=poly;, score=0.681 total time=  28.0s\n",
      "[CV 3/5] END ......C=10, gamma=0.1, kernel=poly;, score=0.676 total time=  28.4s\n",
      "[CV 4/5] END ......C=10, gamma=0.1, kernel=poly;, score=0.719 total time=  27.4s\n",
      "[CV 5/5] END ......C=10, gamma=0.1, kernel=poly;, score=0.702 total time=  29.7s\n",
      "[CV 1/5] END ...C=10, gamma=0.01, kernel=linear;, score=0.740 total time=  28.9s\n",
      "[CV 2/5] END ...C=10, gamma=0.01, kernel=linear;, score=0.669 total time=  27.5s\n",
      "[CV 3/5] END ...C=10, gamma=0.01, kernel=linear;, score=0.676 total time=  27.9s\n",
      "[CV 4/5] END ...C=10, gamma=0.01, kernel=linear;, score=0.712 total time=  27.5s\n",
      "[CV 5/5] END ...C=10, gamma=0.01, kernel=linear;, score=0.688 total time=  29.6s\n",
      "[CV 1/5] END ......C=10, gamma=0.01, kernel=rbf;, score=0.510 total time=  38.0s\n",
      "[CV 2/5] END ......C=10, gamma=0.01, kernel=rbf;, score=0.512 total time=  38.3s\n",
      "[CV 3/5] END ......C=10, gamma=0.01, kernel=rbf;, score=0.512 total time=  38.6s\n",
      "[CV 4/5] END ......C=10, gamma=0.01, kernel=rbf;, score=0.512 total time=  43.9s\n",
      "[CV 5/5] END ......C=10, gamma=0.01, kernel=rbf;, score=0.512 total time=  37.0s\n",
      "[CV 1/5] END .....C=10, gamma=0.01, kernel=poly;, score=0.748 total time=  34.1s\n",
      "[CV 2/5] END .....C=10, gamma=0.01, kernel=poly;, score=0.681 total time=  30.0s\n",
      "[CV 3/5] END .....C=10, gamma=0.01, kernel=poly;, score=0.676 total time=  28.4s\n",
      "[CV 4/5] END .....C=10, gamma=0.01, kernel=poly;, score=0.719 total time=  29.0s\n",
      "[CV 5/5] END .....C=10, gamma=0.01, kernel=poly;, score=0.702 total time=  28.2s\n",
      "[CV 1/5] END ..C=10, gamma=0.001, kernel=linear;, score=0.740 total time=  26.9s\n",
      "[CV 2/5] END ..C=10, gamma=0.001, kernel=linear;, score=0.669 total time=  27.2s\n",
      "[CV 3/5] END ..C=10, gamma=0.001, kernel=linear;, score=0.676 total time=  30.5s\n",
      "[CV 4/5] END ..C=10, gamma=0.001, kernel=linear;, score=0.712 total time=  30.3s\n",
      "[CV 5/5] END ..C=10, gamma=0.001, kernel=linear;, score=0.688 total time=  28.8s\n",
      "[CV 1/5] END .....C=10, gamma=0.001, kernel=rbf;, score=0.510 total time=  37.1s\n",
      "[CV 2/5] END .....C=10, gamma=0.001, kernel=rbf;, score=0.512 total time=  37.7s\n",
      "[CV 3/5] END .....C=10, gamma=0.001, kernel=rbf;, score=0.512 total time=  37.6s\n",
      "[CV 4/5] END .....C=10, gamma=0.001, kernel=rbf;, score=0.512 total time=  37.2s\n",
      "[CV 5/5] END .....C=10, gamma=0.001, kernel=rbf;, score=0.512 total time=  39.0s\n",
      "[CV 1/5] END ....C=10, gamma=0.001, kernel=poly;, score=0.748 total time=  30.6s\n",
      "[CV 2/5] END ....C=10, gamma=0.001, kernel=poly;, score=0.681 total time=  30.6s\n",
      "[CV 3/5] END ....C=10, gamma=0.001, kernel=poly;, score=0.676 total time=  32.0s\n",
      "[CV 4/5] END ....C=10, gamma=0.001, kernel=poly;, score=0.719 total time= 1.2min\n",
      "[CV 5/5] END ....C=10, gamma=0.001, kernel=poly;, score=0.702 total time=  39.8s\n",
      "[CV 1/5] END .....C=100, gamma=1, kernel=linear;, score=0.740 total time=  35.5s\n",
      "[CV 2/5] END .....C=100, gamma=1, kernel=linear;, score=0.669 total time=  30.2s\n",
      "[CV 3/5] END .....C=100, gamma=1, kernel=linear;, score=0.676 total time=  31.3s\n",
      "[CV 4/5] END .....C=100, gamma=1, kernel=linear;, score=0.712 total time=  31.1s\n",
      "[CV 5/5] END .....C=100, gamma=1, kernel=linear;, score=0.688 total time=  33.1s\n",
      "[CV 1/5] END ........C=100, gamma=1, kernel=rbf;, score=0.510 total time=  40.0s\n",
      "[CV 2/5] END ........C=100, gamma=1, kernel=rbf;, score=0.512 total time=  41.3s\n",
      "[CV 3/5] END ........C=100, gamma=1, kernel=rbf;, score=0.512 total time=  44.4s\n",
      "[CV 4/5] END ........C=100, gamma=1, kernel=rbf;, score=0.512 total time= 1.0min\n",
      "[CV 5/5] END ........C=100, gamma=1, kernel=rbf;, score=0.512 total time=  43.6s\n",
      "[CV 1/5] END .......C=100, gamma=1, kernel=poly;, score=0.748 total time=  30.8s\n",
      "[CV 2/5] END .......C=100, gamma=1, kernel=poly;, score=0.681 total time=  29.0s\n",
      "[CV 3/5] END .......C=100, gamma=1, kernel=poly;, score=0.676 total time=  29.4s\n",
      "[CV 4/5] END .......C=100, gamma=1, kernel=poly;, score=0.719 total time=  28.6s\n",
      "[CV 5/5] END .......C=100, gamma=1, kernel=poly;, score=0.702 total time=  30.6s\n",
      "[CV 1/5] END ...C=100, gamma=0.1, kernel=linear;, score=0.740 total time=  29.0s\n",
      "[CV 2/5] END ...C=100, gamma=0.1, kernel=linear;, score=0.669 total time=  27.4s\n",
      "[CV 3/5] END ...C=100, gamma=0.1, kernel=linear;, score=0.676 total time=  29.2s\n",
      "[CV 4/5] END ...C=100, gamma=0.1, kernel=linear;, score=0.712 total time=  30.4s\n",
      "[CV 5/5] END ...C=100, gamma=0.1, kernel=linear;, score=0.688 total time=  30.6s\n",
      "[CV 1/5] END ......C=100, gamma=0.1, kernel=rbf;, score=0.510 total time=  39.7s\n",
      "[CV 2/5] END ......C=100, gamma=0.1, kernel=rbf;, score=0.512 total time=  48.3s\n",
      "[CV 3/5] END ......C=100, gamma=0.1, kernel=rbf;, score=0.512 total time=  41.0s\n"
     ]
    },
    {
     "name": "stdout",
     "output_type": "stream",
     "text": [
      "[CV 4/5] END ......C=100, gamma=0.1, kernel=rbf;, score=0.512 total time=  43.2s\n",
      "[CV 5/5] END ......C=100, gamma=0.1, kernel=rbf;, score=0.512 total time=  40.4s\n",
      "[CV 1/5] END .....C=100, gamma=0.1, kernel=poly;, score=0.748 total time=  30.6s\n",
      "[CV 2/5] END .....C=100, gamma=0.1, kernel=poly;, score=0.681 total time=  30.2s\n",
      "[CV 3/5] END .....C=100, gamma=0.1, kernel=poly;, score=0.676 total time=  31.5s\n",
      "[CV 4/5] END .....C=100, gamma=0.1, kernel=poly;, score=0.719 total time=  35.1s\n",
      "[CV 5/5] END .....C=100, gamma=0.1, kernel=poly;, score=0.702 total time= 1.1min\n",
      "[CV 1/5] END ..C=100, gamma=0.01, kernel=linear;, score=0.740 total time=  36.8s\n",
      "[CV 2/5] END ..C=100, gamma=0.01, kernel=linear;, score=0.669 total time=  39.5s\n",
      "[CV 3/5] END ..C=100, gamma=0.01, kernel=linear;, score=0.676 total time=  31.5s\n",
      "[CV 4/5] END ..C=100, gamma=0.01, kernel=linear;, score=0.712 total time=  32.8s\n",
      "[CV 5/5] END ..C=100, gamma=0.01, kernel=linear;, score=0.688 total time=  44.9s\n",
      "[CV 1/5] END .....C=100, gamma=0.01, kernel=rbf;, score=0.510 total time=  57.3s\n",
      "[CV 2/5] END .....C=100, gamma=0.01, kernel=rbf;, score=0.512 total time= 1.2min\n",
      "[CV 3/5] END .....C=100, gamma=0.01, kernel=rbf;, score=0.512 total time= 1.1min\n",
      "[CV 4/5] END .....C=100, gamma=0.01, kernel=rbf;, score=0.512 total time= 1.1min\n",
      "[CV 5/5] END .....C=100, gamma=0.01, kernel=rbf;, score=0.512 total time= 1.1min\n",
      "[CV 1/5] END ....C=100, gamma=0.01, kernel=poly;, score=0.748 total time=  50.5s\n",
      "[CV 2/5] END ....C=100, gamma=0.01, kernel=poly;, score=0.681 total time=  50.6s\n",
      "[CV 3/5] END ....C=100, gamma=0.01, kernel=poly;, score=0.676 total time=  48.5s\n",
      "[CV 4/5] END ....C=100, gamma=0.01, kernel=poly;, score=0.719 total time=  46.7s\n",
      "[CV 5/5] END ....C=100, gamma=0.01, kernel=poly;, score=0.702 total time=  47.6s\n",
      "[CV 1/5] END .C=100, gamma=0.001, kernel=linear;, score=0.740 total time= 1.1min\n",
      "[CV 2/5] END .C=100, gamma=0.001, kernel=linear;, score=0.669 total time=  56.4s\n",
      "[CV 3/5] END .C=100, gamma=0.001, kernel=linear;, score=0.676 total time= 1.1min\n",
      "[CV 4/5] END .C=100, gamma=0.001, kernel=linear;, score=0.712 total time=  50.2s\n",
      "[CV 5/5] END .C=100, gamma=0.001, kernel=linear;, score=0.688 total time=  46.4s\n",
      "[CV 1/5] END ....C=100, gamma=0.001, kernel=rbf;, score=0.510 total time= 1.0min\n",
      "[CV 2/5] END ....C=100, gamma=0.001, kernel=rbf;, score=0.512 total time=  59.7s\n",
      "[CV 3/5] END ....C=100, gamma=0.001, kernel=rbf;, score=0.512 total time= 1.2min\n",
      "[CV 4/5] END ....C=100, gamma=0.001, kernel=rbf;, score=0.512 total time= 1.0min\n",
      "[CV 5/5] END ....C=100, gamma=0.001, kernel=rbf;, score=0.512 total time= 1.1min\n",
      "[CV 1/5] END ...C=100, gamma=0.001, kernel=poly;, score=0.748 total time=  45.4s\n",
      "[CV 2/5] END ...C=100, gamma=0.001, kernel=poly;, score=0.681 total time=  46.2s\n",
      "[CV 3/5] END ...C=100, gamma=0.001, kernel=poly;, score=0.676 total time=  48.1s\n",
      "[CV 4/5] END ...C=100, gamma=0.001, kernel=poly;, score=0.719 total time=  45.7s\n",
      "[CV 5/5] END ...C=100, gamma=0.001, kernel=poly;, score=0.702 total time=  46.7s\n"
     ]
    },
    {
     "data": {
      "text/plain": [
       "GridSearchCV(estimator=SVC(),\n",
       "             param_grid={'C': [0.1, 1, 10, 100], 'gamma': [1, 0.1, 0.01, 0.001],\n",
       "                         'kernel': ['linear', 'rbf', 'poly']},\n",
       "             verbose=4)"
      ]
     },
     "execution_count": 213,
     "metadata": {},
     "output_type": "execute_result"
    }
   ],
   "source": [
    "#This took over 2 hours.\n",
    "\n",
    "grid.fit(Z_train,y_train)"
   ]
  },
  {
   "cell_type": "code",
   "execution_count": 214,
   "id": "0a0c78c5",
   "metadata": {},
   "outputs": [
    {
     "data": {
      "text/plain": [
       "{'C': 0.1, 'gamma': 1, 'kernel': 'poly'}"
      ]
     },
     "execution_count": 214,
     "metadata": {},
     "output_type": "execute_result"
    }
   ],
   "source": [
    "grid.best_params_"
   ]
  },
  {
   "cell_type": "code",
   "execution_count": 215,
   "id": "f94c489b",
   "metadata": {},
   "outputs": [
    {
     "data": {
      "text/plain": [
       "0.7052380952380952"
      ]
     },
     "execution_count": 215,
     "metadata": {},
     "output_type": "execute_result"
    }
   ],
   "source": [
    "grid.best_score_"
   ]
  },
  {
   "cell_type": "code",
   "execution_count": 216,
   "id": "3cd96b1f",
   "metadata": {},
   "outputs": [],
   "source": [
    "grid_pred = grid.predict(Z_test)"
   ]
  },
  {
   "cell_type": "code",
   "execution_count": 217,
   "id": "5614665f",
   "metadata": {},
   "outputs": [
    {
     "name": "stdout",
     "output_type": "stream",
     "text": [
      "[[303 118]\n",
      " [122 357]]\n"
     ]
    }
   ],
   "source": [
    "#Performance of best SVC from grid is not as good as l1-regularized logistic regression.\n",
    "\n",
    "print(confusion_matrix(grid_pred,y_test))"
   ]
  },
  {
   "cell_type": "code",
   "execution_count": 218,
   "id": "fee51e25",
   "metadata": {},
   "outputs": [
    {
     "data": {
      "text/plain": [
       "0.8026798761609908"
      ]
     },
     "execution_count": 218,
     "metadata": {},
     "output_type": "execute_result"
    }
   ],
   "source": [
    "roc_auc_score(y_test,grid.decision_function(Z_test))"
   ]
  },
  {
   "cell_type": "code",
   "execution_count": 219,
   "id": "79d45882",
   "metadata": {},
   "outputs": [
    {
     "data": {
      "image/png": "[encoded data removed]",
      "text/plain": [
       "<Figure size 432x288 with 1 Axes>"
      ]
     },
     "metadata": {
      "needs_background": "light"
     },
     "output_type": "display_data"
    }
   ],
   "source": [
    "metrics.plot_roc_curve(grid,Z_test,y_test)\n",
    "plt.show()"
   ]
  },
  {
   "cell_type": "code",
   "execution_count": null,
   "id": "3d76bf20",
   "metadata": {},
   "outputs": [],
   "source": []
  }
 ],
 "metadata": {
  "kernelspec": {
   "display_name": "Python 3",
   "language": "python",
   "name": "python3"
  },
  "language_info": {
   "codemirror_mode": {
    "name": "ipython",
    "version": 3
   },
   "file_extension": ".py",
   "mimetype": "text/x-python",
   "name": "python",
   "nbconvert_exporter": "python",
   "pygments_lexer": "ipython3",
   "version": "3.6.10"
  }
 },
 "nbformat": 4,
 "nbformat_minor": 5
}
