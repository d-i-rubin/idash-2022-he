{
 "cells": [
  {
   "cell_type": "code",
   "execution_count": 1,
   "id": "35bc5ffe",
   "metadata": {},
   "outputs": [],
   "source": [
    "#Import necessary libraries\n",
    "\n",
    "import numpy as np\n",
    "import pandas as pd\n",
    "import seal\n",
    "from seal import *\n",
    "import time\n",
    "import pickle"
   ]
  },
  {
   "cell_type": "code",
   "execution_count": 2,
   "id": "0e5c5e2f",
   "metadata": {},
   "outputs": [],
   "source": [
    "#Client reloads encryption context\n",
    "\n",
    "parms = EncryptionParameters(scheme_type.ckks)\n",
    "\n",
    "\n",
    "\n",
    "parms.load('encr_parms')\n",
    "\n",
    "\n",
    "\n",
    "context = SEALContext(parms)\n",
    "\n",
    "ckks_encoder = CKKSEncoder(context)\n",
    "slot_count = ckks_encoder.slot_count()\n",
    "\n",
    "scale = pickle.load(open('scale','rb'))\n",
    "\n",
    "#Load secret key and initialize decryptor\n",
    "keygen = KeyGenerator(context)\n",
    "public_key = keygen.create_public_key()\n",
    "public_key.load(context, 'pubkey')\n",
    "\n",
    "secret_key = keygen.secret_key()\n",
    "secret_key.load(context, 'secretkey')\n",
    "\n",
    "encryptor = Encryptor(context, public_key)\n",
    "decryptor = Decryptor(context,secret_key)\n"
   ]
  },
  {
   "cell_type": "code",
   "execution_count": 3,
   "id": "22610749",
   "metadata": {},
   "outputs": [],
   "source": [
    "num_test_samples = 300"
   ]
  },
  {
   "cell_type": "code",
   "execution_count": 4,
   "id": "efe03f82",
   "metadata": {},
   "outputs": [
    {
     "name": "stdout",
     "output_type": "stream",
     "text": [
      "Time to load encrypted results: 2.126s\n"
     ]
    }
   ],
   "source": [
    "#Load encrypted results\n",
    "start = time.time()\n",
    "\n",
    "results = []\n",
    "for m in range(num_test_samples):\n",
    "    pt_init = ckks_encoder.encode(0.,scale)\n",
    "    ct_init = encryptor.encrypt(pt_init)\n",
    "    ct_init.load(context, 'result[%i]' % m)\n",
    "    results.append(ct_init)\n",
    "\n",
    "end = time.time()\n",
    "print(f\"Time to load encrypted results: {(end-start):.3f}s\")"
   ]
  },
  {
   "cell_type": "code",
   "execution_count": 5,
   "id": "99b5f1db",
   "metadata": {},
   "outputs": [],
   "source": [
    "#Decrypt results\n",
    "\n",
    "ans = []\n",
    "for i in range(num_test_samples):\n",
    "    ans.append(decryptor.decrypt(results[i]))\n",
    "    ans[i] = ckks_encoder.decode(ans[i])"
   ]
  },
  {
   "cell_type": "code",
   "execution_count": 6,
   "id": "7ddb41d1",
   "metadata": {},
   "outputs": [],
   "source": [
    "#Form predictions.\n",
    "#Includes sole post-processing scaling operation\n",
    "\n",
    "predictions = np.zeros((num_test_samples,5))\n",
    "\n",
    "for i in range(num_test_samples):\n",
    "    for j in range(5):\n",
    "        predictions[i,j] = ans[i][j]/10**3"
   ]
  },
  {
   "cell_type": "code",
   "execution_count": 7,
   "id": "93113b75",
   "metadata": {},
   "outputs": [],
   "source": [
    "#Load true phenotype values\n",
    "\n",
    "ph1_test = pickle.load(open('ph1_test','rb'))\n",
    "ph2_test = pickle.load(open('ph2_test','rb'))\n",
    "ph3_test = pickle.load(open('ph3_test','rb'))\n",
    "ph4_test = pickle.load(open('ph4_test','rb'))\n",
    "ph5_test = pickle.load(open('ph5_test','rb'))"
   ]
  },
  {
   "cell_type": "code",
   "execution_count": 8,
   "id": "9ca8b7a4",
   "metadata": {},
   "outputs": [],
   "source": [
    "#Compute ranges for normalization\n",
    "\n",
    "ph1_range = ph1_test.max()-ph1_test.min()\n",
    "ph2_range = ph2_test.max()-ph2_test.min()\n",
    "ph3_range = ph3_test.max()-ph3_test.min()"
   ]
  },
  {
   "cell_type": "code",
   "execution_count": 9,
   "id": "4743c1c9",
   "metadata": {},
   "outputs": [],
   "source": [
    "from sklearn.metrics import mean_squared_error, roc_auc_score"
   ]
  },
  {
   "cell_type": "code",
   "execution_count": 10,
   "id": "2389aab5",
   "metadata": {},
   "outputs": [
    {
     "name": "stdout",
     "output_type": "stream",
     "text": [
      "PH1 NRMSE: 0.041822228925351757\n",
      "PH2 NRMSE: 0.030976525958347063\n",
      "PH3 NRMSE: 0.028704621329617593\n",
      "PH4 ROC:  0.9859422492401216\n",
      "PH5 ROC:  0.9811766804942237\n"
     ]
    }
   ],
   "source": [
    "#Normalized scores\n",
    "\n",
    "print('PH1 NRMSE:', np.sqrt(mean_squared_error(ph1_test, predictions[:,0]))/ph1_range)\n",
    "print('PH2 NRMSE:', np.sqrt(mean_squared_error(ph2_test, predictions[:,1]))/ph2_range)\n",
    "print('PH3 NRMSE:', np.sqrt(mean_squared_error(ph3_test, predictions[:,2]))/ph3_range)\n",
    "print('PH4 ROC: ', roc_auc_score(ph4_test,predictions[:,3]))\n",
    "print('PH5 ROC: ', roc_auc_score(ph5_test,predictions[:,4]))"
   ]
  },
  {
   "cell_type": "code",
   "execution_count": null,
   "id": "ca66e674",
   "metadata": {},
   "outputs": [],
   "source": []
  }
 ],
 "metadata": {
  "kernelspec": {
   "display_name": "Python 3 (ipykernel)",
   "language": "python",
   "name": "python3"
  },
  "language_info": {
   "codemirror_mode": {
    "name": "ipython",
    "version": 3
   },
   "file_extension": ".py",
   "mimetype": "text/x-python",
   "name": "python",
   "nbconvert_exporter": "python",
   "pygments_lexer": "ipython3",
   "version": "3.9.5"
  }
 },
 "nbformat": 4,
 "nbformat_minor": 5
}
