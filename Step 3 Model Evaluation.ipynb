{
 "cells": [
  {
   "cell_type": "code",
   "execution_count": 1,
   "id": "a04ffd48",
   "metadata": {},
   "outputs": [],
   "source": [
    "#Import necessary libraries\n",
    "\n",
    "import numpy as np\n",
    "import pandas as pd\n",
    "import seal\n",
    "from seal import *\n",
    "import time\n",
    "import pickle"
   ]
  },
  {
   "cell_type": "code",
   "execution_count": 2,
   "id": "c8e1f623",
   "metadata": {},
   "outputs": [],
   "source": [
    "#Evaluator initializes an encryption scheme\n",
    "\n",
    "parms = EncryptionParameters(scheme_type.ckks)\n",
    "\n",
    "#Evaluator loads client's parameters\n",
    "\n",
    "parms.load('encr_parms')\n",
    "\n",
    "#Evaluator initializes context with client's parms\n",
    "\n",
    "context = SEALContext(parms)\n",
    "\n",
    "ckks_encoder = CKKSEncoder(context)\n",
    "slot_count = ckks_encoder.slot_count()\n",
    "\n",
    "keygen = KeyGenerator(context)\n",
    "public_key = keygen.create_public_key()\n",
    "public_key.load(context, 'pubkey')\n",
    "\n",
    "\n",
    "galois_keys = keygen.create_galois_keys()\n",
    "galois_keys.load(context, 'galkeys')\n",
    "\n",
    "\n",
    "relin_keys = keygen.create_relin_keys()\n",
    "relin_keys.load(context, 'relinkeys')\n",
    "\n",
    "scale = pickle.load(open('scale','rb'))\n",
    "\n",
    "encryptor = Encryptor(context, public_key)\n",
    "evaluator = Evaluator(context)"
   ]
  },
  {
   "cell_type": "code",
   "execution_count": 3,
   "id": "0ff27b00",
   "metadata": {},
   "outputs": [],
   "source": [
    "#This must be set to 198\n",
    "\n",
    "num_test_samples = 300"
   ]
  },
  {
   "cell_type": "code",
   "execution_count": 4,
   "id": "57b98ab1",
   "metadata": {},
   "outputs": [
    {
     "name": "stdout",
     "output_type": "stream",
     "text": [
      "Time to load encrypted data: 26.942s\n"
     ]
    }
   ],
   "source": [
    "start = time.time()\n",
    "\n",
    "ct_data = []\n",
    "\n",
    "for i in range(num_test_samples):\n",
    "    ct_sample = []\n",
    "    for j in range(12):\n",
    "        pt_init = ckks_encoder.encode(0.,scale)\n",
    "        ct_init = encryptor.encrypt(pt_init)\n",
    "        ct_init.load(context, 'data_ct_[%i,%i]' % (i,j))\n",
    "        ct_sample.append(ct_init)\n",
    "    ct_data.append(ct_sample)\n",
    "        \n",
    "end = time.time()\n",
    "print(f\"Time to load encrypted data: {(end-start):.3f}s\")"
   ]
  },
  {
   "cell_type": "code",
   "execution_count": 5,
   "id": "0a35b7f6",
   "metadata": {},
   "outputs": [],
   "source": [
    "model_index_data = pickle.load(open('model_indices','rb'))"
   ]
  },
  {
   "cell_type": "code",
   "execution_count": 6,
   "id": "f6dcff6e",
   "metadata": {},
   "outputs": [
    {
     "name": "stdout",
     "output_type": "stream",
     "text": [
      "Time to load encrypted model parameters: 2.517s\n"
     ]
    }
   ],
   "source": [
    "start = time.time()\n",
    "\n",
    "ct_models = []\n",
    "\n",
    "for i in range(5):\n",
    "    ct_sample = []\n",
    "    for j in range(len(model_index_data[i][0])):\n",
    "        pt_init = ckks_encoder.encode(0.,scale)\n",
    "        ct_init = encryptor.encrypt(pt_init)\n",
    "        ct_init.load(context, 'model_ct[%i][%i]' % (i,j))\n",
    "        ct_sample.append(ct_init)\n",
    "    ct_models.append(ct_sample)\n",
    "        \n",
    "end = time.time()\n",
    "print(f\"Time to load encrypted model parameters: {(end-start):.3f}s\")"
   ]
  },
  {
   "cell_type": "code",
   "execution_count": 7,
   "id": "d3bd7ab1",
   "metadata": {},
   "outputs": [
    {
     "name": "stdout",
     "output_type": "stream",
     "text": [
      "Time to evaluate all models on all test samples: 319.502s\n"
     ]
    }
   ],
   "source": [
    "#Evaluate all models\n",
    "\n",
    "start = time.time()\n",
    "\n",
    "result = []\n",
    "for m in range(num_test_samples):\n",
    "\n",
    "\n",
    "    temp = []\n",
    "    for i in range(len(ct_models)):\n",
    "        for j in range(len(ct_models[i])):\n",
    "        \n",
    "            temp.append(evaluator.multiply(ct_models[i][j],ct_data[m][model_index_data[i][0][j]]))\n",
    "            evaluator.relinearize_inplace(temp[len(temp)-1],relin_keys)\n",
    "            evaluator.rescale_to_next_inplace(temp[len(temp)-1])\n",
    "            evaluator.rotate_vector_inplace(temp[len(temp)-1],model_index_data[i][1][j]-i,galois_keys)\n",
    "    \n",
    "    \n",
    "    result.append(evaluator.add_many(temp))\n",
    "    \n",
    "end = time.time()\n",
    "print(f\"Time to evaluate all models on all test samples: {(end-start):.3f}s\")"
   ]
  },
  {
   "cell_type": "code",
   "execution_count": 8,
   "id": "3f086fb1",
   "metadata": {},
   "outputs": [],
   "source": [
    "#Save result to send back to client for decryption\n",
    "\n",
    "for m in range(len(result)):\n",
    "    result[m].save('result[%i]'%m)"
   ]
  },
  {
   "cell_type": "code",
   "execution_count": null,
   "id": "82bcc7f0",
   "metadata": {},
   "outputs": [],
   "source": []
  }
 ],
 "metadata": {
  "kernelspec": {
   "display_name": "Python 3 (ipykernel)",
   "language": "python",
   "name": "python3"
  },
  "language_info": {
   "codemirror_mode": {
    "name": "ipython",
    "version": 3
   },
   "file_extension": ".py",
   "mimetype": "text/x-python",
   "name": "python",
   "nbconvert_exporter": "python",
   "pygments_lexer": "ipython3",
   "version": "3.9.5"
  }
 },
 "nbformat": 4,
 "nbformat_minor": 5
}
