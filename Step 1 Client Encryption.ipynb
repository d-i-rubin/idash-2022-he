{
 "cells": [
  {
   "cell_type": "code",
   "execution_count": 1,
   "id": "a1962cba",
   "metadata": {},
   "outputs": [],
   "source": [
    "#Import necessary libraries\n",
    "\n",
    "import numpy as np\n",
    "import pandas as pd\n",
    "import seal\n",
    "from seal import *\n",
    "import time\n",
    "import pickle"
   ]
  },
  {
   "cell_type": "code",
   "execution_count": 2,
   "id": "ed190143",
   "metadata": {},
   "outputs": [],
   "source": [
    "#Read in genotype data\n",
    "\n",
    "genotype_df = pd.read_csv(\"test_genotypes.csv\")"
   ]
  },
  {
   "cell_type": "code",
   "execution_count": 3,
   "id": "a0beedb0",
   "metadata": {},
   "outputs": [],
   "source": [
    "#Take transpose and discard extraneous info\n",
    "\n",
    "#X = genotype_df.T[4:]\n",
    "\n",
    "#For test purposes use:\n",
    "X = genotype_df"
   ]
  },
  {
   "cell_type": "code",
   "execution_count": 4,
   "id": "8b747db6",
   "metadata": {},
   "outputs": [],
   "source": [
    "#DATA OWNER\n",
    "#Set the parameters of the encryption context.\n",
    "\n",
    "parms = EncryptionParameters(scheme_type.ckks)\n",
    "poly_modulus_degree = 4096\n",
    "parms.set_poly_modulus_degree(poly_modulus_degree)\n",
    "parms.set_coeff_modulus(CoeffModulus.Create(poly_modulus_degree, [35, 30, 35]))\n",
    "#100-bit coeff modulus Q. \n",
    "#128 bit security for Q < 109 bits\n",
    "scale = 2.0**30\n",
    "context = SEALContext(parms)\n",
    "#print_parameters(context)\n",
    "\n",
    "#print(CoeffModulus.MaxBitCount(poly_modulus_degree))\n",
    "\n",
    "ckks_encoder = CKKSEncoder(context)\n",
    "slot_count = ckks_encoder.slot_count()\n",
    "#print(f'Number of slots: {slot_count}')\n",
    "\n",
    "keygen = KeyGenerator(context)\n",
    "public_key = keygen.create_public_key()\n",
    "secret_key = keygen.secret_key()\n",
    "galois_keys = keygen.create_galois_keys()\n",
    "relin_keys = keygen.create_relin_keys()\n",
    "\n",
    "encryptor = Encryptor(context, public_key)\n",
    "evaluator = Evaluator(context)"
   ]
  },
  {
   "cell_type": "code",
   "execution_count": 5,
   "id": "249e7c58",
   "metadata": {},
   "outputs": [],
   "source": [
    "#Prepare plaintexts from data.\n",
    "def sample_to_pt(sample):\n",
    "    \n",
    "    pt_data = np.zeros((12,2048))\n",
    "    for i in range(len(sample)):\n",
    "        pt_data[i // 2048, i%2048] = sample[i]\n",
    "    \n",
    "    #Add extra feature, always equal to 1.0, to multiply by model intercepts\n",
    "    pt_data[11,562] = 1.0\n",
    "    \n",
    "    return pt_data"
   ]
  },
  {
   "cell_type": "code",
   "execution_count": 6,
   "id": "b64529e6",
   "metadata": {},
   "outputs": [],
   "source": [
    "#Batch and encrypt data\n",
    "\n",
    "for m in range(len(X.index)):\n",
    "    \n",
    "    data_batch = sample_to_pt(np.concatenate((np.array(X.iloc[m]),np.array([1.0]))))\n",
    "    #data_pt = []\n",
    "    #data_ct = []\n",
    "\n",
    "    for i in range(12):\n",
    "        data_pt = ckks_encoder.encode(data_batch[i],scale)\n",
    "        data_ct = encryptor.encrypt(data_pt)\n",
    "        data_ct.save('data_ct_[%i,%i]'%(m,i))"
   ]
  },
  {
   "cell_type": "code",
   "execution_count": 7,
   "id": "52e22509",
   "metadata": {},
   "outputs": [],
   "source": [
    "#Save encryption context info\n",
    "\n",
    "\n",
    "parms.save('encr_parms')\n",
    "public_key.save('pubkey')\n",
    "galois_keys.save('galkeys')\n",
    "relin_keys.save('relinkeys')\n",
    "pickle.dump(scale, open('scale','wb'))\n",
    "\n",
    "secret_key.save('secretkey')"
   ]
  },
  {
   "cell_type": "code",
   "execution_count": null,
   "id": "38b0a1e4",
   "metadata": {},
   "outputs": [],
   "source": []
  }
 ],
 "metadata": {
  "kernelspec": {
   "display_name": "Python 3 (ipykernel)",
   "language": "python",
   "name": "python3"
  },
  "language_info": {
   "codemirror_mode": {
    "name": "ipython",
    "version": 3
   },
   "file_extension": ".py",
   "mimetype": "text/x-python",
   "name": "python",
   "nbconvert_exporter": "python",
   "pygments_lexer": "ipython3",
   "version": "3.9.5"
  }
 },
 "nbformat": 4,
 "nbformat_minor": 5
}
