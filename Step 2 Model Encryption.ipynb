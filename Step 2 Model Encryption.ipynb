{
 "cells": [
  {
   "cell_type": "code",
   "execution_count": 1,
   "id": "082ba0cb",
   "metadata": {},
   "outputs": [],
   "source": [
    "#Import necessary libraries\n",
    "\n",
    "import numpy as np\n",
    "import pandas as pd\n",
    "import seal\n",
    "from seal import *\n",
    "import time\n",
    "import pickle"
   ]
  },
  {
   "cell_type": "code",
   "execution_count": 2,
   "id": "61b6aabe",
   "metadata": {},
   "outputs": [],
   "source": [
    "models = pickle.load(open('models.dump','rb'))"
   ]
  },
  {
   "cell_type": "code",
   "execution_count": 3,
   "id": "70329e7c",
   "metadata": {},
   "outputs": [],
   "source": [
    "#Model Owner initializes an encryption scheme\n",
    "\n",
    "parms = EncryptionParameters(scheme_type.ckks)\n",
    "\n",
    "#Model owner loads data owner's parameters\n",
    "\n",
    "parms.load('encr_parms')\n",
    "\n",
    "#MO initializes context with DO's parms\n",
    "\n",
    "context = SEALContext(parms)\n",
    "\n",
    "ckks_encoder = CKKSEncoder(context)\n",
    "slot_count = ckks_encoder.slot_count()\n",
    "\n",
    "keygen = KeyGenerator(context)\n",
    "public_key = keygen.create_public_key()\n",
    "public_key.load(context, 'pubkey')\n",
    "\n",
    "\n",
    "galois_keys = keygen.create_galois_keys()\n",
    "galois_keys.load(context, 'galkeys')\n",
    "\n",
    "\n",
    "relin_keys = keygen.create_relin_keys()\n",
    "relin_keys.load(context, 'relinkeys')\n",
    "\n",
    "scale = pickle.load(open('scale','rb'))\n",
    "\n",
    "encryptor = Encryptor(context, public_key)"
   ]
  },
  {
   "cell_type": "code",
   "execution_count": 4,
   "id": "adaad2ea",
   "metadata": {},
   "outputs": [],
   "source": [
    "def model_indices(models,slots):\n",
    "    \n",
    "    feat_list = []\n",
    "    for model in models:\n",
    "        batch = []\n",
    "        index = []\n",
    "        for item in model:\n",
    "            batch.append(item[0]//slots)\n",
    "            index.append(item[0]%slots)\n",
    "            \n",
    "        feat_list.append([batch, index])\n",
    "        \n",
    "    return feat_list"
   ]
  },
  {
   "cell_type": "code",
   "execution_count": 5,
   "id": "57837a02",
   "metadata": {},
   "outputs": [],
   "source": [
    "def models_to_vecs(models,slots):\n",
    "    \n",
    "    vec_list = []\n",
    "    for model in models:\n",
    "        vecs = []\n",
    "        for item in model:\n",
    "            empty = np.zeros(slots-1)\n",
    "            vecs.append(np.insert(empty,item[0]%slots,item[1]))\n",
    "            \n",
    "        vec_list.append(vecs)\n",
    "        \n",
    "    return vec_list"
   ]
  },
  {
   "cell_type": "code",
   "execution_count": 6,
   "id": "a8e22300",
   "metadata": {},
   "outputs": [
    {
     "name": "stdout",
     "output_type": "stream",
     "text": [
      "Time to encrypt and save model weights: 2.595s\n"
     ]
    }
   ],
   "source": [
    "start = time.time()\n",
    "\n",
    "slots = 2048\n",
    "\n",
    "model_data = models_to_vecs(models,slots)\n",
    "#models_ct = model_data\n",
    "\n",
    "\n",
    "for i in range(len(model_data)):\n",
    "    for j in range(len(model_data[i])):\n",
    "        vec_pt = ckks_encoder.encode(10**3 * model_data[i][j],scale)\n",
    "        encryptor.encrypt(vec_pt).save('model_ct[%i][%i]'%(i,j))\n",
    "        \n",
    "end = time.time()\n",
    "print(f\"Time to encrypt and save model weights: {(end-start):.3f}s\")"
   ]
  },
  {
   "cell_type": "code",
   "execution_count": 7,
   "id": "7434c7a4",
   "metadata": {},
   "outputs": [],
   "source": [
    "pickle.dump(model_indices(models,2048), open('model_indices','wb'))"
   ]
  },
  {
   "cell_type": "code",
   "execution_count": null,
   "id": "8772649f",
   "metadata": {},
   "outputs": [],
   "source": []
  }
 ],
 "metadata": {
  "kernelspec": {
   "display_name": "Python 3 (ipykernel)",
   "language": "python",
   "name": "python3"
  },
  "language_info": {
   "codemirror_mode": {
    "name": "ipython",
    "version": 3
   },
   "file_extension": ".py",
   "mimetype": "text/x-python",
   "name": "python",
   "nbconvert_exporter": "python",
   "pygments_lexer": "ipython3",
   "version": "3.9.5"
  }
 },
 "nbformat": 4,
 "nbformat_minor": 5
}
